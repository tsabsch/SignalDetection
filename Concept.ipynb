{
 "cells": [
  {
   "cell_type": "markdown",
   "metadata": {},
   "source": [
    "# Concept Description\n",
    "\n",
    "## Preprocessing\n",
    "\n",
    "- Analysis of correlations\n",
    "    - Investigate correlations between single features by inspecting plots for all dual feature combinations\n",
    "    - Subsampling of the data set is needed to make this feasible\n",
    "- PCA\n",
    "- Outlier Detection\n",
    "    - Research outlier detection approaches\n",
    "    - Create boxplots for all single features\n",
    "- Handle missing or erroneous data (if existent)\n",
    "- Check equal distribution of classes\n",
    "    - Already given by the data set\n",
    "\n",
    "## Classification\n",
    "\n",
    "- Multilayer Perceptron\n",
    "    - No special deep learning techniques (e.g. convolutional neural networks) needed\n",
    "    - [Scikit-learn module](http://scikit-learn.org/stable/modules/generated/sklearn.neural_network.MLPClassifier.html) available\n",
    "    - Allows for batch training --> online and offline learning possible\n",
    "- Naive Bayes\n",
    "    - Check, if we can assume the data to be normally distributed\n",
    "    - [Scikit-learn module](http://scikit-learn.org/stable/modules/generated/sklearn.naive_bayes.GaussianNB.html) for gaussian representation available\n",
    "    - Allows for incremental training --> online and offline learning possible\n",
    "- Hoeffding Tree (classification tree for stream learning)\n",
    "    - Can be used, if Naive Bayes is not applicable\n",
    "    - [Open source module](https://github.com/vitords/HoeffdingTree) available\n",
    "    - Is designed for stream learning --> online and offline learning possible"
   ]
  }
 ],
 "metadata": {
  "kernelspec": {
   "display_name": "Python 3",
   "language": "python",
   "name": "python3"
  },
  "language_info": {
   "codemirror_mode": {
    "name": "ipython",
    "version": 3
   },
   "file_extension": ".py",
   "mimetype": "text/x-python",
   "name": "python",
   "nbconvert_exporter": "python",
   "pygments_lexer": "ipython3",
   "version": "3.5.2"
  }
 },
 "nbformat": 4,
 "nbformat_minor": 2
}
