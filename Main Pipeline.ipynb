{
 "cells": [
  {
   "cell_type": "markdown",
   "metadata": {},
   "source": [
    "# Project Pipeline\n",
    "Execute the cells step by step to obtain a prediction and score for your configuration.\n",
    "In order to make the widgets work you might need to execute \n",
    "```\n",
    "jupyter nbextension enable --py --sys-prefix widgetsnbextension\n",
    "```\n",
    "on your system.\n",
    "\n",
    "## 1. Imports"
   ]
  },
  {
   "cell_type": "code",
   "execution_count": 1,
   "metadata": {
    "collapsed": true
   },
   "outputs": [],
   "source": [
    "import importlib\n",
    "import data_utils\n",
    "import widget_ui as ui\n",
    "\n",
    "# Load potential changes in the modules during development\n",
    "data_utils = importlib.reload(data_utils)\n",
    "ui = importlib.reload(ui)"
   ]
  },
  {
   "cell_type": "markdown",
   "metadata": {},
   "source": [
    "## 2. Prepare Data Sets\n",
    "### 2.1 Load Data\n",
    "Load training and test data. Furthermore, create a sample set for quickly calculating transformations such as PCA."
   ]
  },
  {
   "cell_type": "code",
   "execution_count": 2,
   "metadata": {
    "collapsed": true
   },
   "outputs": [],
   "source": [
    "# These original data sets should remain unchanged and serve as a backup\n",
    "# for resetting modified (e.g. subsampled or projected) data sets.\n",
    "orig_data = data_utils.load_from('data/all_train.csv', 'data/all_test.csv')\n",
    "orig_sample_data = data_utils.load_sample_data('data/all_sample.csv')\n",
    "\n",
    "# Data sets that can be modified\n",
    "data = orig_data.copy()\n",
    "sample_data = orig_sample_data.copy()"
   ]
  },
  {
   "cell_type": "markdown",
   "metadata": {},
   "source": [
    "### 2.2 Subsample Data\n",
    "Sample the specified rate from the whole data set for test and training individually to reduce the data set size for the following steps."
   ]
  },
  {
   "cell_type": "code",
   "execution_count": 3,
   "metadata": {},
   "outputs": [
    {
     "data": {
      "application/vnd.jupyter.widget-view+json": {
       "model_id": "c4778542680b4425a0e92911d303cde4"
      }
     },
     "metadata": {},
     "output_type": "display_data"
    }
   ],
   "source": [
    "ui.subsampling_ui(orig_data=orig_data, output_data=data)"
   ]
  },
  {
   "cell_type": "markdown",
   "metadata": {},
   "source": [
    "## 3. Preprocessing"
   ]
  },
  {
   "cell_type": "code",
   "execution_count": 4,
   "metadata": {
    "collapsed": true
   },
   "outputs": [],
   "source": [
    "preprocessors = {}"
   ]
  },
  {
   "cell_type": "markdown",
   "metadata": {},
   "source": [
    "### 3.1 Remove Correlations\n",
    "Find correlated pairs of features and remove one feature of these two, respectively."
   ]
  },
  {
   "cell_type": "code",
   "execution_count": 5,
   "metadata": {},
   "outputs": [
    {
     "data": {
      "application/vnd.jupyter.widget-view+json": {
       "model_id": "f7a1557a84fb40eca1fd6c9a8330f2e3"
      }
     },
     "metadata": {},
     "output_type": "display_data"
    }
   ],
   "source": [
    "ui.correlations_ui(preprocessors, sample_data)"
   ]
  },
  {
   "cell_type": "markdown",
   "metadata": {},
   "source": [
    "### 3.2 PCA\n",
    "Compute PCA on the sample data set."
   ]
  },
  {
   "cell_type": "code",
   "execution_count": 6,
   "metadata": {},
   "outputs": [
    {
     "data": {
      "application/vnd.jupyter.widget-view+json": {
       "model_id": "5e0a59e5c5a140818f81e0b0e453f9c1"
      }
     },
     "metadata": {},
     "output_type": "display_data"
    },
    {
     "data": {
      "application/vnd.jupyter.widget-view+json": {
       "model_id": "e3baa3db02b94a1cab97ab3e30fb4416"
      }
     },
     "metadata": {},
     "output_type": "display_data"
    }
   ],
   "source": [
    "ui.pca_ui(preprocessors, sample_data)"
   ]
  },
  {
   "cell_type": "markdown",
   "metadata": {},
   "source": [
    "## 4. Configure Classifiers"
   ]
  },
  {
   "cell_type": "code",
   "execution_count": 7,
   "metadata": {
    "collapsed": true
   },
   "outputs": [],
   "source": [
    "classifiers = {}"
   ]
  },
  {
   "cell_type": "markdown",
   "metadata": {},
   "source": [
    "### 4.1 Multilayer Perceptron"
   ]
  },
  {
   "cell_type": "code",
   "execution_count": 8,
   "metadata": {},
   "outputs": [
    {
     "data": {
      "application/vnd.jupyter.widget-view+json": {
       "model_id": "815305df63ee4a8b8a88c000deb91f6a"
      }
     },
     "metadata": {},
     "output_type": "display_data"
    },
    {
     "data": {
      "application/vnd.jupyter.widget-view+json": {
       "model_id": "cdd4acb7f80b4024895c3ca710c9a3d3"
      }
     },
     "metadata": {},
     "output_type": "display_data"
    }
   ],
   "source": [
    "ui.mlp_ui(classifiers)"
   ]
  },
  {
   "cell_type": "markdown",
   "metadata": {},
   "source": [
    "### 4.2 Naive Bayes"
   ]
  },
  {
   "cell_type": "code",
   "execution_count": 9,
   "metadata": {
    "collapsed": true
   },
   "outputs": [],
   "source": [
    "ui.nb_ui(classifiers)"
   ]
  },
  {
   "cell_type": "markdown",
   "metadata": {},
   "source": [
    "## 5. Training"
   ]
  },
  {
   "cell_type": "code",
   "execution_count": 10,
   "metadata": {},
   "outputs": [
    {
     "data": {
      "application/vnd.jupyter.widget-view+json": {
       "model_id": "228e71a9e7184f6da31aaf6f64e70dd9"
      }
     },
     "metadata": {},
     "output_type": "display_data"
    },
    {
     "data": {
      "application/vnd.jupyter.widget-view+json": {
       "model_id": "344004632681488daf74982eac35f2de"
      }
     },
     "metadata": {},
     "output_type": "display_data"
    },
    {
     "data": {
      "application/vnd.jupyter.widget-view+json": {
       "model_id": "8bb02e2de0cc4f2884d16951b303d24e"
      }
     },
     "metadata": {},
     "output_type": "display_data"
    },
    {
     "data": {
      "application/vnd.jupyter.widget-view+json": {
       "model_id": "bf3b18474bea46b8835bf7421463f58e"
      }
     },
     "metadata": {},
     "output_type": "display_data"
    }
   ],
   "source": [
    "ui.training_ui(data, sample_data, preprocessors, classifiers)"
   ]
  },
  {
   "cell_type": "markdown",
   "metadata": {},
   "source": [
    "## 6. Prediction"
   ]
  },
  {
   "cell_type": "code",
   "execution_count": 11,
   "metadata": {},
   "outputs": [
    {
     "data": {
      "application/vnd.jupyter.widget-view+json": {
       "model_id": "618258251ff14522b750403ba1955e92"
      }
     },
     "metadata": {},
     "output_type": "display_data"
    },
    {
     "data": {
      "application/vnd.jupyter.widget-view+json": {
       "model_id": "ddde70142a244da0a18b1a2b27fffe19"
      }
     },
     "metadata": {},
     "output_type": "display_data"
    },
    {
     "data": {
      "application/vnd.jupyter.widget-view+json": {
       "model_id": "60020f78352242fc8000bf043038ef72"
      }
     },
     "metadata": {},
     "output_type": "display_data"
    },
    {
     "data": {
      "application/vnd.jupyter.widget-view+json": {
       "model_id": "3d4dd025c9f541abbbce49d4620571f8"
      }
     },
     "metadata": {},
     "output_type": "display_data"
    },
    {
     "data": {
      "application/vnd.jupyter.widget-view+json": {
       "model_id": "f3a74b947cb04ff19b133b303b487994"
      }
     },
     "metadata": {},
     "output_type": "display_data"
    }
   ],
   "source": [
    "ui.prediction_ui(data, sample_data, preprocessors, classifiers)"
   ]
  },
  {
   "cell_type": "code",
   "execution_count": null,
   "metadata": {
    "collapsed": true
   },
   "outputs": [],
   "source": []
  }
 ],
 "metadata": {
  "kernelspec": {
   "display_name": "Python 3",
   "language": "python",
   "name": "python3"
  },
  "language_info": {
   "codemirror_mode": {
    "name": "ipython",
    "version": 3
   },
   "file_extension": ".py",
   "mimetype": "text/x-python",
   "name": "python",
   "nbconvert_exporter": "python",
   "pygments_lexer": "ipython3",
   "version": "3.5.2"
  },
  "widgets": {
   "state": {
    "013e60b54649404fa288e4199dddafad": {
     "views": [
      {
       "cell_index": 9
      }
     ]
    },
    "03a8723d1ae340df9e4f2ba83ec40f7d": {
     "views": [
      {
       "cell_index": 21
      }
     ]
    },
    "07d3d3610f9b4cb1804557a8d884d394": {
     "views": [
      {
       "cell_index": 19
      }
     ]
    },
    "0cf467dfce3e4f6084f27860d7f81217": {
     "views": [
      {
       "cell_index": 17
      }
     ]
    },
    "0de5015cad1b4c9680bdbb35956f97f6": {
     "views": [
      {
       "cell_index": 21
      }
     ]
    },
    "0e2753274853400db96b44e54b972f91": {
     "views": [
      {
       "cell_index": 15
      }
     ]
    },
    "0fe50a2345454bada8953c6faaae06ff": {
     "views": [
      {
       "cell_index": 19
      }
     ]
    },
    "182e88fdd25b4765980f96b38828a15b": {
     "views": [
      {
       "cell_index": 17
      }
     ]
    },
    "1cb438b2cf3e4596a633c984ab35bccd": {
     "views": [
      {
       "cell_index": 19
      }
     ]
    },
    "1f8a59eec08244f6a8e94bc27d24c971": {
     "views": [
      {
       "cell_index": 19
      }
     ]
    },
    "2139638092f94115a05c11ecd466f052": {
     "views": [
      {
       "cell_index": 19
      }
     ]
    },
    "21ded8658e244828b076348919abd230": {
     "views": [
      {
       "cell_index": 19
      }
     ]
    },
    "23831df4a94248809a59c9259d6003be": {
     "views": [
      {
       "cell_index": 17
      }
     ]
    },
    "2493fe7d60bd422f8762cb17fda65f83": {
     "views": [
      {
       "cell_index": 19
      }
     ]
    },
    "257cb11168a74751b79728b53339f5fb": {
     "views": [
      {
       "cell_index": 19
      }
     ]
    },
    "262710a0166d4bbf88c5e2a229e46b48": {
     "views": [
      {
       "cell_index": 5
      }
     ]
    },
    "2aeaf75bb5f54ac0b880faa6b9d3ef34": {
     "views": [
      {
       "cell_index": 15
      }
     ]
    },
    "2b5cb01e65614135bbfd23c93849c1d3": {
     "views": [
      {
       "cell_index": 9
      }
     ]
    },
    "2f0a634db95e445ba8d302efc176abe0": {
     "views": [
      {
       "cell_index": 19
      }
     ]
    },
    "30ef67aefb1b4769a02a9fa5bc75f281": {
     "views": [
      {
       "cell_index": 9
      }
     ]
    },
    "31de08915dc048a5a8e9f5a08121b5c9": {
     "views": [
      {
       "cell_index": 19
      }
     ]
    },
    "3243758a947a4f3f848eb715405ff4de": {
     "views": [
      {
       "cell_index": 19
      }
     ]
    },
    "327cb6fef29d4ae2b4fe92f1d82ab707": {
     "views": [
      {
       "cell_index": 21
      }
     ]
    },
    "341099e6aec94faa90fc569124c42e8a": {
     "views": [
      {
       "cell_index": 15
      }
     ]
    },
    "3d3d20830f17440591b42f349a961dec": {
     "views": [
      {
       "cell_index": 17
      }
     ]
    },
    "3e978c8790d54e74826fddb72dedce2b": {
     "views": [
      {
       "cell_index": 21
      }
     ]
    },
    "3ee9770efd734b58bd2604bfe8f1a020": {
     "views": [
      {
       "cell_index": 17
      }
     ]
    },
    "3f17c4566daf4a5e9107c06081cb8358": {
     "views": [
      {
       "cell_index": 19
      }
     ]
    },
    "3f9eff7912804fcaae384f198698ebc5": {
     "views": [
      {
       "cell_index": 19
      }
     ]
    },
    "41573f3ea6374f73b801d9dc647c5bc4": {
     "views": [
      {
       "cell_index": 15
      }
     ]
    },
    "47a1461c07c7452fb05b8b7fb0870ad5": {
     "views": [
      {
       "cell_index": 19
      }
     ]
    },
    "4aadd7bdcd4240e28f89bcba97d9552a": {
     "views": [
      {
       "cell_index": 19
      }
     ]
    },
    "53b8df09363441569606e24bfa589daf": {
     "views": [
      {
       "cell_index": 9
      }
     ]
    },
    "59854f0e1c8e48f9928fd9a44c6a7d32": {
     "views": [
      {
       "cell_index": 15
      }
     ]
    },
    "5a810552f6b84df78461e54be39bb23a": {
     "views": [
      {
       "cell_index": 17
      }
     ]
    },
    "5cbf781830314e23a9b917a6020e3218": {
     "views": [
      {
       "cell_index": 21
      }
     ]
    },
    "5d7207fe2a614b5b95966d43f34bf55f": {
     "views": [
      {
       "cell_index": 19
      }
     ]
    },
    "6545bc77369b44bc92493ac10f51fc66": {
     "views": [
      {
       "cell_index": 17
      }
     ]
    },
    "67e39680e23d471499a6257183d32ca9": {
     "views": [
      {
       "cell_index": 19
      }
     ]
    },
    "80bafed4c4054ef390f8c4772970458b": {
     "views": [
      {
       "cell_index": 19
      }
     ]
    },
    "841d1a40c2d44e23af59627320a3047f": {
     "views": [
      {
       "cell_index": 9
      }
     ]
    },
    "8a86a647f5bd4b19b010d16c057f5b29": {
     "views": [
      {
       "cell_index": 17
      }
     ]
    },
    "904456b5c0dd45c5942b54419b71d172": {
     "views": [
      {
       "cell_index": 17
      }
     ]
    },
    "96299b37b9a34d4aac9f9373fd1027d5": {
     "views": [
      {
       "cell_index": 9
      }
     ]
    },
    "98b5817e913e44839215af8193022246": {
     "views": [
      {
       "cell_index": 13
      }
     ]
    },
    "9eab7ad5a08941e48d906f99b73a8e58": {
     "views": [
      {
       "cell_index": 19
      }
     ]
    },
    "a05bdc2c118c4f12b3ab1a3d5406a8e1": {
     "views": [
      {
       "cell_index": 15
      }
     ]
    },
    "a1004abd7f994c289acee3a598e12db9": {
     "views": [
      {
       "cell_index": 11
      }
     ]
    },
    "a2e72bfca22c48aca8ff7f4e2ef0e134": {
     "views": [
      {
       "cell_index": 21
      }
     ]
    },
    "aa5f432acccb4e12a556d1933429ef6d": {
     "views": [
      {
       "cell_index": 19
      }
     ]
    },
    "ae6c3ab1dad04db692feb3f52314432f": {
     "views": [
      {
       "cell_index": 17
      }
     ]
    },
    "b782461e71e440988f79f9ee91deb3ff": {
     "views": [
      {
       "cell_index": 21
      }
     ]
    },
    "b7fb12088b7b4431bd8a26a45ace6caa": {
     "views": [
      {
       "cell_index": 13
      }
     ]
    },
    "bf801933574a471ba141ae3c4f086ecc": {
     "views": [
      {
       "cell_index": 19
      }
     ]
    },
    "c0049530214d4f139aa1fabcf3724ac2": {
     "views": [
      {
       "cell_index": 13
      }
     ]
    },
    "c50ce72bfb5e466ea1076eb6e07c0f30": {
     "views": [
      {
       "cell_index": 19
      }
     ]
    },
    "c6c7eba79f2840899cb74fc8b83ce64e": {
     "views": [
      {
       "cell_index": 21
      }
     ]
    },
    "cb476440285b448a86a9a19bd3ca33c8": {
     "views": [
      {
       "cell_index": 9
      }
     ]
    },
    "cb950f84481e433990aa19147756ea5b": {
     "views": [
      {
       "cell_index": 17
      }
     ]
    },
    "ce05c71a746348158f140e1993a2bf3c": {
     "views": [
      {
       "cell_index": 13
      }
     ]
    },
    "d5c4d16eed21452585412f1efad078c5": {
     "views": [
      {
       "cell_index": 13
      }
     ]
    },
    "e1ba1e7838cc4bf6b94055d880ec5359": {
     "views": [
      {
       "cell_index": 19
      }
     ]
    },
    "eb40ca801da643e69093481f85dfdc59": {
     "views": [
      {
       "cell_index": 13
      }
     ]
    },
    "f18590f42c4b46b09e49e825936a0a9c": {
     "views": [
      {
       "cell_index": 21
      }
     ]
    },
    "f8ec4ef7935740c2804711a779076076": {
     "views": [
      {
       "cell_index": 21
      }
     ]
    },
    "fd3f9806f6c24f52a798ca8f753e71c3": {
     "views": [
      {
       "cell_index": 17
      }
     ]
    },
    "ffc0fd24baa74fb79430fa4ce7353c36": {
     "views": [
      {
       "cell_index": 21
      }
     ]
    }
   },
   "version": "1.2.0"
  }
 },
 "nbformat": 4,
 "nbformat_minor": 2
}
