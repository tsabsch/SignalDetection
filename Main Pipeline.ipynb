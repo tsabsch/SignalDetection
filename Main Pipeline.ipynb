{
 "cells": [
  {
   "cell_type": "markdown",
   "metadata": {},
   "source": [
    "# Project Pipeline\n",
    "Execute the cells step by step to obtain a prediction and score for your configuration.\n",
    "In order to make the widgets work you might need to execute \n",
    "```\n",
    "jupyter nbextension enable --py --sys-prefix widgetsnbextension\n",
    "```\n",
    "on your system.\n",
    "\n",
    "## 1. Imports"
   ]
  },
  {
   "cell_type": "code",
   "execution_count": 11,
   "metadata": {
    "collapsed": true
   },
   "outputs": [],
   "source": [
    "import numpy as np\n",
    "import dask.dataframe as dd\n",
    "import os.path\n",
    "import time\n",
    "from ipywidgets import *\n",
    "from IPython.display import display\n",
    "\n",
    "from sklearn.neural_network import MLPClassifier\n",
    "from sklearn.naive_bayes import GaussianNB\n",
    "from sklearn.metrics import confusion_matrix\n",
    "import sklearn.preprocessing as skprep\n",
    "import sklearn.decomposition as skdecomp\n",
    "\n",
    "import subsampling"
   ]
  },
  {
   "cell_type": "markdown",
   "metadata": {},
   "source": [
    "## 2. Prepare Data Sets\n",
    "### 2.1 Load Data\n",
    "Load training and test data. Furthermore, create a sample set for calculating transformations such as PCA."
   ]
  },
  {
   "cell_type": "code",
   "execution_count": 12,
   "metadata": {
    "collapsed": true
   },
   "outputs": [],
   "source": [
    "all_train_data = dd.read_csv('data/all_train.csv')\n",
    "all_test_data = dd.read_csv('data/all_test.csv')\n",
    "\n",
    "if not os.path.isfile('data/all_sample.csv'):\n",
    "    subsampling.generate_sample_set(0.001)\n",
    "\n",
    "sample_data = dd.read_csv('data/all_sample.csv')"
   ]
  },
  {
   "cell_type": "markdown",
   "metadata": {},
   "source": [
    "### 2.2 Subsample Data"
   ]
  },
  {
   "cell_type": "code",
   "execution_count": 13,
   "metadata": {},
   "outputs": [
    {
     "data": {
      "application/vnd.jupyter.widget-view+json": {
       "model_id": "852b413555344c75addb25ee76586288"
      }
     },
     "metadata": {},
     "output_type": "display_data"
    },
    {
     "data": {
      "text/plain": [
       "<function __main__.subsample_data>"
      ]
     },
     "execution_count": 13,
     "metadata": {},
     "output_type": "execute_result"
    }
   ],
   "source": [
    "train_data = all_train_data\n",
    "test_data = all_test_data\n",
    "\n",
    "def subsample_data(p):\n",
    "    global train_data, test_data\n",
    "    train_data = all_train_data.sample(p)\n",
    "    test_data = all_test_data.sample(p)\n",
    "    print('Subsampled {} of all data.'.format(p))\n",
    "\n",
    "percentage = BoundedFloatText(\n",
    "    value=0.0001,\n",
    "    min=0,\n",
    "    max=1.0,\n",
    "    description='Sampling Percentage:'\n",
    ")\n",
    "interact(subsample_data, p=percentage)"
   ]
  },
  {
   "cell_type": "markdown",
   "metadata": {},
   "source": [
    "## 3. Preprocessing: PCA"
   ]
  },
  {
   "cell_type": "code",
   "execution_count": 14,
   "metadata": {},
   "outputs": [
    {
     "data": {
      "application/vnd.jupyter.widget-view+json": {
       "model_id": "a77a65cb4d5d469db8a6f178b2cf362d"
      }
     },
     "metadata": {},
     "output_type": "display_data"
    },
    {
     "data": {
      "text/plain": [
       "<function __main__.perform_pca>"
      ]
     },
     "execution_count": 14,
     "metadata": {},
     "output_type": "execute_result"
    }
   ],
   "source": [
    "pca = None\n",
    "\n",
    "def perform_pca(n):\n",
    "    global pca\n",
    "    print('Computing PCA with {} principal components.'.format(n))\n",
    "    pca = skdecomp.PCA(n_components=n)\n",
    "    pca.fit(sample_data.compute())\n",
    "    print('PCA done.')\n",
    "\n",
    "ncomponents = IntSlider(\n",
    "    value=5,\n",
    "    min=1,\n",
    "    max=len(train_data.columns),\n",
    "    step=1,\n",
    "    description='num components:',\n",
    "    continuous_update=False,\n",
    "    layout=Layout(width='80%')\n",
    ")\n",
    "interact(perform_pca, n=ncomponents)"
   ]
  },
  {
   "cell_type": "markdown",
   "metadata": {},
   "source": [
    "## 4. Configure Classifiers\n",
    "### 4.1 Neural Net"
   ]
  },
  {
   "cell_type": "code",
   "execution_count": 15,
   "metadata": {},
   "outputs": [
    {
     "data": {
      "application/vnd.jupyter.widget-view+json": {
       "model_id": "4cb982f322ff4f7b943af39a328289ec"
      }
     },
     "metadata": {},
     "output_type": "display_data"
    },
    {
     "data": {
      "application/vnd.jupyter.widget-view+json": {
       "model_id": "3a84791f12fe49be9f67a1e068c57e86"
      }
     },
     "metadata": {},
     "output_type": "display_data"
    },
    {
     "data": {
      "text/plain": [
       "<function __main__.configure_hidden_layers>"
      ]
     },
     "execution_count": 15,
     "metadata": {},
     "output_type": "execute_result"
    }
   ],
   "source": [
    "hidden_layer_box = None\n",
    "hidden_layers = [20, 20]\n",
    "max_iter = 30\n",
    "mlp = None\n",
    "\n",
    "def update_hidden_layer_size(s, l):\n",
    "    global hidden_layers, mlp\n",
    "    hidden_layers[l] = s\n",
    "    \n",
    "    mlp = MLPClassifier(hidden_layer_sizes=hidden_layers, \n",
    "                        max_iter=max_iter, \n",
    "                        warm_start=True)\n",
    "\n",
    "def set_max_iter(m):\n",
    "    global max_iter, mlp\n",
    "    max_iter = m\n",
    "    \n",
    "    mlp = MLPClassifier(hidden_layer_sizes=hidden_layers, \n",
    "                        max_iter=max_iter, \n",
    "                        warm_start=True)\n",
    "\n",
    "def configure_hidden_layers(n):\n",
    "    global hidden_layer_box, hidden_layers\n",
    "    \n",
    "    if not hidden_layer_box is None:\n",
    "        hidden_layer_box.close()\n",
    "    \n",
    "    hidden_layers = [20 for i in range(n)]\n",
    "    \n",
    "    items = [interactive(update_hidden_layer_size,\n",
    "                         s=IntSlider(\n",
    "                             value=20,\n",
    "                             min=1,\n",
    "                             max=100,\n",
    "                             step=1,\n",
    "                             description='Hidden layer {}:'.format(i),\n",
    "                             continuous_update=False,\n",
    "                             layout=Layout(width='80%')\n",
    "                         ),\n",
    "                         l=fixed(i)) \n",
    "             for i in range(n)]\n",
    "    \n",
    "    hidden_layer_box = VBox(\n",
    "        [widgets.Label('Hidden layer sizes:', layout=Layout(width='100%'))] + items,\n",
    "        layout=Layout(border='solid', padding='10px')\n",
    "    )\n",
    "    display(hidden_layer_box)\n",
    "\n",
    "max_iter_slider =  IntSlider(\n",
    "    value=30,\n",
    "    min=1,\n",
    "    max=500,\n",
    "    step=1,\n",
    "    description='max iterations:',\n",
    "    continuous_update=False,\n",
    "    layout=Layout(width='80%')\n",
    ")\n",
    "interact(set_max_iter, m=max_iter_slider)\n",
    "\n",
    "nhidden = IntSlider(\n",
    "    value=2,\n",
    "    min=1,\n",
    "    max=10,\n",
    "    step=1,\n",
    "    description='num hidden layers:',\n",
    "    continuous_update=False,\n",
    "    layout=Layout(width='80%')\n",
    ")\n",
    "interact(configure_hidden_layers, n=nhidden)"
   ]
  },
  {
   "cell_type": "markdown",
   "metadata": {},
   "source": [
    "### 4.2 Naive Bayes"
   ]
  },
  {
   "cell_type": "code",
   "execution_count": 15,
   "metadata": {
    "collapsed": true
   },
   "outputs": [],
   "source": [
    "# TODO"
   ]
  },
  {
   "cell_type": "markdown",
   "metadata": {},
   "source": [
    "## 5. Training"
   ]
  },
  {
   "cell_type": "code",
   "execution_count": 16,
   "metadata": {},
   "outputs": [
    {
     "data": {
      "application/vnd.jupyter.widget-view+json": {
       "model_id": "93bcea0d336b4c849ddb50d287901065"
      }
     },
     "metadata": {},
     "output_type": "display_data"
    },
    {
     "data": {
      "application/vnd.jupyter.widget-view+json": {
       "model_id": "33222d0bcd6a48f2809998208ce6679f"
      }
     },
     "metadata": {},
     "output_type": "display_data"
    }
   ],
   "source": [
    "WINDOW_SIZE = 500\n",
    "WINDOW_REPS = 10\n",
    "classifier = None\n",
    "\n",
    "##########################################\n",
    "\n",
    "def set_classifier(c):\n",
    "    global classifier\n",
    "    if c == 'Multilayer Perceptron':\n",
    "        classifier = mlp\n",
    "    else:\n",
    "        classifier = None\n",
    "\n",
    "classifier_rb = RadioButtons(\n",
    "    options=['Multilayer Perceptron', 'Naive Bayes'],\n",
    "    description='Classifier:'\n",
    ")\n",
    "interact(set_classifier, c=classifier_rb)\n",
    "\n",
    "def perform_training(*args):\n",
    "    print('Training {}'.format(classifier))\n",
    "    start_time = time.time()\n",
    "\n",
    "    iterator = train_data.iterrows()\n",
    "    window = np.zeros((0,29))\n",
    "\n",
    "    for row in iterator:\n",
    "        window = np.append(window, [row[1]], axis=0)\n",
    "        if window.shape[0] == 500:\n",
    "            classifier.fit(window[:,1:29], window[:,0])\n",
    "            window = np.zeros((0,29))\n",
    "    classifier.fit(window[:,1:29], window[:,0])\n",
    "\n",
    "    print('Time taken: {}'.format(time.time() - start_time))\n",
    "\n",
    "start = widgets.Button(\n",
    "    description='Start training',\n",
    "    button_style='danger'\n",
    ")\n",
    "display(start)\n",
    "start.on_click(perform_training)"
   ]
  },
  {
   "cell_type": "markdown",
   "metadata": {},
   "source": [
    "## 6. Prediction"
   ]
  },
  {
   "cell_type": "code",
   "execution_count": 88,
   "metadata": {},
   "outputs": [
    {
     "name": "stdout",
     "output_type": "stream",
     "text": [
      "[[ 169.    0.]\n",
      " [ 207.   10.]]\n"
     ]
    }
   ],
   "source": [
    "iterator = test_data.iterrows()\n",
    "window = np.zeros((0,29))\n",
    "conf_mat = np.zeros((2, 2))\n",
    "\n",
    "for row in iterator:\n",
    "    window = np.append(window, [row[1]], axis=0)\n",
    "    if window.shape[0] == WINDOW_SIZE:\n",
    "        prediction = classifier.predict(window[:,1:29])\n",
    "        conf_mat += confusion_matrix(window[:,0], prediction)\n",
    "        window = np.zeros((0,29))        \n",
    "prediction = classifier.predict(window[:,1:29])\n",
    "conf_mat += confusion_matrix(window[:,0], prediction)\n",
    "\n",
    "print(conf_mat)"
   ]
  },
  {
   "cell_type": "code",
   "execution_count": null,
   "metadata": {
    "collapsed": true
   },
   "outputs": [],
   "source": []
  }
 ],
 "metadata": {
  "kernelspec": {
   "display_name": "Python 3",
   "language": "python",
   "name": "python3"
  },
  "language_info": {
   "codemirror_mode": {
    "name": "ipython",
    "version": 3
   },
   "file_extension": ".py",
   "mimetype": "text/x-python",
   "name": "python",
   "nbconvert_exporter": "python",
   "pygments_lexer": "ipython3",
   "version": "3.5.2"
  }
 },
 "nbformat": 4,
 "nbformat_minor": 2
}
