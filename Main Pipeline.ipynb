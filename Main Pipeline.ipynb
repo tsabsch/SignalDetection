{
 "cells": [
  {
   "cell_type": "markdown",
   "metadata": {},
   "source": [
    "# Project Pipeline\n",
    "Execute the cells step by step to obtain a prediction and score for your configuration.\n",
    "## 1. Imports"
   ]
  },
  {
   "cell_type": "code",
   "execution_count": 1,
   "metadata": {
    "collapsed": true
   },
   "outputs": [],
   "source": [
    "import numpy as np\n",
    "import dask.dataframe as dd\n",
    "import os.path\n",
    "\n",
    "from sklearn.neural_network import MLPClassifier\n",
    "from sklearn.naive_bayes import GaussianNB\n",
    "from sklearn.metrics import confusion_matrix\n",
    "import sklearn.preprocessing as skprep\n",
    "import sklearn.decomposition as skdecomp\n",
    "\n",
    "import subsampling"
   ]
  },
  {
   "cell_type": "markdown",
   "metadata": {},
   "source": [
    "## 2. Prepare Data Sets\n",
    "### 2.1 Load Data"
   ]
  },
  {
   "cell_type": "code",
   "execution_count": 2,
   "metadata": {
    "collapsed": true
   },
   "outputs": [],
   "source": [
    "train_data = dd.read_csv('data/all_train.csv')\n",
    "test_data = dd.read_csv('data/all_test.csv')\n",
    "\n",
    "if not os.path.isfile('data/all_sample.csv'):\n",
    "    subsampling.generate_sample_set(0.001)\n",
    "\n",
    "sample_data = dd.read_csv('data/all_sample.csv')"
   ]
  },
  {
   "cell_type": "markdown",
   "metadata": {},
   "source": [
    "### 2.2 Set Sampling Percentage"
   ]
  },
  {
   "cell_type": "code",
   "execution_count": 68,
   "metadata": {
    "collapsed": true
   },
   "outputs": [],
   "source": [
    "PERCENTAGE = 0.0001\n",
    "\n",
    "##########################################\n",
    "\n",
    "train_data = train_data.sample(PERCENTAGE)\n",
    "test_data = test_data.sample(PERCENTAGE)"
   ]
  },
  {
   "cell_type": "markdown",
   "metadata": {},
   "source": [
    "## 3. Preprocessing: PCA"
   ]
  },
  {
   "cell_type": "code",
   "execution_count": 13,
   "metadata": {},
   "outputs": [
    {
     "data": {
      "text/plain": [
       "PCA(copy=True, iterated_power='auto', n_components=5, random_state=None,\n",
       "  svd_solver='auto', tol=0.0, whiten=False)"
      ]
     },
     "execution_count": 13,
     "metadata": {},
     "output_type": "execute_result"
    }
   ],
   "source": [
    "NDIM = 5\n",
    "\n",
    "##########################################\n",
    "\n",
    "pca = skdecomp.PCA(n_components=NDIM)\n",
    "pca.fit(sample_data.compute())"
   ]
  },
  {
   "cell_type": "markdown",
   "metadata": {},
   "source": [
    "## 4. Choose Classifier\n",
    "### 4.1 Neural Net"
   ]
  },
  {
   "cell_type": "code",
   "execution_count": 69,
   "metadata": {
    "collapsed": true
   },
   "outputs": [],
   "source": [
    "HIDDEN_LAYERS = (28, 15)\n",
    "MAX_ITER = 30\n",
    "\n",
    "##########################################\n",
    "\n",
    "classifier = MLPClassifier(hidden_layer_sizes=HIDDEN_LAYERS, \n",
    "                           max_iter=MAX_ITER, \n",
    "                           warm_start=True)"
   ]
  },
  {
   "cell_type": "markdown",
   "metadata": {},
   "source": [
    "### 4.2 Naive Bayes"
   ]
  },
  {
   "cell_type": "code",
   "execution_count": 15,
   "metadata": {
    "collapsed": true
   },
   "outputs": [],
   "source": [
    "# TODO"
   ]
  },
  {
   "cell_type": "markdown",
   "metadata": {},
   "source": [
    "## 5. Training"
   ]
  },
  {
   "cell_type": "code",
   "execution_count": 87,
   "metadata": {},
   "outputs": [
    {
     "name": "stdout",
     "output_type": "stream",
     "text": [
      "92.35737633705139\n"
     ]
    }
   ],
   "source": [
    "WINDOW_SIZE = 500\n",
    "WINDOW_REPS = 10\n",
    "\n",
    "##########################################\n",
    "\n",
    "import time\n",
    "start = time.time()\n",
    "\n",
    "iterator = train_data.iterrows()\n",
    "window = np.zeros((0,29))\n",
    "\n",
    "for row in iterator:\n",
    "    window = np.append(window, [row[1]], axis=0)\n",
    "    if window.shape[0] == WINDOW_SIZE:\n",
    "        classifier.fit(window[:,1:29], window[:,0])\n",
    "        window = np.zeros((0,29))\n",
    "if len(window) > 0:\n",
    "    classifier.fit(window[:,1:29], window[:,0])\n",
    "\n",
    "print(time.time() - start)"
   ]
  },
  {
   "cell_type": "markdown",
   "metadata": {},
   "source": [
    "## 6. Prediction"
   ]
  },
  {
   "cell_type": "code",
   "execution_count": 88,
   "metadata": {},
   "outputs": [
    {
     "name": "stdout",
     "output_type": "stream",
     "text": [
      "[[ 169.    0.]\n",
      " [ 207.   10.]]\n"
     ]
    }
   ],
   "source": [
    "iterator = test_data.iterrows()\n",
    "window = np.zeros((0,29))\n",
    "conf_mat = np.zeros((2, 2))\n",
    "\n",
    "for row in iterator:\n",
    "    window = np.append(window, [row[1]], axis=0)\n",
    "    if window.shape[0] == WINDOW_SIZE:\n",
    "        prediction = classifier.predict(window[:,1:29])\n",
    "        conf_mat += confusion_matrix(window[:,0], prediction)\n",
    "        window = np.zeros((0,29))\n",
    "if len(window) > 0:\n",
    "    prediction = classifier.predict(window[:,1:29])\n",
    "    conf_mat += confusion_matrix(window[:,0], prediction)\n",
    "\n",
    "print(conf_mat)"
   ]
  },
  {
   "cell_type": "code",
   "execution_count": null,
   "metadata": {
    "collapsed": true
   },
   "outputs": [],
   "source": []
  }
 ],
 "metadata": {
  "kernelspec": {
   "display_name": "Python 3",
   "language": "python",
   "name": "python3"
  },
  "language_info": {
   "codemirror_mode": {
    "name": "ipython",
    "version": 3
   },
   "file_extension": ".py",
   "mimetype": "text/x-python",
   "name": "python",
   "nbconvert_exporter": "python",
   "pygments_lexer": "ipython3",
   "version": "3.5.2"
  }
 },
 "nbformat": 4,
 "nbformat_minor": 2
}
