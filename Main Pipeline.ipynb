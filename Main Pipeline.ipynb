{
 "cells": [
  {
   "cell_type": "markdown",
   "metadata": {},
   "source": [
    "# Project Pipeline\n",
    "Execute the cells step by step to obtain a prediction and score for your configuration.\n",
    "In order to make the widgets work you might need to execute \n",
    "```\n",
    "jupyter nbextension enable --py --sys-prefix widgetsnbextension\n",
    "```\n",
    "on your system.\n",
    "\n",
    "## 1. Imports"
   ]
  },
  {
   "cell_type": "code",
   "execution_count": 11,
   "metadata": {
    "collapsed": true
   },
   "outputs": [],
   "source": [
    "import numpy as np\n",
    "import dask.dataframe as dd\n",
    "import os.path\n",
    "import time\n",
    "from ipywidgets import *\n",
    "from IPython.display import display\n",
    "\n",
    "from sklearn.neural_network import MLPClassifier\n",
    "from sklearn.naive_bayes import GaussianNB\n",
    "from sklearn.metrics import confusion_matrix\n",
    "import sklearn.preprocessing as skprep\n",
    "import sklearn.decomposition as skdecomp\n",
    "\n",
    "import subsampling"
   ]
  },
  {
   "cell_type": "markdown",
   "metadata": {},
   "source": [
    "## 2. Prepare Data Sets\n",
    "### 2.1 Load Data\n",
    "Load training and test data. Furthermore, create a sample set for calculating transformations such as PCA."
   ]
  },
  {
   "cell_type": "code",
   "execution_count": 12,
   "metadata": {
    "collapsed": true
   },
   "outputs": [],
   "source": [
    "all_train_data = dd.read_csv('data/all_train.csv')\n",
    "all_test_data = dd.read_csv('data/all_test.csv')\n",
    "\n",
    "if not os.path.isfile('data/all_sample.csv'):\n",
    "    subsampling.generate_sample_set(0.001)\n",
    "\n",
    "sample_data = dd.read_csv('data/all_sample.csv')"
   ]
  },
  {
   "cell_type": "markdown",
   "metadata": {},
   "source": [
    "### 2.2 Subsample Data"
   ]
  },
  {
   "cell_type": "code",
   "execution_count": 17,
   "metadata": {},
   "outputs": [
    {
     "data": {
      "application/vnd.jupyter.widget-view+json": {
       "model_id": "0b5fbf51dcab4a1bbec1b74a7fb25f19"
      }
     },
     "metadata": {},
     "output_type": "display_data"
    }
   ],
   "source": [
    "train_data = all_train_data\n",
    "test_data = all_test_data\n",
    "\n",
    "def subsample_data(p):\n",
    "    global train_data, test_data\n",
    "    train_data = all_train_data.sample(p)\n",
    "    test_data = all_test_data.sample(p)\n",
    "    print('Subsampled {} of all data.'.format(p))\n",
    "\n",
    "percentage = BoundedFloatText(\n",
    "    value=0.0001,\n",
    "    min=0,\n",
    "    max=1.0,\n",
    "    description='Sampling Percentage:'\n",
    ")\n",
    "i = interact(subsample_data, p=percentage)"
   ]
  },
  {
   "cell_type": "markdown",
   "metadata": {},
   "source": [
    "## 3. Preprocessing: PCA"
   ]
  },
  {
   "cell_type": "code",
   "execution_count": 18,
   "metadata": {},
   "outputs": [
    {
     "data": {
      "application/vnd.jupyter.widget-view+json": {
       "model_id": "875e54b5f36146e1be17ea32a862ef4f"
      }
     },
     "metadata": {},
     "output_type": "display_data"
    }
   ],
   "source": [
    "pca = None\n",
    "\n",
    "def perform_pca(n):\n",
    "    global pca\n",
    "    print('Computing PCA with {} principal components.'.format(n))\n",
    "    pca = skdecomp.PCA(n_components=n)\n",
    "    pca.fit(sample_data.compute())\n",
    "    print('PCA done.')\n",
    "\n",
    "ncomponents = IntSlider(\n",
    "    value=5,\n",
    "    min=1,\n",
    "    max=len(train_data.columns),\n",
    "    step=1,\n",
    "    description='num components:',\n",
    "    continuous_update=False,\n",
    "    layout=Layout(width='80%')\n",
    ")\n",
    "i = interact(perform_pca, n=ncomponents)"
   ]
  },
  {
   "cell_type": "markdown",
   "metadata": {},
   "source": [
    "## 4. Configure Classifiers\n",
    "### 4.1 Neural Net"
   ]
  },
  {
   "cell_type": "code",
   "execution_count": 19,
   "metadata": {},
   "outputs": [
    {
     "data": {
      "application/vnd.jupyter.widget-view+json": {
       "model_id": "1586fc932df0423ca43492a5dff21d94"
      }
     },
     "metadata": {},
     "output_type": "display_data"
    },
    {
     "data": {
      "application/vnd.jupyter.widget-view+json": {
       "model_id": "2e6f2c9d8a50461c9c70d378b42f911c"
      }
     },
     "metadata": {},
     "output_type": "display_data"
    }
   ],
   "source": [
    "hidden_layer_box = None\n",
    "hidden_layers = [20, 20]\n",
    "max_iter = 30\n",
    "mlp = None\n",
    "\n",
    "def update_hidden_layer_size(s, l):\n",
    "    global hidden_layers, mlp\n",
    "    hidden_layers[l] = s\n",
    "    \n",
    "    mlp = MLPClassifier(hidden_layer_sizes=hidden_layers, \n",
    "                        max_iter=max_iter, \n",
    "                        warm_start=True)\n",
    "\n",
    "def set_max_iter(m):\n",
    "    global max_iter, mlp\n",
    "    max_iter = m\n",
    "    \n",
    "    mlp = MLPClassifier(hidden_layer_sizes=hidden_layers, \n",
    "                        max_iter=max_iter, \n",
    "                        warm_start=True)\n",
    "\n",
    "def configure_hidden_layers(n):\n",
    "    global hidden_layer_box, hidden_layers\n",
    "    \n",
    "    if not hidden_layer_box is None:\n",
    "        hidden_layer_box.close()\n",
    "    \n",
    "    hidden_layers = [20 for i in range(n)]\n",
    "    \n",
    "    items = [interactive(update_hidden_layer_size,\n",
    "                         s=IntSlider(\n",
    "                             value=20,\n",
    "                             min=1,\n",
    "                             max=100,\n",
    "                             step=1,\n",
    "                             description='Hidden layer {}:'.format(i),\n",
    "                             continuous_update=False,\n",
    "                             layout=Layout(width='80%')\n",
    "                         ),\n",
    "                         l=fixed(i)) \n",
    "             for i in range(n)]\n",
    "    \n",
    "    hidden_layer_box = VBox(\n",
    "        [widgets.Label('Hidden layer sizes:', layout=Layout(width='100%'))] + items,\n",
    "        layout=Layout(border='solid', padding='10px')\n",
    "    )\n",
    "    display(hidden_layer_box)\n",
    "\n",
    "max_iter_slider =  IntSlider(\n",
    "    value=30,\n",
    "    min=1,\n",
    "    max=500,\n",
    "    step=1,\n",
    "    description='max iterations:',\n",
    "    continuous_update=False,\n",
    "    layout=Layout(width='80%')\n",
    ")\n",
    "i = interact(set_max_iter, m=max_iter_slider)\n",
    "\n",
    "nhidden = IntSlider(\n",
    "    value=2,\n",
    "    min=1,\n",
    "    max=10,\n",
    "    step=1,\n",
    "    description='num hidden layers:',\n",
    "    continuous_update=False,\n",
    "    layout=Layout(width='80%')\n",
    ")\n",
    "i = interact(configure_hidden_layers, n=nhidden)"
   ]
  },
  {
   "cell_type": "markdown",
   "metadata": {},
   "source": [
    "### 4.2 Naive Bayes"
   ]
  },
  {
   "cell_type": "code",
   "execution_count": 15,
   "metadata": {
    "collapsed": true
   },
   "outputs": [],
   "source": [
    "# TODO"
   ]
  },
  {
   "cell_type": "markdown",
   "metadata": {},
   "source": [
    "## 5. Training"
   ]
  },
  {
   "cell_type": "code",
   "execution_count": 16,
   "metadata": {},
   "outputs": [
    {
     "data": {
      "application/vnd.jupyter.widget-view+json": {
       "model_id": "93bcea0d336b4c849ddb50d287901065"
      }
     },
     "metadata": {},
     "output_type": "display_data"
    },
    {
     "data": {
      "application/vnd.jupyter.widget-view+json": {
       "model_id": "33222d0bcd6a48f2809998208ce6679f"
      }
     },
     "metadata": {},
     "output_type": "display_data"
    }
   ],
   "source": [
    "WINDOW_SIZE = 500\n",
    "WINDOW_REPS = 10\n",
    "classifier = None\n",
    "\n",
    "##########################################\n",
    "\n",
    "def set_classifier(c):\n",
    "    global classifier\n",
    "    if c == 'Multilayer Perceptron':\n",
    "        classifier = mlp\n",
    "    else:\n",
    "        classifier = None\n",
    "\n",
    "classifier_rb = RadioButtons(\n",
    "    options=['Multilayer Perceptron', 'Naive Bayes'],\n",
    "    description='Classifier:'\n",
    ")\n",
    "interact(set_classifier, c=classifier_rb)\n",
    "\n",
    "def perform_training(*args):\n",
    "    print('Training {}'.format(classifier))\n",
    "    start_time = time.time()\n",
    "\n",
    "    iterator = train_data.iterrows()\n",
    "    window = np.zeros((0,29))\n",
    "\n",
    "    for row in iterator:\n",
    "        window = np.append(window, [row[1]], axis=0)\n",
    "        if window.shape[0] == 500:\n",
    "            classifier.fit(window[:,1:29], window[:,0])\n",
    "            window = np.zeros((0,29))\n",
    "    classifier.fit(window[:,1:29], window[:,0])\n",
    "\n",
    "    print('Time taken: {}'.format(time.time() - start_time))\n",
    "\n",
    "start = widgets.Button(\n",
    "    description='Start training',\n",
    "    button_style='danger'\n",
    ")\n",
    "display(start)\n",
    "start.on_click(perform_training)"
   ]
  },
  {
   "cell_type": "markdown",
   "metadata": {},
   "source": [
    "## 6. Prediction"
   ]
  },
  {
   "cell_type": "code",
   "execution_count": 88,
   "metadata": {},
   "outputs": [
    {
     "name": "stdout",
     "output_type": "stream",
     "text": [
      "[[ 169.    0.]\n",
      " [ 207.   10.]]\n"
     ]
    }
   ],
   "source": [
    "iterator = test_data.iterrows()\n",
    "window = np.zeros((0,29))\n",
    "conf_mat = np.zeros((2, 2))\n",
    "\n",
    "for row in iterator:\n",
    "    window = np.append(window, [row[1]], axis=0)\n",
    "    if window.shape[0] == WINDOW_SIZE:\n",
    "        prediction = classifier.predict(window[:,1:29])\n",
    "        conf_mat += confusion_matrix(window[:,0], prediction)\n",
    "        window = np.zeros((0,29))        \n",
    "prediction = classifier.predict(window[:,1:29])\n",
    "conf_mat += confusion_matrix(window[:,0], prediction)\n",
    "\n",
    "print(conf_mat)"
   ]
  },
  {
   "cell_type": "code",
   "execution_count": null,
   "metadata": {
    "collapsed": true
   },
   "outputs": [],
   "source": []
  }
 ],
 "metadata": {
  "kernelspec": {
   "display_name": "Python 3",
   "language": "python",
   "name": "python3"
  },
  "language_info": {
   "codemirror_mode": {
    "name": "ipython",
    "version": 3
   },
   "file_extension": ".py",
   "mimetype": "text/x-python",
   "name": "python",
   "nbconvert_exporter": "python",
   "pygments_lexer": "ipython3",
   "version": "3.5.2"
  },
  "widgets": {
   "application/vnd.jupyter.widget-state+json": {
    "state": {
     "00c5270e6802491f9f6be7147446b04d": {
      "model_module": "jupyter-js-widgets",
      "model_module_version": "~2.1.4",
      "model_name": "LayoutModel",
      "state": {
       "_model_module_version": "~2.1.4",
       "_view_module_version": "~2.1.4"
      }
     },
     "012ea2d680604e8b847d5db4aca82a2c": {
      "model_module": "jupyter-js-widgets",
      "model_module_version": "~2.1.4",
      "model_name": "SliderStyleModel",
      "state": {
       "_model_module_version": "~2.1.4",
       "_view_module_version": "~2.1.4"
      }
     },
     "01b4d2bfabd64ab3ba309d38c3fca6c8": {
      "model_module": "jupyter-js-widgets",
      "model_module_version": "~2.1.4",
      "model_name": "LayoutModel",
      "state": {
       "_model_module_version": "~2.1.4",
       "_view_module_version": "~2.1.4",
       "width": "80%"
      }
     },
     "034e752a11364d55a8ed7f0896bff574": {
      "model_module": "jupyter-js-widgets",
      "model_module_version": "~2.1.4",
      "model_name": "IntSliderModel",
      "state": {
       "_model_module_version": "~2.1.4",
       "_view_module_version": "~2.1.4",
       "continuous_update": false,
       "description": "num components:",
       "layout": "IPY_MODEL_bb2d1c6e56d9428ca937357a3000a8b3",
       "max": 29,
       "min": 1,
       "style": "IPY_MODEL_30cec39d24a54d09acb3b316098918f0",
       "value": 5
      }
     },
     "043d7a02e6414d78bfacc7328a5cff42": {
      "model_module": "jupyter-js-widgets",
      "model_module_version": "~2.1.4",
      "model_name": "LayoutModel",
      "state": {
       "_model_module_version": "~2.1.4",
       "_view_module_version": "~2.1.4"
      }
     },
     "05b84939ffb84a22ae5e46f72554453f": {
      "model_module": "jupyter-js-widgets",
      "model_module_version": "~2.1.4",
      "model_name": "IntSliderModel",
      "state": {
       "_model_module_version": "~2.1.4",
       "_view_module_version": "~2.1.4",
       "continuous_update": false,
       "description": "max iterations:",
       "layout": "IPY_MODEL_722a46d93b5543c9a41889d87fce208d",
       "max": 500,
       "min": 1,
       "style": "IPY_MODEL_40521cbbc5ef4cb58e643bf961882b5b",
       "value": 30
      }
     },
     "084122f075b24c509f55de5bf2c967e8": {
      "model_module": "jupyter-js-widgets",
      "model_module_version": "~2.1.4",
      "model_name": "IntSliderModel",
      "state": {
       "_model_module_version": "~2.1.4",
       "_view_module_version": "~2.1.4",
       "continuous_update": false,
       "description": "max iterations:",
       "layout": "IPY_MODEL_add95445a9ed4a9b85d1b0634eefaa4c",
       "max": 500,
       "min": 1,
       "style": "IPY_MODEL_832bbd806a4147da97eaa6ff8f0faf1d",
       "value": 30
      }
     },
     "086b373206cb4f468a4d560cb67b1280": {
      "model_module": "jupyter-js-widgets",
      "model_module_version": "~2.1.4",
      "model_name": "LayoutModel",
      "state": {
       "_model_module_version": "~2.1.4",
       "_view_module_version": "~2.1.4"
      }
     },
     "0882bee438aa4c25a0e8a9846d66ddee": {
      "model_module": "jupyter-js-widgets",
      "model_module_version": "~2.1.4",
      "model_name": "LayoutModel",
      "state": {
       "_model_module_version": "~2.1.4",
       "_view_module_version": "~2.1.4"
      }
     },
     "0b2aa08700f846449ebce062d3dca39a": {
      "model_module": "jupyter-js-widgets",
      "model_module_version": "~2.1.4",
      "model_name": "VBoxModel",
      "state": {
       "_dom_classes": [
        "widget-interact"
       ],
       "_model_module_version": "~2.1.4",
       "_view_module_version": "~2.1.4",
       "children": [
        "IPY_MODEL_91f086ef74b54b2eba4bec6d0f4cf82c",
        "IPY_MODEL_d024367c63294851bd45c419282e55f6"
       ],
       "layout": "IPY_MODEL_7eadf18a030b4985837dd3b136d661b7"
      }
     },
     "0b2ef69112744be7a82aba9ba5f7fb2f": {
      "model_module": "jupyter-js-widgets",
      "model_module_version": "~2.1.4",
      "model_name": "LayoutModel",
      "state": {
       "_model_module_version": "~2.1.4",
       "_view_module_version": "~2.1.4"
      }
     },
     "0b5fbf51dcab4a1bbec1b74a7fb25f19": {
      "model_module": "jupyter-js-widgets",
      "model_module_version": "~2.1.4",
      "model_name": "VBoxModel",
      "state": {
       "_dom_classes": [
        "widget-interact"
       ],
       "_model_module_version": "~2.1.4",
       "_view_module_version": "~2.1.4",
       "children": [
        "IPY_MODEL_cc7e1c484c7345479b9e91278b032e71",
        "IPY_MODEL_f3112d6e70e542a793e220498681c2d1"
       ],
       "layout": "IPY_MODEL_e2bc82fe30a14c5cac9f4f97a3da7cb3"
      }
     },
     "0c535de1d36c44ca89b61a0b451fe68b": {
      "model_module": "jupyter-js-widgets",
      "model_module_version": "~2.1.4",
      "model_name": "IntSliderModel",
      "state": {
       "_model_module_version": "~2.1.4",
       "_view_module_version": "~2.1.4",
       "continuous_update": false,
       "description": "max iterations:",
       "layout": "IPY_MODEL_e90a9e9b6225464da7c9090329c543b0",
       "max": 500,
       "min": 1,
       "style": "IPY_MODEL_10c6014a0ab446829d6ddf43ccc4fde9",
       "value": 30
      }
     },
     "0e257f0d9c3e4b94aea860a23c1ad4ca": {
      "model_module": "jupyter-js-widgets",
      "model_module_version": "~2.1.4",
      "model_name": "OutputModel",
      "state": {
       "_dom_classes": [],
       "_model_module": "jupyter-js-widgets",
       "_model_module_version": "~2.1.4",
       "_view_module": "jupyter-js-widgets",
       "_view_module_version": "~2.1.4",
       "layout": "IPY_MODEL_b47b03fc4ad6477da16a92ea77edf6b4",
       "msg_throttle": 1
      }
     },
     "0e59b7b46fc04dbd85129b62f70b2599": {
      "model_module": "jupyter-js-widgets",
      "model_module_version": "~2.1.4",
      "model_name": "LayoutModel",
      "state": {
       "_model_module_version": "~2.1.4",
       "_view_module_version": "~2.1.4"
      }
     },
     "0e65d08a93324e118c7d8313508d982f": {
      "model_module": "jupyter-js-widgets",
      "model_module_version": "~2.1.4",
      "model_name": "LayoutModel",
      "state": {
       "_model_module_version": "~2.1.4",
       "_view_module_version": "~2.1.4",
       "width": "80%"
      }
     },
     "10092a79d38a40cabc05f6bbe3925910": {
      "model_module": "jupyter-js-widgets",
      "model_module_version": "~2.1.4",
      "model_name": "LayoutModel",
      "state": {
       "_model_module_version": "~2.1.4",
       "_view_module_version": "~2.1.4",
       "width": "100%"
      }
     },
     "10c6014a0ab446829d6ddf43ccc4fde9": {
      "model_module": "jupyter-js-widgets",
      "model_module_version": "~2.1.4",
      "model_name": "SliderStyleModel",
      "state": {
       "_model_module_version": "~2.1.4",
       "_view_module_version": "~2.1.4"
      }
     },
     "11d5d5acb4a949a79c75842213bafa7a": {
      "model_module": "jupyter-js-widgets",
      "model_module_version": "~2.1.4",
      "model_name": "LayoutModel",
      "state": {
       "_model_module_version": "~2.1.4",
       "_view_module_version": "~2.1.4"
      }
     },
     "123fc155221d4e279607622cdb698819": {
      "model_module": "jupyter-js-widgets",
      "model_module_version": "~2.1.4",
      "model_name": "VBoxModel",
      "state": {
       "_model_module_version": "~2.1.4",
       "_view_module_version": "~2.1.4",
       "children": [
        "IPY_MODEL_3f932d8c68d34409809a731ea3cce793",
        "IPY_MODEL_5b956172406b42ec863d06807f74f84d",
        "IPY_MODEL_bf14772b939f43b6bcaf56c0c08586d1"
       ],
       "layout": "IPY_MODEL_c8baa6af5ea247eeb1a940ab6bb00674"
      }
     },
     "13195ef5ca6c49738ccec27984c1df51": {
      "model_module": "jupyter-js-widgets",
      "model_module_version": "~2.1.4",
      "model_name": "LayoutModel",
      "state": {
       "_model_module_version": "~2.1.4",
       "_view_module_version": "~2.1.4",
       "width": "100%"
      }
     },
     "138b811369ad4dcdbc1cda7e1e0cc5e4": {
      "model_module": "jupyter-js-widgets",
      "model_module_version": "~2.1.4",
      "model_name": "LayoutModel",
      "state": {
       "_model_module_version": "~2.1.4",
       "_view_module_version": "~2.1.4"
      }
     },
     "13e25439cb254dba8238a076d8414b54": {
      "model_module": "jupyter-js-widgets",
      "model_module_version": "~2.1.4",
      "model_name": "LayoutModel",
      "state": {
       "_model_module_version": "~2.1.4",
       "_view_module_version": "~2.1.4"
      }
     },
     "1586fc932df0423ca43492a5dff21d94": {
      "model_module": "jupyter-js-widgets",
      "model_module_version": "~2.1.4",
      "model_name": "VBoxModel",
      "state": {
       "_dom_classes": [
        "widget-interact"
       ],
       "_model_module_version": "~2.1.4",
       "_view_module_version": "~2.1.4",
       "children": [
        "IPY_MODEL_05b84939ffb84a22ae5e46f72554453f",
        "IPY_MODEL_58b46a682ee84b1ab070d2b2ec29d13e"
       ],
       "layout": "IPY_MODEL_00c5270e6802491f9f6be7147446b04d"
      }
     },
     "15b93f129238464ca11e4b701cd3dce9": {
      "model_module": "jupyter-js-widgets",
      "model_module_version": "~2.1.4",
      "model_name": "OutputModel",
      "state": {
       "_dom_classes": [],
       "_model_module": "jupyter-js-widgets",
       "_model_module_version": "~2.1.4",
       "_view_module": "jupyter-js-widgets",
       "_view_module_version": "~2.1.4",
       "layout": "IPY_MODEL_790fd002d79d4a4cbb70dba156ce7812",
       "msg_throttle": 1
      }
     },
     "18545f0a49244efb8820206914e2a880": {
      "model_module": "jupyter-js-widgets",
      "model_module_version": "~2.1.4",
      "model_name": "VBoxModel",
      "state": {
       "_dom_classes": [
        "widget-interact"
       ],
       "_model_module_version": "~2.1.4",
       "_view_module_version": "~2.1.4",
       "children": [
        "IPY_MODEL_fb14bf7aa0364e2db56c11dd6ae6de43",
        "IPY_MODEL_a828759272464e64bcac474086b48273"
       ],
       "layout": "IPY_MODEL_2652343fd1e445a88d58aeaf6837e48e"
      }
     },
     "1893e7b1551f4ee0ba6732f2ecafadc5": {
      "model_module": "jupyter-js-widgets",
      "model_module_version": "~2.1.4",
      "model_name": "SliderStyleModel",
      "state": {
       "_model_module_version": "~2.1.4",
       "_view_module_version": "~2.1.4"
      }
     },
     "1a9b618b88584422886e110b7b56f188": {
      "model_module": "jupyter-js-widgets",
      "model_module_version": "~2.1.4",
      "model_name": "LabelModel",
      "state": {
       "_model_module_version": "~2.1.4",
       "_view_module_version": "~2.1.4",
       "layout": "IPY_MODEL_a7bf88e02d9842c1b72291241f10bfae",
       "value": "Hidden layer sizes:"
      }
     },
     "1ce6d2b8a0b94b12b09ba558e2ec368f": {
      "model_module": "jupyter-js-widgets",
      "model_module_version": "~2.1.4",
      "model_name": "LayoutModel",
      "state": {
       "_model_module_version": "~2.1.4",
       "_view_module_version": "~2.1.4"
      }
     },
     "1fd69975c66d46648aeeb8bb5e6e715a": {
      "model_module": "jupyter-js-widgets",
      "model_module_version": "~2.1.4",
      "model_name": "LayoutModel",
      "state": {
       "_model_module_version": "~2.1.4",
       "_view_module_version": "~2.1.4"
      }
     },
     "1fdb8e1c699445459e8f13674c230cd8": {
      "model_module": "jupyter-js-widgets",
      "model_module_version": "~2.1.4",
      "model_name": "OutputModel",
      "state": {
       "_dom_classes": [],
       "_model_module": "jupyter-js-widgets",
       "_model_module_version": "~2.1.4",
       "_view_module": "jupyter-js-widgets",
       "_view_module_version": "~2.1.4",
       "layout": "IPY_MODEL_c9f64ab1eb354c7d9cb9a4c02c92afb4",
       "msg_throttle": 1
      }
     },
     "20549aa1098843d584c0276bf2f0726d": {
      "model_module": "jupyter-js-widgets",
      "model_module_version": "~2.1.4",
      "model_name": "LayoutModel",
      "state": {
       "_model_module_version": "~2.1.4",
       "_view_module_version": "~2.1.4"
      }
     },
     "21c6abb8e8ee4e44ab1c50f7772aeb0a": {
      "model_module": "jupyter-js-widgets",
      "model_module_version": "~2.1.4",
      "model_name": "LayoutModel",
      "state": {
       "_model_module_version": "~2.1.4",
       "_view_module_version": "~2.1.4"
      }
     },
     "22a79efafe984185a0e83b5367162612": {
      "model_module": "jupyter-js-widgets",
      "model_module_version": "~2.1.4",
      "model_name": "LayoutModel",
      "state": {
       "_model_module_version": "~2.1.4",
       "_view_module_version": "~2.1.4"
      }
     },
     "23d1c0a466a4405790f9c137543174d1": {
      "model_module": "jupyter-js-widgets",
      "model_module_version": "~2.1.4",
      "model_name": "LayoutModel",
      "state": {
       "_model_module_version": "~2.1.4",
       "_view_module_version": "~2.1.4"
      }
     },
     "2652343fd1e445a88d58aeaf6837e48e": {
      "model_module": "jupyter-js-widgets",
      "model_module_version": "~2.1.4",
      "model_name": "LayoutModel",
      "state": {
       "_model_module_version": "~2.1.4",
       "_view_module_version": "~2.1.4"
      }
     },
     "27c36f67ac77403288db44738d74224e": {
      "model_module": "jupyter-js-widgets",
      "model_module_version": "~2.1.4",
      "model_name": "LayoutModel",
      "state": {
       "_model_module_version": "~2.1.4",
       "_view_module_version": "~2.1.4",
       "width": "80%"
      }
     },
     "29139e6d711d4b4bb33145585f3cb24c": {
      "model_module": "jupyter-js-widgets",
      "model_module_version": "~2.1.4",
      "model_name": "SliderStyleModel",
      "state": {
       "_model_module_version": "~2.1.4",
       "_view_module_version": "~2.1.4"
      }
     },
     "2bc041492b414a489f10a60799d26092": {
      "model_module": "jupyter-js-widgets",
      "model_module_version": "~2.1.4",
      "model_name": "SliderStyleModel",
      "state": {
       "_model_module_version": "~2.1.4",
       "_view_module_version": "~2.1.4"
      }
     },
     "2d48dd206c4e4f7ca8efc147c899ed0f": {
      "model_module": "jupyter-js-widgets",
      "model_module_version": "~2.1.4",
      "model_name": "RadioButtonsModel",
      "state": {
       "_model_module_version": "~2.1.4",
       "_options_labels": [
        "Multilayer Perceptron",
        "Naive Bayes"
       ],
       "_view_module_version": "~2.1.4",
       "description": "Classifier:",
       "layout": "IPY_MODEL_cce63b128155403cb0fe0d1f37475e0a",
       "value": "Multilayer Perceptron"
      }
     },
     "2dad8b4d5f6c440ba085aa20d5e8a352": {
      "model_module": "jupyter-js-widgets",
      "model_module_version": "~2.1.4",
      "model_name": "VBoxModel",
      "state": {
       "_dom_classes": [
        "widget-interact"
       ],
       "_model_module_version": "~2.1.4",
       "_view_module_version": "~2.1.4",
       "children": [
        "IPY_MODEL_c75f0e7bdaf64fd89c6e1043aa2441e8",
        "IPY_MODEL_1fdb8e1c699445459e8f13674c230cd8"
       ],
       "layout": "IPY_MODEL_9f95c2ae3c9a4fd594f992fc98d19ad2"
      }
     },
     "2e6f2c9d8a50461c9c70d378b42f911c": {
      "model_module": "jupyter-js-widgets",
      "model_module_version": "~2.1.4",
      "model_name": "VBoxModel",
      "state": {
       "_dom_classes": [
        "widget-interact"
       ],
       "_model_module_version": "~2.1.4",
       "_view_module_version": "~2.1.4",
       "children": [
        "IPY_MODEL_55e56e64917f4e9ab01bc5dabd0e3345",
        "IPY_MODEL_d252063442de4aed9958d90a8d1ee1d0"
       ],
       "layout": "IPY_MODEL_8a0019f7dbe2490f9f8a9ca137a8fced"
      }
     },
     "2f23d6430cc541ce949f300199821442": {
      "model_module": "jupyter-js-widgets",
      "model_module_version": "~2.1.4",
      "model_name": "LayoutModel",
      "state": {
       "_model_module_version": "~2.1.4",
       "_view_module_version": "~2.1.4",
       "border": "solid",
       "padding": "10px"
      }
     },
     "2f52c64234dc4273873ffb2bbbac033a": {
      "model_module": "jupyter-js-widgets",
      "model_module_version": "~2.1.4",
      "model_name": "LayoutModel",
      "state": {
       "_model_module_version": "~2.1.4",
       "_view_module_version": "~2.1.4"
      }
     },
     "2fcba712272842029ec86f1500a1e6d5": {
      "model_module": "jupyter-js-widgets",
      "model_module_version": "~2.1.4",
      "model_name": "LayoutModel",
      "state": {
       "_model_module_version": "~2.1.4",
       "_view_module_version": "~2.1.4",
       "width": "80%"
      }
     },
     "30cec39d24a54d09acb3b316098918f0": {
      "model_module": "jupyter-js-widgets",
      "model_module_version": "~2.1.4",
      "model_name": "SliderStyleModel",
      "state": {
       "_model_module_version": "~2.1.4",
       "_view_module_version": "~2.1.4"
      }
     },
     "3250f5adae58449398726af0c8b0cba9": {
      "model_module": "jupyter-js-widgets",
      "model_module_version": "~2.1.4",
      "model_name": "LayoutModel",
      "state": {
       "_model_module_version": "~2.1.4",
       "_view_module_version": "~2.1.4",
       "width": "80%"
      }
     },
     "33222d0bcd6a48f2809998208ce6679f": {
      "model_module": "jupyter-js-widgets",
      "model_module_version": "~2.1.4",
      "model_name": "ButtonModel",
      "state": {
       "_model_module_version": "~2.1.4",
       "_view_module_version": "~2.1.4",
       "button_style": "danger",
       "description": "Start training",
       "layout": "IPY_MODEL_afec223418bb40ff96f3be856a1f9e6f",
       "style": "IPY_MODEL_f8b5cb5f432b4caa80aa23d11b2dec28"
      }
     },
     "36116bce2f36406e91b5d157348e7899": {
      "model_module": "jupyter-js-widgets",
      "model_module_version": "~2.1.4",
      "model_name": "LayoutModel",
      "state": {
       "_model_module_version": "~2.1.4",
       "_view_module_version": "~2.1.4"
      }
     },
     "37aae862846748aeaa91ba66ee2f5787": {
      "model_module": "jupyter-js-widgets",
      "model_module_version": "~2.1.4",
      "model_name": "LayoutModel",
      "state": {
       "_model_module_version": "~2.1.4",
       "_view_module_version": "~2.1.4"
      }
     },
     "37f3b716fc5b4e47bf8555b6a7920a69": {
      "model_module": "jupyter-js-widgets",
      "model_module_version": "~2.1.4",
      "model_name": "LayoutModel",
      "state": {
       "_model_module_version": "~2.1.4",
       "_view_module_version": "~2.1.4"
      }
     },
     "38384cbcba0b4ef789989e7084ffaa0f": {
      "model_module": "jupyter-js-widgets",
      "model_module_version": "~2.1.4",
      "model_name": "LayoutModel",
      "state": {
       "_model_module_version": "~2.1.4",
       "_view_module_version": "~2.1.4"
      }
     },
     "38d3be5873704153ae2d646396b1bc7c": {
      "model_module": "jupyter-js-widgets",
      "model_module_version": "~2.1.4",
      "model_name": "VBoxModel",
      "state": {
       "_model_module_version": "~2.1.4",
       "_view_module_version": "~2.1.4",
       "children": [
        "IPY_MODEL_4490342f11be44ddb38a78e35df67180",
        "IPY_MODEL_0b2aa08700f846449ebce062d3dca39a",
        "IPY_MODEL_b8b8414fe0d640f5aa16ce57804db716"
       ],
       "layout": "IPY_MODEL_5ecdd48f8bab4612a95206777b831e6f"
      }
     },
     "3a12dcd942e84094ad09330c245fc036": {
      "model_module": "jupyter-js-widgets",
      "model_module_version": "~2.1.4",
      "model_name": "SliderStyleModel",
      "state": {
       "_model_module_version": "~2.1.4",
       "_view_module_version": "~2.1.4"
      }
     },
     "3a4aedaee1cf4d7588111352adae66f4": {
      "model_module": "jupyter-js-widgets",
      "model_module_version": "~2.1.4",
      "model_name": "LayoutModel",
      "state": {
       "_model_module_version": "~2.1.4",
       "_view_module_version": "~2.1.4",
       "width": "80%"
      }
     },
     "3a84791f12fe49be9f67a1e068c57e86": {
      "model_module": "jupyter-js-widgets",
      "model_module_version": "~2.1.4",
      "model_name": "VBoxModel",
      "state": {
       "_dom_classes": [
        "widget-interact"
       ],
       "_model_module_version": "~2.1.4",
       "_view_module_version": "~2.1.4",
       "children": [
        "IPY_MODEL_64e76011a85a4301b87892fcdee76a01",
        "IPY_MODEL_701807e2605a4291b5cc60f94d9d649e"
       ],
       "layout": "IPY_MODEL_c79c1471dc02483ab9d56ad84cce6bcc"
      }
     },
     "3b39e86920f2442688f015b2c0b3fa61": {
      "model_module": "jupyter-js-widgets",
      "model_module_version": "~2.1.4",
      "model_name": "IntSliderModel",
      "state": {
       "_model_module_version": "~2.1.4",
       "_view_module_version": "~2.1.4",
       "continuous_update": false,
       "description": "Hidden layer 0:",
       "layout": "IPY_MODEL_3250f5adae58449398726af0c8b0cba9",
       "min": 1,
       "style": "IPY_MODEL_f0ce3d58127a4ee69ce17298e0e36907",
       "value": 20
      }
     },
     "3bde2be00ba345498c09a7fdcf888c5b": {
      "model_module": "jupyter-js-widgets",
      "model_module_version": "~2.1.4",
      "model_name": "IntSliderModel",
      "state": {
       "_model_module_version": "~2.1.4",
       "_view_module_version": "~2.1.4",
       "continuous_update": false,
       "description": "num components:",
       "layout": "IPY_MODEL_6f197853a16c4a848795d64409864b5b",
       "max": 29,
       "min": 1,
       "style": "IPY_MODEL_ecaa5cf666244b77b73fa41de23527d7",
       "value": 5
      }
     },
     "3cd0ce5af0454a3bb5c19022657e44b5": {
      "model_module": "jupyter-js-widgets",
      "model_module_version": "~2.1.4",
      "model_name": "LabelModel",
      "state": {
       "_model_module_version": "~2.1.4",
       "_view_module_version": "~2.1.4",
       "layout": "IPY_MODEL_13195ef5ca6c49738ccec27984c1df51",
       "value": "Hidden layer sizes:"
      }
     },
     "3e4c2d00bdbf4e2dba3de18e44baa95f": {
      "model_module": "jupyter-js-widgets",
      "model_module_version": "~2.1.4",
      "model_name": "VBoxModel",
      "state": {
       "_dom_classes": [
        "widget-interact"
       ],
       "_model_module_version": "~2.1.4",
       "_view_module_version": "~2.1.4",
       "children": [
        "IPY_MODEL_5b929c852af64805bdbf00a78fbff4bf",
        "IPY_MODEL_86b932bf0b654712a3a152316e6cea64"
       ],
       "layout": "IPY_MODEL_a4df9f5b24b4408bb968c961eb49ced8"
      }
     },
     "3f932d8c68d34409809a731ea3cce793": {
      "model_module": "jupyter-js-widgets",
      "model_module_version": "~2.1.4",
      "model_name": "LabelModel",
      "state": {
       "_model_module_version": "~2.1.4",
       "_view_module_version": "~2.1.4",
       "layout": "IPY_MODEL_b0f2362c6b4f485f8f712c6359e1aa5f",
       "value": "Hidden layer sizes:"
      }
     },
     "40521cbbc5ef4cb58e643bf961882b5b": {
      "model_module": "jupyter-js-widgets",
      "model_module_version": "~2.1.4",
      "model_name": "SliderStyleModel",
      "state": {
       "_model_module_version": "~2.1.4",
       "_view_module_version": "~2.1.4"
      }
     },
     "409186ba2f3f4cddb91a2b5b3775159d": {
      "model_module": "jupyter-js-widgets",
      "model_module_version": "~2.1.4",
      "model_name": "OutputModel",
      "state": {
       "_dom_classes": [],
       "_model_module": "jupyter-js-widgets",
       "_model_module_version": "~2.1.4",
       "_view_module": "jupyter-js-widgets",
       "_view_module_version": "~2.1.4",
       "layout": "IPY_MODEL_13e25439cb254dba8238a076d8414b54",
       "msg_throttle": 1
      }
     },
     "4490342f11be44ddb38a78e35df67180": {
      "model_module": "jupyter-js-widgets",
      "model_module_version": "~2.1.4",
      "model_name": "LabelModel",
      "state": {
       "_model_module_version": "~2.1.4",
       "_view_module_version": "~2.1.4",
       "layout": "IPY_MODEL_bc51d102a7e948d2bbeb590a8c14010a",
       "value": "Hidden layer sizes:"
      }
     },
     "44d88f37f71c4d78bbd6aa303086f9c1": {
      "model_module": "jupyter-js-widgets",
      "model_module_version": "~2.1.4",
      "model_name": "SliderStyleModel",
      "state": {
       "_model_module_version": "~2.1.4",
       "_view_module_version": "~2.1.4"
      }
     },
     "46ae79a2d3ac4028941a72080ee68dcb": {
      "model_module": "jupyter-js-widgets",
      "model_module_version": "~2.1.4",
      "model_name": "VBoxModel",
      "state": {
       "_dom_classes": [
        "widget-interact"
       ],
       "_model_module_version": "~2.1.4",
       "_view_module_version": "~2.1.4",
       "children": [
        "IPY_MODEL_52d103df2c2440eda5ced2cdd551b638",
        "IPY_MODEL_70e4c8ed2a684a1aba93f24448533622"
       ],
       "layout": "IPY_MODEL_22a79efafe984185a0e83b5367162612"
      }
     },
     "4cb982f322ff4f7b943af39a328289ec": {
      "model_module": "jupyter-js-widgets",
      "model_module_version": "~2.1.4",
      "model_name": "VBoxModel",
      "state": {
       "_dom_classes": [
        "widget-interact"
       ],
       "_model_module_version": "~2.1.4",
       "_view_module_version": "~2.1.4",
       "children": [
        "IPY_MODEL_0c535de1d36c44ca89b61a0b451fe68b",
        "IPY_MODEL_15b93f129238464ca11e4b701cd3dce9"
       ],
       "layout": "IPY_MODEL_9178dc1d485b4c59aae65d3f3837496a"
      }
     },
     "4edc69fccbaf4ad4989911bcb1879192": {
      "model_module": "jupyter-js-widgets",
      "model_module_version": "~2.1.4",
      "model_name": "LayoutModel",
      "state": {
       "_model_module_version": "~2.1.4",
       "_view_module_version": "~2.1.4",
       "width": "80%"
      }
     },
     "4f7533f0e7e74519abc8ef4a7e7e7009": {
      "model_module": "jupyter-js-widgets",
      "model_module_version": "~2.1.4",
      "model_name": "LayoutModel",
      "state": {
       "_model_module_version": "~2.1.4",
       "_view_module_version": "~2.1.4",
       "width": "80%"
      }
     },
     "5010a03d9b9f4a348dcaf6d9ae7d395a": {
      "model_module": "jupyter-js-widgets",
      "model_module_version": "~2.1.4",
      "model_name": "OutputModel",
      "state": {
       "_dom_classes": [],
       "_model_module": "jupyter-js-widgets",
       "_model_module_version": "~2.1.4",
       "_view_module": "jupyter-js-widgets",
       "_view_module_version": "~2.1.4",
       "layout": "IPY_MODEL_b284e272db8d4319abc574f27a26d265",
       "msg_throttle": 1
      }
     },
     "519765567b764638a657d2756d4e3e57": {
      "model_module": "jupyter-js-widgets",
      "model_module_version": "~2.1.4",
      "model_name": "OutputModel",
      "state": {
       "_dom_classes": [],
       "_model_module": "jupyter-js-widgets",
       "_model_module_version": "~2.1.4",
       "_view_module": "jupyter-js-widgets",
       "_view_module_version": "~2.1.4",
       "layout": "IPY_MODEL_37f3b716fc5b4e47bf8555b6a7920a69",
       "msg_throttle": 1
      }
     },
     "51bfe82ff1e8410d99e4b397f2438d1b": {
      "model_module": "jupyter-js-widgets",
      "model_module_version": "~2.1.4",
      "model_name": "LayoutModel",
      "state": {
       "_model_module_version": "~2.1.4",
       "_view_module_version": "~2.1.4",
       "border": "solid",
       "padding": "10px"
      }
     },
     "52c7077af43349849e0cb63ec06b5233": {
      "model_module": "jupyter-js-widgets",
      "model_module_version": "~2.1.4",
      "model_name": "LayoutModel",
      "state": {
       "_model_module_version": "~2.1.4",
       "_view_module_version": "~2.1.4",
       "width": "80%"
      }
     },
     "52d103df2c2440eda5ced2cdd551b638": {
      "model_module": "jupyter-js-widgets",
      "model_module_version": "~2.1.4",
      "model_name": "IntSliderModel",
      "state": {
       "_model_module_version": "~2.1.4",
       "_view_module_version": "~2.1.4",
       "continuous_update": false,
       "description": "Hidden layer 0:",
       "layout": "IPY_MODEL_f98ee1de3cb545dcb316c9695b4d86ee",
       "min": 1,
       "style": "IPY_MODEL_29139e6d711d4b4bb33145585f3cb24c",
       "value": 20
      }
     },
     "5310d8f0063f42baa298b512cbeba24d": {
      "model_module": "jupyter-js-widgets",
      "model_module_version": "~2.1.4",
      "model_name": "OutputModel",
      "state": {
       "_dom_classes": [],
       "_model_module": "jupyter-js-widgets",
       "_model_module_version": "~2.1.4",
       "_view_module": "jupyter-js-widgets",
       "_view_module_version": "~2.1.4",
       "layout": "IPY_MODEL_5cf9525baf2b46f29f34cbff31f0f547",
       "msg_throttle": 1
      }
     },
     "54290dfd35da41ce80f60118049ab0a6": {
      "model_module": "jupyter-js-widgets",
      "model_module_version": "~2.1.4",
      "model_name": "LayoutModel",
      "state": {
       "_model_module_version": "~2.1.4",
       "_view_module_version": "~2.1.4",
       "width": "80%"
      }
     },
     "55c75557ef294aeab77b101a6b97a5c5": {
      "model_module": "jupyter-js-widgets",
      "model_module_version": "~2.1.4",
      "model_name": "LayoutModel",
      "state": {
       "_model_module_version": "~2.1.4",
       "_view_module_version": "~2.1.4"
      }
     },
     "55e56e64917f4e9ab01bc5dabd0e3345": {
      "model_module": "jupyter-js-widgets",
      "model_module_version": "~2.1.4",
      "model_name": "IntSliderModel",
      "state": {
       "_model_module_version": "~2.1.4",
       "_view_module_version": "~2.1.4",
       "continuous_update": false,
       "description": "num hidden layers:",
       "layout": "IPY_MODEL_01b4d2bfabd64ab3ba309d38c3fca6c8",
       "max": 10,
       "min": 1,
       "style": "IPY_MODEL_6aa1fd58d5bd48fc87fb1a0c3f6efbb6",
       "value": 2
      }
     },
     "55f5d4daa864466f9255326e1bc453e2": {
      "model_module": "jupyter-js-widgets",
      "model_module_version": "~2.1.4",
      "model_name": "LayoutModel",
      "state": {
       "_model_module_version": "~2.1.4",
       "_view_module_version": "~2.1.4",
       "width": "80%"
      }
     },
     "560333883b48426c9b9b68023b58779c": {
      "model_module": "jupyter-js-widgets",
      "model_module_version": "~2.1.4",
      "model_name": "LayoutModel",
      "state": {
       "_model_module_version": "~2.1.4",
       "_view_module_version": "~2.1.4"
      }
     },
     "573cb689e19c4dc3b2f36df86b5927b6": {
      "model_module": "jupyter-js-widgets",
      "model_module_version": "~2.1.4",
      "model_name": "FloatTextModel",
      "state": {
       "_model_module_version": "~2.1.4",
       "_view_module_version": "~2.1.4",
       "description": "Sampling Percentage:",
       "layout": "IPY_MODEL_78a7473f53804b68910587d922ba0e86",
       "max": 1,
       "min": 0,
       "step": 0.1,
       "value": 0.0001
      }
     },
     "5768aebd723445efa46b7c87752f31d9": {
      "model_module": "jupyter-js-widgets",
      "model_module_version": "~2.1.4",
      "model_name": "LayoutModel",
      "state": {
       "_model_module_version": "~2.1.4",
       "_view_module_version": "~2.1.4"
      }
     },
     "57e6d1292f1a483996d05653d58892c0": {
      "model_module": "jupyter-js-widgets",
      "model_module_version": "~2.1.4",
      "model_name": "LayoutModel",
      "state": {
       "_model_module_version": "~2.1.4",
       "_view_module_version": "~2.1.4"
      }
     },
     "58b46a682ee84b1ab070d2b2ec29d13e": {
      "model_module": "jupyter-js-widgets",
      "model_module_version": "~2.1.4",
      "model_name": "OutputModel",
      "state": {
       "_dom_classes": [],
       "_model_module": "jupyter-js-widgets",
       "_model_module_version": "~2.1.4",
       "_view_module": "jupyter-js-widgets",
       "_view_module_version": "~2.1.4",
       "layout": "IPY_MODEL_36116bce2f36406e91b5d157348e7899",
       "msg_throttle": 1
      }
     },
     "5ad26ccbac2e42cb87648b59dcbaffbd": {
      "model_module": "jupyter-js-widgets",
      "model_module_version": "~2.1.4",
      "model_name": "OutputModel",
      "state": {
       "_dom_classes": [],
       "_model_module": "jupyter-js-widgets",
       "_model_module_version": "~2.1.4",
       "_view_module": "jupyter-js-widgets",
       "_view_module_version": "~2.1.4",
       "layout": "IPY_MODEL_abe768770b3740ddbf631efb2a7122ff",
       "msg_throttle": 1
      }
     },
     "5b929c852af64805bdbf00a78fbff4bf": {
      "model_module": "jupyter-js-widgets",
      "model_module_version": "~2.1.4",
      "model_name": "IntSliderModel",
      "state": {
       "_model_module_version": "~2.1.4",
       "_view_module_version": "~2.1.4",
       "continuous_update": false,
       "description": "Hidden layer 1:",
       "layout": "IPY_MODEL_f2743e70daa44c76b04587dddab5ebf8",
       "min": 1,
       "style": "IPY_MODEL_c745107816414232a9ada67a847c8fd5",
       "value": 20
      }
     },
     "5b956172406b42ec863d06807f74f84d": {
      "model_module": "jupyter-js-widgets",
      "model_module_version": "~2.1.4",
      "model_name": "VBoxModel",
      "state": {
       "_dom_classes": [
        "widget-interact"
       ],
       "_model_module_version": "~2.1.4",
       "_view_module_version": "~2.1.4",
       "children": [
        "IPY_MODEL_3b39e86920f2442688f015b2c0b3fa61",
        "IPY_MODEL_c19fa4cf5b69403c9e71103e3aac2c70"
       ],
       "layout": "IPY_MODEL_a7e375504da9456c897c5015c80b1f9e"
      }
     },
     "5cf9525baf2b46f29f34cbff31f0f547": {
      "model_module": "jupyter-js-widgets",
      "model_module_version": "~2.1.4",
      "model_name": "LayoutModel",
      "state": {
       "_model_module_version": "~2.1.4",
       "_view_module_version": "~2.1.4"
      }
     },
     "5eaf8403323c4ac3b2ee48bfad1e8b19": {
      "model_module": "jupyter-js-widgets",
      "model_module_version": "~2.1.4",
      "model_name": "VBoxModel",
      "state": {
       "_dom_classes": [
        "widget-interact"
       ],
       "_model_module_version": "~2.1.4",
       "_view_module_version": "~2.1.4",
       "children": [
        "IPY_MODEL_ce043d0c4c074ddabc3a8549c04df04e",
        "IPY_MODEL_a74bbc5352e94cc2a848f32a112ad672"
       ],
       "layout": "IPY_MODEL_5eb789f5ba09473099775d086ab2c836"
      }
     },
     "5eb789f5ba09473099775d086ab2c836": {
      "model_module": "jupyter-js-widgets",
      "model_module_version": "~2.1.4",
      "model_name": "LayoutModel",
      "state": {
       "_model_module_version": "~2.1.4",
       "_view_module_version": "~2.1.4"
      }
     },
     "5ecdd48f8bab4612a95206777b831e6f": {
      "model_module": "jupyter-js-widgets",
      "model_module_version": "~2.1.4",
      "model_name": "LayoutModel",
      "state": {
       "_model_module_version": "~2.1.4",
       "_view_module_version": "~2.1.4",
       "border": "solid",
       "padding": "10px"
      }
     },
     "64d5cd0100a84ec1bb69ca4c64101c08": {
      "model_module": "jupyter-js-widgets",
      "model_module_version": "~2.1.4",
      "model_name": "OutputModel",
      "state": {
       "_dom_classes": [],
       "_model_module": "jupyter-js-widgets",
       "_model_module_version": "~2.1.4",
       "_view_module": "jupyter-js-widgets",
       "_view_module_version": "~2.1.4",
       "layout": "IPY_MODEL_ee99e04807c34148ab4a2bfb6791f677",
       "msg_throttle": 1
      }
     },
     "64d7ae4f5a944415ac761b44a7f9229a": {
      "model_module": "jupyter-js-widgets",
      "model_module_version": "~2.1.4",
      "model_name": "ButtonModel",
      "state": {
       "_model_module_version": "~2.1.4",
       "_view_module_version": "~2.1.4",
       "button_style": "danger",
       "description": "Start training",
       "layout": "IPY_MODEL_aeb41b3df9b54f94a6b70ca3e9bbd3a5",
       "style": "IPY_MODEL_76b91d9d66cc4aae9b02cca73aa8ab99"
      }
     },
     "64e76011a85a4301b87892fcdee76a01": {
      "model_module": "jupyter-js-widgets",
      "model_module_version": "~2.1.4",
      "model_name": "IntSliderModel",
      "state": {
       "_model_module_version": "~2.1.4",
       "_view_module_version": "~2.1.4",
       "continuous_update": false,
       "description": "num hidden layers:",
       "layout": "IPY_MODEL_27c36f67ac77403288db44738d74224e",
       "max": 10,
       "min": 1,
       "style": "IPY_MODEL_f6740be74de34d298c37da81045a3c44",
       "value": 2
      }
     },
     "69690fb31d8b4edb983df91a4deb7383": {
      "model_module": "jupyter-js-widgets",
      "model_module_version": "~2.1.4",
      "model_name": "OutputModel",
      "state": {
       "_dom_classes": [],
       "_model_module": "jupyter-js-widgets",
       "_model_module_version": "~2.1.4",
       "_view_module": "jupyter-js-widgets",
       "_view_module_version": "~2.1.4",
       "layout": "IPY_MODEL_37aae862846748aeaa91ba66ee2f5787",
       "msg_throttle": 1
      }
     },
     "6aa1fd58d5bd48fc87fb1a0c3f6efbb6": {
      "model_module": "jupyter-js-widgets",
      "model_module_version": "~2.1.4",
      "model_name": "SliderStyleModel",
      "state": {
       "_model_module_version": "~2.1.4",
       "_view_module_version": "~2.1.4"
      }
     },
     "6c1ec8e2ad624b6d84e24188db2f9013": {
      "model_module": "jupyter-js-widgets",
      "model_module_version": "~2.1.4",
      "model_name": "LayoutModel",
      "state": {
       "_model_module_version": "~2.1.4",
       "_view_module_version": "~2.1.4",
       "width": "80%"
      }
     },
     "6c4698178186415ea38d39add9d6137e": {
      "model_module": "jupyter-js-widgets",
      "model_module_version": "~2.1.4",
      "model_name": "SliderStyleModel",
      "state": {
       "_model_module_version": "~2.1.4",
       "_view_module_version": "~2.1.4"
      }
     },
     "6f197853a16c4a848795d64409864b5b": {
      "model_module": "jupyter-js-widgets",
      "model_module_version": "~2.1.4",
      "model_name": "LayoutModel",
      "state": {
       "_model_module_version": "~2.1.4",
       "_view_module_version": "~2.1.4",
       "width": "80%"
      }
     },
     "701807e2605a4291b5cc60f94d9d649e": {
      "model_module": "jupyter-js-widgets",
      "model_module_version": "~2.1.4",
      "model_name": "OutputModel",
      "state": {
       "_dom_classes": [],
       "_model_module": "jupyter-js-widgets",
       "_model_module_version": "~2.1.4",
       "_view_module": "jupyter-js-widgets",
       "_view_module_version": "~2.1.4",
       "layout": "IPY_MODEL_dcd2a060aef945d4b84d45b1fd355f0b",
       "msg_throttle": 1
      }
     },
     "70e4c8ed2a684a1aba93f24448533622": {
      "model_module": "jupyter-js-widgets",
      "model_module_version": "~2.1.4",
      "model_name": "OutputModel",
      "state": {
       "_dom_classes": [],
       "_model_module": "jupyter-js-widgets",
       "_model_module_version": "~2.1.4",
       "_view_module": "jupyter-js-widgets",
       "_view_module_version": "~2.1.4",
       "layout": "IPY_MODEL_aad7bd8859a941129a30f6667061c160",
       "msg_throttle": 1
      }
     },
     "722a46d93b5543c9a41889d87fce208d": {
      "model_module": "jupyter-js-widgets",
      "model_module_version": "~2.1.4",
      "model_name": "LayoutModel",
      "state": {
       "_model_module_version": "~2.1.4",
       "_view_module_version": "~2.1.4",
       "width": "80%"
      }
     },
     "72f42ba881854b83889edb25e7f89f24": {
      "model_module": "jupyter-js-widgets",
      "model_module_version": "~2.1.4",
      "model_name": "IntSliderModel",
      "state": {
       "_model_module_version": "~2.1.4",
       "_view_module_version": "~2.1.4",
       "continuous_update": false,
       "description": "Hidden layer 1:",
       "layout": "IPY_MODEL_0e65d08a93324e118c7d8313508d982f",
       "min": 1,
       "style": "IPY_MODEL_95177595f1d34992a237316ffe3b1386",
       "value": 20
      }
     },
     "74add23f08ff4e89beee0a1c5f2c1860": {
      "model_module": "jupyter-js-widgets",
      "model_module_version": "~2.1.4",
      "model_name": "LayoutModel",
      "state": {
       "_model_module_version": "~2.1.4",
       "_view_module_version": "~2.1.4"
      }
     },
     "76399b85d17a428eb6038dc09cc5da09": {
      "model_module": "jupyter-js-widgets",
      "model_module_version": "~2.1.4",
      "model_name": "SliderStyleModel",
      "state": {
       "_model_module_version": "~2.1.4",
       "_view_module_version": "~2.1.4"
      }
     },
     "76b91d9d66cc4aae9b02cca73aa8ab99": {
      "model_module": "jupyter-js-widgets",
      "model_module_version": "~2.1.4",
      "model_name": "ButtonStyleModel",
      "state": {
       "_model_module_version": "~2.1.4",
       "_view_module_version": "~2.1.4"
      }
     },
     "775a41de2e3b4f948a158ef2789848bc": {
      "model_module": "jupyter-js-widgets",
      "model_module_version": "~2.1.4",
      "model_name": "VBoxModel",
      "state": {
       "_dom_classes": [
        "widget-interact"
       ],
       "_model_module_version": "~2.1.4",
       "_view_module_version": "~2.1.4",
       "children": [
        "IPY_MODEL_fe73d91875604abf934ba15462897a2a",
        "IPY_MODEL_5ad26ccbac2e42cb87648b59dcbaffbd"
       ],
       "layout": "IPY_MODEL_5768aebd723445efa46b7c87752f31d9"
      }
     },
     "78a7473f53804b68910587d922ba0e86": {
      "model_module": "jupyter-js-widgets",
      "model_module_version": "~2.1.4",
      "model_name": "LayoutModel",
      "state": {
       "_model_module_version": "~2.1.4",
       "_view_module_version": "~2.1.4"
      }
     },
     "790fd002d79d4a4cbb70dba156ce7812": {
      "model_module": "jupyter-js-widgets",
      "model_module_version": "~2.1.4",
      "model_name": "LayoutModel",
      "state": {
       "_model_module_version": "~2.1.4",
       "_view_module_version": "~2.1.4"
      }
     },
     "7eadf18a030b4985837dd3b136d661b7": {
      "model_module": "jupyter-js-widgets",
      "model_module_version": "~2.1.4",
      "model_name": "LayoutModel",
      "state": {
       "_model_module_version": "~2.1.4",
       "_view_module_version": "~2.1.4"
      }
     },
     "81bf6f65281f4ad381f8fb550bae88a7": {
      "model_module": "jupyter-js-widgets",
      "model_module_version": "~2.1.4",
      "model_name": "VBoxModel",
      "state": {
       "_model_module_version": "~2.1.4",
       "_view_module_version": "~2.1.4",
       "children": [
        "IPY_MODEL_8402d4e3780443dbbb9acb3d8b4b5bd0",
        "IPY_MODEL_5eaf8403323c4ac3b2ee48bfad1e8b19",
        "IPY_MODEL_b6df8aa8d3d24a419df40331410ce776"
       ],
       "layout": "IPY_MODEL_51bfe82ff1e8410d99e4b397f2438d1b"
      }
     },
     "832bbd806a4147da97eaa6ff8f0faf1d": {
      "model_module": "jupyter-js-widgets",
      "model_module_version": "~2.1.4",
      "model_name": "SliderStyleModel",
      "state": {
       "_model_module_version": "~2.1.4",
       "_view_module_version": "~2.1.4"
      }
     },
     "8402d4e3780443dbbb9acb3d8b4b5bd0": {
      "model_module": "jupyter-js-widgets",
      "model_module_version": "~2.1.4",
      "model_name": "LabelModel",
      "state": {
       "_model_module_version": "~2.1.4",
       "_view_module_version": "~2.1.4",
       "layout": "IPY_MODEL_10092a79d38a40cabc05f6bbe3925910",
       "value": "Hidden layer sizes:"
      }
     },
     "840797266a474680a6c1d12b030b7590": {
      "model_module": "jupyter-js-widgets",
      "model_module_version": "~2.1.4",
      "model_name": "FloatTextModel",
      "state": {
       "_model_module_version": "~2.1.4",
       "_view_module_version": "~2.1.4",
       "description": "Sampling Percentage:",
       "layout": "IPY_MODEL_c1d49fe2b78f4358ac220963729888fa",
       "max": 1,
       "min": 0,
       "step": 0.1,
       "value": 0.0001
      }
     },
     "852b413555344c75addb25ee76586288": {
      "model_module": "jupyter-js-widgets",
      "model_module_version": "~2.1.4",
      "model_name": "VBoxModel",
      "state": {
       "_dom_classes": [
        "widget-interact"
       ],
       "_model_module_version": "~2.1.4",
       "_view_module_version": "~2.1.4",
       "children": [
        "IPY_MODEL_573cb689e19c4dc3b2f36df86b5927b6",
        "IPY_MODEL_dcdbf51373c049ebb5bf3b84b9d3d53e"
       ],
       "layout": "IPY_MODEL_e57eba8b897048f6b0e91f2913361787"
      }
     },
     "86b932bf0b654712a3a152316e6cea64": {
      "model_module": "jupyter-js-widgets",
      "model_module_version": "~2.1.4",
      "model_name": "OutputModel",
      "state": {
       "_dom_classes": [],
       "_model_module": "jupyter-js-widgets",
       "_model_module_version": "~2.1.4",
       "_view_module": "jupyter-js-widgets",
       "_view_module_version": "~2.1.4",
       "layout": "IPY_MODEL_57e6d1292f1a483996d05653d58892c0",
       "msg_throttle": 1
      }
     },
     "875e54b5f36146e1be17ea32a862ef4f": {
      "model_module": "jupyter-js-widgets",
      "model_module_version": "~2.1.4",
      "model_name": "VBoxModel",
      "state": {
       "_dom_classes": [
        "widget-interact"
       ],
       "_model_module_version": "~2.1.4",
       "_view_module_version": "~2.1.4",
       "children": [
        "IPY_MODEL_3bde2be00ba345498c09a7fdcf888c5b",
        "IPY_MODEL_cd5a4723f1b842e8beb194a69bfdfa69"
       ],
       "layout": "IPY_MODEL_138b811369ad4dcdbc1cda7e1e0cc5e4"
      }
     },
     "87b99192a3474f74a81fdf5b79f3e2c3": {
      "model_module": "jupyter-js-widgets",
      "model_module_version": "~2.1.4",
      "model_name": "LayoutModel",
      "state": {
       "_model_module_version": "~2.1.4",
       "_view_module_version": "~2.1.4",
       "border": "solid",
       "padding": "10px"
      }
     },
     "899d096fc5ac401ba5566d2b3b965d20": {
      "model_module": "jupyter-js-widgets",
      "model_module_version": "~2.1.4",
      "model_name": "SliderStyleModel",
      "state": {
       "_model_module_version": "~2.1.4",
       "_view_module_version": "~2.1.4"
      }
     },
     "89f82c6a7cf64d48ac9521ed3e7c4978": {
      "model_module": "jupyter-js-widgets",
      "model_module_version": "~2.1.4",
      "model_name": "LayoutModel",
      "state": {
       "_model_module_version": "~2.1.4",
       "_view_module_version": "~2.1.4"
      }
     },
     "8a0019f7dbe2490f9f8a9ca137a8fced": {
      "model_module": "jupyter-js-widgets",
      "model_module_version": "~2.1.4",
      "model_name": "LayoutModel",
      "state": {
       "_model_module_version": "~2.1.4",
       "_view_module_version": "~2.1.4"
      }
     },
     "8cfd8c520d37481bbec316778078e92e": {
      "model_module": "jupyter-js-widgets",
      "model_module_version": "~2.1.4",
      "model_name": "LayoutModel",
      "state": {
       "_model_module_version": "~2.1.4",
       "_view_module_version": "~2.1.4"
      }
     },
     "8e09a8fce31d4cdaa81a17f1fd943edc": {
      "model_module": "jupyter-js-widgets",
      "model_module_version": "~2.1.4",
      "model_name": "OutputModel",
      "state": {
       "_dom_classes": [],
       "_model_module": "jupyter-js-widgets",
       "_model_module_version": "~2.1.4",
       "_view_module": "jupyter-js-widgets",
       "_view_module_version": "~2.1.4",
       "layout": "IPY_MODEL_0882bee438aa4c25a0e8a9846d66ddee",
       "msg_throttle": 1
      }
     },
     "9178dc1d485b4c59aae65d3f3837496a": {
      "model_module": "jupyter-js-widgets",
      "model_module_version": "~2.1.4",
      "model_name": "LayoutModel",
      "state": {
       "_model_module_version": "~2.1.4",
       "_view_module_version": "~2.1.4"
      }
     },
     "91f086ef74b54b2eba4bec6d0f4cf82c": {
      "model_module": "jupyter-js-widgets",
      "model_module_version": "~2.1.4",
      "model_name": "IntSliderModel",
      "state": {
       "_model_module_version": "~2.1.4",
       "_view_module_version": "~2.1.4",
       "continuous_update": false,
       "description": "Hidden layer 0:",
       "layout": "IPY_MODEL_c219a18c4d584815be51be56302b90b1",
       "min": 1,
       "style": "IPY_MODEL_a72858ac0d3d4aee8306f0d9e3537686",
       "value": 20
      }
     },
     "93bcea0d336b4c849ddb50d287901065": {
      "model_module": "jupyter-js-widgets",
      "model_module_version": "~2.1.4",
      "model_name": "VBoxModel",
      "state": {
       "_dom_classes": [
        "widget-interact"
       ],
       "_model_module_version": "~2.1.4",
       "_view_module_version": "~2.1.4",
       "children": [
        "IPY_MODEL_cf5a9b98f09c4ebe86757d8853512cd2",
        "IPY_MODEL_d7aa791c80af495487a6e379b163ad10"
       ],
       "layout": "IPY_MODEL_1fd69975c66d46648aeeb8bb5e6e715a"
      }
     },
     "95177595f1d34992a237316ffe3b1386": {
      "model_module": "jupyter-js-widgets",
      "model_module_version": "~2.1.4",
      "model_name": "SliderStyleModel",
      "state": {
       "_model_module_version": "~2.1.4",
       "_view_module_version": "~2.1.4"
      }
     },
     "96e26e6222694dd188a5bc64046d63a3": {
      "model_module": "jupyter-js-widgets",
      "model_module_version": "~2.1.4",
      "model_name": "IntSliderModel",
      "state": {
       "_model_module_version": "~2.1.4",
       "_view_module_version": "~2.1.4",
       "continuous_update": false,
       "description": "num hidden layers:",
       "layout": "IPY_MODEL_c9c1e6d669dd40b1aa806fa45414a031",
       "max": 10,
       "min": 1,
       "style": "IPY_MODEL_a763b4a5216943fcaf032906361499d7",
       "value": 2
      }
     },
     "9c6ac1ef1811475b840724031d0df4fc": {
      "model_module": "jupyter-js-widgets",
      "model_module_version": "~2.1.4",
      "model_name": "LayoutModel",
      "state": {
       "_model_module_version": "~2.1.4",
       "_view_module_version": "~2.1.4"
      }
     },
     "9f95c2ae3c9a4fd594f992fc98d19ad2": {
      "model_module": "jupyter-js-widgets",
      "model_module_version": "~2.1.4",
      "model_name": "LayoutModel",
      "state": {
       "_model_module_version": "~2.1.4",
       "_view_module_version": "~2.1.4"
      }
     },
     "a34201f4e28f4b6a9ce61a5aef70a7ab": {
      "model_module": "jupyter-js-widgets",
      "model_module_version": "~2.1.4",
      "model_name": "IntSliderModel",
      "state": {
       "_model_module_version": "~2.1.4",
       "_view_module_version": "~2.1.4",
       "continuous_update": false,
       "description": "num hidden layers:",
       "layout": "IPY_MODEL_4f7533f0e7e74519abc8ef4a7e7e7009",
       "max": 10,
       "min": 1,
       "style": "IPY_MODEL_76399b85d17a428eb6038dc09cc5da09",
       "value": 2
      }
     },
     "a4379a1f9bc94101b91cc319fc8d04bc": {
      "model_module": "jupyter-js-widgets",
      "model_module_version": "~2.1.4",
      "model_name": "LayoutModel",
      "state": {
       "_model_module_version": "~2.1.4",
       "_view_module_version": "~2.1.4",
       "width": "80%"
      }
     },
     "a4df9f5b24b4408bb968c961eb49ced8": {
      "model_module": "jupyter-js-widgets",
      "model_module_version": "~2.1.4",
      "model_name": "LayoutModel",
      "state": {
       "_model_module_version": "~2.1.4",
       "_view_module_version": "~2.1.4"
      }
     },
     "a6c24d7c0e6d477d81045c88eec64801": {
      "model_module": "jupyter-js-widgets",
      "model_module_version": "~2.1.4",
      "model_name": "LayoutModel",
      "state": {
       "_model_module_version": "~2.1.4",
       "_view_module_version": "~2.1.4"
      }
     },
     "a72858ac0d3d4aee8306f0d9e3537686": {
      "model_module": "jupyter-js-widgets",
      "model_module_version": "~2.1.4",
      "model_name": "SliderStyleModel",
      "state": {
       "_model_module_version": "~2.1.4",
       "_view_module_version": "~2.1.4"
      }
     },
     "a74bbc5352e94cc2a848f32a112ad672": {
      "model_module": "jupyter-js-widgets",
      "model_module_version": "~2.1.4",
      "model_name": "OutputModel",
      "state": {
       "_dom_classes": [],
       "_model_module": "jupyter-js-widgets",
       "_model_module_version": "~2.1.4",
       "_view_module": "jupyter-js-widgets",
       "_view_module_version": "~2.1.4",
       "layout": "IPY_MODEL_2f52c64234dc4273873ffb2bbbac033a",
       "msg_throttle": 1
      }
     },
     "a763b4a5216943fcaf032906361499d7": {
      "model_module": "jupyter-js-widgets",
      "model_module_version": "~2.1.4",
      "model_name": "SliderStyleModel",
      "state": {
       "_model_module_version": "~2.1.4",
       "_view_module_version": "~2.1.4"
      }
     },
     "a77a65cb4d5d469db8a6f178b2cf362d": {
      "model_module": "jupyter-js-widgets",
      "model_module_version": "~2.1.4",
      "model_name": "VBoxModel",
      "state": {
       "_dom_classes": [
        "widget-interact"
       ],
       "_model_module_version": "~2.1.4",
       "_view_module_version": "~2.1.4",
       "children": [
        "IPY_MODEL_034e752a11364d55a8ed7f0896bff574",
        "IPY_MODEL_bea46dc754ec4663b8b6c984217cc6a0"
       ],
       "layout": "IPY_MODEL_21c6abb8e8ee4e44ab1c50f7772aeb0a"
      }
     },
     "a7bf88e02d9842c1b72291241f10bfae": {
      "model_module": "jupyter-js-widgets",
      "model_module_version": "~2.1.4",
      "model_name": "LayoutModel",
      "state": {
       "_model_module_version": "~2.1.4",
       "_view_module_version": "~2.1.4",
       "width": "100%"
      }
     },
     "a7e375504da9456c897c5015c80b1f9e": {
      "model_module": "jupyter-js-widgets",
      "model_module_version": "~2.1.4",
      "model_name": "LayoutModel",
      "state": {
       "_model_module_version": "~2.1.4",
       "_view_module_version": "~2.1.4"
      }
     },
     "a828759272464e64bcac474086b48273": {
      "model_module": "jupyter-js-widgets",
      "model_module_version": "~2.1.4",
      "model_name": "OutputModel",
      "state": {
       "_dom_classes": [],
       "_model_module": "jupyter-js-widgets",
       "_model_module_version": "~2.1.4",
       "_view_module": "jupyter-js-widgets",
       "_view_module_version": "~2.1.4",
       "layout": "IPY_MODEL_a6c24d7c0e6d477d81045c88eec64801",
       "msg_throttle": 1
      }
     },
     "a8e7f2cb84d645efa97db36e3b4c57e4": {
      "model_module": "jupyter-js-widgets",
      "model_module_version": "~2.1.4",
      "model_name": "LayoutModel",
      "state": {
       "_model_module_version": "~2.1.4",
       "_view_module_version": "~2.1.4"
      }
     },
     "a926d0c503db42e9a776a63d68e1e663": {
      "model_module": "jupyter-js-widgets",
      "model_module_version": "~2.1.4",
      "model_name": "LayoutModel",
      "state": {
       "_model_module_version": "~2.1.4",
       "_view_module_version": "~2.1.4"
      }
     },
     "aad7bd8859a941129a30f6667061c160": {
      "model_module": "jupyter-js-widgets",
      "model_module_version": "~2.1.4",
      "model_name": "LayoutModel",
      "state": {
       "_model_module_version": "~2.1.4",
       "_view_module_version": "~2.1.4"
      }
     },
     "abe768770b3740ddbf631efb2a7122ff": {
      "model_module": "jupyter-js-widgets",
      "model_module_version": "~2.1.4",
      "model_name": "LayoutModel",
      "state": {
       "_model_module_version": "~2.1.4",
       "_view_module_version": "~2.1.4"
      }
     },
     "add95445a9ed4a9b85d1b0634eefaa4c": {
      "model_module": "jupyter-js-widgets",
      "model_module_version": "~2.1.4",
      "model_name": "LayoutModel",
      "state": {
       "_model_module_version": "~2.1.4",
       "_view_module_version": "~2.1.4",
       "width": "80%"
      }
     },
     "aeb41b3df9b54f94a6b70ca3e9bbd3a5": {
      "model_module": "jupyter-js-widgets",
      "model_module_version": "~2.1.4",
      "model_name": "LayoutModel",
      "state": {
       "_model_module_version": "~2.1.4",
       "_view_module_version": "~2.1.4"
      }
     },
     "afec223418bb40ff96f3be856a1f9e6f": {
      "model_module": "jupyter-js-widgets",
      "model_module_version": "~2.1.4",
      "model_name": "LayoutModel",
      "state": {
       "_model_module_version": "~2.1.4",
       "_view_module_version": "~2.1.4"
      }
     },
     "b0f2362c6b4f485f8f712c6359e1aa5f": {
      "model_module": "jupyter-js-widgets",
      "model_module_version": "~2.1.4",
      "model_name": "LayoutModel",
      "state": {
       "_model_module_version": "~2.1.4",
       "_view_module_version": "~2.1.4",
       "width": "100%"
      }
     },
     "b284e272db8d4319abc574f27a26d265": {
      "model_module": "jupyter-js-widgets",
      "model_module_version": "~2.1.4",
      "model_name": "LayoutModel",
      "state": {
       "_model_module_version": "~2.1.4",
       "_view_module_version": "~2.1.4"
      }
     },
     "b337937536f147858679b1d02fde8ee6": {
      "model_module": "jupyter-js-widgets",
      "model_module_version": "~2.1.4",
      "model_name": "LayoutModel",
      "state": {
       "_model_module_version": "~2.1.4",
       "_view_module_version": "~2.1.4",
       "width": "80%"
      }
     },
     "b47b03fc4ad6477da16a92ea77edf6b4": {
      "model_module": "jupyter-js-widgets",
      "model_module_version": "~2.1.4",
      "model_name": "LayoutModel",
      "state": {
       "_model_module_version": "~2.1.4",
       "_view_module_version": "~2.1.4"
      }
     },
     "b6df8aa8d3d24a419df40331410ce776": {
      "model_module": "jupyter-js-widgets",
      "model_module_version": "~2.1.4",
      "model_name": "VBoxModel",
      "state": {
       "_dom_classes": [
        "widget-interact"
       ],
       "_model_module_version": "~2.1.4",
       "_view_module_version": "~2.1.4",
       "children": [
        "IPY_MODEL_72f42ba881854b83889edb25e7f89f24",
        "IPY_MODEL_0e257f0d9c3e4b94aea860a23c1ad4ca"
       ],
       "layout": "IPY_MODEL_a926d0c503db42e9a776a63d68e1e663"
      }
     },
     "b888ec9211f2447eb23ef18f3184c8bd": {
      "model_module": "jupyter-js-widgets",
      "model_module_version": "~2.1.4",
      "model_name": "VBoxModel",
      "state": {
       "_dom_classes": [
        "widget-interact"
       ],
       "_model_module_version": "~2.1.4",
       "_view_module_version": "~2.1.4",
       "children": [
        "IPY_MODEL_96e26e6222694dd188a5bc64046d63a3",
        "IPY_MODEL_519765567b764638a657d2756d4e3e57"
       ],
       "layout": "IPY_MODEL_0b2ef69112744be7a82aba9ba5f7fb2f"
      }
     },
     "b8b8414fe0d640f5aa16ce57804db716": {
      "model_module": "jupyter-js-widgets",
      "model_module_version": "~2.1.4",
      "model_name": "VBoxModel",
      "state": {
       "_dom_classes": [
        "widget-interact"
       ],
       "_model_module_version": "~2.1.4",
       "_view_module_version": "~2.1.4",
       "children": [
        "IPY_MODEL_dac0c2a690474ea0bb40f8c1a0a578ee",
        "IPY_MODEL_caa7908d930a41e8ac827910dcd6a525"
       ],
       "layout": "IPY_MODEL_74add23f08ff4e89beee0a1c5f2c1860"
      }
     },
     "b8c4e407d88847689cc28441065397e6": {
      "model_module": "jupyter-js-widgets",
      "model_module_version": "~2.1.4",
      "model_name": "VBoxModel",
      "state": {
       "_dom_classes": [
        "widget-interact"
       ],
       "_model_module_version": "~2.1.4",
       "_view_module_version": "~2.1.4",
       "children": [
        "IPY_MODEL_840797266a474680a6c1d12b030b7590",
        "IPY_MODEL_5310d8f0063f42baa298b512cbeba24d"
       ],
       "layout": "IPY_MODEL_11d5d5acb4a949a79c75842213bafa7a"
      }
     },
     "bad8e733fd104b64ad0811b67e8a5778": {
      "model_module": "jupyter-js-widgets",
      "model_module_version": "~2.1.4",
      "model_name": "OutputModel",
      "state": {
       "_dom_classes": [],
       "_model_module": "jupyter-js-widgets",
       "_model_module_version": "~2.1.4",
       "_view_module": "jupyter-js-widgets",
       "_view_module_version": "~2.1.4",
       "layout": "IPY_MODEL_38384cbcba0b4ef789989e7084ffaa0f",
       "msg_throttle": 1
      }
     },
     "bb2d1c6e56d9428ca937357a3000a8b3": {
      "model_module": "jupyter-js-widgets",
      "model_module_version": "~2.1.4",
      "model_name": "LayoutModel",
      "state": {
       "_model_module_version": "~2.1.4",
       "_view_module_version": "~2.1.4",
       "width": "80%"
      }
     },
     "bc51d102a7e948d2bbeb590a8c14010a": {
      "model_module": "jupyter-js-widgets",
      "model_module_version": "~2.1.4",
      "model_name": "LayoutModel",
      "state": {
       "_model_module_version": "~2.1.4",
       "_view_module_version": "~2.1.4",
       "width": "100%"
      }
     },
     "bea46dc754ec4663b8b6c984217cc6a0": {
      "model_module": "jupyter-js-widgets",
      "model_module_version": "~2.1.4",
      "model_name": "OutputModel",
      "state": {
       "_dom_classes": [],
       "_model_module": "jupyter-js-widgets",
       "_model_module_version": "~2.1.4",
       "_view_module": "jupyter-js-widgets",
       "_view_module_version": "~2.1.4",
       "layout": "IPY_MODEL_9c6ac1ef1811475b840724031d0df4fc",
       "msg_throttle": 1
      }
     },
     "bf14772b939f43b6bcaf56c0c08586d1": {
      "model_module": "jupyter-js-widgets",
      "model_module_version": "~2.1.4",
      "model_name": "VBoxModel",
      "state": {
       "_dom_classes": [
        "widget-interact"
       ],
       "_model_module_version": "~2.1.4",
       "_view_module_version": "~2.1.4",
       "children": [
        "IPY_MODEL_fba710b596464be892f65faa51627951",
        "IPY_MODEL_64d5cd0100a84ec1bb69ca4c64101c08"
       ],
       "layout": "IPY_MODEL_8cfd8c520d37481bbec316778078e92e"
      }
     },
     "c19fa4cf5b69403c9e71103e3aac2c70": {
      "model_module": "jupyter-js-widgets",
      "model_module_version": "~2.1.4",
      "model_name": "OutputModel",
      "state": {
       "_dom_classes": [],
       "_model_module": "jupyter-js-widgets",
       "_model_module_version": "~2.1.4",
       "_view_module": "jupyter-js-widgets",
       "_view_module_version": "~2.1.4",
       "layout": "IPY_MODEL_d3890d6649054039b305cf37e2cddcb8",
       "msg_throttle": 1
      }
     },
     "c1d49fe2b78f4358ac220963729888fa": {
      "model_module": "jupyter-js-widgets",
      "model_module_version": "~2.1.4",
      "model_name": "LayoutModel",
      "state": {
       "_model_module_version": "~2.1.4",
       "_view_module_version": "~2.1.4"
      }
     },
     "c219a18c4d584815be51be56302b90b1": {
      "model_module": "jupyter-js-widgets",
      "model_module_version": "~2.1.4",
      "model_name": "LayoutModel",
      "state": {
       "_model_module_version": "~2.1.4",
       "_view_module_version": "~2.1.4",
       "width": "80%"
      }
     },
     "c4a0ce2b2bf74947b560d6312aef844d": {
      "model_module": "jupyter-js-widgets",
      "model_module_version": "~2.1.4",
      "model_name": "VBoxModel",
      "state": {
       "_dom_classes": [
        "widget-interact"
       ],
       "_model_module_version": "~2.1.4",
       "_view_module_version": "~2.1.4",
       "children": [
        "IPY_MODEL_f600a07028df4950a75ada1d31cdd061",
        "IPY_MODEL_efc00d6c52984de1b1764c77ad6c6a1e"
       ],
       "layout": "IPY_MODEL_cb83a3ee210947ada572ccea892516c5"
      }
     },
     "c5e3beebc582431cb4760ebe264aad1e": {
      "model_module": "jupyter-js-widgets",
      "model_module_version": "~2.1.4",
      "model_name": "VBoxModel",
      "state": {
       "_dom_classes": [
        "widget-interact"
       ],
       "_model_module_version": "~2.1.4",
       "_view_module_version": "~2.1.4",
       "children": [
        "IPY_MODEL_ed0280069192438ca8ae7d492c790cc0",
        "IPY_MODEL_8e09a8fce31d4cdaa81a17f1fd943edc"
       ],
       "layout": "IPY_MODEL_20549aa1098843d584c0276bf2f0726d"
      }
     },
     "c745107816414232a9ada67a847c8fd5": {
      "model_module": "jupyter-js-widgets",
      "model_module_version": "~2.1.4",
      "model_name": "SliderStyleModel",
      "state": {
       "_model_module_version": "~2.1.4",
       "_view_module_version": "~2.1.4"
      }
     },
     "c75f0e7bdaf64fd89c6e1043aa2441e8": {
      "model_module": "jupyter-js-widgets",
      "model_module_version": "~2.1.4",
      "model_name": "IntSliderModel",
      "state": {
       "_model_module_version": "~2.1.4",
       "_view_module_version": "~2.1.4",
       "continuous_update": false,
       "description": "num components:",
       "layout": "IPY_MODEL_4edc69fccbaf4ad4989911bcb1879192",
       "max": 29,
       "min": 1,
       "style": "IPY_MODEL_ebb42d2bf2944038971068c9a0113f3f",
       "value": 5
      }
     },
     "c79c1471dc02483ab9d56ad84cce6bcc": {
      "model_module": "jupyter-js-widgets",
      "model_module_version": "~2.1.4",
      "model_name": "LayoutModel",
      "state": {
       "_model_module_version": "~2.1.4",
       "_view_module_version": "~2.1.4"
      }
     },
     "c8baa6af5ea247eeb1a940ab6bb00674": {
      "model_module": "jupyter-js-widgets",
      "model_module_version": "~2.1.4",
      "model_name": "LayoutModel",
      "state": {
       "_model_module_version": "~2.1.4",
       "_view_module_version": "~2.1.4",
       "border": "solid",
       "padding": "10px"
      }
     },
     "c9c1e6d669dd40b1aa806fa45414a031": {
      "model_module": "jupyter-js-widgets",
      "model_module_version": "~2.1.4",
      "model_name": "LayoutModel",
      "state": {
       "_model_module_version": "~2.1.4",
       "_view_module_version": "~2.1.4",
       "width": "80%"
      }
     },
     "c9f64ab1eb354c7d9cb9a4c02c92afb4": {
      "model_module": "jupyter-js-widgets",
      "model_module_version": "~2.1.4",
      "model_name": "LayoutModel",
      "state": {
       "_model_module_version": "~2.1.4",
       "_view_module_version": "~2.1.4"
      }
     },
     "caa7908d930a41e8ac827910dcd6a525": {
      "model_module": "jupyter-js-widgets",
      "model_module_version": "~2.1.4",
      "model_name": "OutputModel",
      "state": {
       "_dom_classes": [],
       "_model_module": "jupyter-js-widgets",
       "_model_module_version": "~2.1.4",
       "_view_module": "jupyter-js-widgets",
       "_view_module_version": "~2.1.4",
       "layout": "IPY_MODEL_e70b24002df342d5996bc6796fe93145",
       "msg_throttle": 1
      }
     },
     "cb83a3ee210947ada572ccea892516c5": {
      "model_module": "jupyter-js-widgets",
      "model_module_version": "~2.1.4",
      "model_name": "LayoutModel",
      "state": {
       "_model_module_version": "~2.1.4",
       "_view_module_version": "~2.1.4"
      }
     },
     "cc7e1c484c7345479b9e91278b032e71": {
      "model_module": "jupyter-js-widgets",
      "model_module_version": "~2.1.4",
      "model_name": "FloatTextModel",
      "state": {
       "_model_module_version": "~2.1.4",
       "_view_module_version": "~2.1.4",
       "description": "Sampling Percentage:",
       "layout": "IPY_MODEL_086b373206cb4f468a4d560cb67b1280",
       "max": 1,
       "min": 0,
       "step": 0.1,
       "value": 0.0001
      }
     },
     "cce63b128155403cb0fe0d1f37475e0a": {
      "model_module": "jupyter-js-widgets",
      "model_module_version": "~2.1.4",
      "model_name": "LayoutModel",
      "state": {
       "_model_module_version": "~2.1.4",
       "_view_module_version": "~2.1.4"
      }
     },
     "cd5a4723f1b842e8beb194a69bfdfa69": {
      "model_module": "jupyter-js-widgets",
      "model_module_version": "~2.1.4",
      "model_name": "OutputModel",
      "state": {
       "_dom_classes": [],
       "_model_module": "jupyter-js-widgets",
       "_model_module_version": "~2.1.4",
       "_view_module": "jupyter-js-widgets",
       "_view_module_version": "~2.1.4",
       "layout": "IPY_MODEL_ebc6eb0034c34166ba7a2c8288d48f66",
       "msg_throttle": 1
      }
     },
     "ce043d0c4c074ddabc3a8549c04df04e": {
      "model_module": "jupyter-js-widgets",
      "model_module_version": "~2.1.4",
      "model_name": "IntSliderModel",
      "state": {
       "_model_module_version": "~2.1.4",
       "_view_module_version": "~2.1.4",
       "continuous_update": false,
       "description": "Hidden layer 0:",
       "layout": "IPY_MODEL_3a4aedaee1cf4d7588111352adae66f4",
       "min": 1,
       "style": "IPY_MODEL_3a12dcd942e84094ad09330c245fc036",
       "value": 20
      }
     },
     "cf5a9b98f09c4ebe86757d8853512cd2": {
      "model_module": "jupyter-js-widgets",
      "model_module_version": "~2.1.4",
      "model_name": "RadioButtonsModel",
      "state": {
       "_model_module_version": "~2.1.4",
       "_options_labels": [
        "Multilayer Perceptron",
        "Naive Bayes"
       ],
       "_view_module_version": "~2.1.4",
       "description": "Classifier:",
       "layout": "IPY_MODEL_1ce6d2b8a0b94b12b09ba558e2ec368f",
       "value": "Multilayer Perceptron"
      }
     },
     "d024367c63294851bd45c419282e55f6": {
      "model_module": "jupyter-js-widgets",
      "model_module_version": "~2.1.4",
      "model_name": "OutputModel",
      "state": {
       "_dom_classes": [],
       "_model_module": "jupyter-js-widgets",
       "_model_module_version": "~2.1.4",
       "_view_module": "jupyter-js-widgets",
       "_view_module_version": "~2.1.4",
       "layout": "IPY_MODEL_a8e7f2cb84d645efa97db36e3b4c57e4",
       "msg_throttle": 1
      }
     },
     "d1ccef7f54d94e3284458b176a06ff2c": {
      "model_module": "jupyter-js-widgets",
      "model_module_version": "~2.1.4",
      "model_name": "VBoxModel",
      "state": {
       "_dom_classes": [
        "widget-interact"
       ],
       "_model_module_version": "~2.1.4",
       "_view_module_version": "~2.1.4",
       "children": [
        "IPY_MODEL_f9df00643688437fa3a211a62d2697f6",
        "IPY_MODEL_5010a03d9b9f4a348dcaf6d9ae7d395a"
       ],
       "layout": "IPY_MODEL_dd028b9d784c4aa0b221f7963ae99f5c"
      }
     },
     "d252063442de4aed9958d90a8d1ee1d0": {
      "model_module": "jupyter-js-widgets",
      "model_module_version": "~2.1.4",
      "model_name": "OutputModel",
      "state": {
       "_dom_classes": [],
       "_model_module": "jupyter-js-widgets",
       "_model_module_version": "~2.1.4",
       "_view_module": "jupyter-js-widgets",
       "_view_module_version": "~2.1.4",
       "layout": "IPY_MODEL_23d1c0a466a4405790f9c137543174d1",
       "msg_throttle": 1
      }
     },
     "d3890d6649054039b305cf37e2cddcb8": {
      "model_module": "jupyter-js-widgets",
      "model_module_version": "~2.1.4",
      "model_name": "LayoutModel",
      "state": {
       "_model_module_version": "~2.1.4",
       "_view_module_version": "~2.1.4"
      }
     },
     "d53f5a913b684c70b68db7228da2374e": {
      "model_module": "jupyter-js-widgets",
      "model_module_version": "~2.1.4",
      "model_name": "VBoxModel",
      "state": {
       "_dom_classes": [
        "widget-interact"
       ],
       "_model_module_version": "~2.1.4",
       "_view_module_version": "~2.1.4",
       "children": [
        "IPY_MODEL_2d48dd206c4e4f7ca8efc147c899ed0f",
        "IPY_MODEL_bad8e733fd104b64ad0811b67e8a5778"
       ],
       "layout": "IPY_MODEL_89f82c6a7cf64d48ac9521ed3e7c4978"
      }
     },
     "d69bad7d61794087b0379527839582a9": {
      "model_module": "jupyter-js-widgets",
      "model_module_version": "~2.1.4",
      "model_name": "VBoxModel",
      "state": {
       "_model_module_version": "~2.1.4",
       "_view_module_version": "~2.1.4",
       "children": [
        "IPY_MODEL_1a9b618b88584422886e110b7b56f188",
        "IPY_MODEL_46ae79a2d3ac4028941a72080ee68dcb",
        "IPY_MODEL_3e4c2d00bdbf4e2dba3de18e44baa95f"
       ],
       "layout": "IPY_MODEL_2f23d6430cc541ce949f300199821442"
      }
     },
     "d7aa791c80af495487a6e379b163ad10": {
      "model_module": "jupyter-js-widgets",
      "model_module_version": "~2.1.4",
      "model_name": "OutputModel",
      "state": {
       "_dom_classes": [],
       "_model_module": "jupyter-js-widgets",
       "_model_module_version": "~2.1.4",
       "_view_module": "jupyter-js-widgets",
       "_view_module_version": "~2.1.4",
       "layout": "IPY_MODEL_560333883b48426c9b9b68023b58779c",
       "msg_throttle": 1
      }
     },
     "dac0c2a690474ea0bb40f8c1a0a578ee": {
      "model_module": "jupyter-js-widgets",
      "model_module_version": "~2.1.4",
      "model_name": "IntSliderModel",
      "state": {
       "_model_module_version": "~2.1.4",
       "_view_module_version": "~2.1.4",
       "continuous_update": false,
       "description": "Hidden layer 1:",
       "layout": "IPY_MODEL_54290dfd35da41ce80f60118049ab0a6",
       "min": 1,
       "style": "IPY_MODEL_6c4698178186415ea38d39add9d6137e",
       "value": 20
      }
     },
     "dcd2a060aef945d4b84d45b1fd355f0b": {
      "model_module": "jupyter-js-widgets",
      "model_module_version": "~2.1.4",
      "model_name": "LayoutModel",
      "state": {
       "_model_module_version": "~2.1.4",
       "_view_module_version": "~2.1.4"
      }
     },
     "dcdbf51373c049ebb5bf3b84b9d3d53e": {
      "model_module": "jupyter-js-widgets",
      "model_module_version": "~2.1.4",
      "model_name": "OutputModel",
      "state": {
       "_dom_classes": [],
       "_model_module": "jupyter-js-widgets",
       "_model_module_version": "~2.1.4",
       "_view_module": "jupyter-js-widgets",
       "_view_module_version": "~2.1.4",
       "layout": "IPY_MODEL_043d7a02e6414d78bfacc7328a5cff42",
       "msg_throttle": 1
      }
     },
     "dd028b9d784c4aa0b221f7963ae99f5c": {
      "model_module": "jupyter-js-widgets",
      "model_module_version": "~2.1.4",
      "model_name": "LayoutModel",
      "state": {
       "_model_module_version": "~2.1.4",
       "_view_module_version": "~2.1.4"
      }
     },
     "e2bc82fe30a14c5cac9f4f97a3da7cb3": {
      "model_module": "jupyter-js-widgets",
      "model_module_version": "~2.1.4",
      "model_name": "LayoutModel",
      "state": {
       "_model_module_version": "~2.1.4",
       "_view_module_version": "~2.1.4"
      }
     },
     "e57eba8b897048f6b0e91f2913361787": {
      "model_module": "jupyter-js-widgets",
      "model_module_version": "~2.1.4",
      "model_name": "LayoutModel",
      "state": {
       "_model_module_version": "~2.1.4",
       "_view_module_version": "~2.1.4"
      }
     },
     "e70b24002df342d5996bc6796fe93145": {
      "model_module": "jupyter-js-widgets",
      "model_module_version": "~2.1.4",
      "model_name": "LayoutModel",
      "state": {
       "_model_module_version": "~2.1.4",
       "_view_module_version": "~2.1.4"
      }
     },
     "e7aa2bf7e076487f9d774397796b5c42": {
      "model_module": "jupyter-js-widgets",
      "model_module_version": "~2.1.4",
      "model_name": "LayoutModel",
      "state": {
       "_model_module_version": "~2.1.4",
       "_view_module_version": "~2.1.4"
      }
     },
     "e90a9e9b6225464da7c9090329c543b0": {
      "model_module": "jupyter-js-widgets",
      "model_module_version": "~2.1.4",
      "model_name": "LayoutModel",
      "state": {
       "_model_module_version": "~2.1.4",
       "_view_module_version": "~2.1.4",
       "width": "80%"
      }
     },
     "ea3bbcb140be4f13b45f5b4f242edb9d": {
      "model_module": "jupyter-js-widgets",
      "model_module_version": "~2.1.4",
      "model_name": "VBoxModel",
      "state": {
       "_dom_classes": [
        "widget-interact"
       ],
       "_model_module_version": "~2.1.4",
       "_view_module_version": "~2.1.4",
       "children": [
        "IPY_MODEL_084122f075b24c509f55de5bf2c967e8",
        "IPY_MODEL_409186ba2f3f4cddb91a2b5b3775159d"
       ],
       "layout": "IPY_MODEL_0e59b7b46fc04dbd85129b62f70b2599"
      }
     },
     "ebb42d2bf2944038971068c9a0113f3f": {
      "model_module": "jupyter-js-widgets",
      "model_module_version": "~2.1.4",
      "model_name": "SliderStyleModel",
      "state": {
       "_model_module_version": "~2.1.4",
       "_view_module_version": "~2.1.4"
      }
     },
     "ebc6eb0034c34166ba7a2c8288d48f66": {
      "model_module": "jupyter-js-widgets",
      "model_module_version": "~2.1.4",
      "model_name": "LayoutModel",
      "state": {
       "_model_module_version": "~2.1.4",
       "_view_module_version": "~2.1.4"
      }
     },
     "ecaa5cf666244b77b73fa41de23527d7": {
      "model_module": "jupyter-js-widgets",
      "model_module_version": "~2.1.4",
      "model_name": "SliderStyleModel",
      "state": {
       "_model_module_version": "~2.1.4",
       "_view_module_version": "~2.1.4"
      }
     },
     "ed0280069192438ca8ae7d492c790cc0": {
      "model_module": "jupyter-js-widgets",
      "model_module_version": "~2.1.4",
      "model_name": "IntSliderModel",
      "state": {
       "_model_module_version": "~2.1.4",
       "_view_module_version": "~2.1.4",
       "continuous_update": false,
       "description": "Hidden layer 0:",
       "layout": "IPY_MODEL_b337937536f147858679b1d02fde8ee6",
       "min": 1,
       "style": "IPY_MODEL_44d88f37f71c4d78bbd6aa303086f9c1",
       "value": 20
      }
     },
     "ee99e04807c34148ab4a2bfb6791f677": {
      "model_module": "jupyter-js-widgets",
      "model_module_version": "~2.1.4",
      "model_name": "LayoutModel",
      "state": {
       "_model_module_version": "~2.1.4",
       "_view_module_version": "~2.1.4"
      }
     },
     "efc00d6c52984de1b1764c77ad6c6a1e": {
      "model_module": "jupyter-js-widgets",
      "model_module_version": "~2.1.4",
      "model_name": "OutputModel",
      "state": {
       "_dom_classes": [],
       "_model_module": "jupyter-js-widgets",
       "_model_module_version": "~2.1.4",
       "_view_module": "jupyter-js-widgets",
       "_view_module_version": "~2.1.4",
       "layout": "IPY_MODEL_e7aa2bf7e076487f9d774397796b5c42",
       "msg_throttle": 1
      }
     },
     "f0ce3d58127a4ee69ce17298e0e36907": {
      "model_module": "jupyter-js-widgets",
      "model_module_version": "~2.1.4",
      "model_name": "SliderStyleModel",
      "state": {
       "_model_module_version": "~2.1.4",
       "_view_module_version": "~2.1.4"
      }
     },
     "f2743e70daa44c76b04587dddab5ebf8": {
      "model_module": "jupyter-js-widgets",
      "model_module_version": "~2.1.4",
      "model_name": "LayoutModel",
      "state": {
       "_model_module_version": "~2.1.4",
       "_view_module_version": "~2.1.4",
       "width": "80%"
      }
     },
     "f2a7307ac29c475493c3b71b4081d471": {
      "model_module": "jupyter-js-widgets",
      "model_module_version": "~2.1.4",
      "model_name": "SliderStyleModel",
      "state": {
       "_model_module_version": "~2.1.4",
       "_view_module_version": "~2.1.4"
      }
     },
     "f3112d6e70e542a793e220498681c2d1": {
      "model_module": "jupyter-js-widgets",
      "model_module_version": "~2.1.4",
      "model_name": "OutputModel",
      "state": {
       "_dom_classes": [],
       "_model_module": "jupyter-js-widgets",
       "_model_module_version": "~2.1.4",
       "_view_module": "jupyter-js-widgets",
       "_view_module_version": "~2.1.4",
       "layout": "IPY_MODEL_55c75557ef294aeab77b101a6b97a5c5",
       "msg_throttle": 1
      }
     },
     "f600a07028df4950a75ada1d31cdd061": {
      "model_module": "jupyter-js-widgets",
      "model_module_version": "~2.1.4",
      "model_name": "IntSliderModel",
      "state": {
       "_model_module_version": "~2.1.4",
       "_view_module_version": "~2.1.4",
       "continuous_update": false,
       "description": "max iterations:",
       "layout": "IPY_MODEL_a4379a1f9bc94101b91cc319fc8d04bc",
       "max": 500,
       "min": 1,
       "style": "IPY_MODEL_899d096fc5ac401ba5566d2b3b965d20",
       "value": 30
      }
     },
     "f6740be74de34d298c37da81045a3c44": {
      "model_module": "jupyter-js-widgets",
      "model_module_version": "~2.1.4",
      "model_name": "SliderStyleModel",
      "state": {
       "_model_module_version": "~2.1.4",
       "_view_module_version": "~2.1.4"
      }
     },
     "f7e061ce4556480d8173479c76a79cd9": {
      "model_module": "jupyter-js-widgets",
      "model_module_version": "~2.1.4",
      "model_name": "LayoutModel",
      "state": {
       "_model_module_version": "~2.1.4",
       "_view_module_version": "~2.1.4"
      }
     },
     "f8b5cb5f432b4caa80aa23d11b2dec28": {
      "model_module": "jupyter-js-widgets",
      "model_module_version": "~2.1.4",
      "model_name": "ButtonStyleModel",
      "state": {
       "_model_module_version": "~2.1.4",
       "_view_module_version": "~2.1.4"
      }
     },
     "f98ee1de3cb545dcb316c9695b4d86ee": {
      "model_module": "jupyter-js-widgets",
      "model_module_version": "~2.1.4",
      "model_name": "LayoutModel",
      "state": {
       "_model_module_version": "~2.1.4",
       "_view_module_version": "~2.1.4",
       "width": "80%"
      }
     },
     "f9df00643688437fa3a211a62d2697f6": {
      "model_module": "jupyter-js-widgets",
      "model_module_version": "~2.1.4",
      "model_name": "IntSliderModel",
      "state": {
       "_model_module_version": "~2.1.4",
       "_view_module_version": "~2.1.4",
       "continuous_update": false,
       "description": "num hidden layers:",
       "layout": "IPY_MODEL_55f5d4daa864466f9255326e1bc453e2",
       "max": 10,
       "min": 1,
       "style": "IPY_MODEL_1893e7b1551f4ee0ba6732f2ecafadc5",
       "value": 2
      }
     },
     "fb14bf7aa0364e2db56c11dd6ae6de43": {
      "model_module": "jupyter-js-widgets",
      "model_module_version": "~2.1.4",
      "model_name": "IntSliderModel",
      "state": {
       "_model_module_version": "~2.1.4",
       "_view_module_version": "~2.1.4",
       "continuous_update": false,
       "description": "max iterations:",
       "layout": "IPY_MODEL_2fcba712272842029ec86f1500a1e6d5",
       "max": 500,
       "min": 1,
       "style": "IPY_MODEL_2bc041492b414a489f10a60799d26092",
       "value": 30
      }
     },
     "fba710b596464be892f65faa51627951": {
      "model_module": "jupyter-js-widgets",
      "model_module_version": "~2.1.4",
      "model_name": "IntSliderModel",
      "state": {
       "_model_module_version": "~2.1.4",
       "_view_module_version": "~2.1.4",
       "continuous_update": false,
       "description": "Hidden layer 1:",
       "layout": "IPY_MODEL_6c1ec8e2ad624b6d84e24188db2f9013",
       "min": 1,
       "style": "IPY_MODEL_f2a7307ac29c475493c3b71b4081d471",
       "value": 20
      }
     },
     "fbe8394b681741c2a4cb2c8879a6c8fe": {
      "model_module": "jupyter-js-widgets",
      "model_module_version": "~2.1.4",
      "model_name": "VBoxModel",
      "state": {
       "_model_module_version": "~2.1.4",
       "_view_module_version": "~2.1.4",
       "children": [
        "IPY_MODEL_3cd0ce5af0454a3bb5c19022657e44b5",
        "IPY_MODEL_c5e3beebc582431cb4760ebe264aad1e",
        "IPY_MODEL_775a41de2e3b4f948a158ef2789848bc"
       ],
       "layout": "IPY_MODEL_87b99192a3474f74a81fdf5b79f3e2c3"
      }
     },
     "fd933ae64fb0466bb2375cfd660d3c72": {
      "model_module": "jupyter-js-widgets",
      "model_module_version": "~2.1.4",
      "model_name": "VBoxModel",
      "state": {
       "_dom_classes": [
        "widget-interact"
       ],
       "_model_module_version": "~2.1.4",
       "_view_module_version": "~2.1.4",
       "children": [
        "IPY_MODEL_a34201f4e28f4b6a9ce61a5aef70a7ab",
        "IPY_MODEL_69690fb31d8b4edb983df91a4deb7383"
       ],
       "layout": "IPY_MODEL_f7e061ce4556480d8173479c76a79cd9"
      }
     },
     "fe73d91875604abf934ba15462897a2a": {
      "model_module": "jupyter-js-widgets",
      "model_module_version": "~2.1.4",
      "model_name": "IntSliderModel",
      "state": {
       "_model_module_version": "~2.1.4",
       "_view_module_version": "~2.1.4",
       "continuous_update": false,
       "description": "Hidden layer 1:",
       "layout": "IPY_MODEL_52c7077af43349849e0cb63ec06b5233",
       "min": 1,
       "style": "IPY_MODEL_012ea2d680604e8b847d5db4aca82a2c",
       "value": 20
      }
     }
    },
    "version_major": 1,
    "version_minor": 0
   }
  }
 },
 "nbformat": 4,
 "nbformat_minor": 2
}
