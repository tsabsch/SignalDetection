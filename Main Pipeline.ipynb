{
 "cells": [
  {
   "cell_type": "markdown",
   "metadata": {},
   "source": [
    "# Project Pipeline\n",
    "Execute the cells step by step to obtain a prediction and score for your configuration.\n",
    "In order to make the widgets work you might need to execute \n",
    "```\n",
    "jupyter nbextension enable --py --sys-prefix widgetsnbextension\n",
    "```\n",
    "on your system.\n",
    "\n",
    "## 1. Imports"
   ]
  },
  {
   "cell_type": "code",
   "execution_count": 1,
   "metadata": {
    "collapsed": true
   },
   "outputs": [],
   "source": [
    "import numpy as np\n",
    "import time\n",
    "\n",
    "from sklearn.naive_bayes import GaussianNB\n",
    "from sklearn.metrics import confusion_matrix\n",
    "import sklearn.preprocessing as skprep\n",
    "\n",
    "import data_utils\n",
    "import widget_ui as ui"
   ]
  },
  {
   "cell_type": "markdown",
   "metadata": {},
   "source": [
    "## 2. Prepare Data Sets\n",
    "### 2.1 Load Data\n",
    "Load training and test data. Furthermore, create a sample set for quickly calculating transformations such as PCA."
   ]
  },
  {
   "cell_type": "code",
   "execution_count": 2,
   "metadata": {
    "collapsed": true
   },
   "outputs": [],
   "source": [
    "all_data = data_utils.load_from('data/all_train.csv', 'data/all_test.csv')\n",
    "sample_data = data_utils.load_sample_data('data/all_sample.csv')"
   ]
  },
  {
   "cell_type": "markdown",
   "metadata": {},
   "source": [
    "### 2.2 Subsample Data\n",
    "Sample the specified rate from the whole data set for test and training individually to reduce the data set size for the following steps."
   ]
  },
  {
   "cell_type": "code",
   "execution_count": 3,
   "metadata": {},
   "outputs": [
    {
     "data": {
      "application/vnd.jupyter.widget-view+json": {
       "model_id": "3b410f3872fa4e57ae2a7a3254a469b4"
      }
     },
     "metadata": {},
     "output_type": "display_data"
    }
   ],
   "source": [
    "data = data_utils.DataSet()\n",
    "ui.subsampling_ui(all_data, data)"
   ]
  },
  {
   "cell_type": "markdown",
   "metadata": {},
   "source": [
    "## 3. Preprocessing: PCA\n",
    "Compute PCA on the sample data set."
   ]
  },
  {
   "cell_type": "code",
   "execution_count": 4,
   "metadata": {},
   "outputs": [
    {
     "data": {
      "application/vnd.jupyter.widget-view+json": {
       "model_id": "d524e3c0012d409b90d9ee7dde8db09b"
      }
     },
     "metadata": {},
     "output_type": "display_data"
    }
   ],
   "source": [
    "init_pca = ui.pca_ui(sample_data)"
   ]
  },
  {
   "cell_type": "markdown",
   "metadata": {},
   "source": [
    "## 4. Configure Classifiers\n",
    "### 4.1 Multilayer Perceptron"
   ]
  },
  {
   "cell_type": "code",
   "execution_count": 5,
   "metadata": {},
   "outputs": [
    {
     "data": {
      "application/vnd.jupyter.widget-view+json": {
       "model_id": "188da23e59404c20bed075aed0ad48e3"
      }
     },
     "metadata": {},
     "output_type": "display_data"
    },
    {
     "data": {
      "application/vnd.jupyter.widget-view+json": {
       "model_id": "6e4d1e602ffc49c58bc1fb3e1709d83f"
      }
     },
     "metadata": {},
     "output_type": "display_data"
    }
   ],
   "source": [
    "init_mlp = ui.mlp_ui()"
   ]
  },
  {
   "cell_type": "markdown",
   "metadata": {},
   "source": [
    "### 4.2 Naive Bayes"
   ]
  },
  {
   "cell_type": "code",
   "execution_count": 6,
   "metadata": {},
   "outputs": [],
   "source": [
    "init_nb = ui.nb_ui()"
   ]
  },
  {
   "cell_type": "markdown",
   "metadata": {},
   "source": [
    "## 5. Training"
   ]
  },
  {
   "cell_type": "code",
   "execution_count": 7,
   "metadata": {},
   "outputs": [
    {
     "data": {
      "application/vnd.jupyter.widget-view+json": {
       "model_id": "3a9b28291a494e51bd62ff6b9966ae8c"
      }
     },
     "metadata": {},
     "output_type": "display_data"
    },
    {
     "data": {
      "application/vnd.jupyter.widget-view+json": {
       "model_id": "4c79654069c34ef491f2b316fd31a053"
      }
     },
     "metadata": {},
     "output_type": "display_data"
    },
    {
     "data": {
      "application/vnd.jupyter.widget-view+json": {
       "model_id": "f934a8dcec3a41c0ae19613f2a5ce462"
      }
     },
     "metadata": {},
     "output_type": "display_data"
    },
    {
     "data": {
      "application/vnd.jupyter.widget-view+json": {
       "model_id": "16bd79c7ee1c4aa2848e4afc21f53ba4"
      }
     },
     "metadata": {},
     "output_type": "display_data"
    },
    {
     "data": {
      "application/vnd.jupyter.widget-view+json": {
       "model_id": "22e61627602943dfbb48a0ea791218e2"
      }
     },
     "metadata": {},
     "output_type": "display_data"
    },
    {
     "data": {
      "application/vnd.jupyter.widget-view+json": {
       "model_id": "5140f61d7ecc4278be3de4aa7126abd3"
      }
     },
     "metadata": {},
     "output_type": "display_data"
    }
   ],
   "source": [
    "window_size = 500\n",
    "window_reps = 10\n",
    "init_classifier = None\n",
    "classifier = None\n",
    "\n",
    "##########################################\n",
    "\n",
    "use_sample_data = Checkbox(\n",
    "    value=False,\n",
    "    description='Use fast sample data'\n",
    ")\n",
    "display(use_sample_data)\n",
    "\n",
    "pca_checkbox = Checkbox(\n",
    "    value=False,\n",
    "    description='Apply PCA'\n",
    ")\n",
    "display(pca_checkbox)\n",
    "\n",
    "def set_window_size(s):\n",
    "    global window_size\n",
    "    window_size = s\n",
    "\n",
    "window_size_slider = IntSlider(\n",
    "    value=500,\n",
    "    min=100,\n",
    "    max=1000,\n",
    "    step=100,\n",
    "    description='window size:',\n",
    "    continuous_update=False,\n",
    "    layout=Layout(width='80%')\n",
    ")\n",
    "i = interact(set_window_size, s=window_size_slider)\n",
    "\n",
    "def set_window_reps(r):\n",
    "    global window_reps\n",
    "    window_reps = r\n",
    "\n",
    "window_reps_slider = IntSlider(\n",
    "    value=10,\n",
    "    min=1,\n",
    "    max=100,\n",
    "    step=1,\n",
    "    description='window reps:',\n",
    "    continuous_update=False,\n",
    "    layout=Layout(width='80%')\n",
    ")\n",
    "i = interact(set_window_reps, r=window_reps_slider)\n",
    "\n",
    "def set_classifier(c):\n",
    "    global init_classifier\n",
    "    if c == 'Multilayer Perceptron':\n",
    "        init_classifier = init_mlp\n",
    "    else:\n",
    "        init_classifier = init_nb\n",
    "\n",
    "classifier_rb = RadioButtons(\n",
    "    options=['Multilayer Perceptron', 'Naive Bayes'],\n",
    "    description='Classifier:'\n",
    ")\n",
    "interact(set_classifier, c=classifier_rb)\n",
    "\n",
    "def train_on_window(window):\n",
    "    labels = window[:, 0]\n",
    "    features = window[:, 1:29]\n",
    "    \n",
    "    # Optionally apply PCA\n",
    "    if pca_checkbox.value:\n",
    "        features = init_pca().transform(features)\n",
    "    \n",
    "    # Train classifier\n",
    "    classifier.fit(features, labels)\n",
    "\n",
    "def perform_training(*args):\n",
    "    # Initialize classifier\n",
    "    global classifier\n",
    "    classifier = init_classifier()\n",
    "    \n",
    "    print('Training {}'.format(classifier))\n",
    "    start_time = time.time()\n",
    "    \n",
    "    if not use_sample_data.value:\n",
    "        iterator = train_data.iterrows()\n",
    "        progress_max = ntrain\n",
    "    else:\n",
    "        iterator = sample_data.iterrows()\n",
    "        progress_max = nsample\n",
    "    window = np.zeros((0,29))\n",
    "    \n",
    "    progress = IntProgress(\n",
    "        min=0,\n",
    "        max=progress_max,\n",
    "        step=1,\n",
    "        description='Training:',\n",
    "        bar_style='danger'\n",
    "    )\n",
    "    display(progress)\n",
    "    \n",
    "    for idx, row in enumerate(iterator):\n",
    "        window = np.append(window, [row[1]], axis=0)\n",
    "        if window.shape[0] == window_size:\n",
    "            train_on_window(window)\n",
    "            window = np.zeros((0,29))\n",
    "            progress.value = idx\n",
    "    if len(window) > 0:\n",
    "        train_on_window(window)\n",
    "        progress.value = progress_max\n",
    "\n",
    "    print('Time taken: {}'.format(time.time() - start_time))\n",
    "\n",
    "start_training = Button(\n",
    "    description='Start training',\n",
    "    button_style='danger'\n",
    ")\n",
    "display(start_training)\n",
    "start_training.on_click(perform_training)"
   ]
  },
  {
   "cell_type": "markdown",
   "metadata": {},
   "source": [
    "## 6. Prediction"
   ]
  },
  {
   "cell_type": "code",
   "execution_count": 8,
   "metadata": {},
   "outputs": [
    {
     "data": {
      "application/vnd.jupyter.widget-view+json": {
       "model_id": "fc2dc0fd183848e09764b56ed7e21a98"
      }
     },
     "metadata": {},
     "output_type": "display_data"
    }
   ],
   "source": [
    "def predict_on_window(window):\n",
    "    features = window[:, 1:29]\n",
    "    \n",
    "    # Optionally apply PCA\n",
    "    if pca_checkbox.value:\n",
    "        features = init_pca().transform(features)\n",
    "    \n",
    "    # predict\n",
    "    prediction = classifier.predict(features)\n",
    "    return prediction\n",
    "\n",
    "def predict(*args):\n",
    "    print('Predict with {}'.format(classifier))\n",
    "    \n",
    "    if not use_sample_data.value:\n",
    "        iterator = test_data.iterrows()\n",
    "        progress_max = ntest\n",
    "    else:\n",
    "        iterator = sample_data.iterrows()\n",
    "        progress_max = nsample\n",
    "    window = np.zeros((0,29))\n",
    "    conf_mat = np.zeros((2, 2))\n",
    "    \n",
    "    progress = IntProgress(\n",
    "        min=0,\n",
    "        max=progress_max,\n",
    "        step=1,\n",
    "        description='Predicting:',\n",
    "        bar_style='info'\n",
    "    )\n",
    "    display(progress)\n",
    "    \n",
    "    for idx, row in enumerate(iterator):\n",
    "        window = np.append(window, [row[1]], axis=0)\n",
    "        if window.shape[0] == window_size:\n",
    "            prediction = predict_on_window(window)\n",
    "            conf_mat += confusion_matrix(window[:,0], prediction)\n",
    "            window = np.zeros((0,29))\n",
    "            progress.value = idx\n",
    "    if len(window) > 0:\n",
    "        prediction = predict_on_window(window)\n",
    "        conf_mat += confusion_matrix(window[:,0], prediction)\n",
    "        progress.value = progress_max\n",
    "\n",
    "    print(conf_mat)\n",
    "\n",
    "start_prediction = Button(\n",
    "    description='Start prediction',\n",
    "    button_style='info'\n",
    ")\n",
    "display(start_prediction)\n",
    "start_prediction.on_click(predict)"
   ]
  },
  {
   "cell_type": "code",
   "execution_count": null,
   "metadata": {
    "collapsed": true
   },
   "outputs": [],
   "source": []
  }
 ],
 "metadata": {
  "kernelspec": {
   "display_name": "Python 3",
   "language": "python",
   "name": "python3"
  },
  "language_info": {
   "codemirror_mode": {
    "name": "ipython",
    "version": 3
   },
   "file_extension": ".py",
   "mimetype": "text/x-python",
   "name": "python",
   "nbconvert_exporter": "python",
   "pygments_lexer": "ipython3",
   "version": "3.5.2"
  },
  "widgets": {
   "application/vnd.jupyter.widget-state+json": {
    "state": {
     "008d3eb13c1a4892aab119af0423089a": {
      "model_module": "jupyter-js-widgets",
      "model_module_version": "~2.1.4",
      "model_name": "LayoutModel",
      "state": {
       "_model_module_version": "~2.1.4",
       "_view_module_version": "~2.1.4"
      }
     },
     "01f7202d4f5646c2a042deec13ed909e": {
      "model_module": "jupyter-js-widgets",
      "model_module_version": "~2.1.4",
      "model_name": "SliderStyleModel",
      "state": {
       "_model_module_version": "~2.1.4",
       "_view_module_version": "~2.1.4"
      }
     },
     "0584f052646141adb1f3cd32a6cd52fd": {
      "model_module": "jupyter-js-widgets",
      "model_module_version": "~2.1.4",
      "model_name": "SliderStyleModel",
      "state": {
       "_model_module_version": "~2.1.4",
       "_view_module_version": "~2.1.4"
      }
     },
     "07d9edfaaf3e4e3999cad745b516f9f2": {
      "model_module": "jupyter-js-widgets",
      "model_module_version": "~2.1.4",
      "model_name": "OutputModel",
      "state": {
       "_dom_classes": [],
       "_model_module": "jupyter-js-widgets",
       "_model_module_version": "~2.1.4",
       "_view_module": "jupyter-js-widgets",
       "_view_module_version": "~2.1.4",
       "layout": "IPY_MODEL_1df2a61ef203441baee565916227457c",
       "msg_throttle": 1
      }
     },
     "09164e1e282144ac8d2016661aec8b01": {
      "model_module": "jupyter-js-widgets",
      "model_module_version": "~2.1.4",
      "model_name": "LayoutModel",
      "state": {
       "_model_module_version": "~2.1.4",
       "_view_module_version": "~2.1.4"
      }
     },
     "0b5f1052da46400f965f693942b880fa": {
      "model_module": "jupyter-js-widgets",
      "model_module_version": "~2.1.4",
      "model_name": "IntSliderModel",
      "state": {
       "_model_module_version": "~2.1.4",
       "_view_module_version": "~2.1.4",
       "continuous_update": false,
       "description": "window size:",
       "layout": "IPY_MODEL_cadece64601a4fbc98193fd516995e2f",
       "max": 1000,
       "min": 100,
       "step": 100,
       "style": "IPY_MODEL_30dd87e64f7d45c292a81644812cd7f1",
       "value": 300
      }
     },
     "118d2cd5b41448a7b83e8618067b80e5": {
      "model_module": "jupyter-js-widgets",
      "model_module_version": "~2.1.4",
      "model_name": "LayoutModel",
      "state": {
       "_model_module_version": "~2.1.4",
       "_view_module_version": "~2.1.4",
       "width": "80%"
      }
     },
     "136aa591ed314a92ab207f66367500aa": {
      "model_module": "jupyter-js-widgets",
      "model_module_version": "~2.1.4",
      "model_name": "OutputModel",
      "state": {
       "_dom_classes": [],
       "_model_module": "jupyter-js-widgets",
       "_model_module_version": "~2.1.4",
       "_view_module": "jupyter-js-widgets",
       "_view_module_version": "~2.1.4",
       "layout": "IPY_MODEL_09164e1e282144ac8d2016661aec8b01",
       "msg_throttle": 1
      }
     },
     "14c593ddc89942eaa44eaa258c501832": {
      "model_module": "jupyter-js-widgets",
      "model_module_version": "~2.1.4",
      "model_name": "LayoutModel",
      "state": {
       "_model_module_version": "~2.1.4",
       "_view_module_version": "~2.1.4",
       "width": "80%"
      }
     },
     "152f776f22f94a2dabed72ccb12526ca": {
      "model_module": "jupyter-js-widgets",
      "model_module_version": "~2.1.4",
      "model_name": "LabelModel",
      "state": {
       "_model_module_version": "~2.1.4",
       "_view_module_version": "~2.1.4",
       "layout": "IPY_MODEL_c08a9bdcc7a448cabcbea6b49ad0c3e1",
       "value": "Hidden layer sizes:"
      }
     },
     "1df2a61ef203441baee565916227457c": {
      "model_module": "jupyter-js-widgets",
      "model_module_version": "~2.1.4",
      "model_name": "LayoutModel",
      "state": {
       "_model_module_version": "~2.1.4",
       "_view_module_version": "~2.1.4"
      }
     },
     "1eba1b70d35246598348590bc6db1817": {
      "model_module": "jupyter-js-widgets",
      "model_module_version": "~2.1.4",
      "model_name": "OutputModel",
      "state": {
       "_dom_classes": [],
       "_model_module": "jupyter-js-widgets",
       "_model_module_version": "~2.1.4",
       "_view_module": "jupyter-js-widgets",
       "_view_module_version": "~2.1.4",
       "layout": "IPY_MODEL_65af778b0c1c4702833258696a065db4",
       "msg_throttle": 1
      }
     },
     "20041053b47846bf9302cc5e4d4f921c": {
      "model_module": "jupyter-js-widgets",
      "model_module_version": "~2.1.4",
      "model_name": "IntSliderModel",
      "state": {
       "_model_module_version": "~2.1.4",
       "_view_module_version": "~2.1.4",
       "continuous_update": false,
       "description": "Hidden layer 1:",
       "layout": "IPY_MODEL_bfb655bf090c424a9410f061f31f5705",
       "min": 1,
       "style": "IPY_MODEL_3127cc6152cb46a68b58c90c06fa749a",
       "value": 20
      }
     },
     "2125bab985ca4e10955fc0ae4c7a7d6b": {
      "model_module": "jupyter-js-widgets",
      "model_module_version": "~2.1.4",
      "model_name": "LayoutModel",
      "state": {
       "_model_module_version": "~2.1.4",
       "_view_module_version": "~2.1.4"
      }
     },
     "2154cc7876654d8b8c5fd05e4c42cc30": {
      "model_module": "jupyter-js-widgets",
      "model_module_version": "~2.1.4",
      "model_name": "LayoutModel",
      "state": {
       "_model_module_version": "~2.1.4",
       "_view_module_version": "~2.1.4"
      }
     },
     "2209d51b8b524b97a05cbd042d4e204e": {
      "model_module": "jupyter-js-widgets",
      "model_module_version": "~2.1.4",
      "model_name": "LayoutModel",
      "state": {
       "_model_module_version": "~2.1.4",
       "_view_module_version": "~2.1.4",
       "width": "80%"
      }
     },
     "23e3b7e569bf46b1a6f1ec39d73742ed": {
      "model_module": "jupyter-js-widgets",
      "model_module_version": "~2.1.4",
      "model_name": "OutputModel",
      "state": {
       "_dom_classes": [],
       "_model_module": "jupyter-js-widgets",
       "_model_module_version": "~2.1.4",
       "_view_module": "jupyter-js-widgets",
       "_view_module_version": "~2.1.4",
       "layout": "IPY_MODEL_6cb5fae7a08a4d29b40d480d884c4b8e",
       "msg_throttle": 1
      }
     },
     "2a5d3651c2e24bf18a67b9b381c18a98": {
      "model_module": "jupyter-js-widgets",
      "model_module_version": "~2.1.4",
      "model_name": "LayoutModel",
      "state": {
       "_model_module_version": "~2.1.4",
       "_view_module_version": "~2.1.4",
       "border": "solid",
       "padding": "10px"
      }
     },
     "2bfc5b79f11c4f8498017335d1788a99": {
      "model_module": "jupyter-js-widgets",
      "model_module_version": "~2.1.4",
      "model_name": "LayoutModel",
      "state": {
       "_model_module_version": "~2.1.4",
       "_view_module_version": "~2.1.4"
      }
     },
     "2dab1e2e660744b29078634a2d2fe519": {
      "model_module": "jupyter-js-widgets",
      "model_module_version": "~2.1.4",
      "model_name": "LayoutModel",
      "state": {
       "_model_module_version": "~2.1.4",
       "_view_module_version": "~2.1.4",
       "border": "solid",
       "padding": "10px"
      }
     },
     "2eab1dfae6c245d7876b52fd9228191b": {
      "model_module": "jupyter-js-widgets",
      "model_module_version": "~2.1.4",
      "model_name": "ButtonModel",
      "state": {
       "_model_module_version": "~2.1.4",
       "_view_module_version": "~2.1.4",
       "button_style": "info",
       "description": "Start prediction",
       "layout": "IPY_MODEL_6360ce05684a49c39fae2e64058327a3",
       "style": "IPY_MODEL_4c05e860129a4241a7e4cdaed7c02b14"
      }
     },
     "30dd87e64f7d45c292a81644812cd7f1": {
      "model_module": "jupyter-js-widgets",
      "model_module_version": "~2.1.4",
      "model_name": "SliderStyleModel",
      "state": {
       "_model_module_version": "~2.1.4",
       "_view_module_version": "~2.1.4"
      }
     },
     "3127cc6152cb46a68b58c90c06fa749a": {
      "model_module": "jupyter-js-widgets",
      "model_module_version": "~2.1.4",
      "model_name": "SliderStyleModel",
      "state": {
       "_model_module_version": "~2.1.4",
       "_view_module_version": "~2.1.4"
      }
     },
     "3875ac72440f43bc9c52a8102d6aa5f2": {
      "model_module": "jupyter-js-widgets",
      "model_module_version": "~2.1.4",
      "model_name": "LayoutModel",
      "state": {
       "_model_module_version": "~2.1.4",
       "_view_module_version": "~2.1.4"
      }
     },
     "3b637d3477914dc1b6d4d0e81985ce8f": {
      "model_module": "jupyter-js-widgets",
      "model_module_version": "~2.1.4",
      "model_name": "IntSliderModel",
      "state": {
       "_model_module_version": "~2.1.4",
       "_view_module_version": "~2.1.4",
       "continuous_update": false,
       "description": "max iterations:",
       "layout": "IPY_MODEL_581cc2f8549b4c2ba7c154057bcbac85",
       "max": 500,
       "min": 10,
       "step": 10,
       "style": "IPY_MODEL_01f7202d4f5646c2a042deec13ed909e",
       "value": 110
      }
     },
     "3ea50f2dc3554a0a819d8db10d43a7a2": {
      "model_module": "jupyter-js-widgets",
      "model_module_version": "~2.1.4",
      "model_name": "LayoutModel",
      "state": {
       "_model_module_version": "~2.1.4",
       "_view_module_version": "~2.1.4"
      }
     },
     "4010fa9a7f134c92a7f4bab268594f2d": {
      "model_module": "jupyter-js-widgets",
      "model_module_version": "~2.1.4",
      "model_name": "LayoutModel",
      "state": {
       "_model_module_version": "~2.1.4",
       "_view_module_version": "~2.1.4"
      }
     },
     "40fda52de0244b388c0a3ff29be421a6": {
      "model_module": "jupyter-js-widgets",
      "model_module_version": "~2.1.4",
      "model_name": "OutputModel",
      "state": {
       "_dom_classes": [],
       "_model_module": "jupyter-js-widgets",
       "_model_module_version": "~2.1.4",
       "_view_module": "jupyter-js-widgets",
       "_view_module_version": "~2.1.4",
       "layout": "IPY_MODEL_2bfc5b79f11c4f8498017335d1788a99",
       "msg_throttle": 1
      }
     },
     "41549f3a93a34d9e917036fd5982ceb7": {
      "model_module": "jupyter-js-widgets",
      "model_module_version": "~2.1.4",
      "model_name": "LayoutModel",
      "state": {
       "_model_module_version": "~2.1.4",
       "_view_module_version": "~2.1.4",
       "width": "80%"
      }
     },
     "438b09810cd94d59bc390eaecd9c4f5d": {
      "model_module": "jupyter-js-widgets",
      "model_module_version": "~2.1.4",
      "model_name": "SliderStyleModel",
      "state": {
       "_model_module_version": "~2.1.4",
       "_view_module_version": "~2.1.4"
      }
     },
     "48fece70ebe640daac4d3c9d6372b07c": {
      "model_module": "jupyter-js-widgets",
      "model_module_version": "~2.1.4",
      "model_name": "VBoxModel",
      "state": {
       "_dom_classes": [
        "widget-interact"
       ],
       "_model_module_version": "~2.1.4",
       "_view_module_version": "~2.1.4",
       "children": [
        "IPY_MODEL_6bd80b98e0214c7eaafb86bc285d4e3b",
        "IPY_MODEL_cb919a02ff2f46db9d77817ad47d8bb6"
       ],
       "layout": "IPY_MODEL_4fc678c4502744fbb7886fbee7573fdb"
      }
     },
     "49eb0085115b4dc497b6f99a53a01dcf": {
      "model_module": "jupyter-js-widgets",
      "model_module_version": "~2.1.4",
      "model_name": "LayoutModel",
      "state": {
       "_model_module_version": "~2.1.4",
       "_view_module_version": "~2.1.4"
      }
     },
     "4a55d2bafa774e00bf658984c871e52a": {
      "model_module": "jupyter-js-widgets",
      "model_module_version": "~2.1.4",
      "model_name": "LayoutModel",
      "state": {
       "_model_module_version": "~2.1.4",
       "_view_module_version": "~2.1.4"
      }
     },
     "4c05e860129a4241a7e4cdaed7c02b14": {
      "model_module": "jupyter-js-widgets",
      "model_module_version": "~2.1.4",
      "model_name": "ButtonStyleModel",
      "state": {
       "_model_module_version": "~2.1.4",
       "_view_module_version": "~2.1.4"
      }
     },
     "4cc3f02fc5734ef2a17acc717ac61e69": {
      "model_module": "jupyter-js-widgets",
      "model_module_version": "~2.1.4",
      "model_name": "LayoutModel",
      "state": {
       "_model_module_version": "~2.1.4",
       "_view_module_version": "~2.1.4",
       "width": "100%"
      }
     },
     "4fc678c4502744fbb7886fbee7573fdb": {
      "model_module": "jupyter-js-widgets",
      "model_module_version": "~2.1.4",
      "model_name": "LayoutModel",
      "state": {
       "_model_module_version": "~2.1.4",
       "_view_module_version": "~2.1.4"
      }
     },
     "53100e09e920400d9267177d829217b0": {
      "model_module": "jupyter-js-widgets",
      "model_module_version": "~2.1.4",
      "model_name": "RadioButtonsModel",
      "state": {
       "_model_module_version": "~2.1.4",
       "_options_labels": [
        "Multilayer Perceptron",
        "Naive Bayes"
       ],
       "_view_module_version": "~2.1.4",
       "description": "Classifier:",
       "layout": "IPY_MODEL_e15909006f5d4fd2ae7d0b70caa8c522",
       "value": "Multilayer Perceptron"
      }
     },
     "535a3a88c4d34a7183fc683c285fd135": {
      "model_module": "jupyter-js-widgets",
      "model_module_version": "~2.1.4",
      "model_name": "LayoutModel",
      "state": {
       "_model_module_version": "~2.1.4",
       "_view_module_version": "~2.1.4"
      }
     },
     "546487523f6a4aa9a750064e1951dd03": {
      "model_module": "jupyter-js-widgets",
      "model_module_version": "~2.1.4",
      "model_name": "VBoxModel",
      "state": {
       "_dom_classes": [
        "widget-interact"
       ],
       "_model_module_version": "~2.1.4",
       "_view_module_version": "~2.1.4",
       "children": [
        "IPY_MODEL_a640188ed6ec4b6c9fea802f152719e8",
        "IPY_MODEL_40fda52de0244b388c0a3ff29be421a6"
       ],
       "layout": "IPY_MODEL_3ea50f2dc3554a0a819d8db10d43a7a2"
      }
     },
     "56491c8c444c4aed82aab5c2a3461693": {
      "model_module": "jupyter-js-widgets",
      "model_module_version": "~2.1.4",
      "model_name": "LayoutModel",
      "state": {
       "_model_module_version": "~2.1.4",
       "_view_module_version": "~2.1.4"
      }
     },
     "575efd783cdc4cb0a9dfe7afd2cdd0b7": {
      "model_module": "jupyter-js-widgets",
      "model_module_version": "~2.1.4",
      "model_name": "LayoutModel",
      "state": {
       "_model_module_version": "~2.1.4",
       "_view_module_version": "~2.1.4"
      }
     },
     "581cc2f8549b4c2ba7c154057bcbac85": {
      "model_module": "jupyter-js-widgets",
      "model_module_version": "~2.1.4",
      "model_name": "LayoutModel",
      "state": {
       "_model_module_version": "~2.1.4",
       "_view_module_version": "~2.1.4",
       "width": "80%"
      }
     },
     "582f9b7403df43a884d3caba1dc06c87": {
      "model_module": "jupyter-js-widgets",
      "model_module_version": "~2.1.4",
      "model_name": "IntSliderModel",
      "state": {
       "_model_module_version": "~2.1.4",
       "_view_module_version": "~2.1.4",
       "continuous_update": false,
       "description": "Hidden layer 0:",
       "layout": "IPY_MODEL_8907c25fc2be4044a890242c1c077eb3",
       "min": 1,
       "style": "IPY_MODEL_0584f052646141adb1f3cd32a6cd52fd",
       "value": 20
      }
     },
     "5f60efc398dd477ba2960faf2fc67535": {
      "model_module": "jupyter-js-widgets",
      "model_module_version": "~2.1.4",
      "model_name": "VBoxModel",
      "state": {
       "_model_module_version": "~2.1.4",
       "_view_module_version": "~2.1.4",
       "children": [
        "IPY_MODEL_c044923c31454f8ba434f74227c7908c",
        "IPY_MODEL_67ebfcebf007420884b74977e0dae9ca"
       ],
       "layout": "IPY_MODEL_2dab1e2e660744b29078634a2d2fe519"
      }
     },
     "5f8a697aa99b4209b68d22b2c82fe780": {
      "model_module": "jupyter-js-widgets",
      "model_module_version": "~2.1.4",
      "model_name": "LayoutModel",
      "state": {
       "_model_module_version": "~2.1.4",
       "_view_module_version": "~2.1.4",
       "width": "80%"
      }
     },
     "6360ce05684a49c39fae2e64058327a3": {
      "model_module": "jupyter-js-widgets",
      "model_module_version": "~2.1.4",
      "model_name": "LayoutModel",
      "state": {
       "_model_module_version": "~2.1.4",
       "_view_module_version": "~2.1.4"
      }
     },
     "65af778b0c1c4702833258696a065db4": {
      "model_module": "jupyter-js-widgets",
      "model_module_version": "~2.1.4",
      "model_name": "LayoutModel",
      "state": {
       "_model_module_version": "~2.1.4",
       "_view_module_version": "~2.1.4"
      }
     },
     "67ebfcebf007420884b74977e0dae9ca": {
      "model_module": "jupyter-js-widgets",
      "model_module_version": "~2.1.4",
      "model_name": "VBoxModel",
      "state": {
       "_dom_classes": [
        "widget-interact"
       ],
       "_model_module_version": "~2.1.4",
       "_view_module_version": "~2.1.4",
       "children": [
        "IPY_MODEL_c53f0cf9b9a040209d2da774ac92d0ba",
        "IPY_MODEL_be6624c38b0747039726808fa4618538"
       ],
       "layout": "IPY_MODEL_868a71896f5247b59bd393ef623bef79"
      }
     },
     "6bd80b98e0214c7eaafb86bc285d4e3b": {
      "model_module": "jupyter-js-widgets",
      "model_module_version": "~2.1.4",
      "model_name": "IntSliderModel",
      "state": {
       "_model_module_version": "~2.1.4",
       "_view_module_version": "~2.1.4",
       "continuous_update": false,
       "description": "window reps:",
       "layout": "IPY_MODEL_2209d51b8b524b97a05cbd042d4e204e",
       "min": 1,
       "style": "IPY_MODEL_807120683c0448b78627f34b703acf06",
       "value": 10
      }
     },
     "6cb5fae7a08a4d29b40d480d884c4b8e": {
      "model_module": "jupyter-js-widgets",
      "model_module_version": "~2.1.4",
      "model_name": "LayoutModel",
      "state": {
       "_model_module_version": "~2.1.4",
       "_view_module_version": "~2.1.4"
      }
     },
     "6f3e1d2895c84fdd9d235bd54c631a49": {
      "model_module": "jupyter-js-widgets",
      "model_module_version": "~2.1.4",
      "model_name": "LayoutModel",
      "state": {
       "_model_module_version": "~2.1.4",
       "_view_module_version": "~2.1.4"
      }
     },
     "708a43bdccad432ca5b15d0463b7ea98": {
      "model_module": "jupyter-js-widgets",
      "model_module_version": "~2.1.4",
      "model_name": "LayoutModel",
      "state": {
       "_model_module_version": "~2.1.4",
       "_view_module_version": "~2.1.4",
       "width": "80%"
      }
     },
     "7128e7f06c474e7186783d60cf97e414": {
      "model_module": "jupyter-js-widgets",
      "model_module_version": "~2.1.4",
      "model_name": "VBoxModel",
      "state": {
       "_dom_classes": [
        "widget-interact"
       ],
       "_model_module_version": "~2.1.4",
       "_view_module_version": "~2.1.4",
       "children": [
        "IPY_MODEL_f3b918f7d49540a0a1359044608822a3",
        "IPY_MODEL_b13a35bea25640b8bf81cd1165a61ef4"
       ],
       "layout": "IPY_MODEL_3875ac72440f43bc9c52a8102d6aa5f2"
      }
     },
     "7178a47ce8fa4a8fae4caee457839239": {
      "model_module": "jupyter-js-widgets",
      "model_module_version": "~2.1.4",
      "model_name": "LayoutModel",
      "state": {
       "_model_module_version": "~2.1.4",
       "_view_module_version": "~2.1.4",
       "border": "solid",
       "padding": "10px"
      }
     },
     "71d9f62cacbb460ab67a8e8f457ca93c": {
      "model_module": "jupyter-js-widgets",
      "model_module_version": "~2.1.4",
      "model_name": "LayoutModel",
      "state": {
       "_model_module_version": "~2.1.4",
       "_view_module_version": "~2.1.4"
      }
     },
     "7279e37f557140b69df913d8a36727d6": {
      "model_module": "jupyter-js-widgets",
      "model_module_version": "~2.1.4",
      "model_name": "OutputModel",
      "state": {
       "_dom_classes": [],
       "_model_module": "jupyter-js-widgets",
       "_model_module_version": "~2.1.4",
       "_view_module": "jupyter-js-widgets",
       "_view_module_version": "~2.1.4",
       "layout": "IPY_MODEL_ba55af9fd3ad48a0beda8311c8fa5a9d",
       "msg_throttle": 1
      }
     },
     "739f2e84a10c445993299b553cc2df83": {
      "model_module": "jupyter-js-widgets",
      "model_module_version": "~2.1.4",
      "model_name": "VBoxModel",
      "state": {
       "_dom_classes": [
        "widget-interact"
       ],
       "_model_module_version": "~2.1.4",
       "_view_module_version": "~2.1.4",
       "children": [
        "IPY_MODEL_94912ed84d134a6c896eaa2b95b461d3",
        "IPY_MODEL_07d9edfaaf3e4e3999cad745b516f9f2"
       ],
       "layout": "IPY_MODEL_8201e5d9752646349920dd24adef8c2e"
      }
     },
     "744f1ebeb2264908998b64b8ae5ebfdf": {
      "model_module": "jupyter-js-widgets",
      "model_module_version": "~2.1.4",
      "model_name": "ButtonModel",
      "state": {
       "_model_module_version": "~2.1.4",
       "_view_module_version": "~2.1.4",
       "button_style": "danger",
       "description": "Start training",
       "layout": "IPY_MODEL_2125bab985ca4e10955fc0ae4c7a7d6b",
       "style": "IPY_MODEL_ff59712ba9c7409c8af1c250ed05460c"
      }
     },
     "78959902e3d94098a8167ccdbc8dc340": {
      "model_module": "jupyter-js-widgets",
      "model_module_version": "~2.1.4",
      "model_name": "OutputModel",
      "state": {
       "_dom_classes": [],
       "_model_module": "jupyter-js-widgets",
       "_model_module_version": "~2.1.4",
       "_view_module": "jupyter-js-widgets",
       "_view_module_version": "~2.1.4",
       "layout": "IPY_MODEL_9ddd69c424c94ac1b2cd3319c9fce13c",
       "msg_throttle": 1
      }
     },
     "7dae53839a2f4a5b9c421ad5c60b9dd2": {
      "model_module": "jupyter-js-widgets",
      "model_module_version": "~2.1.4",
      "model_name": "SliderStyleModel",
      "state": {
       "_model_module_version": "~2.1.4",
       "_view_module_version": "~2.1.4"
      }
     },
     "807120683c0448b78627f34b703acf06": {
      "model_module": "jupyter-js-widgets",
      "model_module_version": "~2.1.4",
      "model_name": "SliderStyleModel",
      "state": {
       "_model_module_version": "~2.1.4",
       "_view_module_version": "~2.1.4"
      }
     },
     "809e6448eb73401ca3361fdb5ca8e9b7": {
      "model_module": "jupyter-js-widgets",
      "model_module_version": "~2.1.4",
      "model_name": "ProgressModel",
      "state": {
       "_model_module_version": "~2.1.4",
       "_view_module_version": "~2.1.4",
       "bar_style": "info",
       "description": "Predicting:",
       "layout": "IPY_MODEL_93a2839c043a4ba3bccb3e167dade3e8",
       "max": 10500,
       "style": "IPY_MODEL_c358b2df6e274492a7c6fc8137a7271a",
       "value": 10500
      }
     },
     "8201e5d9752646349920dd24adef8c2e": {
      "model_module": "jupyter-js-widgets",
      "model_module_version": "~2.1.4",
      "model_name": "LayoutModel",
      "state": {
       "_model_module_version": "~2.1.4",
       "_view_module_version": "~2.1.4"
      }
     },
     "83ffda146ebc42a99daef368ba13665b": {
      "model_module": "jupyter-js-widgets",
      "model_module_version": "~2.1.4",
      "model_name": "LayoutModel",
      "state": {
       "_model_module_version": "~2.1.4",
       "_view_module_version": "~2.1.4"
      }
     },
     "868a71896f5247b59bd393ef623bef79": {
      "model_module": "jupyter-js-widgets",
      "model_module_version": "~2.1.4",
      "model_name": "LayoutModel",
      "state": {
       "_model_module_version": "~2.1.4",
       "_view_module_version": "~2.1.4"
      }
     },
     "8907c25fc2be4044a890242c1c077eb3": {
      "model_module": "jupyter-js-widgets",
      "model_module_version": "~2.1.4",
      "model_name": "LayoutModel",
      "state": {
       "_model_module_version": "~2.1.4",
       "_view_module_version": "~2.1.4",
       "width": "80%"
      }
     },
     "913543c9cb2a4196a9bd382d3dace374": {
      "model_module": "jupyter-js-widgets",
      "model_module_version": "~2.1.4",
      "model_name": "FloatTextModel",
      "state": {
       "_model_module_version": "~2.1.4",
       "_view_module_version": "~2.1.4",
       "description": "Sampling Percentage:",
       "layout": "IPY_MODEL_535a3a88c4d34a7183fc683c285fd135",
       "max": 1,
       "min": 0,
       "step": 0.1,
       "value": 0.003
      }
     },
     "93a2839c043a4ba3bccb3e167dade3e8": {
      "model_module": "jupyter-js-widgets",
      "model_module_version": "~2.1.4",
      "model_name": "LayoutModel",
      "state": {
       "_model_module_version": "~2.1.4",
       "_view_module_version": "~2.1.4"
      }
     },
     "94912ed84d134a6c896eaa2b95b461d3": {
      "model_module": "jupyter-js-widgets",
      "model_module_version": "~2.1.4",
      "model_name": "IntSliderModel",
      "state": {
       "_model_module_version": "~2.1.4",
       "_view_module_version": "~2.1.4",
       "continuous_update": false,
       "description": "Hidden layer 3:",
       "layout": "IPY_MODEL_ee94d44b8fe24dd3aa8080ae04f1fbb5",
       "min": 1,
       "style": "IPY_MODEL_a17c63cb7506445b9eaf04f0acc13748",
       "value": 20
      }
     },
     "955dc7eea4e146b2b85bab505826362e": {
      "model_module": "jupyter-js-widgets",
      "model_module_version": "~2.1.4",
      "model_name": "ProgressStyleModel",
      "state": {
       "_model_module_version": "~2.1.4",
       "_view_module_version": "~2.1.4"
      }
     },
     "977a75b905954fa384e680ca9d196228": {
      "model_module": "jupyter-js-widgets",
      "model_module_version": "~2.1.4",
      "model_name": "OutputModel",
      "state": {
       "_dom_classes": [],
       "_model_module": "jupyter-js-widgets",
       "_model_module_version": "~2.1.4",
       "_view_module": "jupyter-js-widgets",
       "_view_module_version": "~2.1.4",
       "layout": "IPY_MODEL_d6bf513d293a4aa8971c9c36968d0182",
       "msg_throttle": 1
      }
     },
     "985498d281e04a1b8d6e38d143565663": {
      "model_module": "jupyter-js-widgets",
      "model_module_version": "~2.1.4",
      "model_name": "IntSliderModel",
      "state": {
       "_model_module_version": "~2.1.4",
       "_view_module_version": "~2.1.4",
       "continuous_update": false,
       "description": "Hidden layer 2:",
       "layout": "IPY_MODEL_708a43bdccad432ca5b15d0463b7ea98",
       "min": 1,
       "style": "IPY_MODEL_7dae53839a2f4a5b9c421ad5c60b9dd2",
       "value": 12
      }
     },
     "99e985d2543e4ee793adc5bb22d30e11": {
      "model_module": "jupyter-js-widgets",
      "model_module_version": "~2.1.4",
      "model_name": "LayoutModel",
      "state": {
       "_model_module_version": "~2.1.4",
       "_view_module_version": "~2.1.4"
      }
     },
     "9af25021cae64a65b5417f88b1f5e33f": {
      "model_module": "jupyter-js-widgets",
      "model_module_version": "~2.1.4",
      "model_name": "ProgressModel",
      "state": {
       "_model_module_version": "~2.1.4",
       "_view_module_version": "~2.1.4",
       "bar_style": "danger",
       "description": "Training:",
       "layout": "IPY_MODEL_71d9f62cacbb460ab67a8e8f457ca93c",
       "max": 21000,
       "style": "IPY_MODEL_955dc7eea4e146b2b85bab505826362e",
       "value": 21000
      }
     },
     "9ddd69c424c94ac1b2cd3319c9fce13c": {
      "model_module": "jupyter-js-widgets",
      "model_module_version": "~2.1.4",
      "model_name": "LayoutModel",
      "state": {
       "_model_module_version": "~2.1.4",
       "_view_module_version": "~2.1.4"
      }
     },
     "a0054b3a2f2140cbaff26ea72bc1d874": {
      "model_module": "jupyter-js-widgets",
      "model_module_version": "~2.1.4",
      "model_name": "OutputModel",
      "state": {
       "_dom_classes": [],
       "_model_module": "jupyter-js-widgets",
       "_model_module_version": "~2.1.4",
       "_view_module": "jupyter-js-widgets",
       "_view_module_version": "~2.1.4",
       "layout": "IPY_MODEL_e567fba56a4048d3971a1a4f94499e2a",
       "msg_throttle": 1
      }
     },
     "a17c63cb7506445b9eaf04f0acc13748": {
      "model_module": "jupyter-js-widgets",
      "model_module_version": "~2.1.4",
      "model_name": "SliderStyleModel",
      "state": {
       "_model_module_version": "~2.1.4",
       "_view_module_version": "~2.1.4"
      }
     },
     "a2422a8700b64852bf17a3ac336bd2a1": {
      "model_module": "jupyter-js-widgets",
      "model_module_version": "~2.1.4",
      "model_name": "VBoxModel",
      "state": {
       "_dom_classes": [
        "widget-interact"
       ],
       "_model_module_version": "~2.1.4",
       "_view_module_version": "~2.1.4",
       "children": [
        "IPY_MODEL_aea7c37ef227495b9bcb2de0c3a0ca06",
        "IPY_MODEL_136aa591ed314a92ab207f66367500aa"
       ],
       "layout": "IPY_MODEL_008d3eb13c1a4892aab119af0423089a"
      }
     },
     "a640188ed6ec4b6c9fea802f152719e8": {
      "model_module": "jupyter-js-widgets",
      "model_module_version": "~2.1.4",
      "model_name": "IntSliderModel",
      "state": {
       "_model_module_version": "~2.1.4",
       "_view_module_version": "~2.1.4",
       "continuous_update": false,
       "description": "num components:",
       "layout": "IPY_MODEL_118d2cd5b41448a7b83e8618067b80e5",
       "max": 29,
       "min": 1,
       "style": "IPY_MODEL_ef245688f279497e88ee618e8254196a",
       "value": 7
      }
     },
     "aea7c37ef227495b9bcb2de0c3a0ca06": {
      "model_module": "jupyter-js-widgets",
      "model_module_version": "~2.1.4",
      "model_name": "IntSliderModel",
      "state": {
       "_model_module_version": "~2.1.4",
       "_view_module_version": "~2.1.4",
       "continuous_update": false,
       "description": "Hidden layer 0:",
       "layout": "IPY_MODEL_41549f3a93a34d9e917036fd5982ceb7",
       "min": 1,
       "style": "IPY_MODEL_438b09810cd94d59bc390eaecd9c4f5d",
       "value": 20
      }
     },
     "b13a35bea25640b8bf81cd1165a61ef4": {
      "model_module": "jupyter-js-widgets",
      "model_module_version": "~2.1.4",
      "model_name": "OutputModel",
      "state": {
       "_dom_classes": [],
       "_model_module": "jupyter-js-widgets",
       "_model_module_version": "~2.1.4",
       "_view_module": "jupyter-js-widgets",
       "_view_module_version": "~2.1.4",
       "layout": "IPY_MODEL_b5d3d850db704301ab1f5d1127518f59",
       "msg_throttle": 1
      }
     },
     "b1c4f9edebe0407499a489505cb00593": {
      "model_module": "jupyter-js-widgets",
      "model_module_version": "~2.1.4",
      "model_name": "IntSliderModel",
      "state": {
       "_model_module_version": "~2.1.4",
       "_view_module_version": "~2.1.4",
       "continuous_update": false,
       "description": "Hidden layer 1:",
       "layout": "IPY_MODEL_5f8a697aa99b4209b68d22b2c82fe780",
       "min": 1,
       "style": "IPY_MODEL_b5eec3522ab14ac3a9bf8a124344c325",
       "value": 20
      }
     },
     "b3c2f15a22284f78b0adb38d96c10c19": {
      "model_module": "jupyter-js-widgets",
      "model_module_version": "~2.1.4",
      "model_name": "VBoxModel",
      "state": {
       "_dom_classes": [
        "widget-interact"
       ],
       "_model_module_version": "~2.1.4",
       "_view_module_version": "~2.1.4",
       "children": [
        "IPY_MODEL_913543c9cb2a4196a9bd382d3dace374",
        "IPY_MODEL_d73e851b197c4959b212db69289be23b"
       ],
       "layout": "IPY_MODEL_56491c8c444c4aed82aab5c2a3461693"
      }
     },
     "b5d3d850db704301ab1f5d1127518f59": {
      "model_module": "jupyter-js-widgets",
      "model_module_version": "~2.1.4",
      "model_name": "LayoutModel",
      "state": {
       "_model_module_version": "~2.1.4",
       "_view_module_version": "~2.1.4"
      }
     },
     "b5eec3522ab14ac3a9bf8a124344c325": {
      "model_module": "jupyter-js-widgets",
      "model_module_version": "~2.1.4",
      "model_name": "SliderStyleModel",
      "state": {
       "_model_module_version": "~2.1.4",
       "_view_module_version": "~2.1.4"
      }
     },
     "b87d32d699aa4bcdad81a0747f78595f": {
      "model_module": "jupyter-js-widgets",
      "model_module_version": "~2.1.4",
      "model_name": "LayoutModel",
      "state": {
       "_model_module_version": "~2.1.4",
       "_view_module_version": "~2.1.4"
      }
     },
     "ba55af9fd3ad48a0beda8311c8fa5a9d": {
      "model_module": "jupyter-js-widgets",
      "model_module_version": "~2.1.4",
      "model_name": "LayoutModel",
      "state": {
       "_model_module_version": "~2.1.4",
       "_view_module_version": "~2.1.4"
      }
     },
     "bbbd9eb6d573402888c24371c89dd070": {
      "model_module": "jupyter-js-widgets",
      "model_module_version": "~2.1.4",
      "model_name": "LayoutModel",
      "state": {
       "_model_module_version": "~2.1.4",
       "_view_module_version": "~2.1.4",
       "width": "80%"
      }
     },
     "be6624c38b0747039726808fa4618538": {
      "model_module": "jupyter-js-widgets",
      "model_module_version": "~2.1.4",
      "model_name": "OutputModel",
      "state": {
       "_dom_classes": [],
       "_model_module": "jupyter-js-widgets",
       "_model_module_version": "~2.1.4",
       "_view_module": "jupyter-js-widgets",
       "_view_module_version": "~2.1.4",
       "layout": "IPY_MODEL_eab7a2cde2ee497893d76fc6bdf9852a",
       "msg_throttle": 1
      }
     },
     "bfb655bf090c424a9410f061f31f5705": {
      "model_module": "jupyter-js-widgets",
      "model_module_version": "~2.1.4",
      "model_name": "LayoutModel",
      "state": {
       "_model_module_version": "~2.1.4",
       "_view_module_version": "~2.1.4",
       "width": "80%"
      }
     },
     "c044923c31454f8ba434f74227c7908c": {
      "model_module": "jupyter-js-widgets",
      "model_module_version": "~2.1.4",
      "model_name": "LabelModel",
      "state": {
       "_model_module_version": "~2.1.4",
       "_view_module_version": "~2.1.4",
       "layout": "IPY_MODEL_4cc3f02fc5734ef2a17acc717ac61e69",
       "value": "Hidden layer sizes:"
      }
     },
     "c08a9bdcc7a448cabcbea6b49ad0c3e1": {
      "model_module": "jupyter-js-widgets",
      "model_module_version": "~2.1.4",
      "model_name": "LayoutModel",
      "state": {
       "_model_module_version": "~2.1.4",
       "_view_module_version": "~2.1.4",
       "width": "100%"
      }
     },
     "c350c2c184da473cb0c17b5ce413f253": {
      "model_module": "jupyter-js-widgets",
      "model_module_version": "~2.1.4",
      "model_name": "LayoutModel",
      "state": {
       "_model_module_version": "~2.1.4",
       "_view_module_version": "~2.1.4"
      }
     },
     "c358b2df6e274492a7c6fc8137a7271a": {
      "model_module": "jupyter-js-widgets",
      "model_module_version": "~2.1.4",
      "model_name": "ProgressStyleModel",
      "state": {
       "_model_module_version": "~2.1.4",
       "_view_module_version": "~2.1.4"
      }
     },
     "c53f0cf9b9a040209d2da774ac92d0ba": {
      "model_module": "jupyter-js-widgets",
      "model_module_version": "~2.1.4",
      "model_name": "IntSliderModel",
      "state": {
       "_model_module_version": "~2.1.4",
       "_view_module_version": "~2.1.4",
       "continuous_update": false,
       "description": "Hidden layer 0:",
       "layout": "IPY_MODEL_bbbd9eb6d573402888c24371c89dd070",
       "min": 1,
       "style": "IPY_MODEL_f76f24c55a5744e5b111c3f2add3020c",
       "value": 20
      }
     },
     "c87a866b06054b8b93a7121923e7c840": {
      "model_module": "jupyter-js-widgets",
      "model_module_version": "~2.1.4",
      "model_name": "OutputModel",
      "state": {
       "_dom_classes": [],
       "_model_module": "jupyter-js-widgets",
       "_model_module_version": "~2.1.4",
       "_view_module": "jupyter-js-widgets",
       "_view_module_version": "~2.1.4",
       "layout": "IPY_MODEL_99e985d2543e4ee793adc5bb22d30e11",
       "msg_throttle": 1
      }
     },
     "cadece64601a4fbc98193fd516995e2f": {
      "model_module": "jupyter-js-widgets",
      "model_module_version": "~2.1.4",
      "model_name": "LayoutModel",
      "state": {
       "_model_module_version": "~2.1.4",
       "_view_module_version": "~2.1.4",
       "width": "80%"
      }
     },
     "cb919a02ff2f46db9d77817ad47d8bb6": {
      "model_module": "jupyter-js-widgets",
      "model_module_version": "~2.1.4",
      "model_name": "OutputModel",
      "state": {
       "_dom_classes": [],
       "_model_module": "jupyter-js-widgets",
       "_model_module_version": "~2.1.4",
       "_view_module": "jupyter-js-widgets",
       "_view_module_version": "~2.1.4",
       "layout": "IPY_MODEL_6f3e1d2895c84fdd9d235bd54c631a49",
       "msg_throttle": 1
      }
     },
     "cc41d495dabb4d7f96edaf4a78d3ce1a": {
      "model_module": "jupyter-js-widgets",
      "model_module_version": "~2.1.4",
      "model_name": "LayoutModel",
      "state": {
       "_model_module_version": "~2.1.4",
       "_view_module_version": "~2.1.4",
       "width": "100%"
      }
     },
     "d6bf513d293a4aa8971c9c36968d0182": {
      "model_module": "jupyter-js-widgets",
      "model_module_version": "~2.1.4",
      "model_name": "LayoutModel",
      "state": {
       "_model_module_version": "~2.1.4",
       "_view_module_version": "~2.1.4"
      }
     },
     "d73e851b197c4959b212db69289be23b": {
      "model_module": "jupyter-js-widgets",
      "model_module_version": "~2.1.4",
      "model_name": "OutputModel",
      "state": {
       "_dom_classes": [],
       "_model_module": "jupyter-js-widgets",
       "_model_module_version": "~2.1.4",
       "_view_module": "jupyter-js-widgets",
       "_view_module_version": "~2.1.4",
       "layout": "IPY_MODEL_4010fa9a7f134c92a7f4bab268594f2d",
       "msg_throttle": 1
      }
     },
     "dc132d8ef66e4860b832a9508836d1af": {
      "model_module": "jupyter-js-widgets",
      "model_module_version": "~2.1.4",
      "model_name": "VBoxModel",
      "state": {
       "_dom_classes": [
        "widget-interact"
       ],
       "_model_module_version": "~2.1.4",
       "_view_module_version": "~2.1.4",
       "children": [
        "IPY_MODEL_20041053b47846bf9302cc5e4d4f921c",
        "IPY_MODEL_1eba1b70d35246598348590bc6db1817"
       ],
       "layout": "IPY_MODEL_b87d32d699aa4bcdad81a0747f78595f"
      }
     },
     "e15909006f5d4fd2ae7d0b70caa8c522": {
      "model_module": "jupyter-js-widgets",
      "model_module_version": "~2.1.4",
      "model_name": "LayoutModel",
      "state": {
       "_model_module_version": "~2.1.4",
       "_view_module_version": "~2.1.4"
      }
     },
     "e458437e450142ad837c4ac058934824": {
      "model_module": "jupyter-js-widgets",
      "model_module_version": "~2.1.4",
      "model_name": "VBoxModel",
      "state": {
       "_dom_classes": [
        "widget-interact"
       ],
       "_model_module_version": "~2.1.4",
       "_view_module_version": "~2.1.4",
       "children": [
        "IPY_MODEL_582f9b7403df43a884d3caba1dc06c87",
        "IPY_MODEL_a0054b3a2f2140cbaff26ea72bc1d874"
       ],
       "layout": "IPY_MODEL_c350c2c184da473cb0c17b5ce413f253"
      }
     },
     "e567fba56a4048d3971a1a4f94499e2a": {
      "model_module": "jupyter-js-widgets",
      "model_module_version": "~2.1.4",
      "model_name": "LayoutModel",
      "state": {
       "_model_module_version": "~2.1.4",
       "_view_module_version": "~2.1.4"
      }
     },
     "eab7a2cde2ee497893d76fc6bdf9852a": {
      "model_module": "jupyter-js-widgets",
      "model_module_version": "~2.1.4",
      "model_name": "LayoutModel",
      "state": {
       "_model_module_version": "~2.1.4",
       "_view_module_version": "~2.1.4"
      }
     },
     "ecac9497eb8e479ba6fbe73723428193": {
      "model_module": "jupyter-js-widgets",
      "model_module_version": "~2.1.4",
      "model_name": "SliderStyleModel",
      "state": {
       "_model_module_version": "~2.1.4",
       "_view_module_version": "~2.1.4"
      }
     },
     "ee94d44b8fe24dd3aa8080ae04f1fbb5": {
      "model_module": "jupyter-js-widgets",
      "model_module_version": "~2.1.4",
      "model_name": "LayoutModel",
      "state": {
       "_model_module_version": "~2.1.4",
       "_view_module_version": "~2.1.4",
       "width": "80%"
      }
     },
     "ef245688f279497e88ee618e8254196a": {
      "model_module": "jupyter-js-widgets",
      "model_module_version": "~2.1.4",
      "model_name": "SliderStyleModel",
      "state": {
       "_model_module_version": "~2.1.4",
       "_view_module_version": "~2.1.4"
      }
     },
     "f09b83984fcf4aab9d2bd5d94d2d8d9d": {
      "model_module": "jupyter-js-widgets",
      "model_module_version": "~2.1.4",
      "model_name": "VBoxModel",
      "state": {
       "_dom_classes": [
        "widget-interact"
       ],
       "_model_module_version": "~2.1.4",
       "_view_module_version": "~2.1.4",
       "children": [
        "IPY_MODEL_3b637d3477914dc1b6d4d0e81985ce8f",
        "IPY_MODEL_78959902e3d94098a8167ccdbc8dc340"
       ],
       "layout": "IPY_MODEL_2154cc7876654d8b8c5fd05e4c42cc30"
      }
     },
     "f3b918f7d49540a0a1359044608822a3": {
      "model_module": "jupyter-js-widgets",
      "model_module_version": "~2.1.4",
      "model_name": "IntSliderModel",
      "state": {
       "_model_module_version": "~2.1.4",
       "_view_module_version": "~2.1.4",
       "continuous_update": false,
       "description": "num hidden layers:",
       "layout": "IPY_MODEL_14c593ddc89942eaa44eaa258c501832",
       "max": 10,
       "min": 1,
       "style": "IPY_MODEL_ecac9497eb8e479ba6fbe73723428193",
       "value": 1
      }
     },
     "f6576c71dd994c75b105bd77dd446116": {
      "model_module": "jupyter-js-widgets",
      "model_module_version": "~2.1.4",
      "model_name": "VBoxModel",
      "state": {
       "_dom_classes": [
        "widget-interact"
       ],
       "_model_module_version": "~2.1.4",
       "_view_module_version": "~2.1.4",
       "children": [
        "IPY_MODEL_0b5f1052da46400f965f693942b880fa",
        "IPY_MODEL_c87a866b06054b8b93a7121923e7c840"
       ],
       "layout": "IPY_MODEL_4a55d2bafa774e00bf658984c871e52a"
      }
     },
     "f76f24c55a5744e5b111c3f2add3020c": {
      "model_module": "jupyter-js-widgets",
      "model_module_version": "~2.1.4",
      "model_name": "SliderStyleModel",
      "state": {
       "_model_module_version": "~2.1.4",
       "_view_module_version": "~2.1.4"
      }
     },
     "f927540c572040c98f16583e03e68edf": {
      "model_module": "jupyter-js-widgets",
      "model_module_version": "~2.1.4",
      "model_name": "VBoxModel",
      "state": {
       "_dom_classes": [
        "widget-interact"
       ],
       "_model_module_version": "~2.1.4",
       "_view_module_version": "~2.1.4",
       "children": [
        "IPY_MODEL_b1c4f9edebe0407499a489505cb00593",
        "IPY_MODEL_977a75b905954fa384e680ca9d196228"
       ],
       "layout": "IPY_MODEL_83ffda146ebc42a99daef368ba13665b"
      }
     },
     "fa2df78fb1c745e38aca09c40af97f33": {
      "model_module": "jupyter-js-widgets",
      "model_module_version": "~2.1.4",
      "model_name": "VBoxModel",
      "state": {
       "_dom_classes": [
        "widget-interact"
       ],
       "_model_module_version": "~2.1.4",
       "_view_module_version": "~2.1.4",
       "children": [
        "IPY_MODEL_53100e09e920400d9267177d829217b0",
        "IPY_MODEL_7279e37f557140b69df913d8a36727d6"
       ],
       "layout": "IPY_MODEL_575efd783cdc4cb0a9dfe7afd2cdd0b7"
      }
     },
     "fc8e51afd54c4c4685e525829f6b7c12": {
      "model_module": "jupyter-js-widgets",
      "model_module_version": "~2.1.4",
      "model_name": "VBoxModel",
      "state": {
       "_dom_classes": [
        "widget-interact"
       ],
       "_model_module_version": "~2.1.4",
       "_view_module_version": "~2.1.4",
       "children": [
        "IPY_MODEL_985498d281e04a1b8d6e38d143565663",
        "IPY_MODEL_23e3b7e569bf46b1a6f1ec39d73742ed"
       ],
       "layout": "IPY_MODEL_49eb0085115b4dc497b6f99a53a01dcf"
      }
     },
     "ff4cfe02a5f54a73991482f2951400dd": {
      "model_module": "jupyter-js-widgets",
      "model_module_version": "~2.1.4",
      "model_name": "LabelModel",
      "state": {
       "_model_module_version": "~2.1.4",
       "_view_module_version": "~2.1.4",
       "layout": "IPY_MODEL_cc41d495dabb4d7f96edaf4a78d3ce1a",
       "value": "Hidden layer sizes:"
      }
     },
     "ff59712ba9c7409c8af1c250ed05460c": {
      "model_module": "jupyter-js-widgets",
      "model_module_version": "~2.1.4",
      "model_name": "ButtonStyleModel",
      "state": {
       "_model_module_version": "~2.1.4",
       "_view_module_version": "~2.1.4"
      }
     }
    },
    "version_major": 1,
    "version_minor": 0
   }
  }
 },
 "nbformat": 4,
 "nbformat_minor": 2
}
