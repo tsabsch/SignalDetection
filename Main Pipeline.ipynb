{
 "cells": [
  {
   "cell_type": "markdown",
   "metadata": {},
   "source": [
    "# Project Pipeline\n",
    "Execute the cells step by step to obtain a prediction and score for your configuration.\n",
    "In order to make the widgets work you might need to execute \n",
    "```\n",
    "jupyter nbextension enable --py --sys-prefix widgetsnbextension\n",
    "```\n",
    "on your system.\n",
    "\n",
    "## 1. Imports"
   ]
  },
  {
   "cell_type": "code",
   "execution_count": 64,
   "metadata": {
    "collapsed": true
   },
   "outputs": [],
   "source": [
    "import numpy as np\n",
    "import dask.dataframe as dd\n",
    "import os.path\n",
    "import time\n",
    "from ipywidgets import *\n",
    "from IPython.display import display\n",
    "\n",
    "from sklearn.neural_network import MLPClassifier\n",
    "from sklearn.naive_bayes import GaussianNB\n",
    "from sklearn.metrics import confusion_matrix\n",
    "import sklearn.preprocessing as skprep\n",
    "import sklearn.decomposition as skdecomp\n",
    "\n",
    "import subsampling"
   ]
  },
  {
   "cell_type": "markdown",
   "metadata": {},
   "source": [
    "## 2. Prepare Data Sets\n",
    "### 2.1 Load Data\n",
    "Load training and test data. Furthermore, create a sample set for calculating transformations such as PCA."
   ]
  },
  {
   "cell_type": "code",
   "execution_count": 65,
   "metadata": {},
   "outputs": [],
   "source": [
    "all_train_data = dd.read_csv('data/all_train.csv')\n",
    "all_test_data = dd.read_csv('data/all_test.csv')\n",
    "\n",
    "ntrain_all = 7000000 # known from dataset description\n",
    "ntest_all = 3500000\n",
    "\n",
    "if not os.path.isfile('data/all_sample.csv'):\n",
    "    subsampling.generate_sample_set(0.001)\n",
    "\n",
    "sample_data = dd.read_csv('data/all_sample.csv')\n",
    "nsample = int(ntrain_all * 0.001) # approximate number of samples"
   ]
  },
  {
   "cell_type": "markdown",
   "metadata": {},
   "source": [
    "### 2.2 Subsample Data"
   ]
  },
  {
   "cell_type": "code",
   "execution_count": 66,
   "metadata": {},
   "outputs": [
    {
     "data": {
      "application/vnd.jupyter.widget-view+json": {
       "model_id": "e6cf34fbeb194894aa3974c2f4646aa3"
      }
     },
     "metadata": {},
     "output_type": "display_data"
    }
   ],
   "source": [
    "train_data = all_train_data\n",
    "test_data = all_test_data\n",
    "ntrain = ntrain_all\n",
    "ntest = ntest_all\n",
    "\n",
    "def subsample_data(p):\n",
    "    global train_data, test_data, ntrain, ntest\n",
    "    train_data = all_train_data.sample(p)\n",
    "    test_data = all_test_data.sample(p)\n",
    "    ntrain = int(ntrain_all * p) # approximate number of samples\n",
    "    ntest = int(ntest_all * p)\n",
    "    print('Subsampled {} of all data.'.format(p))\n",
    "\n",
    "percentage = BoundedFloatText(\n",
    "    value=0.0001,\n",
    "    min=0,\n",
    "    max=1.0,\n",
    "    description='Sampling Percentage:'\n",
    ")\n",
    "i = interact(subsample_data, p=percentage)"
   ]
  },
  {
   "cell_type": "markdown",
   "metadata": {},
   "source": [
    "## 3. Preprocessing: PCA"
   ]
  },
  {
   "cell_type": "code",
   "execution_count": 67,
   "metadata": {},
   "outputs": [
    {
     "data": {
      "application/vnd.jupyter.widget-view+json": {
       "model_id": "5f3c99e856ca48ffbe97bcef4e99a047"
      }
     },
     "metadata": {},
     "output_type": "display_data"
    }
   ],
   "source": [
    "pca = None\n",
    "\n",
    "def perform_pca(n):\n",
    "    global pca\n",
    "    print('Computing PCA with {} principal components.'.format(n))\n",
    "    pca = skdecomp.PCA(n_components=n)\n",
    "    pca.fit(sample_data.compute())\n",
    "    print('PCA done.')\n",
    "\n",
    "ncomponents = IntSlider(\n",
    "    value=5,\n",
    "    min=1,\n",
    "    max=len(train_data.columns),\n",
    "    step=1,\n",
    "    description='num components:',\n",
    "    continuous_update=False,\n",
    "    layout=Layout(width='80%')\n",
    ")\n",
    "i = interact(perform_pca, n=ncomponents)"
   ]
  },
  {
   "cell_type": "markdown",
   "metadata": {},
   "source": [
    "## 4. Configure Classifiers\n",
    "### 4.1 Neural Net"
   ]
  },
  {
   "cell_type": "code",
   "execution_count": 68,
   "metadata": {},
   "outputs": [
    {
     "data": {
      "application/vnd.jupyter.widget-view+json": {
       "model_id": "83fdb9bed09f4931a75d4bce75ed9ced"
      }
     },
     "metadata": {},
     "output_type": "display_data"
    },
    {
     "data": {
      "application/vnd.jupyter.widget-view+json": {
       "model_id": "f67727f5475a4aedb36912a8117d0f66"
      }
     },
     "metadata": {},
     "output_type": "display_data"
    }
   ],
   "source": [
    "hidden_layer_box = None\n",
    "hidden_layers = [20, 20]\n",
    "max_iter = 30\n",
    "mlp = None\n",
    "\n",
    "def update_hidden_layer_size(s, l):\n",
    "    global hidden_layers, mlp\n",
    "    hidden_layers[l] = s\n",
    "    \n",
    "    mlp = MLPClassifier(hidden_layer_sizes=hidden_layers, \n",
    "                        max_iter=max_iter, \n",
    "                        warm_start=True)\n",
    "\n",
    "def set_max_iter(m):\n",
    "    global max_iter, mlp\n",
    "    max_iter = m\n",
    "    \n",
    "    mlp = MLPClassifier(hidden_layer_sizes=hidden_layers, \n",
    "                        max_iter=max_iter, \n",
    "                        warm_start=True)\n",
    "\n",
    "def configure_hidden_layers(n):\n",
    "    global hidden_layer_box, hidden_layers\n",
    "    \n",
    "    if not hidden_layer_box is None:\n",
    "        hidden_layer_box.close()\n",
    "    \n",
    "    hidden_layers = [20 for i in range(n)]\n",
    "    \n",
    "    items = [interactive(update_hidden_layer_size,\n",
    "                         s=IntSlider(\n",
    "                             value=20,\n",
    "                             min=1,\n",
    "                             max=100,\n",
    "                             step=1,\n",
    "                             description='Hidden layer {}:'.format(i),\n",
    "                             continuous_update=False,\n",
    "                             layout=Layout(width='80%')\n",
    "                         ),\n",
    "                         l=fixed(i)) \n",
    "             for i in range(n)]\n",
    "    \n",
    "    hidden_layer_box = VBox(\n",
    "        [widgets.Label('Hidden layer sizes:', layout=Layout(width='100%'))] + items,\n",
    "        layout=Layout(border='solid', padding='10px')\n",
    "    )\n",
    "    display(hidden_layer_box)\n",
    "\n",
    "max_iter_slider = IntSlider(\n",
    "    value=30,\n",
    "    min=10,\n",
    "    max=500,\n",
    "    step=10,\n",
    "    description='max iterations:',\n",
    "    continuous_update=False,\n",
    "    layout=Layout(width='80%')\n",
    ")\n",
    "i = interact(set_max_iter, m=max_iter_slider)\n",
    "\n",
    "nhidden = IntSlider(\n",
    "    value=2,\n",
    "    min=1,\n",
    "    max=10,\n",
    "    step=1,\n",
    "    description='num hidden layers:',\n",
    "    continuous_update=False,\n",
    "    layout=Layout(width='80%')\n",
    ")\n",
    "i = interact(configure_hidden_layers, n=nhidden)"
   ]
  },
  {
   "cell_type": "markdown",
   "metadata": {},
   "source": [
    "### 4.2 Naive Bayes"
   ]
  },
  {
   "cell_type": "code",
   "execution_count": 69,
   "metadata": {
    "collapsed": true
   },
   "outputs": [],
   "source": [
    "# TODO"
   ]
  },
  {
   "cell_type": "markdown",
   "metadata": {},
   "source": [
    "## 5. Training"
   ]
  },
  {
   "cell_type": "code",
   "execution_count": 70,
   "metadata": {},
   "outputs": [
    {
     "data": {
      "application/vnd.jupyter.widget-view+json": {
       "model_id": "27c1d6be47af42659c6ed3f39d305ed6"
      }
     },
     "metadata": {},
     "output_type": "display_data"
    },
    {
     "data": {
      "application/vnd.jupyter.widget-view+json": {
       "model_id": "7f8900b183f84015ad0e5599bacea017"
      }
     },
     "metadata": {},
     "output_type": "display_data"
    },
    {
     "data": {
      "application/vnd.jupyter.widget-view+json": {
       "model_id": "02a89bdef31e484faf68ebc40d459043"
      }
     },
     "metadata": {},
     "output_type": "display_data"
    },
    {
     "data": {
      "application/vnd.jupyter.widget-view+json": {
       "model_id": "99597476aaa04186afa3b137199a3a87"
      }
     },
     "metadata": {},
     "output_type": "display_data"
    }
   ],
   "source": [
    "window_size = 500\n",
    "window_reps = 10\n",
    "classifier = None\n",
    "\n",
    "##########################################\n",
    "\n",
    "def set_window_size(s):\n",
    "    global window_size\n",
    "    window_size = s\n",
    "\n",
    "window_size_slider = IntSlider(\n",
    "    value=500,\n",
    "    min=100,\n",
    "    max=1000,\n",
    "    step=100,\n",
    "    description='window size:',\n",
    "    continuous_update=False,\n",
    "    layout=Layout(width='80%')\n",
    ")\n",
    "i = interact(set_window_size, s=window_size_slider)\n",
    "\n",
    "def set_window_reps(r):\n",
    "    global window_reps\n",
    "    window_reps = r\n",
    "\n",
    "window_reps_slider = IntSlider(\n",
    "    value=10,\n",
    "    min=1,\n",
    "    max=100,\n",
    "    step=1,\n",
    "    description='window reps:',\n",
    "    continuous_update=False,\n",
    "    layout=Layout(width='80%')\n",
    ")\n",
    "i = interact(set_window_reps, r=window_reps_slider)\n",
    "\n",
    "def set_classifier(c):\n",
    "    global classifier\n",
    "    if c == 'Multilayer Perceptron':\n",
    "        classifier = mlp\n",
    "    else:\n",
    "        classifier = None\n",
    "\n",
    "classifier_rb = RadioButtons(\n",
    "    options=['Multilayer Perceptron', 'Naive Bayes'],\n",
    "    description='Classifier:'\n",
    ")\n",
    "interact(set_classifier, c=classifier_rb)\n",
    "\n",
    "def perform_training(*args):\n",
    "    print('Training {}'.format(classifier))\n",
    "    start_time = time.time()\n",
    "\n",
    "    iterator = train_data.iterrows()\n",
    "    window = np.zeros((0,29))\n",
    "    \n",
    "    progress = IntProgress(\n",
    "        min=0,\n",
    "        max=ntrain,\n",
    "        step=1,\n",
    "        description='Training:',\n",
    "        bar_style='danger'\n",
    "    )\n",
    "    display(progress)\n",
    "    \n",
    "    for idx, row in enumerate(iterator):\n",
    "        window = np.append(window, [row[1]], axis=0)\n",
    "        if window.shape[0] == window_size:\n",
    "            classifier.fit(window[:,1:29], window[:,0])\n",
    "            window = np.zeros((0,29))\n",
    "            progress.value = idx\n",
    "    if len(window) > 0:\n",
    "        classifier.fit(window[:,1:29], window[:,0])\n",
    "        progress.value = ntrain\n",
    "\n",
    "    print('Time taken: {}'.format(time.time() - start_time))\n",
    "\n",
    "start_training = Button(\n",
    "    description='Start training',\n",
    "    button_style='danger'\n",
    ")\n",
    "display(start_training)\n",
    "start_training.on_click(perform_training)"
   ]
  },
  {
   "cell_type": "markdown",
   "metadata": {},
   "source": [
    "## 6. Prediction"
   ]
  },
  {
   "cell_type": "code",
   "execution_count": 71,
   "metadata": {},
   "outputs": [
    {
     "data": {
      "application/vnd.jupyter.widget-view+json": {
       "model_id": "f53596a07a33419bbfcc6db35b3ed359"
      }
     },
     "metadata": {},
     "output_type": "display_data"
    }
   ],
   "source": [
    "def predict(*args):\n",
    "    print('Predict with {}'.format(classifier))\n",
    "    iterator = test_data.iterrows()\n",
    "    window = np.zeros((0,29))\n",
    "    conf_mat = np.zeros((2, 2))\n",
    "    \n",
    "    progress = IntProgress(\n",
    "        min=0,\n",
    "        max=ntest,\n",
    "        step=1,\n",
    "        description='Predicting:',\n",
    "        bar_style='info'\n",
    "    )\n",
    "    display(progress)\n",
    "    \n",
    "    for idx, row in enumerate(iterator):\n",
    "        window = np.append(window, [row[1]], axis=0)\n",
    "        if window.shape[0] == window_size:\n",
    "            prediction = classifier.predict(window[:,1:29])\n",
    "            conf_mat += confusion_matrix(window[:,0], prediction)\n",
    "            window = np.zeros((0,29))\n",
    "            progress.value = idx\n",
    "    if len(window) > 0:\n",
    "        prediction = classifier.predict(window[:,1:29])\n",
    "        progress.value = ntest\n",
    "        conf_mat += confusion_matrix(window[:,0], prediction)\n",
    "\n",
    "    print(conf_mat)\n",
    "\n",
    "start_prediction = Button(\n",
    "    description='Start prediction',\n",
    "    button_style='info'\n",
    ")\n",
    "display(start_prediction)\n",
    "start_prediction.on_click(predict)"
   ]
  },
  {
   "cell_type": "code",
   "execution_count": null,
   "metadata": {
    "collapsed": true
   },
   "outputs": [],
   "source": []
  }
 ],
 "metadata": {
  "kernelspec": {
   "display_name": "Python 3",
   "language": "python",
   "name": "python3"
  },
  "language_info": {
   "codemirror_mode": {
    "name": "ipython",
    "version": 3
   },
   "file_extension": ".py",
   "mimetype": "text/x-python",
   "name": "python",
   "nbconvert_exporter": "python",
   "pygments_lexer": "ipython3",
   "version": "3.5.2"
  },
  "widgets": {
   "application/vnd.jupyter.widget-state+json": {
    "state": {
     "005a04b952514341a9269e4a82bd7444": {
      "model_module": "jupyter-js-widgets",
      "model_module_version": "~2.1.4",
      "model_name": "ProgressStyleModel",
      "state": {
       "_model_module_version": "~2.1.4",
       "_view_module_version": "~2.1.4"
      }
     },
     "00c498fc42234efda0586f58b370c5fb": {
      "model_module": "jupyter-js-widgets",
      "model_module_version": "~2.1.4",
      "model_name": "ButtonModel",
      "state": {
       "_model_module_version": "~2.1.4",
       "_view_module_version": "~2.1.4",
       "button_style": "danger",
       "description": "Start training",
       "layout": "IPY_MODEL_59789fe108724189aa398306fe732a4a",
       "style": "IPY_MODEL_bcca9716977f4ca688cb8e27a43750a6"
      }
     },
     "00ce806513a64e80b9cd92edb6e95700": {
      "model_module": "jupyter-js-widgets",
      "model_module_version": "~2.1.4",
      "model_name": "ProgressStyleModel",
      "state": {
       "_model_module_version": "~2.1.4",
       "_view_module_version": "~2.1.4"
      }
     },
     "00f843a5c6274838b43edc2b5c7b28e3": {
      "model_module": "jupyter-js-widgets",
      "model_module_version": "~2.1.4",
      "model_name": "ButtonModel",
      "state": {
       "_model_module_version": "~2.1.4",
       "_view_module_version": "~2.1.4",
       "button_style": "danger",
       "description": "Start training",
       "layout": "IPY_MODEL_baf9693c2513454db14b1b3151a5cc50",
       "style": "IPY_MODEL_f5e6d6a0c3b14ab683af0c7fb128743e"
      }
     },
     "011455fd19574941b73dfef3e9b92653": {
      "model_module": "jupyter-js-widgets",
      "model_module_version": "~2.1.4",
      "model_name": "ProgressModel",
      "state": {
       "_model_module_version": "~2.1.4",
       "_view_module_version": "~2.1.4",
       "description": "Training:",
       "layout": "IPY_MODEL_c41bd2e66edf4e41937b2a31569f58de",
       "max": 700,
       "style": "IPY_MODEL_391ae80f1b5546e1ab8191fbf97ae168"
      }
     },
     "01974e1a1fa2470784dc9882305080eb": {
      "model_module": "jupyter-js-widgets",
      "model_module_version": "~2.1.4",
      "model_name": "LayoutModel",
      "state": {
       "_model_module_version": "~2.1.4",
       "_view_module_version": "~2.1.4"
      }
     },
     "02515442e2d24ce5a9f984e27e8eaaf2": {
      "model_module": "jupyter-js-widgets",
      "model_module_version": "~2.1.4",
      "model_name": "LayoutModel",
      "state": {
       "_model_module_version": "~2.1.4",
       "_view_module_version": "~2.1.4"
      }
     },
     "02a89bdef31e484faf68ebc40d459043": {
      "model_module": "jupyter-js-widgets",
      "model_module_version": "~2.1.4",
      "model_name": "VBoxModel",
      "state": {
       "_dom_classes": [
        "widget-interact"
       ],
       "_model_module_version": "~2.1.4",
       "_view_module_version": "~2.1.4",
       "children": [
        "IPY_MODEL_9bc2eacca40945098dd37d05adf59006",
        "IPY_MODEL_65e822aba3ac4cc88e89fbce4d3e9348"
       ],
       "layout": "IPY_MODEL_07954c2ef3c1421f9aca27792326a496"
      }
     },
     "02be0d7f58e248deb82aa4c2a7e71df7": {
      "model_module": "jupyter-js-widgets",
      "model_module_version": "~2.1.4",
      "model_name": "LayoutModel",
      "state": {
       "_model_module_version": "~2.1.4",
       "_view_module_version": "~2.1.4"
      }
     },
     "02d8fee237bc4049aff2b39e1823e86b": {
      "model_module": "jupyter-js-widgets",
      "model_module_version": "~2.1.4",
      "model_name": "OutputModel",
      "state": {
       "_dom_classes": [],
       "_model_module": "jupyter-js-widgets",
       "_model_module_version": "~2.1.4",
       "_view_module": "jupyter-js-widgets",
       "_view_module_version": "~2.1.4",
       "layout": "IPY_MODEL_8f13701421c04712b7befe592ee6e8af",
       "msg_throttle": 1
      }
     },
     "02f3dae4670743109591dd767c2f6bfb": {
      "model_module": "jupyter-js-widgets",
      "model_module_version": "~2.1.4",
      "model_name": "OutputModel",
      "state": {
       "_dom_classes": [],
       "_model_module": "jupyter-js-widgets",
       "_model_module_version": "~2.1.4",
       "_view_module": "jupyter-js-widgets",
       "_view_module_version": "~2.1.4",
       "layout": "IPY_MODEL_bd7b8ba3698945c093fa3f176957dd73",
       "msg_throttle": 1
      }
     },
     "032605d64d0f4fae97aa7eae5e3287cf": {
      "model_module": "jupyter-js-widgets",
      "model_module_version": "~2.1.4",
      "model_name": "ButtonModel",
      "state": {
       "_model_module_version": "~2.1.4",
       "_view_module_version": "~2.1.4",
       "button_style": "info",
       "description": "Start prediction",
       "layout": "IPY_MODEL_8c24c540bcfd4ab69a33308677c193de",
       "style": "IPY_MODEL_78dae5cd00e1484ab8fa4e5d6ddf2c31"
      }
     },
     "034aab4e19f1498a91bb1d8dbf5866d4": {
      "model_module": "jupyter-js-widgets",
      "model_module_version": "~2.1.4",
      "model_name": "LayoutModel",
      "state": {
       "_model_module_version": "~2.1.4",
       "_view_module_version": "~2.1.4",
       "width": "80%"
      }
     },
     "03d90aa4d785494e93492578883247c9": {
      "model_module": "jupyter-js-widgets",
      "model_module_version": "~2.1.4",
      "model_name": "IntSliderModel",
      "state": {
       "_model_module_version": "~2.1.4",
       "_view_module_version": "~2.1.4",
       "continuous_update": false,
       "description": "window size:",
       "layout": "IPY_MODEL_824e1eb2dbb340a4bf4923dd98dba70a",
       "max": 1000,
       "min": 100,
       "step": 100,
       "style": "IPY_MODEL_d6d4c6135f014543adb376f9cf4b28b6",
       "value": 500
      }
     },
     "03f55d7d58c7452799979c5dc59c9e02": {
      "model_module": "jupyter-js-widgets",
      "model_module_version": "~2.1.4",
      "model_name": "IntSliderModel",
      "state": {
       "_model_module_version": "~2.1.4",
       "_view_module_version": "~2.1.4",
       "continuous_update": false,
       "description": "window size:",
       "layout": "IPY_MODEL_2a9a0ffcd06f49eb8ea72bb0d1bbb573",
       "max": 1000,
       "min": 100,
       "step": 100,
       "style": "IPY_MODEL_5b61de8f7fde44aea1f318d8f096e519",
       "value": 500
      }
     },
     "04021b59ea9144edb522d1e8857bbd7e": {
      "model_module": "jupyter-js-widgets",
      "model_module_version": "~2.1.4",
      "model_name": "ButtonModel",
      "state": {
       "_model_module_version": "~2.1.4",
       "_view_module_version": "~2.1.4",
       "button_style": "info",
       "description": "Start prediction",
       "layout": "IPY_MODEL_4a9097adc9b643e0bbde35bffce0f02d",
       "style": "IPY_MODEL_5f638cb709e04755b233bd562e58d6b2"
      }
     },
     "0427af56e7284eb6b7221982110013c6": {
      "model_module": "jupyter-js-widgets",
      "model_module_version": "~2.1.4",
      "model_name": "VBoxModel",
      "state": {
       "_dom_classes": [
        "widget-interact"
       ],
       "_model_module_version": "~2.1.4",
       "_view_module_version": "~2.1.4",
       "children": [
        "IPY_MODEL_ac1707879a6c4a17a1abf33e3b300851",
        "IPY_MODEL_77727312b8a24268891db8960343c396"
       ],
       "layout": "IPY_MODEL_415c8448f53742479241422e3ac215b0"
      }
     },
     "05182576b8e04359b45e9a44a5dc3269": {
      "model_module": "jupyter-js-widgets",
      "model_module_version": "~2.1.4",
      "model_name": "OutputModel",
      "state": {
       "_dom_classes": [],
       "_model_module": "jupyter-js-widgets",
       "_model_module_version": "~2.1.4",
       "_view_module": "jupyter-js-widgets",
       "_view_module_version": "~2.1.4",
       "layout": "IPY_MODEL_8c820ae3d2c543de9a3d45b3ee7d433d",
       "msg_throttle": 1
      }
     },
     "05b137fb3fc74a62b142b8a1ef268890": {
      "model_module": "jupyter-js-widgets",
      "model_module_version": "~2.1.4",
      "model_name": "LayoutModel",
      "state": {
       "_model_module_version": "~2.1.4",
       "_view_module_version": "~2.1.4",
       "width": "80%"
      }
     },
     "05bf476a127146d8b74ff69007b5293f": {
      "model_module": "jupyter-js-widgets",
      "model_module_version": "~2.1.4",
      "model_name": "IntSliderModel",
      "state": {
       "_model_module_version": "~2.1.4",
       "_view_module_version": "~2.1.4",
       "continuous_update": false,
       "description": "window size:",
       "layout": "IPY_MODEL_307e94322eea4e3f85853e2c64a168e8",
       "max": 1000,
       "min": 100,
       "step": 100,
       "style": "IPY_MODEL_8491049192604ad68d311de9ee031cfb",
       "value": 500
      }
     },
     "0620e0c840d540739e8b5237446a7d23": {
      "model_module": "jupyter-js-widgets",
      "model_module_version": "~2.1.4",
      "model_name": "OutputModel",
      "state": {
       "_dom_classes": [],
       "_model_module": "jupyter-js-widgets",
       "_model_module_version": "~2.1.4",
       "_view_module": "jupyter-js-widgets",
       "_view_module_version": "~2.1.4",
       "layout": "IPY_MODEL_c3e1d64c6d0545fbb29833f41916d6c5",
       "msg_throttle": 1
      }
     },
     "065954f303ad47d392085dd3eae4485b": {
      "model_module": "jupyter-js-widgets",
      "model_module_version": "~2.1.4",
      "model_name": "VBoxModel",
      "state": {
       "_dom_classes": [
        "widget-interact"
       ],
       "_model_module_version": "~2.1.4",
       "_view_module_version": "~2.1.4",
       "children": [
        "IPY_MODEL_1dab91e7b7a044918cf22a06d9963c51",
        "IPY_MODEL_220345e595de47c2b5a354c0b11600b8"
       ],
       "layout": "IPY_MODEL_cc8dcf2556e54e269c682dfa83386099"
      }
     },
     "0678f89dfe274edab778787a43d5475d": {
      "model_module": "jupyter-js-widgets",
      "model_module_version": "~2.1.4",
      "model_name": "LayoutModel",
      "state": {
       "_model_module_version": "~2.1.4",
       "_view_module_version": "~2.1.4"
      }
     },
     "06b24c8a716b443ea3af3629eba168d5": {
      "model_module": "jupyter-js-widgets",
      "model_module_version": "~2.1.4",
      "model_name": "OutputModel",
      "state": {
       "_dom_classes": [],
       "_model_module": "jupyter-js-widgets",
       "_model_module_version": "~2.1.4",
       "_view_module": "jupyter-js-widgets",
       "_view_module_version": "~2.1.4",
       "layout": "IPY_MODEL_b60cfd9dc888470691b6da11a4cb2101",
       "msg_throttle": 1
      }
     },
     "07954c2ef3c1421f9aca27792326a496": {
      "model_module": "jupyter-js-widgets",
      "model_module_version": "~2.1.4",
      "model_name": "LayoutModel",
      "state": {
       "_model_module_version": "~2.1.4",
       "_view_module_version": "~2.1.4"
      }
     },
     "07a67f13803044919fc28129c09bd96c": {
      "model_module": "jupyter-js-widgets",
      "model_module_version": "~2.1.4",
      "model_name": "IntSliderModel",
      "state": {
       "_model_module_version": "~2.1.4",
       "_view_module_version": "~2.1.4",
       "continuous_update": false,
       "description": "window size:",
       "layout": "IPY_MODEL_ef4df7d24bea4ef99d3ef412df1bedd2",
       "max": 1000,
       "min": 100,
       "step": 100,
       "style": "IPY_MODEL_47455e8f4fb74110b1a9f306328dfc89",
       "value": 500
      }
     },
     "0816308372be430aaf9992b63d467714": {
      "model_module": "jupyter-js-widgets",
      "model_module_version": "~2.1.4",
      "model_name": "LayoutModel",
      "state": {
       "_model_module_version": "~2.1.4",
       "_view_module_version": "~2.1.4"
      }
     },
     "085eaecdc7384269896f442aeee626d8": {
      "model_module": "jupyter-js-widgets",
      "model_module_version": "~2.1.4",
      "model_name": "LayoutModel",
      "state": {
       "_model_module_version": "~2.1.4",
       "_view_module_version": "~2.1.4"
      }
     },
     "086b89fa05644d6693f6f9d5696d6e59": {
      "model_module": "jupyter-js-widgets",
      "model_module_version": "~2.1.4",
      "model_name": "LayoutModel",
      "state": {
       "_model_module_version": "~2.1.4",
       "_view_module_version": "~2.1.4"
      }
     },
     "088b92ee1f674264af970c783bb9fae1": {
      "model_module": "jupyter-js-widgets",
      "model_module_version": "~2.1.4",
      "model_name": "SliderStyleModel",
      "state": {
       "_model_module_version": "~2.1.4",
       "_view_module_version": "~2.1.4"
      }
     },
     "09018801e12f42bda5633849baa085f5": {
      "model_module": "jupyter-js-widgets",
      "model_module_version": "~2.1.4",
      "model_name": "LayoutModel",
      "state": {
       "_model_module_version": "~2.1.4",
       "_view_module_version": "~2.1.4",
       "width": "80%"
      }
     },
     "09187267beff41a7a02f52178b47bbbb": {
      "model_module": "jupyter-js-widgets",
      "model_module_version": "~2.1.4",
      "model_name": "OutputModel",
      "state": {
       "_dom_classes": [],
       "_model_module": "jupyter-js-widgets",
       "_model_module_version": "~2.1.4",
       "_view_module": "jupyter-js-widgets",
       "_view_module_version": "~2.1.4",
       "layout": "IPY_MODEL_862f1e8693894fd580b2375793eaf752",
       "msg_throttle": 1
      }
     },
     "098199f1ad304988bba6450deb2d3ae5": {
      "model_module": "jupyter-js-widgets",
      "model_module_version": "~2.1.4",
      "model_name": "SliderStyleModel",
      "state": {
       "_model_module_version": "~2.1.4",
       "_view_module_version": "~2.1.4"
      }
     },
     "0995bb44fa8045319be84b1acc904d11": {
      "model_module": "jupyter-js-widgets",
      "model_module_version": "~2.1.4",
      "model_name": "OutputModel",
      "state": {
       "_dom_classes": [],
       "_model_module": "jupyter-js-widgets",
       "_model_module_version": "~2.1.4",
       "_view_module": "jupyter-js-widgets",
       "_view_module_version": "~2.1.4",
       "layout": "IPY_MODEL_a682bed56496450fa9636d6f0d2fbd0b",
       "msg_throttle": 1
      }
     },
     "09a242b781a44fec88f316c4db813743": {
      "model_module": "jupyter-js-widgets",
      "model_module_version": "~2.1.4",
      "model_name": "LayoutModel",
      "state": {
       "_model_module_version": "~2.1.4",
       "_view_module_version": "~2.1.4"
      }
     },
     "09fc4849b99540229da6d718e99c7923": {
      "model_module": "jupyter-js-widgets",
      "model_module_version": "~2.1.4",
      "model_name": "OutputModel",
      "state": {
       "_dom_classes": [],
       "_model_module": "jupyter-js-widgets",
       "_model_module_version": "~2.1.4",
       "_view_module": "jupyter-js-widgets",
       "_view_module_version": "~2.1.4",
       "layout": "IPY_MODEL_baaa63fb87f54f378c4130627fd6c4a1",
       "msg_throttle": 1
      }
     },
     "09fecd932cae48ac83d30c769ff8013c": {
      "model_module": "jupyter-js-widgets",
      "model_module_version": "~2.1.4",
      "model_name": "ButtonModel",
      "state": {
       "_model_module_version": "~2.1.4",
       "_view_module_version": "~2.1.4",
       "button_style": "danger",
       "description": "Start training",
       "layout": "IPY_MODEL_554dbba830814f82a60a87428ac1b1ae",
       "style": "IPY_MODEL_d72b27a8ce1b468e86e1dfda8b8c4bf1"
      }
     },
     "0ab2699ce7f34d2f88a3f2c14d0ba3b6": {
      "model_module": "jupyter-js-widgets",
      "model_module_version": "~2.1.4",
      "model_name": "RadioButtonsModel",
      "state": {
       "_model_module_version": "~2.1.4",
       "_options_labels": [
        "Multilayer Perceptron",
        "Naive Bayes"
       ],
       "_view_module_version": "~2.1.4",
       "description": "Classifier:",
       "layout": "IPY_MODEL_a4e20960346e4ee0a7354db64c42d8f7",
       "value": "Multilayer Perceptron"
      }
     },
     "0ae6ba007b68452aa8698f4a00ac7ef9": {
      "model_module": "jupyter-js-widgets",
      "model_module_version": "~2.1.4",
      "model_name": "RadioButtonsModel",
      "state": {
       "_model_module_version": "~2.1.4",
       "_options_labels": [
        "Multilayer Perceptron",
        "Naive Bayes"
       ],
       "_view_module_version": "~2.1.4",
       "description": "Classifier:",
       "layout": "IPY_MODEL_683001bcf5e0458cb04ffd2bb7990bd8",
       "value": "Multilayer Perceptron"
      }
     },
     "0b454c6ab5e841babc16f6cdba291b4a": {
      "model_module": "jupyter-js-widgets",
      "model_module_version": "~2.1.4",
      "model_name": "LayoutModel",
      "state": {
       "_model_module_version": "~2.1.4",
       "_view_module_version": "~2.1.4",
       "width": "80%"
      }
     },
     "0c0ae13106b7428db8247f4461152538": {
      "model_module": "jupyter-js-widgets",
      "model_module_version": "~2.1.4",
      "model_name": "LayoutModel",
      "state": {
       "_model_module_version": "~2.1.4",
       "_view_module_version": "~2.1.4"
      }
     },
     "0c50928f24ff42aba75e22bc0cebcc21": {
      "model_module": "jupyter-js-widgets",
      "model_module_version": "~2.1.4",
      "model_name": "VBoxModel",
      "state": {
       "_dom_classes": [
        "widget-interact"
       ],
       "_model_module_version": "~2.1.4",
       "_view_module_version": "~2.1.4",
       "children": [
        "IPY_MODEL_8bfa00d0ee8e41c8a284e952c9ee43a6",
        "IPY_MODEL_cb8d4c6e487142e0b8f40312c923864f"
       ],
       "layout": "IPY_MODEL_abd5a00e1f9242ff8f4b20f4427f7004"
      }
     },
     "0cebc5bb1a1b4a30b534d4e76fb63d9e": {
      "model_module": "jupyter-js-widgets",
      "model_module_version": "~2.1.4",
      "model_name": "ProgressModel",
      "state": {
       "_model_module_version": "~2.1.4",
       "_view_module_version": "~2.1.4",
       "bar_style": "info",
       "description": "Predicting:",
       "layout": "IPY_MODEL_c644c7732ff54b48b7245a247100fde4",
       "max": 175,
       "style": "IPY_MODEL_ce9b47a1f4744d77ac7d9a90d639bd4c",
       "value": 175
      }
     },
     "0d3ea443682c492dac7634dd2dcd89aa": {
      "model_module": "jupyter-js-widgets",
      "model_module_version": "~2.1.4",
      "model_name": "VBoxModel",
      "state": {
       "_dom_classes": [
        "widget-interact"
       ],
       "_model_module_version": "~2.1.4",
       "_view_module_version": "~2.1.4",
       "children": [
        "IPY_MODEL_3b21543f0bf041908812fb4d9858ece1",
        "IPY_MODEL_ad0808b87eb442d4abf208b04083ddfd"
       ],
       "layout": "IPY_MODEL_304361d1f7ba4cd4893c9f16814f7975"
      }
     },
     "0d75486f32d94e11928edf808ab239b0": {
      "model_module": "jupyter-js-widgets",
      "model_module_version": "~2.1.4",
      "model_name": "VBoxModel",
      "state": {
       "_dom_classes": [
        "widget-interact"
       ],
       "_model_module_version": "~2.1.4",
       "_view_module_version": "~2.1.4",
       "children": [
        "IPY_MODEL_76278197dc5946379cd39fa6548c29ba",
        "IPY_MODEL_05182576b8e04359b45e9a44a5dc3269"
       ],
       "layout": "IPY_MODEL_6931fda93b2f4014be5a843b0225e04a"
      }
     },
     "0d7629b6066a408fa7b99859d198e45d": {
      "model_module": "jupyter-js-widgets",
      "model_module_version": "~2.1.4",
      "model_name": "VBoxModel",
      "state": {
       "_dom_classes": [
        "widget-interact"
       ],
       "_model_module_version": "~2.1.4",
       "_view_module_version": "~2.1.4",
       "children": [
        "IPY_MODEL_51c9205152324f358fe25000536d02c9",
        "IPY_MODEL_69b34ee3a09b4dd5ab2232bf2c6e6e4f"
       ],
       "layout": "IPY_MODEL_8e4df1add6a247c8b1a5aa0aef549597"
      }
     },
     "0dd2f72a6d104e85a69246dc032dc84e": {
      "model_module": "jupyter-js-widgets",
      "model_module_version": "~2.1.4",
      "model_name": "IntSliderModel",
      "state": {
       "_model_module_version": "~2.1.4",
       "_view_module_version": "~2.1.4",
       "continuous_update": false,
       "description": "window reps:",
       "layout": "IPY_MODEL_c47ec9a5ba314cd0a720f0d584fbb0e2",
       "min": 1,
       "style": "IPY_MODEL_6b7c50a398e84ae3b9bcf3a0df5bdab8",
       "value": 10
      }
     },
     "0ddf5517919744e8916ad4a6bfac8f60": {
      "model_module": "jupyter-js-widgets",
      "model_module_version": "~2.1.4",
      "model_name": "OutputModel",
      "state": {
       "_dom_classes": [],
       "_model_module": "jupyter-js-widgets",
       "_model_module_version": "~2.1.4",
       "_view_module": "jupyter-js-widgets",
       "_view_module_version": "~2.1.4",
       "layout": "IPY_MODEL_a7069d3661a94b73959503354d9fc0c8",
       "msg_throttle": 1
      }
     },
     "0e25a5eeb47a4e699fb84237f678090c": {
      "model_module": "jupyter-js-widgets",
      "model_module_version": "~2.1.4",
      "model_name": "OutputModel",
      "state": {
       "_dom_classes": [],
       "_model_module": "jupyter-js-widgets",
       "_model_module_version": "~2.1.4",
       "_view_module": "jupyter-js-widgets",
       "_view_module_version": "~2.1.4",
       "layout": "IPY_MODEL_72aa19ac49174d7db6f5262e558b611e",
       "msg_throttle": 1
      }
     },
     "0f34b859d31b4043856a68a0386b76fe": {
      "model_module": "jupyter-js-widgets",
      "model_module_version": "~2.1.4",
      "model_name": "LayoutModel",
      "state": {
       "_model_module_version": "~2.1.4",
       "_view_module_version": "~2.1.4",
       "width": "80%"
      }
     },
     "0f35517ac3924ffda3b39cde61627db7": {
      "model_module": "jupyter-js-widgets",
      "model_module_version": "~2.1.4",
      "model_name": "LayoutModel",
      "state": {
       "_model_module_version": "~2.1.4",
       "_view_module_version": "~2.1.4",
       "width": "80%"
      }
     },
     "0f8bf5b690ac41c8ba46e4e2faab495d": {
      "model_module": "jupyter-js-widgets",
      "model_module_version": "~2.1.4",
      "model_name": "RadioButtonsModel",
      "state": {
       "_model_module_version": "~2.1.4",
       "_options_labels": [
        "Multilayer Perceptron",
        "Naive Bayes"
       ],
       "_view_module_version": "~2.1.4",
       "description": "Classifier:",
       "layout": "IPY_MODEL_ffba0f2cbc4144d0a05132c4c2ae7646",
       "value": "Multilayer Perceptron"
      }
     },
     "0fdfed06fd844086b8b6fff08a13262d": {
      "model_module": "jupyter-js-widgets",
      "model_module_version": "~2.1.4",
      "model_name": "VBoxModel",
      "state": {
       "_dom_classes": [
        "widget-interact"
       ],
       "_model_module_version": "~2.1.4",
       "_view_module_version": "~2.1.4",
       "children": [
        "IPY_MODEL_d69b44af99354b23bdbc81ab8a69c6e3",
        "IPY_MODEL_2c9df25bbb194dceb7e51e0591d442c1"
       ],
       "layout": "IPY_MODEL_2b13e0763e5340d587c91d516a501fd8"
      }
     },
     "105cdd335a0d4a4f84c31243689e9832": {
      "model_module": "jupyter-js-widgets",
      "model_module_version": "~2.1.4",
      "model_name": "ProgressModel",
      "state": {
       "_model_module_version": "~2.1.4",
       "_view_module_version": "~2.1.4",
       "description": "Training:",
       "layout": "IPY_MODEL_e18e27c430b24b3996892b216c907d07",
       "max": 700,
       "style": "IPY_MODEL_00ce806513a64e80b9cd92edb6e95700",
       "value": 700
      }
     },
     "10ea19f6043546f7b14117bed447f198": {
      "model_module": "jupyter-js-widgets",
      "model_module_version": "~2.1.4",
      "model_name": "LayoutModel",
      "state": {
       "_model_module_version": "~2.1.4",
       "_view_module_version": "~2.1.4"
      }
     },
     "11ee17690a5b4f91869d237b4ac0448b": {
      "model_module": "jupyter-js-widgets",
      "model_module_version": "~2.1.4",
      "model_name": "LayoutModel",
      "state": {
       "_model_module_version": "~2.1.4",
       "_view_module_version": "~2.1.4"
      }
     },
     "1275b987c38b4de2b5c6bf9969e34749": {
      "model_module": "jupyter-js-widgets",
      "model_module_version": "~2.1.4",
      "model_name": "ProgressStyleModel",
      "state": {
       "_model_module_version": "~2.1.4",
       "_view_module_version": "~2.1.4"
      }
     },
     "12d7ece00301417386eca341db1afbd8": {
      "model_module": "jupyter-js-widgets",
      "model_module_version": "~2.1.4",
      "model_name": "SliderStyleModel",
      "state": {
       "_model_module_version": "~2.1.4",
       "_view_module_version": "~2.1.4"
      }
     },
     "12ee4e4a97584d698d853b6bfb781a82": {
      "model_module": "jupyter-js-widgets",
      "model_module_version": "~2.1.4",
      "model_name": "VBoxModel",
      "state": {
       "_dom_classes": [
        "widget-interact"
       ],
       "_model_module_version": "~2.1.4",
       "_view_module_version": "~2.1.4",
       "children": [
        "IPY_MODEL_9a07afe45e9c4fb4b2a9fc0228d1a76a",
        "IPY_MODEL_69ad4c691a014b668bb0dcf890825d8f"
       ],
       "layout": "IPY_MODEL_2955662c88fa4d8daa88ce0e56e4946e"
      }
     },
     "1374a022df7c474c9f1ef8d1d8d4862e": {
      "model_module": "jupyter-js-widgets",
      "model_module_version": "~2.1.4",
      "model_name": "LayoutModel",
      "state": {
       "_model_module_version": "~2.1.4",
       "_view_module_version": "~2.1.4",
       "width": "80%"
      }
     },
     "13a7eda878c84df9b3a038acea74a4c4": {
      "model_module": "jupyter-js-widgets",
      "model_module_version": "~2.1.4",
      "model_name": "LayoutModel",
      "state": {
       "_model_module_version": "~2.1.4",
       "_view_module_version": "~2.1.4",
       "width": "80%"
      }
     },
     "13b864ee9a974a5dbb5c6edcaf665226": {
      "model_module": "jupyter-js-widgets",
      "model_module_version": "~2.1.4",
      "model_name": "LayoutModel",
      "state": {
       "_model_module_version": "~2.1.4",
       "_view_module_version": "~2.1.4"
      }
     },
     "13ba5b70f9594748bbd901dd815cb5b9": {
      "model_module": "jupyter-js-widgets",
      "model_module_version": "~2.1.4",
      "model_name": "LayoutModel",
      "state": {
       "_model_module_version": "~2.1.4",
       "_view_module_version": "~2.1.4",
       "width": "80%"
      }
     },
     "1411613911294e46be3fbf7464c6407b": {
      "model_module": "jupyter-js-widgets",
      "model_module_version": "~2.1.4",
      "model_name": "LabelModel",
      "state": {
       "_model_module_version": "~2.1.4",
       "_view_module_version": "~2.1.4",
       "layout": "IPY_MODEL_c9a836656785434e8f7b9d32565bb5da",
       "value": "Hidden layer sizes:"
      }
     },
     "14311ee7609245b4a7a6b4bf22a2bef1": {
      "model_module": "jupyter-js-widgets",
      "model_module_version": "~2.1.4",
      "model_name": "LayoutModel",
      "state": {
       "_model_module_version": "~2.1.4",
       "_view_module_version": "~2.1.4"
      }
     },
     "144c6d49fb6b44019e6cc5848cd6eda8": {
      "model_module": "jupyter-js-widgets",
      "model_module_version": "~2.1.4",
      "model_name": "OutputModel",
      "state": {
       "_dom_classes": [],
       "_model_module": "jupyter-js-widgets",
       "_model_module_version": "~2.1.4",
       "_view_module": "jupyter-js-widgets",
       "_view_module_version": "~2.1.4",
       "layout": "IPY_MODEL_8f35f9edf2594ece9a3ae56b108882f6",
       "msg_throttle": 1
      }
     },
     "1525a22ab7fe448f900fbc3fde9d51e1": {
      "model_module": "jupyter-js-widgets",
      "model_module_version": "~2.1.4",
      "model_name": "ProgressStyleModel",
      "state": {
       "_model_module_version": "~2.1.4",
       "_view_module_version": "~2.1.4"
      }
     },
     "15dde83de0a0408ab607940265cebfd3": {
      "model_module": "jupyter-js-widgets",
      "model_module_version": "~2.1.4",
      "model_name": "LayoutModel",
      "state": {
       "_model_module_version": "~2.1.4",
       "_view_module_version": "~2.1.4"
      }
     },
     "15f4158a76fd40b7890d7f48019abef4": {
      "model_module": "jupyter-js-widgets",
      "model_module_version": "~2.1.4",
      "model_name": "LayoutModel",
      "state": {
       "_model_module_version": "~2.1.4",
       "_view_module_version": "~2.1.4"
      }
     },
     "166110df858248889bdb3d2bbe4da6a8": {
      "model_module": "jupyter-js-widgets",
      "model_module_version": "~2.1.4",
      "model_name": "IntSliderModel",
      "state": {
       "_model_module_version": "~2.1.4",
       "_view_module_version": "~2.1.4",
       "continuous_update": false,
       "description": "num components:",
       "layout": "IPY_MODEL_1e6e455ed5ea4969804ac6e0f1a3ffda",
       "max": 29,
       "min": 1,
       "style": "IPY_MODEL_3eb79c4b6f384f4c9a571f6eac6506ba",
       "value": 5
      }
     },
     "168552f4d1704a31b3ddd9c080afa8d0": {
      "model_module": "jupyter-js-widgets",
      "model_module_version": "~2.1.4",
      "model_name": "ButtonModel",
      "state": {
       "_model_module_version": "~2.1.4",
       "_view_module_version": "~2.1.4",
       "button_style": "danger",
       "description": "Start training",
       "layout": "IPY_MODEL_f78a394750f24f0c8c27cfab8b9135ec",
       "style": "IPY_MODEL_52baf4b9aaba4db283b909687994c4ba"
      }
     },
     "173f075fd11b4c4e9448cc74803ba938": {
      "model_module": "jupyter-js-widgets",
      "model_module_version": "~2.1.4",
      "model_name": "VBoxModel",
      "state": {
       "_dom_classes": [
        "widget-interact"
       ],
       "_model_module_version": "~2.1.4",
       "_view_module_version": "~2.1.4",
       "children": [
        "IPY_MODEL_5bb248cf112140a9a0be5d6a86c8e4d0",
        "IPY_MODEL_7c096f1e5cc9466592cc1066301a239c"
       ],
       "layout": "IPY_MODEL_5edff330f75a44489a73e2b51c2c558b"
      }
     },
     "17c6e676c7ff4db5904c96c4b80fc295": {
      "model_module": "jupyter-js-widgets",
      "model_module_version": "~2.1.4",
      "model_name": "SliderStyleModel",
      "state": {
       "_model_module_version": "~2.1.4",
       "_view_module_version": "~2.1.4"
      }
     },
     "18d3ae69ccec4cfcbe8ba9a14a5053ab": {
      "model_module": "jupyter-js-widgets",
      "model_module_version": "~2.1.4",
      "model_name": "LayoutModel",
      "state": {
       "_model_module_version": "~2.1.4",
       "_view_module_version": "~2.1.4"
      }
     },
     "19eedc2e43134ca391d3af194e5b541e": {
      "model_module": "jupyter-js-widgets",
      "model_module_version": "~2.1.4",
      "model_name": "VBoxModel",
      "state": {
       "_dom_classes": [
        "widget-interact"
       ],
       "_model_module_version": "~2.1.4",
       "_view_module_version": "~2.1.4",
       "children": [
        "IPY_MODEL_be75e5d633054a05a989a080f159b7ed",
        "IPY_MODEL_da6abe57e9ea4ce5820c618c8ececfec"
       ],
       "layout": "IPY_MODEL_e8613f0f61a94cc49b0ea0eacbee4149"
      }
     },
     "1a09480a881b469b8791887af5307705": {
      "model_module": "jupyter-js-widgets",
      "model_module_version": "~2.1.4",
      "model_name": "ProgressStyleModel",
      "state": {
       "_model_module_version": "~2.1.4",
       "_view_module_version": "~2.1.4"
      }
     },
     "1a30d48ed4b14ec4a46f2c216378dad4": {
      "model_module": "jupyter-js-widgets",
      "model_module_version": "~2.1.4",
      "model_name": "SliderStyleModel",
      "state": {
       "_model_module_version": "~2.1.4",
       "_view_module_version": "~2.1.4"
      }
     },
     "1bc4f166f0074e7e832797acf5a3cc82": {
      "model_module": "jupyter-js-widgets",
      "model_module_version": "~2.1.4",
      "model_name": "LayoutModel",
      "state": {
       "_model_module_version": "~2.1.4",
       "_view_module_version": "~2.1.4"
      }
     },
     "1c0befabed1d405bbf639a19d411ef6a": {
      "model_module": "jupyter-js-widgets",
      "model_module_version": "~2.1.4",
      "model_name": "LayoutModel",
      "state": {
       "_model_module_version": "~2.1.4",
       "_view_module_version": "~2.1.4"
      }
     },
     "1c198703aad44b0988d349b6dfc73d05": {
      "model_module": "jupyter-js-widgets",
      "model_module_version": "~2.1.4",
      "model_name": "LayoutModel",
      "state": {
       "_model_module_version": "~2.1.4",
       "_view_module_version": "~2.1.4",
       "width": "80%"
      }
     },
     "1c69a82af24c41ee902d2723f9a14e62": {
      "model_module": "jupyter-js-widgets",
      "model_module_version": "~2.1.4",
      "model_name": "LayoutModel",
      "state": {
       "_model_module_version": "~2.1.4",
       "_view_module_version": "~2.1.4",
       "width": "80%"
      }
     },
     "1cc61c7f2b3443348e150c8a18ea5bbb": {
      "model_module": "jupyter-js-widgets",
      "model_module_version": "~2.1.4",
      "model_name": "LayoutModel",
      "state": {
       "_model_module_version": "~2.1.4",
       "_view_module_version": "~2.1.4"
      }
     },
     "1cc68d3fe1f9402d883a6e2b045ca956": {
      "model_module": "jupyter-js-widgets",
      "model_module_version": "~2.1.4",
      "model_name": "LayoutModel",
      "state": {
       "_model_module_version": "~2.1.4",
       "_view_module_version": "~2.1.4"
      }
     },
     "1cfae9a493e64de3ba3ca84af550d3a6": {
      "model_module": "jupyter-js-widgets",
      "model_module_version": "~2.1.4",
      "model_name": "OutputModel",
      "state": {
       "_dom_classes": [],
       "_model_module": "jupyter-js-widgets",
       "_model_module_version": "~2.1.4",
       "_view_module": "jupyter-js-widgets",
       "_view_module_version": "~2.1.4",
       "layout": "IPY_MODEL_b5d4e73ff5a44106810bcb34679f2984",
       "msg_throttle": 1
      }
     },
     "1d9067ce94be441f95af6d22b70ab26c": {
      "model_module": "jupyter-js-widgets",
      "model_module_version": "~2.1.4",
      "model_name": "ButtonModel",
      "state": {
       "_model_module_version": "~2.1.4",
       "_view_module_version": "~2.1.4",
       "button_style": "danger",
       "description": "Start training",
       "layout": "IPY_MODEL_996ab39b59014a659fbd2dbd8c519f32",
       "style": "IPY_MODEL_8aeab896928e475a8949e6410089e936"
      }
     },
     "1da1370454e14a9fbbc834beffec916a": {
      "model_module": "jupyter-js-widgets",
      "model_module_version": "~2.1.4",
      "model_name": "OutputModel",
      "state": {
       "_dom_classes": [],
       "_model_module": "jupyter-js-widgets",
       "_model_module_version": "~2.1.4",
       "_view_module": "jupyter-js-widgets",
       "_view_module_version": "~2.1.4",
       "layout": "IPY_MODEL_3705fe8821f24c7faf49ee0da4c25b0b",
       "msg_throttle": 1
      }
     },
     "1dab91e7b7a044918cf22a06d9963c51": {
      "model_module": "jupyter-js-widgets",
      "model_module_version": "~2.1.4",
      "model_name": "IntSliderModel",
      "state": {
       "_model_module_version": "~2.1.4",
       "_view_module_version": "~2.1.4",
       "continuous_update": false,
       "description": "max iterations:",
       "layout": "IPY_MODEL_92266a8e11a2481b904c8988bc9a2552",
       "max": 500,
       "min": 1,
       "style": "IPY_MODEL_9225742b5b4b4c108f0caf180c8e02cd",
       "value": 30
      }
     },
     "1e193502e1214c7cab5c4726459f9849": {
      "model_module": "jupyter-js-widgets",
      "model_module_version": "~2.1.4",
      "model_name": "OutputModel",
      "state": {
       "_dom_classes": [],
       "_model_module": "jupyter-js-widgets",
       "_model_module_version": "~2.1.4",
       "_view_module": "jupyter-js-widgets",
       "_view_module_version": "~2.1.4",
       "layout": "IPY_MODEL_fa125ada76e1439dba2c3dba7f74277d",
       "msg_throttle": 1
      }
     },
     "1e557e7cdb894cdfa330ebd8c3080b13": {
      "model_module": "jupyter-js-widgets",
      "model_module_version": "~2.1.4",
      "model_name": "ProgressModel",
      "state": {
       "_model_module_version": "~2.1.4",
       "_view_module_version": "~2.1.4",
       "bar_style": "info",
       "description": "Predicting:",
       "layout": "IPY_MODEL_52a870f3fe8b4c61941b4a227986e81e",
       "max": 3500000,
       "style": "IPY_MODEL_2c6e04d3c7264e6fb7aac86d5105dc54",
       "value": 3499999
      }
     },
     "1e65e4d509db407bb4b4062c26cb3615": {
      "model_module": "jupyter-js-widgets",
      "model_module_version": "~2.1.4",
      "model_name": "ButtonModel",
      "state": {
       "_model_module_version": "~2.1.4",
       "_view_module_version": "~2.1.4",
       "button_style": "danger",
       "description": "Start training",
       "layout": "IPY_MODEL_59d4f48f14f5466fa03ad7898f966e37",
       "style": "IPY_MODEL_c8619d9f46b04761aa20f1b051985a0e"
      }
     },
     "1e6e455ed5ea4969804ac6e0f1a3ffda": {
      "model_module": "jupyter-js-widgets",
      "model_module_version": "~2.1.4",
      "model_name": "LayoutModel",
      "state": {
       "_model_module_version": "~2.1.4",
       "_view_module_version": "~2.1.4",
       "width": "80%"
      }
     },
     "1eb684ad4c1e44c29fc52154477e1827": {
      "model_module": "jupyter-js-widgets",
      "model_module_version": "~2.1.4",
      "model_name": "LayoutModel",
      "state": {
       "_model_module_version": "~2.1.4",
       "_view_module_version": "~2.1.4"
      }
     },
     "20bebffeb41c4b7d9ce32db71ded3294": {
      "model_module": "jupyter-js-widgets",
      "model_module_version": "~2.1.4",
      "model_name": "IntSliderModel",
      "state": {
       "_model_module_version": "~2.1.4",
       "_view_module_version": "~2.1.4",
       "continuous_update": false,
       "description": "window reps:",
       "layout": "IPY_MODEL_3025ce33283d4ad484a5d3b1afa4b904",
       "min": 1,
       "style": "IPY_MODEL_f26878f28e794fba8ad18aca334ec727",
       "value": 10
      }
     },
     "21274aa5f40248d48ccae4a98848ddd9": {
      "model_module": "jupyter-js-widgets",
      "model_module_version": "~2.1.4",
      "model_name": "LayoutModel",
      "state": {
       "_model_module_version": "~2.1.4",
       "_view_module_version": "~2.1.4",
       "width": "80%"
      }
     },
     "2137a1510f4845b6a2c0ea044b47d208": {
      "model_module": "jupyter-js-widgets",
      "model_module_version": "~2.1.4",
      "model_name": "VBoxModel",
      "state": {
       "_dom_classes": [
        "widget-interact"
       ],
       "_model_module_version": "~2.1.4",
       "_view_module_version": "~2.1.4",
       "children": [
        "IPY_MODEL_c5a8441b66e84f35957a67e202d4cd63",
        "IPY_MODEL_0995bb44fa8045319be84b1acc904d11"
       ],
       "layout": "IPY_MODEL_76f7e6dfe7c3462588282fc02c9d5c78"
      }
     },
     "214ae47e5c364df6accc8dbcc1cf3aff": {
      "model_module": "jupyter-js-widgets",
      "model_module_version": "~2.1.4",
      "model_name": "LayoutModel",
      "state": {
       "_model_module_version": "~2.1.4",
       "_view_module_version": "~2.1.4"
      }
     },
     "21ba6a7a78f94730a6d38dba4c6506d8": {
      "model_module": "jupyter-js-widgets",
      "model_module_version": "~2.1.4",
      "model_name": "FloatTextModel",
      "state": {
       "_model_module_version": "~2.1.4",
       "_view_module_version": "~2.1.4",
       "description": "Sampling Percentage:",
       "layout": "IPY_MODEL_fea595c78dc14bc596d20b3c82f530b5",
       "max": 1,
       "min": 0,
       "step": 0.1,
       "value": 0.0001
      }
     },
     "2201acc2db294fb4a7a449c32966fc67": {
      "model_module": "jupyter-js-widgets",
      "model_module_version": "~2.1.4",
      "model_name": "SliderStyleModel",
      "state": {
       "_model_module_version": "~2.1.4",
       "_view_module_version": "~2.1.4"
      }
     },
     "220345e595de47c2b5a354c0b11600b8": {
      "model_module": "jupyter-js-widgets",
      "model_module_version": "~2.1.4",
      "model_name": "OutputModel",
      "state": {
       "_dom_classes": [],
       "_model_module": "jupyter-js-widgets",
       "_model_module_version": "~2.1.4",
       "_view_module": "jupyter-js-widgets",
       "_view_module_version": "~2.1.4",
       "layout": "IPY_MODEL_6b8e352d8bc546d29b4c5552d426f55b",
       "msg_throttle": 1
      }
     },
     "2243393b2e504b73aaf50da113bae39f": {
      "model_module": "jupyter-js-widgets",
      "model_module_version": "~2.1.4",
      "model_name": "OutputModel",
      "state": {
       "_dom_classes": [],
       "_model_module": "jupyter-js-widgets",
       "_model_module_version": "~2.1.4",
       "_view_module": "jupyter-js-widgets",
       "_view_module_version": "~2.1.4",
       "layout": "IPY_MODEL_a19e8185b81a49469a443236116de20e",
       "msg_throttle": 1
      }
     },
     "225522e450404d81afcbf33a4f4eb196": {
      "model_module": "jupyter-js-widgets",
      "model_module_version": "~2.1.4",
      "model_name": "SliderStyleModel",
      "state": {
       "_model_module_version": "~2.1.4",
       "_view_module_version": "~2.1.4"
      }
     },
     "2259d70a9bbb4aff83d2122a2bc440f1": {
      "model_module": "jupyter-js-widgets",
      "model_module_version": "~2.1.4",
      "model_name": "LayoutModel",
      "state": {
       "_model_module_version": "~2.1.4",
       "_view_module_version": "~2.1.4"
      }
     },
     "228630623149497f8e7f0273435c1f1c": {
      "model_module": "jupyter-js-widgets",
      "model_module_version": "~2.1.4",
      "model_name": "SliderStyleModel",
      "state": {
       "_model_module_version": "~2.1.4",
       "_view_module_version": "~2.1.4"
      }
     },
     "22b9dc8cc44a406fb227a3f1dee7aa3c": {
      "model_module": "jupyter-js-widgets",
      "model_module_version": "~2.1.4",
      "model_name": "OutputModel",
      "state": {
       "_dom_classes": [],
       "_model_module": "jupyter-js-widgets",
       "_model_module_version": "~2.1.4",
       "_view_module": "jupyter-js-widgets",
       "_view_module_version": "~2.1.4",
       "layout": "IPY_MODEL_254b5372ef3942b5aaad2ce5922dcbdf",
       "msg_throttle": 1
      }
     },
     "22ce437ab1864e4fb6adec67f640648d": {
      "model_module": "jupyter-js-widgets",
      "model_module_version": "~2.1.4",
      "model_name": "VBoxModel",
      "state": {
       "_dom_classes": [
        "widget-interact"
       ],
       "_model_module_version": "~2.1.4",
       "_view_module_version": "~2.1.4",
       "children": [
        "IPY_MODEL_b26f8c2a61f34b05ae057530b4f0020e",
        "IPY_MODEL_0e25a5eeb47a4e699fb84237f678090c"
       ],
       "layout": "IPY_MODEL_8d96fb64180b489e94781431d62cf281"
      }
     },
     "233af23085904b7d9ed43fc435dd0eab": {
      "model_module": "jupyter-js-widgets",
      "model_module_version": "~2.1.4",
      "model_name": "LayoutModel",
      "state": {
       "_model_module_version": "~2.1.4",
       "_view_module_version": "~2.1.4"
      }
     },
     "234ae71869554ca5984416016430f5ee": {
      "model_module": "jupyter-js-widgets",
      "model_module_version": "~2.1.4",
      "model_name": "LabelModel",
      "state": {
       "_model_module_version": "~2.1.4",
       "_view_module_version": "~2.1.4",
       "layout": "IPY_MODEL_5e7c1a364d3842878a12b38fc7a2b30b",
       "value": "Hidden layer sizes:"
      }
     },
     "2396c9a8d356477a85910ae4ac0f7709": {
      "model_module": "jupyter-js-widgets",
      "model_module_version": "~2.1.4",
      "model_name": "LayoutModel",
      "state": {
       "_model_module_version": "~2.1.4",
       "_view_module_version": "~2.1.4"
      }
     },
     "23b683e3d6024fd98977da3254b3ffb7": {
      "model_module": "jupyter-js-widgets",
      "model_module_version": "~2.1.4",
      "model_name": "FloatTextModel",
      "state": {
       "_model_module_version": "~2.1.4",
       "_view_module_version": "~2.1.4",
       "description": "Sampling Percentage:",
       "layout": "IPY_MODEL_e13d5a77475d46d2a490a1fcedff99de",
       "max": 1,
       "min": 0,
       "step": 0.1,
       "value": 0.0001
      }
     },
     "2445c0366d634986b8d1a2494e8ba4fd": {
      "model_module": "jupyter-js-widgets",
      "model_module_version": "~2.1.4",
      "model_name": "IntSliderModel",
      "state": {
       "_model_module_version": "~2.1.4",
       "_view_module_version": "~2.1.4",
       "continuous_update": false,
       "description": "Hidden layer 1:",
       "layout": "IPY_MODEL_0f35517ac3924ffda3b39cde61627db7",
       "min": 1,
       "style": "IPY_MODEL_f423c24e7e554530abc8ca8469b3299e",
       "value": 20
      }
     },
     "24e68d1cfb084df2a618b0875e291a56": {
      "model_module": "jupyter-js-widgets",
      "model_module_version": "~2.1.4",
      "model_name": "VBoxModel",
      "state": {
       "_model_module_version": "~2.1.4",
       "_view_module_version": "~2.1.4",
       "children": [
        "IPY_MODEL_86aade8bc88440dfb9cf31ef55e61a39",
        "IPY_MODEL_80ce5777925d4d6c8874248645d49ee7",
        "IPY_MODEL_6cac3fd392ef49fe8c41699a83a850d8"
       ],
       "layout": "IPY_MODEL_eb57e120254d41278bfc33be6cae91a4"
      }
     },
     "250334ae895541b6888e0cc49b2e4603": {
      "model_module": "jupyter-js-widgets",
      "model_module_version": "~2.1.4",
      "model_name": "ProgressStyleModel",
      "state": {
       "_model_module_version": "~2.1.4",
       "_view_module_version": "~2.1.4"
      }
     },
     "254b5372ef3942b5aaad2ce5922dcbdf": {
      "model_module": "jupyter-js-widgets",
      "model_module_version": "~2.1.4",
      "model_name": "LayoutModel",
      "state": {
       "_model_module_version": "~2.1.4",
       "_view_module_version": "~2.1.4"
      }
     },
     "2641e64e02944ac5963493efa947dd84": {
      "model_module": "jupyter-js-widgets",
      "model_module_version": "~2.1.4",
      "model_name": "LayoutModel",
      "state": {
       "_model_module_version": "~2.1.4",
       "_view_module_version": "~2.1.4"
      }
     },
     "266a2dbf8f254949abfde14a6f3cd232": {
      "model_module": "jupyter-js-widgets",
      "model_module_version": "~2.1.4",
      "model_name": "LayoutModel",
      "state": {
       "_model_module_version": "~2.1.4",
       "_view_module_version": "~2.1.4"
      }
     },
     "26958a5b103344f7a374b96a9cd63344": {
      "model_module": "jupyter-js-widgets",
      "model_module_version": "~2.1.4",
      "model_name": "OutputModel",
      "state": {
       "_dom_classes": [],
       "_model_module": "jupyter-js-widgets",
       "_model_module_version": "~2.1.4",
       "_view_module": "jupyter-js-widgets",
       "_view_module_version": "~2.1.4",
       "layout": "IPY_MODEL_a44a13c61a394f449df6a5a997e5b40a",
       "msg_throttle": 1
      }
     },
     "278c6b1e18ea456e908e932b32f18ab1": {
      "model_module": "jupyter-js-widgets",
      "model_module_version": "~2.1.4",
      "model_name": "VBoxModel",
      "state": {
       "_dom_classes": [
        "widget-interact"
       ],
       "_model_module_version": "~2.1.4",
       "_view_module_version": "~2.1.4",
       "children": [
        "IPY_MODEL_d3942b1d37784347965a395bce41768c",
        "IPY_MODEL_0ddf5517919744e8916ad4a6bfac8f60"
       ],
       "layout": "IPY_MODEL_b31896e9986240eaa6671474344e93a0"
      }
     },
     "27aefebd91b343259c57b5487b4e9607": {
      "model_module": "jupyter-js-widgets",
      "model_module_version": "~2.1.4",
      "model_name": "ButtonStyleModel",
      "state": {
       "_model_module_version": "~2.1.4",
       "_view_module_version": "~2.1.4"
      }
     },
     "27c1d6be47af42659c6ed3f39d305ed6": {
      "model_module": "jupyter-js-widgets",
      "model_module_version": "~2.1.4",
      "model_name": "VBoxModel",
      "state": {
       "_dom_classes": [
        "widget-interact"
       ],
       "_model_module_version": "~2.1.4",
       "_view_module_version": "~2.1.4",
       "children": [
        "IPY_MODEL_561359c0db31435092b452dbe39959c2",
        "IPY_MODEL_6714f9751ef846e8bd0c44742a8edb01"
       ],
       "layout": "IPY_MODEL_b576487889bf4694974eb6f4d9cf4226"
      }
     },
     "27cd5d190ec542ad94a7970173f99460": {
      "model_module": "jupyter-js-widgets",
      "model_module_version": "~2.1.4",
      "model_name": "LayoutModel",
      "state": {
       "_model_module_version": "~2.1.4",
       "_view_module_version": "~2.1.4"
      }
     },
     "27db167c8aa4400caea5bb0d597c253f": {
      "model_module": "jupyter-js-widgets",
      "model_module_version": "~2.1.4",
      "model_name": "VBoxModel",
      "state": {
       "_dom_classes": [
        "widget-interact"
       ],
       "_model_module_version": "~2.1.4",
       "_view_module_version": "~2.1.4",
       "children": [
        "IPY_MODEL_c5f6208707f94ef099c0dcfd030e293b",
        "IPY_MODEL_f8cf4f0348404080a847ea68452c5703"
       ],
       "layout": "IPY_MODEL_b2e1d4d5583c423fb442df2457e36daa"
      }
     },
     "280a7cda220a4584bd1ff06208c5e57e": {
      "model_module": "jupyter-js-widgets",
      "model_module_version": "~2.1.4",
      "model_name": "ProgressModel",
      "state": {
       "_model_module_version": "~2.1.4",
       "_view_module_version": "~2.1.4",
       "bar_style": "danger",
       "description": "Training:",
       "layout": "IPY_MODEL_d78042865bf34dd9858760b2d4f0ee7d",
       "max": 700,
       "style": "IPY_MODEL_005a04b952514341a9269e4a82bd7444",
       "value": 700
      }
     },
     "2955662c88fa4d8daa88ce0e56e4946e": {
      "model_module": "jupyter-js-widgets",
      "model_module_version": "~2.1.4",
      "model_name": "LayoutModel",
      "state": {
       "_model_module_version": "~2.1.4",
       "_view_module_version": "~2.1.4"
      }
     },
     "29aa241518e045e887b141056910396d": {
      "model_module": "jupyter-js-widgets",
      "model_module_version": "~2.1.4",
      "model_name": "OutputModel",
      "state": {
       "_dom_classes": [],
       "_model_module": "jupyter-js-widgets",
       "_model_module_version": "~2.1.4",
       "_view_module": "jupyter-js-widgets",
       "_view_module_version": "~2.1.4",
       "layout": "IPY_MODEL_f5151a5d739c48a0a57fe9ae0222f28c",
       "msg_throttle": 1
      }
     },
     "2a9a0ffcd06f49eb8ea72bb0d1bbb573": {
      "model_module": "jupyter-js-widgets",
      "model_module_version": "~2.1.4",
      "model_name": "LayoutModel",
      "state": {
       "_model_module_version": "~2.1.4",
       "_view_module_version": "~2.1.4",
       "width": "80%"
      }
     },
     "2ae5679d846c4e7ab81c1b7a7b1d8a0f": {
      "model_module": "jupyter-js-widgets",
      "model_module_version": "~2.1.4",
      "model_name": "RadioButtonsModel",
      "state": {
       "_model_module_version": "~2.1.4",
       "_options_labels": [
        "Multilayer Perceptron",
        "Naive Bayes"
       ],
       "_view_module_version": "~2.1.4",
       "description": "Classifier:",
       "layout": "IPY_MODEL_b9f63497558f41359b3342adfa6dfb7d",
       "value": "Multilayer Perceptron"
      }
     },
     "2b13e0763e5340d587c91d516a501fd8": {
      "model_module": "jupyter-js-widgets",
      "model_module_version": "~2.1.4",
      "model_name": "LayoutModel",
      "state": {
       "_model_module_version": "~2.1.4",
       "_view_module_version": "~2.1.4"
      }
     },
     "2b972dc710b04c8db3755f2367947709": {
      "model_module": "jupyter-js-widgets",
      "model_module_version": "~2.1.4",
      "model_name": "LayoutModel",
      "state": {
       "_model_module_version": "~2.1.4",
       "_view_module_version": "~2.1.4"
      }
     },
     "2bbdf2edd49f4e2cadf709e599ef02cb": {
      "model_module": "jupyter-js-widgets",
      "model_module_version": "~2.1.4",
      "model_name": "LayoutModel",
      "state": {
       "_model_module_version": "~2.1.4",
       "_view_module_version": "~2.1.4",
       "width": "80%"
      }
     },
     "2c5f55ff219940208ad959824d358e3a": {
      "model_module": "jupyter-js-widgets",
      "model_module_version": "~2.1.4",
      "model_name": "IntSliderModel",
      "state": {
       "_model_module_version": "~2.1.4",
       "_view_module_version": "~2.1.4",
       "continuous_update": false,
       "description": "window size:",
       "layout": "IPY_MODEL_d0b42358e77b4724907939aff569a7bc",
       "max": 1000,
       "min": 100,
       "step": 100,
       "style": "IPY_MODEL_f096fe880a5047989832e2e30d6d0ba6",
       "value": 500
      }
     },
     "2c6e04d3c7264e6fb7aac86d5105dc54": {
      "model_module": "jupyter-js-widgets",
      "model_module_version": "~2.1.4",
      "model_name": "ProgressStyleModel",
      "state": {
       "_model_module_version": "~2.1.4",
       "_view_module_version": "~2.1.4"
      }
     },
     "2c9df25bbb194dceb7e51e0591d442c1": {
      "model_module": "jupyter-js-widgets",
      "model_module_version": "~2.1.4",
      "model_name": "OutputModel",
      "state": {
       "_dom_classes": [],
       "_model_module": "jupyter-js-widgets",
       "_model_module_version": "~2.1.4",
       "_view_module": "jupyter-js-widgets",
       "_view_module_version": "~2.1.4",
       "layout": "IPY_MODEL_66901e46b80c4662b07ba44bdaa58621",
       "msg_throttle": 1
      }
     },
     "2cbaf2c202a64f5ca92e775ba9f76b99": {
      "model_module": "jupyter-js-widgets",
      "model_module_version": "~2.1.4",
      "model_name": "ProgressModel",
      "state": {
       "_model_module_version": "~2.1.4",
       "_view_module_version": "~2.1.4",
       "bar_style": "warning",
       "description": "Training:",
       "layout": "IPY_MODEL_9899dfd5e07b4266bdd66782129eec28",
       "max": 700,
       "style": "IPY_MODEL_b69b823aedd841b6a9db951259a60d64",
       "value": 700
      }
     },
     "2d4ffbc8366544edb120b13d18a55815": {
      "model_module": "jupyter-js-widgets",
      "model_module_version": "~2.1.4",
      "model_name": "LayoutModel",
      "state": {
       "_model_module_version": "~2.1.4",
       "_view_module_version": "~2.1.4"
      }
     },
     "2d9009e1c4604a28950b0bec4bde760b": {
      "model_module": "jupyter-js-widgets",
      "model_module_version": "~2.1.4",
      "model_name": "LayoutModel",
      "state": {
       "_model_module_version": "~2.1.4",
       "_view_module_version": "~2.1.4"
      }
     },
     "3025ce33283d4ad484a5d3b1afa4b904": {
      "model_module": "jupyter-js-widgets",
      "model_module_version": "~2.1.4",
      "model_name": "LayoutModel",
      "state": {
       "_model_module_version": "~2.1.4",
       "_view_module_version": "~2.1.4",
       "width": "80%"
      }
     },
     "304361d1f7ba4cd4893c9f16814f7975": {
      "model_module": "jupyter-js-widgets",
      "model_module_version": "~2.1.4",
      "model_name": "LayoutModel",
      "state": {
       "_model_module_version": "~2.1.4",
       "_view_module_version": "~2.1.4"
      }
     },
     "307e94322eea4e3f85853e2c64a168e8": {
      "model_module": "jupyter-js-widgets",
      "model_module_version": "~2.1.4",
      "model_name": "LayoutModel",
      "state": {
       "_model_module_version": "~2.1.4",
       "_view_module_version": "~2.1.4",
       "width": "80%"
      }
     },
     "3118e3e9ff584f32852ceb00cb13e628": {
      "model_module": "jupyter-js-widgets",
      "model_module_version": "~2.1.4",
      "model_name": "LayoutModel",
      "state": {
       "_model_module_version": "~2.1.4",
       "_view_module_version": "~2.1.4",
       "border": "solid",
       "padding": "10px"
      }
     },
     "31f4816d272f4c949b19ac5ae8137bbf": {
      "model_module": "jupyter-js-widgets",
      "model_module_version": "~2.1.4",
      "model_name": "LayoutModel",
      "state": {
       "_model_module_version": "~2.1.4",
       "_view_module_version": "~2.1.4"
      }
     },
     "31f92d5f5cb84db8b6d5e0bd12cfc7d1": {
      "model_module": "jupyter-js-widgets",
      "model_module_version": "~2.1.4",
      "model_name": "LayoutModel",
      "state": {
       "_model_module_version": "~2.1.4",
       "_view_module_version": "~2.1.4"
      }
     },
     "31f962d9eee94c10a4ef2926a7271513": {
      "model_module": "jupyter-js-widgets",
      "model_module_version": "~2.1.4",
      "model_name": "OutputModel",
      "state": {
       "_dom_classes": [],
       "_model_module": "jupyter-js-widgets",
       "_model_module_version": "~2.1.4",
       "_view_module": "jupyter-js-widgets",
       "_view_module_version": "~2.1.4",
       "layout": "IPY_MODEL_97794afb7e5848b7838cb38dfe42109f",
       "msg_throttle": 1
      }
     },
     "32f005d812e14d968a408a7ffa337aaa": {
      "model_module": "jupyter-js-widgets",
      "model_module_version": "~2.1.4",
      "model_name": "ButtonStyleModel",
      "state": {
       "_model_module_version": "~2.1.4",
       "_view_module_version": "~2.1.4"
      }
     },
     "331ea34646064fcd86323a1c4d8206b1": {
      "model_module": "jupyter-js-widgets",
      "model_module_version": "~2.1.4",
      "model_name": "LayoutModel",
      "state": {
       "_model_module_version": "~2.1.4",
       "_view_module_version": "~2.1.4"
      }
     },
     "33351d1f36a24750896a646681a9db5d": {
      "model_module": "jupyter-js-widgets",
      "model_module_version": "~2.1.4",
      "model_name": "SliderStyleModel",
      "state": {
       "_model_module_version": "~2.1.4",
       "_view_module_version": "~2.1.4"
      }
     },
     "33bf3f81969b48e1a6f507d680ecc6c0": {
      "model_module": "jupyter-js-widgets",
      "model_module_version": "~2.1.4",
      "model_name": "ProgressStyleModel",
      "state": {
       "_model_module_version": "~2.1.4",
       "_view_module_version": "~2.1.4"
      }
     },
     "33d6d265f5764a29b48c28656193d9dd": {
      "model_module": "jupyter-js-widgets",
      "model_module_version": "~2.1.4",
      "model_name": "LayoutModel",
      "state": {
       "_model_module_version": "~2.1.4",
       "_view_module_version": "~2.1.4",
       "width": "80%"
      }
     },
     "3477e09dd5bd4bdea046aece2e587824": {
      "model_module": "jupyter-js-widgets",
      "model_module_version": "~2.1.4",
      "model_name": "SliderStyleModel",
      "state": {
       "_model_module_version": "~2.1.4",
       "_view_module_version": "~2.1.4"
      }
     },
     "347f088ff81245f6ad105a07de455bf9": {
      "model_module": "jupyter-js-widgets",
      "model_module_version": "~2.1.4",
      "model_name": "ButtonModel",
      "state": {
       "_model_module_version": "~2.1.4",
       "_view_module_version": "~2.1.4",
       "button_style": "danger",
       "description": "Start training",
       "layout": "IPY_MODEL_b8864752b3f94f829cd5e4e4909bc218",
       "style": "IPY_MODEL_32f005d812e14d968a408a7ffa337aaa"
      }
     },
     "35248cd9c47e4e4797095e52ce8e718d": {
      "model_module": "jupyter-js-widgets",
      "model_module_version": "~2.1.4",
      "model_name": "SliderStyleModel",
      "state": {
       "_model_module_version": "~2.1.4",
       "_view_module_version": "~2.1.4"
      }
     },
     "35bd2ef1e8674b1ca6859ad162632efc": {
      "model_module": "jupyter-js-widgets",
      "model_module_version": "~2.1.4",
      "model_name": "LayoutModel",
      "state": {
       "_model_module_version": "~2.1.4",
       "_view_module_version": "~2.1.4",
       "width": "80%"
      }
     },
     "3705fe8821f24c7faf49ee0da4c25b0b": {
      "model_module": "jupyter-js-widgets",
      "model_module_version": "~2.1.4",
      "model_name": "LayoutModel",
      "state": {
       "_model_module_version": "~2.1.4",
       "_view_module_version": "~2.1.4"
      }
     },
     "37078ec9389c455ea1b36d822b6ba17d": {
      "model_module": "jupyter-js-widgets",
      "model_module_version": "~2.1.4",
      "model_name": "ProgressModel",
      "state": {
       "_model_module_version": "~2.1.4",
       "_view_module_version": "~2.1.4",
       "bar_style": "danger",
       "description": "Training:",
       "layout": "IPY_MODEL_3744ac4b36fb4f4b967861e2c94ca80a",
       "max": 700,
       "style": "IPY_MODEL_dd8c516a503a40bcaf8990af6b7a03a7",
       "value": 700
      }
     },
     "3744ac4b36fb4f4b967861e2c94ca80a": {
      "model_module": "jupyter-js-widgets",
      "model_module_version": "~2.1.4",
      "model_name": "LayoutModel",
      "state": {
       "_model_module_version": "~2.1.4",
       "_view_module_version": "~2.1.4"
      }
     },
     "37e62da76b4b4872a5b386071ac1017f": {
      "model_module": "jupyter-js-widgets",
      "model_module_version": "~2.1.4",
      "model_name": "LayoutModel",
      "state": {
       "_model_module_version": "~2.1.4",
       "_view_module_version": "~2.1.4"
      }
     },
     "37fecd2ded734459898318091c2ae76f": {
      "model_module": "jupyter-js-widgets",
      "model_module_version": "~2.1.4",
      "model_name": "VBoxModel",
      "state": {
       "_dom_classes": [
        "widget-interact"
       ],
       "_model_module_version": "~2.1.4",
       "_view_module_version": "~2.1.4",
       "children": [
        "IPY_MODEL_a2838b0b85d148918172b8102a0e52e2",
        "IPY_MODEL_766fb4593213424199faf44d5478ac40"
       ],
       "layout": "IPY_MODEL_b56162acb0ce427ca4a66defcdc36a2c"
      }
     },
     "383b9ac2d4cb4a3ba450eb825f51a917": {
      "model_module": "jupyter-js-widgets",
      "model_module_version": "~2.1.4",
      "model_name": "LayoutModel",
      "state": {
       "_model_module_version": "~2.1.4",
       "_view_module_version": "~2.1.4",
       "width": "80%"
      }
     },
     "38f14317c4e6487e8aaed5f56d681e03": {
      "model_module": "jupyter-js-widgets",
      "model_module_version": "~2.1.4",
      "model_name": "VBoxModel",
      "state": {
       "_dom_classes": [
        "widget-interact"
       ],
       "_model_module_version": "~2.1.4",
       "_view_module_version": "~2.1.4",
       "children": [
        "IPY_MODEL_05bf476a127146d8b74ff69007b5293f",
        "IPY_MODEL_c7617659e9d4474c917bfcb6124d0f6f"
       ],
       "layout": "IPY_MODEL_e0e5e41d13f740d9808bdaa5410d319d"
      }
     },
     "391ae80f1b5546e1ab8191fbf97ae168": {
      "model_module": "jupyter-js-widgets",
      "model_module_version": "~2.1.4",
      "model_name": "ProgressStyleModel",
      "state": {
       "_model_module_version": "~2.1.4",
       "_view_module_version": "~2.1.4"
      }
     },
     "391c070bcd1e4d7a81500f9bc424aa7c": {
      "model_module": "jupyter-js-widgets",
      "model_module_version": "~2.1.4",
      "model_name": "OutputModel",
      "state": {
       "_dom_classes": [],
       "_model_module": "jupyter-js-widgets",
       "_model_module_version": "~2.1.4",
       "_view_module": "jupyter-js-widgets",
       "_view_module_version": "~2.1.4",
       "layout": "IPY_MODEL_fb8602e3900843a8ba2ad1a5a44c8eea",
       "msg_throttle": 1
      }
     },
     "392e90da4d344cdda13a7f5fcda7bbd6": {
      "model_module": "jupyter-js-widgets",
      "model_module_version": "~2.1.4",
      "model_name": "SliderStyleModel",
      "state": {
       "_model_module_version": "~2.1.4",
       "_view_module_version": "~2.1.4"
      }
     },
     "39f33c54e4fc4faa893a83bb6bbb4733": {
      "model_module": "jupyter-js-widgets",
      "model_module_version": "~2.1.4",
      "model_name": "ProgressStyleModel",
      "state": {
       "_model_module_version": "~2.1.4",
       "_view_module_version": "~2.1.4"
      }
     },
     "3a78560eb489450cbbbda1ff7bdd3caa": {
      "model_module": "jupyter-js-widgets",
      "model_module_version": "~2.1.4",
      "model_name": "IntSliderModel",
      "state": {
       "_model_module_version": "~2.1.4",
       "_view_module_version": "~2.1.4",
       "continuous_update": false,
       "description": "window size:",
       "layout": "IPY_MODEL_6800e7b008d24d9d809a87e5a6e9ccc8",
       "max": 1000,
       "min": 100,
       "step": 100,
       "style": "IPY_MODEL_35248cd9c47e4e4797095e52ce8e718d",
       "value": 500
      }
     },
     "3a85072b2ab9416e9e84815f3dad4592": {
      "model_module": "jupyter-js-widgets",
      "model_module_version": "~2.1.4",
      "model_name": "LayoutModel",
      "state": {
       "_model_module_version": "~2.1.4",
       "_view_module_version": "~2.1.4"
      }
     },
     "3a90bcebcdbd485e9babb043ec752802": {
      "model_module": "jupyter-js-widgets",
      "model_module_version": "~2.1.4",
      "model_name": "ButtonStyleModel",
      "state": {
       "_model_module_version": "~2.1.4",
       "_view_module_version": "~2.1.4"
      }
     },
     "3b061ba4d1ae46aaa0e8f68a693823bf": {
      "model_module": "jupyter-js-widgets",
      "model_module_version": "~2.1.4",
      "model_name": "VBoxModel",
      "state": {
       "_dom_classes": [
        "widget-interact"
       ],
       "_model_module_version": "~2.1.4",
       "_view_module_version": "~2.1.4",
       "children": [
        "IPY_MODEL_2c5f55ff219940208ad959824d358e3a",
        "IPY_MODEL_a971290bc9f943d0b0c250b67f6d6c6c"
       ],
       "layout": "IPY_MODEL_48588785da6645b49bdb00c28622481f"
      }
     },
     "3b21543f0bf041908812fb4d9858ece1": {
      "model_module": "jupyter-js-widgets",
      "model_module_version": "~2.1.4",
      "model_name": "IntSliderModel",
      "state": {
       "_model_module_version": "~2.1.4",
       "_view_module_version": "~2.1.4",
       "continuous_update": false,
       "description": "num components:",
       "layout": "IPY_MODEL_b083d312ee614624b534960738f52378",
       "max": 29,
       "min": 1,
       "style": "IPY_MODEL_e4ad6bb145154c1eb710dbb3782ae37a",
       "value": 5
      }
     },
     "3d24804f2fe747a1ac9064e101c5e613": {
      "model_module": "jupyter-js-widgets",
      "model_module_version": "~2.1.4",
      "model_name": "ButtonModel",
      "state": {
       "_model_module_version": "~2.1.4",
       "_view_module_version": "~2.1.4",
       "button_style": "info",
       "description": "Start prediction",
       "layout": "IPY_MODEL_ef82a7dcce5540e5b6aaed39257ac39e",
       "style": "IPY_MODEL_c0e478627f98462081cc58e90fb29e06"
      }
     },
     "3d5e3ecdc7364fdea0e8d2f05141be80": {
      "model_module": "jupyter-js-widgets",
      "model_module_version": "~2.1.4",
      "model_name": "SliderStyleModel",
      "state": {
       "_model_module_version": "~2.1.4",
       "_view_module_version": "~2.1.4"
      }
     },
     "3dc0d8acd0d648f9a59a2660398b4370": {
      "model_module": "jupyter-js-widgets",
      "model_module_version": "~2.1.4",
      "model_name": "SliderStyleModel",
      "state": {
       "_model_module_version": "~2.1.4",
       "_view_module_version": "~2.1.4"
      }
     },
     "3eb79c4b6f384f4c9a571f6eac6506ba": {
      "model_module": "jupyter-js-widgets",
      "model_module_version": "~2.1.4",
      "model_name": "SliderStyleModel",
      "state": {
       "_model_module_version": "~2.1.4",
       "_view_module_version": "~2.1.4"
      }
     },
     "3fe51e2036cc43e9a59f530518489bb0": {
      "model_module": "jupyter-js-widgets",
      "model_module_version": "~2.1.4",
      "model_name": "SliderStyleModel",
      "state": {
       "_model_module_version": "~2.1.4",
       "_view_module_version": "~2.1.4"
      }
     },
     "4037c914e88543d18ab837272b6c9ebe": {
      "model_module": "jupyter-js-widgets",
      "model_module_version": "~2.1.4",
      "model_name": "LayoutModel",
      "state": {
       "_model_module_version": "~2.1.4",
       "_view_module_version": "~2.1.4"
      }
     },
     "4061203fb0dd47378ec903e1e072ad55": {
      "model_module": "jupyter-js-widgets",
      "model_module_version": "~2.1.4",
      "model_name": "VBoxModel",
      "state": {
       "_dom_classes": [
        "widget-interact"
       ],
       "_model_module_version": "~2.1.4",
       "_view_module_version": "~2.1.4",
       "children": [
        "IPY_MODEL_d8a96af35e914239acd0f88e93d371b6",
        "IPY_MODEL_26958a5b103344f7a374b96a9cd63344"
       ],
       "layout": "IPY_MODEL_1cc61c7f2b3443348e150c8a18ea5bbb"
      }
     },
     "415c8448f53742479241422e3ac215b0": {
      "model_module": "jupyter-js-widgets",
      "model_module_version": "~2.1.4",
      "model_name": "LayoutModel",
      "state": {
       "_model_module_version": "~2.1.4",
       "_view_module_version": "~2.1.4"
      }
     },
     "41721cbd917548fda584a612148409d4": {
      "model_module": "jupyter-js-widgets",
      "model_module_version": "~2.1.4",
      "model_name": "VBoxModel",
      "state": {
       "_dom_classes": [
        "widget-interact"
       ],
       "_model_module_version": "~2.1.4",
       "_view_module_version": "~2.1.4",
       "children": [
        "IPY_MODEL_5e44b3d0c28c44218cfd153e591c5493",
        "IPY_MODEL_d5e3c4b660304bc7ae4f75d4519ee0c9"
       ],
       "layout": "IPY_MODEL_8311f7fda4b0423ab53c8788009c7389"
      }
     },
     "4249537207a74cc1b064c0270223e163": {
      "model_module": "jupyter-js-widgets",
      "model_module_version": "~2.1.4",
      "model_name": "LayoutModel",
      "state": {
       "_model_module_version": "~2.1.4",
       "_view_module_version": "~2.1.4"
      }
     },
     "4305bea544e44cb89ccd1b304f5867c5": {
      "model_module": "jupyter-js-widgets",
      "model_module_version": "~2.1.4",
      "model_name": "VBoxModel",
      "state": {
       "_dom_classes": [
        "widget-interact"
       ],
       "_model_module_version": "~2.1.4",
       "_view_module_version": "~2.1.4",
       "children": [
        "IPY_MODEL_4637881b034b43cc9f781a0c05a3f092",
        "IPY_MODEL_144c6d49fb6b44019e6cc5848cd6eda8"
       ],
       "layout": "IPY_MODEL_7f4828e647d94c728db9de40f401d61b"
      }
     },
     "43a4176d827a46ac8ee8d08ca3154850": {
      "model_module": "jupyter-js-widgets",
      "model_module_version": "~2.1.4",
      "model_name": "ButtonStyleModel",
      "state": {
       "_model_module_version": "~2.1.4",
       "_view_module_version": "~2.1.4"
      }
     },
     "43e40dfebf36488d87e86578cf949c3a": {
      "model_module": "jupyter-js-widgets",
      "model_module_version": "~2.1.4",
      "model_name": "LayoutModel",
      "state": {
       "_model_module_version": "~2.1.4",
       "_view_module_version": "~2.1.4"
      }
     },
     "44204fcda99143b4b209e2c4efc3f1aa": {
      "model_module": "jupyter-js-widgets",
      "model_module_version": "~2.1.4",
      "model_name": "OutputModel",
      "state": {
       "_dom_classes": [],
       "_model_module": "jupyter-js-widgets",
       "_model_module_version": "~2.1.4",
       "_view_module": "jupyter-js-widgets",
       "_view_module_version": "~2.1.4",
       "layout": "IPY_MODEL_ab641422541e43519e3b2c216fd76ba8",
       "msg_throttle": 1
      }
     },
     "448032d3438840798a566fdc43576719": {
      "model_module": "jupyter-js-widgets",
      "model_module_version": "~2.1.4",
      "model_name": "ButtonModel",
      "state": {
       "_model_module_version": "~2.1.4",
       "_view_module_version": "~2.1.4",
       "button_style": "danger",
       "description": "Start training",
       "layout": "IPY_MODEL_45d787ac70e0494ea8f63e44d1916b96",
       "style": "IPY_MODEL_624ba159116c4be9a516022fecd4d717"
      }
     },
     "45899300fca3438386eec505bc615cda": {
      "model_module": "jupyter-js-widgets",
      "model_module_version": "~2.1.4",
      "model_name": "LayoutModel",
      "state": {
       "_model_module_version": "~2.1.4",
       "_view_module_version": "~2.1.4"
      }
     },
     "45d787ac70e0494ea8f63e44d1916b96": {
      "model_module": "jupyter-js-widgets",
      "model_module_version": "~2.1.4",
      "model_name": "LayoutModel",
      "state": {
       "_model_module_version": "~2.1.4",
       "_view_module_version": "~2.1.4"
      }
     },
     "45ea21b313ec4366be59ab4e5d78682d": {
      "model_module": "jupyter-js-widgets",
      "model_module_version": "~2.1.4",
      "model_name": "LayoutModel",
      "state": {
       "_model_module_version": "~2.1.4",
       "_view_module_version": "~2.1.4"
      }
     },
     "461462588be848dc810be11d9b6dc704": {
      "model_module": "jupyter-js-widgets",
      "model_module_version": "~2.1.4",
      "model_name": "VBoxModel",
      "state": {
       "_dom_classes": [
        "widget-interact"
       ],
       "_model_module_version": "~2.1.4",
       "_view_module_version": "~2.1.4",
       "children": [
        "IPY_MODEL_4fac4db151654fb99aefc96aaab6f5bb",
        "IPY_MODEL_7877479327a24d72ae7848c57c5dc92c"
       ],
       "layout": "IPY_MODEL_45899300fca3438386eec505bc615cda"
      }
     },
     "4637881b034b43cc9f781a0c05a3f092": {
      "model_module": "jupyter-js-widgets",
      "model_module_version": "~2.1.4",
      "model_name": "IntSliderModel",
      "state": {
       "_model_module_version": "~2.1.4",
       "_view_module_version": "~2.1.4",
       "continuous_update": false,
       "description": "window reps:",
       "layout": "IPY_MODEL_e5da08955f16477eb91b7d4c3d791249",
       "min": 1,
       "style": "IPY_MODEL_3d5e3ecdc7364fdea0e8d2f05141be80",
       "value": 10
      }
     },
     "465c33a42ca8433599b1e1d795255736": {
      "model_module": "jupyter-js-widgets",
      "model_module_version": "~2.1.4",
      "model_name": "ProgressStyleModel",
      "state": {
       "_model_module_version": "~2.1.4",
       "_view_module_version": "~2.1.4"
      }
     },
     "47455e8f4fb74110b1a9f306328dfc89": {
      "model_module": "jupyter-js-widgets",
      "model_module_version": "~2.1.4",
      "model_name": "SliderStyleModel",
      "state": {
       "_model_module_version": "~2.1.4",
       "_view_module_version": "~2.1.4"
      }
     },
     "47902090c73d4530b6f8866f23752543": {
      "model_module": "jupyter-js-widgets",
      "model_module_version": "~2.1.4",
      "model_name": "LayoutModel",
      "state": {
       "_model_module_version": "~2.1.4",
       "_view_module_version": "~2.1.4"
      }
     },
     "479d549e34854099855299d85113e542": {
      "model_module": "jupyter-js-widgets",
      "model_module_version": "~2.1.4",
      "model_name": "LayoutModel",
      "state": {
       "_model_module_version": "~2.1.4",
       "_view_module_version": "~2.1.4"
      }
     },
     "47da3265c2e14d16a8397f37885e6b85": {
      "model_module": "jupyter-js-widgets",
      "model_module_version": "~2.1.4",
      "model_name": "LayoutModel",
      "state": {
       "_model_module_version": "~2.1.4",
       "_view_module_version": "~2.1.4"
      }
     },
     "47febc1aa7cd4aeb84c8c5e834c712d0": {
      "model_module": "jupyter-js-widgets",
      "model_module_version": "~2.1.4",
      "model_name": "OutputModel",
      "state": {
       "_dom_classes": [],
       "_model_module": "jupyter-js-widgets",
       "_model_module_version": "~2.1.4",
       "_view_module": "jupyter-js-widgets",
       "_view_module_version": "~2.1.4",
       "layout": "IPY_MODEL_5e6110b9288d4daabcfbfea74e898a0d",
       "msg_throttle": 1
      }
     },
     "48588785da6645b49bdb00c28622481f": {
      "model_module": "jupyter-js-widgets",
      "model_module_version": "~2.1.4",
      "model_name": "LayoutModel",
      "state": {
       "_model_module_version": "~2.1.4",
       "_view_module_version": "~2.1.4"
      }
     },
     "48fcb4f5056b45afa1fdd7c13088bcb2": {
      "model_module": "jupyter-js-widgets",
      "model_module_version": "~2.1.4",
      "model_name": "OutputModel",
      "state": {
       "_dom_classes": [],
       "_model_module": "jupyter-js-widgets",
       "_model_module_version": "~2.1.4",
       "_view_module": "jupyter-js-widgets",
       "_view_module_version": "~2.1.4",
       "layout": "IPY_MODEL_3a85072b2ab9416e9e84815f3dad4592",
       "msg_throttle": 1
      }
     },
     "4998b00f52e74872afa9197e4a5a4101": {
      "model_module": "jupyter-js-widgets",
      "model_module_version": "~2.1.4",
      "model_name": "LayoutModel",
      "state": {
       "_model_module_version": "~2.1.4",
       "_view_module_version": "~2.1.4"
      }
     },
     "49b8d1ae768548d3842a22987e9d1014": {
      "model_module": "jupyter-js-widgets",
      "model_module_version": "~2.1.4",
      "model_name": "SliderStyleModel",
      "state": {
       "_model_module_version": "~2.1.4",
       "_view_module_version": "~2.1.4"
      }
     },
     "4a001127019149c8a3d4f2a8ef71533d": {
      "model_module": "jupyter-js-widgets",
      "model_module_version": "~2.1.4",
      "model_name": "LayoutModel",
      "state": {
       "_model_module_version": "~2.1.4",
       "_view_module_version": "~2.1.4",
       "width": "80%"
      }
     },
     "4a4692da69304fb2b72eeee6ff22cfe9": {
      "model_module": "jupyter-js-widgets",
      "model_module_version": "~2.1.4",
      "model_name": "LayoutModel",
      "state": {
       "_model_module_version": "~2.1.4",
       "_view_module_version": "~2.1.4"
      }
     },
     "4a9097adc9b643e0bbde35bffce0f02d": {
      "model_module": "jupyter-js-widgets",
      "model_module_version": "~2.1.4",
      "model_name": "LayoutModel",
      "state": {
       "_model_module_version": "~2.1.4",
       "_view_module_version": "~2.1.4"
      }
     },
     "4b09bcc271b648c6bc3d707b66b234ae": {
      "model_module": "jupyter-js-widgets",
      "model_module_version": "~2.1.4",
      "model_name": "ButtonModel",
      "state": {
       "_model_module_version": "~2.1.4",
       "_view_module_version": "~2.1.4",
       "button_style": "info",
       "description": "Start prediction",
       "layout": "IPY_MODEL_214ae47e5c364df6accc8dbcc1cf3aff",
       "style": "IPY_MODEL_80066684870f4379861b8123f0fa3b10"
      }
     },
     "4b927ee10d044c8881681594617dc050": {
      "model_module": "jupyter-js-widgets",
      "model_module_version": "~2.1.4",
      "model_name": "LayoutModel",
      "state": {
       "_model_module_version": "~2.1.4",
       "_view_module_version": "~2.1.4"
      }
     },
     "4d2b91fec5bf404984fa2f3c4744c73e": {
      "model_module": "jupyter-js-widgets",
      "model_module_version": "~2.1.4",
      "model_name": "OutputModel",
      "state": {
       "_dom_classes": [],
       "_model_module": "jupyter-js-widgets",
       "_model_module_version": "~2.1.4",
       "_view_module": "jupyter-js-widgets",
       "_view_module_version": "~2.1.4",
       "layout": "IPY_MODEL_c04e6c982e134a4abc24e26ede5d79e0",
       "msg_throttle": 1
      }
     },
     "4db5a28c156145fcbbeea64da33cd270": {
      "model_module": "jupyter-js-widgets",
      "model_module_version": "~2.1.4",
      "model_name": "LayoutModel",
      "state": {
       "_model_module_version": "~2.1.4",
       "_view_module_version": "~2.1.4",
       "border": "solid",
       "padding": "10px"
      }
     },
     "4dc2b3cdaec2496fb24917546ab111ac": {
      "model_module": "jupyter-js-widgets",
      "model_module_version": "~2.1.4",
      "model_name": "OutputModel",
      "state": {
       "_dom_classes": [],
       "_model_module": "jupyter-js-widgets",
       "_model_module_version": "~2.1.4",
       "_view_module": "jupyter-js-widgets",
       "_view_module_version": "~2.1.4",
       "layout": "IPY_MODEL_b69981a96e6e4d0fb6b2a0f8ab9ebc4c",
       "msg_throttle": 1
      }
     },
     "4de57dbc1b354fb885d06c8f16f6445a": {
      "model_module": "jupyter-js-widgets",
      "model_module_version": "~2.1.4",
      "model_name": "LayoutModel",
      "state": {
       "_model_module_version": "~2.1.4",
       "_view_module_version": "~2.1.4",
       "width": "80%"
      }
     },
     "4e7887c0e9ee4e35b2222c75f3478169": {
      "model_module": "jupyter-js-widgets",
      "model_module_version": "~2.1.4",
      "model_name": "ButtonStyleModel",
      "state": {
       "_model_module_version": "~2.1.4",
       "_view_module_version": "~2.1.4"
      }
     },
     "4ee4a8222dac4c0a9569bf043d0ff2f1": {
      "model_module": "jupyter-js-widgets",
      "model_module_version": "~2.1.4",
      "model_name": "LayoutModel",
      "state": {
       "_model_module_version": "~2.1.4",
       "_view_module_version": "~2.1.4"
      }
     },
     "4ee582083a6a46a6b27c8e7c9d143e54": {
      "model_module": "jupyter-js-widgets",
      "model_module_version": "~2.1.4",
      "model_name": "IntSliderModel",
      "state": {
       "_model_module_version": "~2.1.4",
       "_view_module_version": "~2.1.4",
       "continuous_update": false,
       "description": "num components:",
       "layout": "IPY_MODEL_0f34b859d31b4043856a68a0386b76fe",
       "max": 29,
       "min": 1,
       "style": "IPY_MODEL_d343e4dbd5a94cd1ba1e3f0f7e2231f9",
       "value": 5
      }
     },
     "4ee71be6f78249d68f627d257662acbc": {
      "model_module": "jupyter-js-widgets",
      "model_module_version": "~2.1.4",
      "model_name": "VBoxModel",
      "state": {
       "_dom_classes": [
        "widget-interact"
       ],
       "_model_module_version": "~2.1.4",
       "_view_module_version": "~2.1.4",
       "children": [
        "IPY_MODEL_9315a9e3521b4d708183f07c5a0a6f42",
        "IPY_MODEL_02f3dae4670743109591dd767c2f6bfb"
       ],
       "layout": "IPY_MODEL_5c063a37b99341d59cca8f9eb685a3e9"
      }
     },
     "4f3e6f1dbb2d4388a0b96494c610c18f": {
      "model_module": "jupyter-js-widgets",
      "model_module_version": "~2.1.4",
      "model_name": "LayoutModel",
      "state": {
       "_model_module_version": "~2.1.4",
       "_view_module_version": "~2.1.4"
      }
     },
     "4f52bb24b1af4de0a5c26037521d2ae3": {
      "model_module": "jupyter-js-widgets",
      "model_module_version": "~2.1.4",
      "model_name": "VBoxModel",
      "state": {
       "_dom_classes": [
        "widget-interact"
       ],
       "_model_module_version": "~2.1.4",
       "_view_module_version": "~2.1.4",
       "children": [
        "IPY_MODEL_20bebffeb41c4b7d9ce32db71ded3294",
        "IPY_MODEL_a4de2370bc494ffb87d51957a28d49b5"
       ],
       "layout": "IPY_MODEL_43e40dfebf36488d87e86578cf949c3a"
      }
     },
     "4fac4db151654fb99aefc96aaab6f5bb": {
      "model_module": "jupyter-js-widgets",
      "model_module_version": "~2.1.4",
      "model_name": "RadioButtonsModel",
      "state": {
       "_model_module_version": "~2.1.4",
       "_options_labels": [
        "Multilayer Perceptron",
        "Naive Bayes"
       ],
       "_view_module_version": "~2.1.4",
       "description": "Classifier:",
       "layout": "IPY_MODEL_8991eb0e4385491fa20066e5a999aaa5",
       "value": "Multilayer Perceptron"
      }
     },
     "5027f158772848a2bc992d71d2ce26cc": {
      "model_module": "jupyter-js-widgets",
      "model_module_version": "~2.1.4",
      "model_name": "LayoutModel",
      "state": {
       "_model_module_version": "~2.1.4",
       "_view_module_version": "~2.1.4"
      }
     },
     "505b5a6e32fe40a380fdc71d01877a32": {
      "model_module": "jupyter-js-widgets",
      "model_module_version": "~2.1.4",
      "model_name": "LayoutModel",
      "state": {
       "_model_module_version": "~2.1.4",
       "_view_module_version": "~2.1.4",
       "width": "100%"
      }
     },
     "513d88b151c8497f85cbab0a9e6eafe4": {
      "model_module": "jupyter-js-widgets",
      "model_module_version": "~2.1.4",
      "model_name": "LayoutModel",
      "state": {
       "_model_module_version": "~2.1.4",
       "_view_module_version": "~2.1.4"
      }
     },
     "51c9205152324f358fe25000536d02c9": {
      "model_module": "jupyter-js-widgets",
      "model_module_version": "~2.1.4",
      "model_name": "IntSliderModel",
      "state": {
       "_model_module_version": "~2.1.4",
       "_view_module_version": "~2.1.4",
       "continuous_update": false,
       "description": "num hidden layers:",
       "layout": "IPY_MODEL_cb6fc107dfaf4f8398d747d6ab8e5025",
       "max": 10,
       "min": 1,
       "style": "IPY_MODEL_85a75fcaced34e8eb5ab9d5b5a1976e9",
       "value": 2
      }
     },
     "5263009231fd493fb048f1448fdc7275": {
      "model_module": "jupyter-js-widgets",
      "model_module_version": "~2.1.4",
      "model_name": "LayoutModel",
      "state": {
       "_model_module_version": "~2.1.4",
       "_view_module_version": "~2.1.4"
      }
     },
     "52a870f3fe8b4c61941b4a227986e81e": {
      "model_module": "jupyter-js-widgets",
      "model_module_version": "~2.1.4",
      "model_name": "LayoutModel",
      "state": {
       "_model_module_version": "~2.1.4",
       "_view_module_version": "~2.1.4"
      }
     },
     "52baf4b9aaba4db283b909687994c4ba": {
      "model_module": "jupyter-js-widgets",
      "model_module_version": "~2.1.4",
      "model_name": "ButtonStyleModel",
      "state": {
       "_model_module_version": "~2.1.4",
       "_view_module_version": "~2.1.4"
      }
     },
     "52ce4ea8dcdc4f4ebf24760980edb534": {
      "model_module": "jupyter-js-widgets",
      "model_module_version": "~2.1.4",
      "model_name": "ButtonModel",
      "state": {
       "_model_module_version": "~2.1.4",
       "_view_module_version": "~2.1.4",
       "button_style": "danger",
       "description": "Start training",
       "layout": "IPY_MODEL_09a242b781a44fec88f316c4db813743",
       "style": "IPY_MODEL_ccb9deead6ea40619c55c633594232bf"
      }
     },
     "5337c8e94f5a4f42b294e40a95e7fafc": {
      "model_module": "jupyter-js-widgets",
      "model_module_version": "~2.1.4",
      "model_name": "LayoutModel",
      "state": {
       "_model_module_version": "~2.1.4",
       "_view_module_version": "~2.1.4"
      }
     },
     "5396c4cfa793442dbb3364ce697f8f38": {
      "model_module": "jupyter-js-widgets",
      "model_module_version": "~2.1.4",
      "model_name": "LayoutModel",
      "state": {
       "_model_module_version": "~2.1.4",
       "_view_module_version": "~2.1.4"
      }
     },
     "54a5e6b58c37423892f132ab851a2c0b": {
      "model_module": "jupyter-js-widgets",
      "model_module_version": "~2.1.4",
      "model_name": "IntSliderModel",
      "state": {
       "_model_module_version": "~2.1.4",
       "_view_module_version": "~2.1.4",
       "continuous_update": false,
       "description": "num hidden layers:",
       "layout": "IPY_MODEL_034aab4e19f1498a91bb1d8dbf5866d4",
       "max": 10,
       "min": 1,
       "style": "IPY_MODEL_12d7ece00301417386eca341db1afbd8",
       "value": 2
      }
     },
     "55188e2c9b964ceb9ead8606c30445c7": {
      "model_module": "jupyter-js-widgets",
      "model_module_version": "~2.1.4",
      "model_name": "LayoutModel",
      "state": {
       "_model_module_version": "~2.1.4",
       "_view_module_version": "~2.1.4"
      }
     },
     "5534717ea68f4f419a259358ac8ca7e9": {
      "model_module": "jupyter-js-widgets",
      "model_module_version": "~2.1.4",
      "model_name": "VBoxModel",
      "state": {
       "_dom_classes": [
        "widget-interact"
       ],
       "_model_module_version": "~2.1.4",
       "_view_module_version": "~2.1.4",
       "children": [
        "IPY_MODEL_96432c32e28a40a3af9e111bc082e41d",
        "IPY_MODEL_d5e2a77380bb476d8bb8c7ac5adc937c"
       ],
       "layout": "IPY_MODEL_a8cc4869b59f4a88a633cb2b698c1fef"
      }
     },
     "554dbba830814f82a60a87428ac1b1ae": {
      "model_module": "jupyter-js-widgets",
      "model_module_version": "~2.1.4",
      "model_name": "LayoutModel",
      "state": {
       "_model_module_version": "~2.1.4",
       "_view_module_version": "~2.1.4"
      }
     },
     "561359c0db31435092b452dbe39959c2": {
      "model_module": "jupyter-js-widgets",
      "model_module_version": "~2.1.4",
      "model_name": "IntSliderModel",
      "state": {
       "_model_module_version": "~2.1.4",
       "_view_module_version": "~2.1.4",
       "continuous_update": false,
       "description": "window size:",
       "layout": "IPY_MODEL_9a09e6e52d4b4902922b38005631f509",
       "max": 1000,
       "min": 100,
       "step": 100,
       "style": "IPY_MODEL_f56d867682184b159b4ffa8956327233",
       "value": 500
      }
     },
     "566cda59c9724f108ec5cecebaa7cacc": {
      "model_module": "jupyter-js-widgets",
      "model_module_version": "~2.1.4",
      "model_name": "VBoxModel",
      "state": {
       "_dom_classes": [
        "widget-interact"
       ],
       "_model_module_version": "~2.1.4",
       "_view_module_version": "~2.1.4",
       "children": [
        "IPY_MODEL_8898e726317742c6957bfd25ae1e1fb2",
        "IPY_MODEL_a98322fd4c584940bf524f3b2e6b66e3"
       ],
       "layout": "IPY_MODEL_fd72ec2ebd554e6781d9f680ead030f4"
      }
     },
     "56ad810e738343be80c940e203a2bd25": {
      "model_module": "jupyter-js-widgets",
      "model_module_version": "~2.1.4",
      "model_name": "LayoutModel",
      "state": {
       "_model_module_version": "~2.1.4",
       "_view_module_version": "~2.1.4"
      }
     },
     "5746f6c35f7c41be9eda74a935af11d1": {
      "model_module": "jupyter-js-widgets",
      "model_module_version": "~2.1.4",
      "model_name": "LayoutModel",
      "state": {
       "_model_module_version": "~2.1.4",
       "_view_module_version": "~2.1.4"
      }
     },
     "57b42494e75f4af2a0ab0873d2d1d03f": {
      "model_module": "jupyter-js-widgets",
      "model_module_version": "~2.1.4",
      "model_name": "VBoxModel",
      "state": {
       "_dom_classes": [
        "widget-interact"
       ],
       "_model_module_version": "~2.1.4",
       "_view_module_version": "~2.1.4",
       "children": [
        "IPY_MODEL_e640e9ce790c41339a94a3b6390ca9ff",
        "IPY_MODEL_efb9cc2222fa49efb0c3d539e61b145b"
       ],
       "layout": "IPY_MODEL_b188f09988b242d0be3499998c7ed2df"
      }
     },
     "57c59a505c7d488e8199fbc6901f2118": {
      "model_module": "jupyter-js-widgets",
      "model_module_version": "~2.1.4",
      "model_name": "OutputModel",
      "state": {
       "_dom_classes": [],
       "_model_module": "jupyter-js-widgets",
       "_model_module_version": "~2.1.4",
       "_view_module": "jupyter-js-widgets",
       "_view_module_version": "~2.1.4",
       "layout": "IPY_MODEL_f776d47148f3429184ef3e6866afe4ee",
       "msg_throttle": 1
      }
     },
     "57c5d1baeb4244a48a6f3e94da0c411c": {
      "model_module": "jupyter-js-widgets",
      "model_module_version": "~2.1.4",
      "model_name": "VBoxModel",
      "state": {
       "_dom_classes": [
        "widget-interact"
       ],
       "_model_module_version": "~2.1.4",
       "_view_module_version": "~2.1.4",
       "children": [
        "IPY_MODEL_9a32f1381bbb4519820c6f0f57a2b0ae",
        "IPY_MODEL_8e28392a91bc4168ac96e870108d5ed0"
       ],
       "layout": "IPY_MODEL_797f2b6b1e3747b4a3af0f1ceaf70872"
      }
     },
     "58d1ae4ba7f143289e2afa26382a1b62": {
      "model_module": "jupyter-js-widgets",
      "model_module_version": "~2.1.4",
      "model_name": "SliderStyleModel",
      "state": {
       "_model_module_version": "~2.1.4",
       "_view_module_version": "~2.1.4"
      }
     },
     "59789fe108724189aa398306fe732a4a": {
      "model_module": "jupyter-js-widgets",
      "model_module_version": "~2.1.4",
      "model_name": "LayoutModel",
      "state": {
       "_model_module_version": "~2.1.4",
       "_view_module_version": "~2.1.4"
      }
     },
     "59aba43923c64bad8322d0a5a8b5eaab": {
      "model_module": "jupyter-js-widgets",
      "model_module_version": "~2.1.4",
      "model_name": "IntSliderModel",
      "state": {
       "_model_module_version": "~2.1.4",
       "_view_module_version": "~2.1.4",
       "continuous_update": false,
       "description": "max iterations:",
       "layout": "IPY_MODEL_13a7eda878c84df9b3a038acea74a4c4",
       "max": 500,
       "min": 1,
       "style": "IPY_MODEL_5a85655744434ed4be47dc76bfdaa719",
       "value": 200
      }
     },
     "59b79bb6c5c54fa6a4e12f2eacf0565c": {
      "model_module": "jupyter-js-widgets",
      "model_module_version": "~2.1.4",
      "model_name": "IntSliderModel",
      "state": {
       "_model_module_version": "~2.1.4",
       "_view_module_version": "~2.1.4",
       "continuous_update": false,
       "description": "max iterations:",
       "layout": "IPY_MODEL_13ba5b70f9594748bbd901dd815cb5b9",
       "max": 500,
       "min": 10,
       "step": 10,
       "style": "IPY_MODEL_8690628d795642199573026b4d2bc51c",
       "value": 30
      }
     },
     "59d4f48f14f5466fa03ad7898f966e37": {
      "model_module": "jupyter-js-widgets",
      "model_module_version": "~2.1.4",
      "model_name": "LayoutModel",
      "state": {
       "_model_module_version": "~2.1.4",
       "_view_module_version": "~2.1.4"
      }
     },
     "59e8c709bf1741ddb888ed5c0878d1c6": {
      "model_module": "jupyter-js-widgets",
      "model_module_version": "~2.1.4",
      "model_name": "VBoxModel",
      "state": {
       "_dom_classes": [
        "widget-interact"
       ],
       "_model_module_version": "~2.1.4",
       "_view_module_version": "~2.1.4",
       "children": [
        "IPY_MODEL_5ad4629493fc42f69b3312317aa86a76",
        "IPY_MODEL_ded93d92b7ce485a8c5c479d4cfa7cf7"
       ],
       "layout": "IPY_MODEL_7894b14b7a194922a6cedcc98c736535"
      }
     },
     "5a5e2e040651463a9cbdc45dc85b84d0": {
      "model_module": "jupyter-js-widgets",
      "model_module_version": "~2.1.4",
      "model_name": "LayoutModel",
      "state": {
       "_model_module_version": "~2.1.4",
       "_view_module_version": "~2.1.4",
       "width": "80%"
      }
     },
     "5a85655744434ed4be47dc76bfdaa719": {
      "model_module": "jupyter-js-widgets",
      "model_module_version": "~2.1.4",
      "model_name": "SliderStyleModel",
      "state": {
       "_model_module_version": "~2.1.4",
       "_view_module_version": "~2.1.4"
      }
     },
     "5ad4629493fc42f69b3312317aa86a76": {
      "model_module": "jupyter-js-widgets",
      "model_module_version": "~2.1.4",
      "model_name": "IntSliderModel",
      "state": {
       "_model_module_version": "~2.1.4",
       "_view_module_version": "~2.1.4",
       "continuous_update": false,
       "description": "window reps:",
       "layout": "IPY_MODEL_9f139144c5454ba3b5b6bbb5b2cce329",
       "min": 1,
       "style": "IPY_MODEL_c613f97088554ce49a005648271bca9e",
       "value": 10
      }
     },
     "5ae3d1682f3a40188745f420dc9e96d9": {
      "model_module": "jupyter-js-widgets",
      "model_module_version": "~2.1.4",
      "model_name": "LayoutModel",
      "state": {
       "_model_module_version": "~2.1.4",
       "_view_module_version": "~2.1.4"
      }
     },
     "5b61de8f7fde44aea1f318d8f096e519": {
      "model_module": "jupyter-js-widgets",
      "model_module_version": "~2.1.4",
      "model_name": "SliderStyleModel",
      "state": {
       "_model_module_version": "~2.1.4",
       "_view_module_version": "~2.1.4"
      }
     },
     "5ba283cfffea43f4b2c20031f1865c3f": {
      "model_module": "jupyter-js-widgets",
      "model_module_version": "~2.1.4",
      "model_name": "OutputModel",
      "state": {
       "_dom_classes": [],
       "_model_module": "jupyter-js-widgets",
       "_model_module_version": "~2.1.4",
       "_view_module": "jupyter-js-widgets",
       "_view_module_version": "~2.1.4",
       "layout": "IPY_MODEL_8b770ba2c4ca49dc9a687ca30bb881d4",
       "msg_throttle": 1
      }
     },
     "5bb248cf112140a9a0be5d6a86c8e4d0": {
      "model_module": "jupyter-js-widgets",
      "model_module_version": "~2.1.4",
      "model_name": "FloatTextModel",
      "state": {
       "_model_module_version": "~2.1.4",
       "_view_module_version": "~2.1.4",
       "description": "Sampling Percentage:",
       "layout": "IPY_MODEL_c0e9fe50282346adb25f9b239c832d25",
       "max": 1,
       "min": 0,
       "step": 0.1,
       "value": 0.0001
      }
     },
     "5bbed61f54ed40a191c0aaf740e779c7": {
      "model_module": "jupyter-js-widgets",
      "model_module_version": "~2.1.4",
      "model_name": "LayoutModel",
      "state": {
       "_model_module_version": "~2.1.4",
       "_view_module_version": "~2.1.4"
      }
     },
     "5bbfafdf60ab43babecb3ea1c5bf236f": {
      "model_module": "jupyter-js-widgets",
      "model_module_version": "~2.1.4",
      "model_name": "RadioButtonsModel",
      "state": {
       "_model_module_version": "~2.1.4",
       "_options_labels": [
        "Multilayer Perceptron",
        "Naive Bayes"
       ],
       "_view_module_version": "~2.1.4",
       "description": "Classifier:",
       "layout": "IPY_MODEL_1cc68d3fe1f9402d883a6e2b045ca956",
       "value": "Multilayer Perceptron"
      }
     },
     "5c063a37b99341d59cca8f9eb685a3e9": {
      "model_module": "jupyter-js-widgets",
      "model_module_version": "~2.1.4",
      "model_name": "LayoutModel",
      "state": {
       "_model_module_version": "~2.1.4",
       "_view_module_version": "~2.1.4"
      }
     },
     "5c29869ffdd546a1b5ccb8a6db85f114": {
      "model_module": "jupyter-js-widgets",
      "model_module_version": "~2.1.4",
      "model_name": "LayoutModel",
      "state": {
       "_model_module_version": "~2.1.4",
       "_view_module_version": "~2.1.4"
      }
     },
     "5c298f3ce95c485fa5b874cb83d2a080": {
      "model_module": "jupyter-js-widgets",
      "model_module_version": "~2.1.4",
      "model_name": "LayoutModel",
      "state": {
       "_model_module_version": "~2.1.4",
       "_view_module_version": "~2.1.4"
      }
     },
     "5c757f0c9e1c40a4b42b618f852ce52c": {
      "model_module": "jupyter-js-widgets",
      "model_module_version": "~2.1.4",
      "model_name": "LayoutModel",
      "state": {
       "_model_module_version": "~2.1.4",
       "_view_module_version": "~2.1.4"
      }
     },
     "5cf269455b6f4d5e9e321b0e0861c745": {
      "model_module": "jupyter-js-widgets",
      "model_module_version": "~2.1.4",
      "model_name": "LayoutModel",
      "state": {
       "_model_module_version": "~2.1.4",
       "_view_module_version": "~2.1.4"
      }
     },
     "5e22b1e734b84ea2bed7783907f9e378": {
      "model_module": "jupyter-js-widgets",
      "model_module_version": "~2.1.4",
      "model_name": "SliderStyleModel",
      "state": {
       "_model_module_version": "~2.1.4",
       "_view_module_version": "~2.1.4"
      }
     },
     "5e44b3d0c28c44218cfd153e591c5493": {
      "model_module": "jupyter-js-widgets",
      "model_module_version": "~2.1.4",
      "model_name": "IntSliderModel",
      "state": {
       "_model_module_version": "~2.1.4",
       "_view_module_version": "~2.1.4",
       "continuous_update": false,
       "description": "window reps:",
       "layout": "IPY_MODEL_c5b144debe534559936944033e37d2bf",
       "min": 1,
       "style": "IPY_MODEL_5e8b64a463f343188866234725e3e42b",
       "value": 10
      }
     },
     "5e529515d7a2405c951474f855c0fa3a": {
      "model_module": "jupyter-js-widgets",
      "model_module_version": "~2.1.4",
      "model_name": "ButtonStyleModel",
      "state": {
       "_model_module_version": "~2.1.4",
       "_view_module_version": "~2.1.4"
      }
     },
     "5e6110b9288d4daabcfbfea74e898a0d": {
      "model_module": "jupyter-js-widgets",
      "model_module_version": "~2.1.4",
      "model_name": "LayoutModel",
      "state": {
       "_model_module_version": "~2.1.4",
       "_view_module_version": "~2.1.4"
      }
     },
     "5e7c1a364d3842878a12b38fc7a2b30b": {
      "model_module": "jupyter-js-widgets",
      "model_module_version": "~2.1.4",
      "model_name": "LayoutModel",
      "state": {
       "_model_module_version": "~2.1.4",
       "_view_module_version": "~2.1.4",
       "width": "100%"
      }
     },
     "5e8b64a463f343188866234725e3e42b": {
      "model_module": "jupyter-js-widgets",
      "model_module_version": "~2.1.4",
      "model_name": "SliderStyleModel",
      "state": {
       "_model_module_version": "~2.1.4",
       "_view_module_version": "~2.1.4"
      }
     },
     "5edff330f75a44489a73e2b51c2c558b": {
      "model_module": "jupyter-js-widgets",
      "model_module_version": "~2.1.4",
      "model_name": "LayoutModel",
      "state": {
       "_model_module_version": "~2.1.4",
       "_view_module_version": "~2.1.4"
      }
     },
     "5ee6e94a5545425eb81d383d34d89878": {
      "model_module": "jupyter-js-widgets",
      "model_module_version": "~2.1.4",
      "model_name": "LayoutModel",
      "state": {
       "_model_module_version": "~2.1.4",
       "_view_module_version": "~2.1.4"
      }
     },
     "5f3c99e856ca48ffbe97bcef4e99a047": {
      "model_module": "jupyter-js-widgets",
      "model_module_version": "~2.1.4",
      "model_name": "VBoxModel",
      "state": {
       "_dom_classes": [
        "widget-interact"
       ],
       "_model_module_version": "~2.1.4",
       "_view_module_version": "~2.1.4",
       "children": [
        "IPY_MODEL_4ee582083a6a46a6b27c8e7c9d143e54",
        "IPY_MODEL_fe3489c2d00849f18a05554d11d7495e"
       ],
       "layout": "IPY_MODEL_10ea19f6043546f7b14117bed447f198"
      }
     },
     "5f638cb709e04755b233bd562e58d6b2": {
      "model_module": "jupyter-js-widgets",
      "model_module_version": "~2.1.4",
      "model_name": "ButtonStyleModel",
      "state": {
       "_model_module_version": "~2.1.4",
       "_view_module_version": "~2.1.4"
      }
     },
     "611f1c3e531348c19a62aefe6546f322": {
      "model_module": "jupyter-js-widgets",
      "model_module_version": "~2.1.4",
      "model_name": "VBoxModel",
      "state": {
       "_dom_classes": [
        "widget-interact"
       ],
       "_model_module_version": "~2.1.4",
       "_view_module_version": "~2.1.4",
       "children": [
        "IPY_MODEL_c5c6abb91e4441e7b4cf9525852a841e",
        "IPY_MODEL_de6ee627c2e94aad9c8d326f8150d529"
       ],
       "layout": "IPY_MODEL_b2e529b0e4d94357b7ae1b469788b7d1"
      }
     },
     "6204876771784c1eaa04e5b57cdb9ba7": {
      "model_module": "jupyter-js-widgets",
      "model_module_version": "~2.1.4",
      "model_name": "VBoxModel",
      "state": {
       "_dom_classes": [
        "widget-interact"
       ],
       "_model_module_version": "~2.1.4",
       "_view_module_version": "~2.1.4",
       "children": [
        "IPY_MODEL_ebb0e2d018bc47fda520aabf06acd1b2",
        "IPY_MODEL_aa6d306e82fd4ea7b59e646870e39c4a"
       ],
       "layout": "IPY_MODEL_5c757f0c9e1c40a4b42b618f852ce52c"
      }
     },
     "624ba159116c4be9a516022fecd4d717": {
      "model_module": "jupyter-js-widgets",
      "model_module_version": "~2.1.4",
      "model_name": "ButtonStyleModel",
      "state": {
       "_model_module_version": "~2.1.4",
       "_view_module_version": "~2.1.4"
      }
     },
     "62943fc0f93c4c6e941860b39c06df0a": {
      "model_module": "jupyter-js-widgets",
      "model_module_version": "~2.1.4",
      "model_name": "LayoutModel",
      "state": {
       "_model_module_version": "~2.1.4",
       "_view_module_version": "~2.1.4"
      }
     },
     "62a4ee4dc4854a6fbedf481f16b17715": {
      "model_module": "jupyter-js-widgets",
      "model_module_version": "~2.1.4",
      "model_name": "VBoxModel",
      "state": {
       "_dom_classes": [
        "widget-interact"
       ],
       "_model_module_version": "~2.1.4",
       "_view_module_version": "~2.1.4",
       "children": [
        "IPY_MODEL_b1592b204cab4a7090238468bbfeed43",
        "IPY_MODEL_cd2be64e085f437996333b57c0aa603c"
       ],
       "layout": "IPY_MODEL_15dde83de0a0408ab607940265cebfd3"
      }
     },
     "631b06558d0d4462b50a7756bc123b86": {
      "model_module": "jupyter-js-widgets",
      "model_module_version": "~2.1.4",
      "model_name": "ButtonStyleModel",
      "state": {
       "_model_module_version": "~2.1.4",
       "_view_module_version": "~2.1.4"
      }
     },
     "63adc9da79244b50a6ebdb2b0e180426": {
      "model_module": "jupyter-js-widgets",
      "model_module_version": "~2.1.4",
      "model_name": "VBoxModel",
      "state": {
       "_dom_classes": [
        "widget-interact"
       ],
       "_model_module_version": "~2.1.4",
       "_view_module_version": "~2.1.4",
       "children": [
        "IPY_MODEL_a1244f45f76145248a84eb3273fec41e",
        "IPY_MODEL_4dc2b3cdaec2496fb24917546ab111ac"
       ],
       "layout": "IPY_MODEL_66981c545819452896f8e856405cd0bb"
      }
     },
     "63ccc957b1f948e995e8594c875d5a74": {
      "model_module": "jupyter-js-widgets",
      "model_module_version": "~2.1.4",
      "model_name": "ButtonModel",
      "state": {
       "_model_module_version": "~2.1.4",
       "_view_module_version": "~2.1.4",
       "button_style": "info",
       "description": "Start prediction",
       "layout": "IPY_MODEL_6b2f2c8f455e4adfba51fd50d57201e6",
       "style": "IPY_MODEL_43a4176d827a46ac8ee8d08ca3154850"
      }
     },
     "64d8b1cfb6b84a2aad7152895302aaef": {
      "model_module": "jupyter-js-widgets",
      "model_module_version": "~2.1.4",
      "model_name": "LayoutModel",
      "state": {
       "_model_module_version": "~2.1.4",
       "_view_module_version": "~2.1.4"
      }
     },
     "65e822aba3ac4cc88e89fbce4d3e9348": {
      "model_module": "jupyter-js-widgets",
      "model_module_version": "~2.1.4",
      "model_name": "OutputModel",
      "state": {
       "_dom_classes": [],
       "_model_module": "jupyter-js-widgets",
       "_model_module_version": "~2.1.4",
       "_view_module": "jupyter-js-widgets",
       "_view_module_version": "~2.1.4",
       "layout": "IPY_MODEL_73717fe9393b461ab953b02dc8cd8894",
       "msg_throttle": 1
      }
     },
     "65edb19b8019409bb68cbbebe26afcb4": {
      "model_module": "jupyter-js-widgets",
      "model_module_version": "~2.1.4",
      "model_name": "VBoxModel",
      "state": {
       "_dom_classes": [
        "widget-interact"
       ],
       "_model_module_version": "~2.1.4",
       "_view_module_version": "~2.1.4",
       "children": [
        "IPY_MODEL_0ab2699ce7f34d2f88a3f2c14d0ba3b6",
        "IPY_MODEL_a1f64ade4bf346daa5538ef6b4316d04"
       ],
       "layout": "IPY_MODEL_a4cdb00389284031957ceb145b4e02fe"
      }
     },
     "665ae3034e354103b44099242c1bad10": {
      "model_module": "jupyter-js-widgets",
      "model_module_version": "~2.1.4",
      "model_name": "LayoutModel",
      "state": {
       "_model_module_version": "~2.1.4",
       "_view_module_version": "~2.1.4"
      }
     },
     "66603d660cb54de6b16963f2bc820151": {
      "model_module": "jupyter-js-widgets",
      "model_module_version": "~2.1.4",
      "model_name": "VBoxModel",
      "state": {
       "_dom_classes": [
        "widget-interact"
       ],
       "_model_module_version": "~2.1.4",
       "_view_module_version": "~2.1.4",
       "children": [
        "IPY_MODEL_9b328488b2ac43ff8d1ed23aff9a1955",
        "IPY_MODEL_bafa061edf8d41dd85a7ed72afc32ecb"
       ],
       "layout": "IPY_MODEL_55188e2c9b964ceb9ead8606c30445c7"
      }
     },
     "6661a68029c6451b9924bc1b0b494e5e": {
      "model_module": "jupyter-js-widgets",
      "model_module_version": "~2.1.4",
      "model_name": "ButtonModel",
      "state": {
       "_model_module_version": "~2.1.4",
       "_view_module_version": "~2.1.4",
       "button_style": "danger",
       "description": "Start training",
       "layout": "IPY_MODEL_ec4d48a3261d469ab2ac1414b4dc6af3",
       "style": "IPY_MODEL_8b1d27fd2e9c493cb65b1364a3106638"
      }
     },
     "66901e46b80c4662b07ba44bdaa58621": {
      "model_module": "jupyter-js-widgets",
      "model_module_version": "~2.1.4",
      "model_name": "LayoutModel",
      "state": {
       "_model_module_version": "~2.1.4",
       "_view_module_version": "~2.1.4"
      }
     },
     "66981c545819452896f8e856405cd0bb": {
      "model_module": "jupyter-js-widgets",
      "model_module_version": "~2.1.4",
      "model_name": "LayoutModel",
      "state": {
       "_model_module_version": "~2.1.4",
       "_view_module_version": "~2.1.4"
      }
     },
     "6714f9751ef846e8bd0c44742a8edb01": {
      "model_module": "jupyter-js-widgets",
      "model_module_version": "~2.1.4",
      "model_name": "OutputModel",
      "state": {
       "_dom_classes": [],
       "_model_module": "jupyter-js-widgets",
       "_model_module_version": "~2.1.4",
       "_view_module": "jupyter-js-widgets",
       "_view_module_version": "~2.1.4",
       "layout": "IPY_MODEL_5746f6c35f7c41be9eda74a935af11d1",
       "msg_throttle": 1
      }
     },
     "67248c96f0f646e987f82f15839327a9": {
      "model_module": "jupyter-js-widgets",
      "model_module_version": "~2.1.4",
      "model_name": "LayoutModel",
      "state": {
       "_model_module_version": "~2.1.4",
       "_view_module_version": "~2.1.4"
      }
     },
     "67c8b6f8f971498191776dabd068fc67": {
      "model_module": "jupyter-js-widgets",
      "model_module_version": "~2.1.4",
      "model_name": "LayoutModel",
      "state": {
       "_model_module_version": "~2.1.4",
       "_view_module_version": "~2.1.4"
      }
     },
     "6800e7b008d24d9d809a87e5a6e9ccc8": {
      "model_module": "jupyter-js-widgets",
      "model_module_version": "~2.1.4",
      "model_name": "LayoutModel",
      "state": {
       "_model_module_version": "~2.1.4",
       "_view_module_version": "~2.1.4",
       "width": "80%"
      }
     },
     "68263b78de214954a455b066fb7dcbe2": {
      "model_module": "jupyter-js-widgets",
      "model_module_version": "~2.1.4",
      "model_name": "LayoutModel",
      "state": {
       "_model_module_version": "~2.1.4",
       "_view_module_version": "~2.1.4"
      }
     },
     "683001bcf5e0458cb04ffd2bb7990bd8": {
      "model_module": "jupyter-js-widgets",
      "model_module_version": "~2.1.4",
      "model_name": "LayoutModel",
      "state": {
       "_model_module_version": "~2.1.4",
       "_view_module_version": "~2.1.4"
      }
     },
     "68409df052a845769b70c51d2f1afd8a": {
      "model_module": "jupyter-js-widgets",
      "model_module_version": "~2.1.4",
      "model_name": "IntSliderModel",
      "state": {
       "_model_module_version": "~2.1.4",
       "_view_module_version": "~2.1.4",
       "continuous_update": false,
       "description": "num components:",
       "layout": "IPY_MODEL_80c5aa308d914279911b66cbfd8adbbc",
       "max": 29,
       "min": 1,
       "style": "IPY_MODEL_80ce25e3e63e40eca2311fc38c35f239",
       "value": 5
      }
     },
     "6924a71d30044a199d1186317bdad232": {
      "model_module": "jupyter-js-widgets",
      "model_module_version": "~2.1.4",
      "model_name": "VBoxModel",
      "state": {
       "_dom_classes": [
        "widget-interact"
       ],
       "_model_module_version": "~2.1.4",
       "_view_module_version": "~2.1.4",
       "children": [
        "IPY_MODEL_9dc75a606a924aa98616f42dbac56d58",
        "IPY_MODEL_85a93c3856a24978a66f6d34e3c64ee4"
       ],
       "layout": "IPY_MODEL_68263b78de214954a455b066fb7dcbe2"
      }
     },
     "6931fda93b2f4014be5a843b0225e04a": {
      "model_module": "jupyter-js-widgets",
      "model_module_version": "~2.1.4",
      "model_name": "LayoutModel",
      "state": {
       "_model_module_version": "~2.1.4",
       "_view_module_version": "~2.1.4"
      }
     },
     "69a5514d03114339a2529212417b841c": {
      "model_module": "jupyter-js-widgets",
      "model_module_version": "~2.1.4",
      "model_name": "VBoxModel",
      "state": {
       "_dom_classes": [
        "widget-interact"
       ],
       "_model_module_version": "~2.1.4",
       "_view_module_version": "~2.1.4",
       "children": [
        "IPY_MODEL_e66d5fbb881d4498b435a86e403b04a8",
        "IPY_MODEL_4d2b91fec5bf404984fa2f3c4744c73e"
       ],
       "layout": "IPY_MODEL_f9b3667b73194f6db826fac61de064ab"
      }
     },
     "69ad4c691a014b668bb0dcf890825d8f": {
      "model_module": "jupyter-js-widgets",
      "model_module_version": "~2.1.4",
      "model_name": "OutputModel",
      "state": {
       "_dom_classes": [],
       "_model_module": "jupyter-js-widgets",
       "_model_module_version": "~2.1.4",
       "_view_module": "jupyter-js-widgets",
       "_view_module_version": "~2.1.4",
       "layout": "IPY_MODEL_89690675eabd4c328d36709039c818ef",
       "msg_throttle": 1
      }
     },
     "69b34ee3a09b4dd5ab2232bf2c6e6e4f": {
      "model_module": "jupyter-js-widgets",
      "model_module_version": "~2.1.4",
      "model_name": "OutputModel",
      "state": {
       "_dom_classes": [],
       "_model_module": "jupyter-js-widgets",
       "_model_module_version": "~2.1.4",
       "_view_module": "jupyter-js-widgets",
       "_view_module_version": "~2.1.4",
       "layout": "IPY_MODEL_c0e8bde40fce46909a41a85adfefd5cb",
       "msg_throttle": 1
      }
     },
     "69ecbf5fe29e4168bb79e880670375fa": {
      "model_module": "jupyter-js-widgets",
      "model_module_version": "~2.1.4",
      "model_name": "LayoutModel",
      "state": {
       "_model_module_version": "~2.1.4",
       "_view_module_version": "~2.1.4"
      }
     },
     "6a43b37072544487bde73338ee732b01": {
      "model_module": "jupyter-js-widgets",
      "model_module_version": "~2.1.4",
      "model_name": "LayoutModel",
      "state": {
       "_model_module_version": "~2.1.4",
       "_view_module_version": "~2.1.4"
      }
     },
     "6a57eb9523c84ae2b75f50790cb536c5": {
      "model_module": "jupyter-js-widgets",
      "model_module_version": "~2.1.4",
      "model_name": "LayoutModel",
      "state": {
       "_model_module_version": "~2.1.4",
       "_view_module_version": "~2.1.4"
      }
     },
     "6b2f2c8f455e4adfba51fd50d57201e6": {
      "model_module": "jupyter-js-widgets",
      "model_module_version": "~2.1.4",
      "model_name": "LayoutModel",
      "state": {
       "_model_module_version": "~2.1.4",
       "_view_module_version": "~2.1.4"
      }
     },
     "6b649f0b36504fe081500ae133ae5648": {
      "model_module": "jupyter-js-widgets",
      "model_module_version": "~2.1.4",
      "model_name": "LayoutModel",
      "state": {
       "_model_module_version": "~2.1.4",
       "_view_module_version": "~2.1.4",
       "width": "80%"
      }
     },
     "6b7c50a398e84ae3b9bcf3a0df5bdab8": {
      "model_module": "jupyter-js-widgets",
      "model_module_version": "~2.1.4",
      "model_name": "SliderStyleModel",
      "state": {
       "_model_module_version": "~2.1.4",
       "_view_module_version": "~2.1.4"
      }
     },
     "6b8e352d8bc546d29b4c5552d426f55b": {
      "model_module": "jupyter-js-widgets",
      "model_module_version": "~2.1.4",
      "model_name": "LayoutModel",
      "state": {
       "_model_module_version": "~2.1.4",
       "_view_module_version": "~2.1.4"
      }
     },
     "6bbe63c0e8f94aea9fc573b50d691bd7": {
      "model_module": "jupyter-js-widgets",
      "model_module_version": "~2.1.4",
      "model_name": "LayoutModel",
      "state": {
       "_model_module_version": "~2.1.4",
       "_view_module_version": "~2.1.4",
       "width": "80%"
      }
     },
     "6c3c35588c1f43f5bdc8b790d2e5e920": {
      "model_module": "jupyter-js-widgets",
      "model_module_version": "~2.1.4",
      "model_name": "OutputModel",
      "state": {
       "_dom_classes": [],
       "_model_module": "jupyter-js-widgets",
       "_model_module_version": "~2.1.4",
       "_view_module": "jupyter-js-widgets",
       "_view_module_version": "~2.1.4",
       "layout": "IPY_MODEL_266a2dbf8f254949abfde14a6f3cd232",
       "msg_throttle": 1
      }
     },
     "6c53e3a6a3034a659c829b58521bc0e9": {
      "model_module": "jupyter-js-widgets",
      "model_module_version": "~2.1.4",
      "model_name": "LayoutModel",
      "state": {
       "_model_module_version": "~2.1.4",
       "_view_module_version": "~2.1.4"
      }
     },
     "6cac3fd392ef49fe8c41699a83a850d8": {
      "model_module": "jupyter-js-widgets",
      "model_module_version": "~2.1.4",
      "model_name": "VBoxModel",
      "state": {
       "_dom_classes": [
        "widget-interact"
       ],
       "_model_module_version": "~2.1.4",
       "_view_module_version": "~2.1.4",
       "children": [
        "IPY_MODEL_da3956bc15054d75a394342f0a00a79d",
        "IPY_MODEL_a543820fb15b4dfa943c311efc3ef2ae"
       ],
       "layout": "IPY_MODEL_8f092ba4add249ddbffc3f541acf9481"
      }
     },
     "6f5adf3a8dfc493a9b239feb0bc14523": {
      "model_module": "jupyter-js-widgets",
      "model_module_version": "~2.1.4",
      "model_name": "LayoutModel",
      "state": {
       "_model_module_version": "~2.1.4",
       "_view_module_version": "~2.1.4"
      }
     },
     "6f81fe4b152a46a58c6bfcbe51290d2a": {
      "model_module": "jupyter-js-widgets",
      "model_module_version": "~2.1.4",
      "model_name": "SliderStyleModel",
      "state": {
       "_model_module_version": "~2.1.4",
       "_view_module_version": "~2.1.4"
      }
     },
     "6f8f2533609b4e9fb0b1db86a53b972c": {
      "model_module": "jupyter-js-widgets",
      "model_module_version": "~2.1.4",
      "model_name": "VBoxModel",
      "state": {
       "_dom_classes": [
        "widget-interact"
       ],
       "_model_module_version": "~2.1.4",
       "_view_module_version": "~2.1.4",
       "children": [
        "IPY_MODEL_be3359e5d0f440e4b24a06225e86fd3e",
        "IPY_MODEL_1e193502e1214c7cab5c4726459f9849"
       ],
       "layout": "IPY_MODEL_b155547a9aa74798b7bcd5dbd5b39551"
      }
     },
     "71d3cc9ab1aa45dfb390b4767a007050": {
      "model_module": "jupyter-js-widgets",
      "model_module_version": "~2.1.4",
      "model_name": "ProgressStyleModel",
      "state": {
       "_model_module_version": "~2.1.4",
       "_view_module_version": "~2.1.4"
      }
     },
     "71edff28b76b4c3f8fae2afb9c2e005a": {
      "model_module": "jupyter-js-widgets",
      "model_module_version": "~2.1.4",
      "model_name": "SliderStyleModel",
      "state": {
       "_model_module_version": "~2.1.4",
       "_view_module_version": "~2.1.4"
      }
     },
     "71f384f6e5d34827810a94d2cd2ed816": {
      "model_module": "jupyter-js-widgets",
      "model_module_version": "~2.1.4",
      "model_name": "LayoutModel",
      "state": {
       "_model_module_version": "~2.1.4",
       "_view_module_version": "~2.1.4",
       "width": "80%"
      }
     },
     "720301547dc04d1a84f80b03dbc5c98e": {
      "model_module": "jupyter-js-widgets",
      "model_module_version": "~2.1.4",
      "model_name": "LayoutModel",
      "state": {
       "_model_module_version": "~2.1.4",
       "_view_module_version": "~2.1.4"
      }
     },
     "727f73b904844ccfae768eb30411fd7f": {
      "model_module": "jupyter-js-widgets",
      "model_module_version": "~2.1.4",
      "model_name": "ButtonModel",
      "state": {
       "_model_module_version": "~2.1.4",
       "_view_module_version": "~2.1.4",
       "button_style": "info",
       "description": "Start prediction",
       "layout": "IPY_MODEL_37e62da76b4b4872a5b386071ac1017f",
       "style": "IPY_MODEL_27aefebd91b343259c57b5487b4e9607"
      }
     },
     "72aa19ac49174d7db6f5262e558b611e": {
      "model_module": "jupyter-js-widgets",
      "model_module_version": "~2.1.4",
      "model_name": "LayoutModel",
      "state": {
       "_model_module_version": "~2.1.4",
       "_view_module_version": "~2.1.4"
      }
     },
     "73717fe9393b461ab953b02dc8cd8894": {
      "model_module": "jupyter-js-widgets",
      "model_module_version": "~2.1.4",
      "model_name": "LayoutModel",
      "state": {
       "_model_module_version": "~2.1.4",
       "_view_module_version": "~2.1.4"
      }
     },
     "73a13f9ebc554f00bf6fe8083d6a334e": {
      "model_module": "jupyter-js-widgets",
      "model_module_version": "~2.1.4",
      "model_name": "VBoxModel",
      "state": {
       "_dom_classes": [
        "widget-interact"
       ],
       "_model_module_version": "~2.1.4",
       "_view_module_version": "~2.1.4",
       "children": [
        "IPY_MODEL_ceec93e0138841c08bf447b850234935",
        "IPY_MODEL_a58f7c115b884150be751ae50398fdc8"
       ],
       "layout": "IPY_MODEL_ed2d96f231fd4251b935317df9391530"
      }
     },
     "73dcfb7345cd4ae5b9f6b4e49d4b8c34": {
      "model_module": "jupyter-js-widgets",
      "model_module_version": "~2.1.4",
      "model_name": "OutputModel",
      "state": {
       "_dom_classes": [],
       "_model_module": "jupyter-js-widgets",
       "_model_module_version": "~2.1.4",
       "_view_module": "jupyter-js-widgets",
       "_view_module_version": "~2.1.4",
       "layout": "IPY_MODEL_8913a662695d443b9603545cb9ec12b0",
       "msg_throttle": 1
      }
     },
     "74554f94e16e46be8dfee7870f542fe7": {
      "model_module": "jupyter-js-widgets",
      "model_module_version": "~2.1.4",
      "model_name": "LayoutModel",
      "state": {
       "_model_module_version": "~2.1.4",
       "_view_module_version": "~2.1.4"
      }
     },
     "750d84b5dff14d8cbfb4f51ec95822c9": {
      "model_module": "jupyter-js-widgets",
      "model_module_version": "~2.1.4",
      "model_name": "SliderStyleModel",
      "state": {
       "_model_module_version": "~2.1.4",
       "_view_module_version": "~2.1.4"
      }
     },
     "7539a72fcf6948ec819a3d0532218ada": {
      "model_module": "jupyter-js-widgets",
      "model_module_version": "~2.1.4",
      "model_name": "LayoutModel",
      "state": {
       "_model_module_version": "~2.1.4",
       "_view_module_version": "~2.1.4"
      }
     },
     "755faab2adee426ca199575b8df8aea7": {
      "model_module": "jupyter-js-widgets",
      "model_module_version": "~2.1.4",
      "model_name": "RadioButtonsModel",
      "state": {
       "_model_module_version": "~2.1.4",
       "_options_labels": [
        "Multilayer Perceptron",
        "Naive Bayes"
       ],
       "_view_module_version": "~2.1.4",
       "description": "Classifier:",
       "layout": "IPY_MODEL_8e8a5bf9ccd14e1f9d69eb2be0adfce3",
       "value": "Multilayer Perceptron"
      }
     },
     "7595f9e201ee4f99aaa00caa9b67c7c8": {
      "model_module": "jupyter-js-widgets",
      "model_module_version": "~2.1.4",
      "model_name": "ButtonModel",
      "state": {
       "_model_module_version": "~2.1.4",
       "_view_module_version": "~2.1.4",
       "button_style": "danger",
       "description": "Start training",
       "layout": "IPY_MODEL_c124d753c77c436fbcb88c392ec7efe0",
       "style": "IPY_MODEL_b16db7f6902648009f73a3d35757ed42"
      }
     },
     "76278197dc5946379cd39fa6548c29ba": {
      "model_module": "jupyter-js-widgets",
      "model_module_version": "~2.1.4",
      "model_name": "IntSliderModel",
      "state": {
       "_model_module_version": "~2.1.4",
       "_view_module_version": "~2.1.4",
       "continuous_update": false,
       "description": "window size:",
       "layout": "IPY_MODEL_84f1d440d20245f8a1f4b5365a0dd3a0",
       "max": 1000,
       "min": 100,
       "step": 100,
       "style": "IPY_MODEL_e5e7a7fa3da7445a90959f79b52136b7",
       "value": 500
      }
     },
     "766fb4593213424199faf44d5478ac40": {
      "model_module": "jupyter-js-widgets",
      "model_module_version": "~2.1.4",
      "model_name": "OutputModel",
      "state": {
       "_dom_classes": [],
       "_model_module": "jupyter-js-widgets",
       "_model_module_version": "~2.1.4",
       "_view_module": "jupyter-js-widgets",
       "_view_module_version": "~2.1.4",
       "layout": "IPY_MODEL_ce6a35bfd92b4534995cafc2100634f6",
       "msg_throttle": 1
      }
     },
     "768715db56504b56a6f8f16c961f2cb6": {
      "model_module": "jupyter-js-widgets",
      "model_module_version": "~2.1.4",
      "model_name": "ProgressStyleModel",
      "state": {
       "_model_module_version": "~2.1.4",
       "_view_module_version": "~2.1.4"
      }
     },
     "76c40af9a51c483292f133a2d3cba93c": {
      "model_module": "jupyter-js-widgets",
      "model_module_version": "~2.1.4",
      "model_name": "ProgressStyleModel",
      "state": {
       "_model_module_version": "~2.1.4",
       "_view_module_version": "~2.1.4"
      }
     },
     "76f7e6dfe7c3462588282fc02c9d5c78": {
      "model_module": "jupyter-js-widgets",
      "model_module_version": "~2.1.4",
      "model_name": "LayoutModel",
      "state": {
       "_model_module_version": "~2.1.4",
       "_view_module_version": "~2.1.4"
      }
     },
     "77727312b8a24268891db8960343c396": {
      "model_module": "jupyter-js-widgets",
      "model_module_version": "~2.1.4",
      "model_name": "OutputModel",
      "state": {
       "_dom_classes": [],
       "_model_module": "jupyter-js-widgets",
       "_model_module_version": "~2.1.4",
       "_view_module": "jupyter-js-widgets",
       "_view_module_version": "~2.1.4",
       "layout": "IPY_MODEL_cd00f6417b7a43f8a3062eef66e23a1b",
       "msg_throttle": 1
      }
     },
     "77f36c8ce5504daeaada415f24a11104": {
      "model_module": "jupyter-js-widgets",
      "model_module_version": "~2.1.4",
      "model_name": "LayoutModel",
      "state": {
       "_model_module_version": "~2.1.4",
       "_view_module_version": "~2.1.4"
      }
     },
     "7877479327a24d72ae7848c57c5dc92c": {
      "model_module": "jupyter-js-widgets",
      "model_module_version": "~2.1.4",
      "model_name": "OutputModel",
      "state": {
       "_dom_classes": [],
       "_model_module": "jupyter-js-widgets",
       "_model_module_version": "~2.1.4",
       "_view_module": "jupyter-js-widgets",
       "_view_module_version": "~2.1.4",
       "layout": "IPY_MODEL_2b972dc710b04c8db3755f2367947709",
       "msg_throttle": 1
      }
     },
     "7894b14b7a194922a6cedcc98c736535": {
      "model_module": "jupyter-js-widgets",
      "model_module_version": "~2.1.4",
      "model_name": "LayoutModel",
      "state": {
       "_model_module_version": "~2.1.4",
       "_view_module_version": "~2.1.4"
      }
     },
     "78dae5cd00e1484ab8fa4e5d6ddf2c31": {
      "model_module": "jupyter-js-widgets",
      "model_module_version": "~2.1.4",
      "model_name": "ButtonStyleModel",
      "state": {
       "_model_module_version": "~2.1.4",
       "_view_module_version": "~2.1.4"
      }
     },
     "797f2b6b1e3747b4a3af0f1ceaf70872": {
      "model_module": "jupyter-js-widgets",
      "model_module_version": "~2.1.4",
      "model_name": "LayoutModel",
      "state": {
       "_model_module_version": "~2.1.4",
       "_view_module_version": "~2.1.4"
      }
     },
     "79bf2852e63249b2b8b5fa994da17cbd": {
      "model_module": "jupyter-js-widgets",
      "model_module_version": "~2.1.4",
      "model_name": "IntSliderModel",
      "state": {
       "_model_module_version": "~2.1.4",
       "_view_module_version": "~2.1.4",
       "continuous_update": false,
       "description": "num hidden layers:",
       "layout": "IPY_MODEL_9fd63bb1f6bb4f2fa2019f83aa78c048",
       "max": 10,
       "min": 1,
       "style": "IPY_MODEL_ad1fb05b95364f929bd179c47d062065",
       "value": 2
      }
     },
     "7a2fae37516e4403b1020a93aa7b23b9": {
      "model_module": "jupyter-js-widgets",
      "model_module_version": "~2.1.4",
      "model_name": "VBoxModel",
      "state": {
       "_dom_classes": [
        "widget-interact"
       ],
       "_model_module_version": "~2.1.4",
       "_view_module_version": "~2.1.4",
       "children": [
        "IPY_MODEL_890c202ba9444d63924462255180b9a4",
        "IPY_MODEL_7a3bde8cc69a43049540a2d9c46e9a5a"
       ],
       "layout": "IPY_MODEL_ce1ec049888948888bfb22568b33cb09"
      }
     },
     "7a3bde8cc69a43049540a2d9c46e9a5a": {
      "model_module": "jupyter-js-widgets",
      "model_module_version": "~2.1.4",
      "model_name": "OutputModel",
      "state": {
       "_dom_classes": [],
       "_model_module": "jupyter-js-widgets",
       "_model_module_version": "~2.1.4",
       "_view_module": "jupyter-js-widgets",
       "_view_module_version": "~2.1.4",
       "layout": "IPY_MODEL_233af23085904b7d9ed43fc435dd0eab",
       "msg_throttle": 1
      }
     },
     "7a412a8c74194086856a245793a58819": {
      "model_module": "jupyter-js-widgets",
      "model_module_version": "~2.1.4",
      "model_name": "VBoxModel",
      "state": {
       "_dom_classes": [
        "widget-interact"
       ],
       "_model_module_version": "~2.1.4",
       "_view_module_version": "~2.1.4",
       "children": [
        "IPY_MODEL_941b7245482f4760afaeab538ec0a7a7",
        "IPY_MODEL_06b24c8a716b443ea3af3629eba168d5"
       ],
       "layout": "IPY_MODEL_7539a72fcf6948ec819a3d0532218ada"
      }
     },
     "7a83d5bc57a34d40b8d70f9ebe45089d": {
      "model_module": "jupyter-js-widgets",
      "model_module_version": "~2.1.4",
      "model_name": "OutputModel",
      "state": {
       "_dom_classes": [],
       "_model_module": "jupyter-js-widgets",
       "_model_module_version": "~2.1.4",
       "_view_module": "jupyter-js-widgets",
       "_view_module_version": "~2.1.4",
       "layout": "IPY_MODEL_085eaecdc7384269896f442aeee626d8",
       "msg_throttle": 1
      }
     },
     "7aabb632a27940e4966c62a8a89832ae": {
      "model_module": "jupyter-js-widgets",
      "model_module_version": "~2.1.4",
      "model_name": "LayoutModel",
      "state": {
       "_model_module_version": "~2.1.4",
       "_view_module_version": "~2.1.4",
       "width": "80%"
      }
     },
     "7bdc65f094f54707a0edfa094e48353f": {
      "model_module": "jupyter-js-widgets",
      "model_module_version": "~2.1.4",
      "model_name": "IntSliderModel",
      "state": {
       "_model_module_version": "~2.1.4",
       "_view_module_version": "~2.1.4",
       "continuous_update": false,
       "description": "num components:",
       "layout": "IPY_MODEL_2bbdf2edd49f4e2cadf709e599ef02cb",
       "max": 29,
       "min": 1,
       "style": "IPY_MODEL_ecd01a31e7624e3f896b4fb51120136e",
       "value": 5
      }
     },
     "7c096f1e5cc9466592cc1066301a239c": {
      "model_module": "jupyter-js-widgets",
      "model_module_version": "~2.1.4",
      "model_name": "OutputModel",
      "state": {
       "_dom_classes": [],
       "_model_module": "jupyter-js-widgets",
       "_model_module_version": "~2.1.4",
       "_view_module": "jupyter-js-widgets",
       "_view_module_version": "~2.1.4",
       "layout": "IPY_MODEL_de499e33b0954370af95dc2526cc6fdc",
       "msg_throttle": 1
      }
     },
     "7c867acbb9a74a3bb5c0fdf6cf4d9e17": {
      "model_module": "jupyter-js-widgets",
      "model_module_version": "~2.1.4",
      "model_name": "LayoutModel",
      "state": {
       "_model_module_version": "~2.1.4",
       "_view_module_version": "~2.1.4"
      }
     },
     "7e2776e14e734efba79843223bd01cf0": {
      "model_module": "jupyter-js-widgets",
      "model_module_version": "~2.1.4",
      "model_name": "ProgressModel",
      "state": {
       "_model_module_version": "~2.1.4",
       "_view_module_version": "~2.1.4",
       "bar_style": "danger",
       "description": "Training:",
       "layout": "IPY_MODEL_1eb684ad4c1e44c29fc52154477e1827",
       "max": 700,
       "style": "IPY_MODEL_33bf3f81969b48e1a6f507d680ecc6c0",
       "value": 700
      }
     },
     "7e4e9da4cdd5446f863aeeb53be74b2c": {
      "model_module": "jupyter-js-widgets",
      "model_module_version": "~2.1.4",
      "model_name": "LayoutModel",
      "state": {
       "_model_module_version": "~2.1.4",
       "_view_module_version": "~2.1.4"
      }
     },
     "7f4828e647d94c728db9de40f401d61b": {
      "model_module": "jupyter-js-widgets",
      "model_module_version": "~2.1.4",
      "model_name": "LayoutModel",
      "state": {
       "_model_module_version": "~2.1.4",
       "_view_module_version": "~2.1.4"
      }
     },
     "7f8900b183f84015ad0e5599bacea017": {
      "model_module": "jupyter-js-widgets",
      "model_module_version": "~2.1.4",
      "model_name": "VBoxModel",
      "state": {
       "_dom_classes": [
        "widget-interact"
       ],
       "_model_module_version": "~2.1.4",
       "_view_module_version": "~2.1.4",
       "children": [
        "IPY_MODEL_d0572221137d4b789afe406526d4854a",
        "IPY_MODEL_1da1370454e14a9fbbc834beffec916a"
       ],
       "layout": "IPY_MODEL_c78500bd43e048edb9ded0a975f5ad52"
      }
     },
     "7f998807163e49429d3c1f509bd6085b": {
      "model_module": "jupyter-js-widgets",
      "model_module_version": "~2.1.4",
      "model_name": "VBoxModel",
      "state": {
       "_dom_classes": [
        "widget-interact"
       ],
       "_model_module_version": "~2.1.4",
       "_view_module_version": "~2.1.4",
       "children": [
        "IPY_MODEL_ecf6b25cbdf7417a90f75cfd8fa65508",
        "IPY_MODEL_6c3c35588c1f43f5bdc8b790d2e5e920"
       ],
       "layout": "IPY_MODEL_afa58359b6de4c9dbffb985dbcb62c36"
      }
     },
     "80066684870f4379861b8123f0fa3b10": {
      "model_module": "jupyter-js-widgets",
      "model_module_version": "~2.1.4",
      "model_name": "ButtonStyleModel",
      "state": {
       "_model_module_version": "~2.1.4",
       "_view_module_version": "~2.1.4"
      }
     },
     "8044ca9f1e054ff9a5d396a245685ee1": {
      "model_module": "jupyter-js-widgets",
      "model_module_version": "~2.1.4",
      "model_name": "LayoutModel",
      "state": {
       "_model_module_version": "~2.1.4",
       "_view_module_version": "~2.1.4",
       "width": "80%"
      }
     },
     "80c5aa308d914279911b66cbfd8adbbc": {
      "model_module": "jupyter-js-widgets",
      "model_module_version": "~2.1.4",
      "model_name": "LayoutModel",
      "state": {
       "_model_module_version": "~2.1.4",
       "_view_module_version": "~2.1.4",
       "width": "80%"
      }
     },
     "80ce25e3e63e40eca2311fc38c35f239": {
      "model_module": "jupyter-js-widgets",
      "model_module_version": "~2.1.4",
      "model_name": "SliderStyleModel",
      "state": {
       "_model_module_version": "~2.1.4",
       "_view_module_version": "~2.1.4"
      }
     },
     "80ce5777925d4d6c8874248645d49ee7": {
      "model_module": "jupyter-js-widgets",
      "model_module_version": "~2.1.4",
      "model_name": "VBoxModel",
      "state": {
       "_dom_classes": [
        "widget-interact"
       ],
       "_model_module_version": "~2.1.4",
       "_view_module_version": "~2.1.4",
       "children": [
        "IPY_MODEL_f14d0a23210342c384815a626bd6af05",
        "IPY_MODEL_866462db00db47a3aa2791c0e0132284"
       ],
       "layout": "IPY_MODEL_4037c914e88543d18ab837272b6c9ebe"
      }
     },
     "8126c02a21bd4e6cad60b5dfb1fe8672": {
      "model_module": "jupyter-js-widgets",
      "model_module_version": "~2.1.4",
      "model_name": "OutputModel",
      "state": {
       "_dom_classes": [],
       "_model_module": "jupyter-js-widgets",
       "_model_module_version": "~2.1.4",
       "_view_module": "jupyter-js-widgets",
       "_view_module_version": "~2.1.4",
       "layout": "IPY_MODEL_02515442e2d24ce5a9f984e27e8eaaf2",
       "msg_throttle": 1
      }
     },
     "824e1eb2dbb340a4bf4923dd98dba70a": {
      "model_module": "jupyter-js-widgets",
      "model_module_version": "~2.1.4",
      "model_name": "LayoutModel",
      "state": {
       "_model_module_version": "~2.1.4",
       "_view_module_version": "~2.1.4",
       "width": "80%"
      }
     },
     "8311f7fda4b0423ab53c8788009c7389": {
      "model_module": "jupyter-js-widgets",
      "model_module_version": "~2.1.4",
      "model_name": "LayoutModel",
      "state": {
       "_model_module_version": "~2.1.4",
       "_view_module_version": "~2.1.4"
      }
     },
     "833359c6b91845718c65368c3e931c64": {
      "model_module": "jupyter-js-widgets",
      "model_module_version": "~2.1.4",
      "model_name": "IntSliderModel",
      "state": {
       "_model_module_version": "~2.1.4",
       "_view_module_version": "~2.1.4",
       "continuous_update": false,
       "description": "window reps:",
       "layout": "IPY_MODEL_4a001127019149c8a3d4f2a8ef71533d",
       "min": 1,
       "style": "IPY_MODEL_228630623149497f8e7f0273435c1f1c",
       "value": 10
      }
     },
     "835d21ee29ed43869a8f62a9c9feab2a": {
      "model_module": "jupyter-js-widgets",
      "model_module_version": "~2.1.4",
      "model_name": "VBoxModel",
      "state": {
       "_dom_classes": [
        "widget-interact"
       ],
       "_model_module_version": "~2.1.4",
       "_view_module_version": "~2.1.4",
       "children": [
        "IPY_MODEL_166110df858248889bdb3d2bbe4da6a8",
        "IPY_MODEL_f862ca91814545bda82d625a1f183408"
       ],
       "layout": "IPY_MODEL_8a872b3889ac48f9973a8e8af9482d77"
      }
     },
     "8371b404acd545729a94ce084b072ce4": {
      "model_module": "jupyter-js-widgets",
      "model_module_version": "~2.1.4",
      "model_name": "OutputModel",
      "state": {
       "_dom_classes": [],
       "_model_module": "jupyter-js-widgets",
       "_model_module_version": "~2.1.4",
       "_view_module": "jupyter-js-widgets",
       "_view_module_version": "~2.1.4",
       "layout": "IPY_MODEL_92d09e040ff64e7d82e0e7e1d0b8e95e",
       "msg_throttle": 1
      }
     },
     "83efbbae64b6435a9fdf7f4babe34e10": {
      "model_module": "jupyter-js-widgets",
      "model_module_version": "~2.1.4",
      "model_name": "LayoutModel",
      "state": {
       "_model_module_version": "~2.1.4",
       "_view_module_version": "~2.1.4",
       "width": "80%"
      }
     },
     "83fdb9bed09f4931a75d4bce75ed9ced": {
      "model_module": "jupyter-js-widgets",
      "model_module_version": "~2.1.4",
      "model_name": "VBoxModel",
      "state": {
       "_dom_classes": [
        "widget-interact"
       ],
       "_model_module_version": "~2.1.4",
       "_view_module_version": "~2.1.4",
       "children": [
        "IPY_MODEL_59b79bb6c5c54fa6a4e12f2eacf0565c",
        "IPY_MODEL_29aa241518e045e887b141056910396d"
       ],
       "layout": "IPY_MODEL_56ad810e738343be80c940e203a2bd25"
      }
     },
     "8434cd753441409195cfc9f4d966c876": {
      "model_module": "jupyter-js-widgets",
      "model_module_version": "~2.1.4",
      "model_name": "LayoutModel",
      "state": {
       "_model_module_version": "~2.1.4",
       "_view_module_version": "~2.1.4",
       "width": "80%"
      }
     },
     "845bf4323eb8483d9e9463f674c96f7e": {
      "model_module": "jupyter-js-widgets",
      "model_module_version": "~2.1.4",
      "model_name": "LayoutModel",
      "state": {
       "_model_module_version": "~2.1.4",
       "_view_module_version": "~2.1.4"
      }
     },
     "8491049192604ad68d311de9ee031cfb": {
      "model_module": "jupyter-js-widgets",
      "model_module_version": "~2.1.4",
      "model_name": "SliderStyleModel",
      "state": {
       "_model_module_version": "~2.1.4",
       "_view_module_version": "~2.1.4"
      }
     },
     "84d9536309c34620becf448c395b283b": {
      "model_module": "jupyter-js-widgets",
      "model_module_version": "~2.1.4",
      "model_name": "ProgressModel",
      "state": {
       "_model_module_version": "~2.1.4",
       "_view_module_version": "~2.1.4",
       "bar_style": "info",
       "description": "Training:",
       "layout": "IPY_MODEL_aaa715e56cab4e28a936da9791e2d7cc",
       "max": 700,
       "style": "IPY_MODEL_a7032b2ed6444c66be9c0127801a91a1",
       "value": 700
      }
     },
     "84f1d440d20245f8a1f4b5365a0dd3a0": {
      "model_module": "jupyter-js-widgets",
      "model_module_version": "~2.1.4",
      "model_name": "LayoutModel",
      "state": {
       "_model_module_version": "~2.1.4",
       "_view_module_version": "~2.1.4",
       "width": "80%"
      }
     },
     "852f4c9da8bc4431b33c0b510acdcf2a": {
      "model_module": "jupyter-js-widgets",
      "model_module_version": "~2.1.4",
      "model_name": "VBoxModel",
      "state": {
       "_dom_classes": [
        "widget-interact"
       ],
       "_model_module_version": "~2.1.4",
       "_view_module_version": "~2.1.4",
       "children": [
        "IPY_MODEL_cf04a7885e6241f5a80c89476d7d01ec",
        "IPY_MODEL_1cfae9a493e64de3ba3ca84af550d3a6"
       ],
       "layout": "IPY_MODEL_d07b2ec9e3e344c5a0613e959f3fec2b"
      }
     },
     "85759d9df95545ac91a72e3716c310c0": {
      "model_module": "jupyter-js-widgets",
      "model_module_version": "~2.1.4",
      "model_name": "LayoutModel",
      "state": {
       "_model_module_version": "~2.1.4",
       "_view_module_version": "~2.1.4"
      }
     },
     "85a75fcaced34e8eb5ab9d5b5a1976e9": {
      "model_module": "jupyter-js-widgets",
      "model_module_version": "~2.1.4",
      "model_name": "SliderStyleModel",
      "state": {
       "_model_module_version": "~2.1.4",
       "_view_module_version": "~2.1.4"
      }
     },
     "85a93c3856a24978a66f6d34e3c64ee4": {
      "model_module": "jupyter-js-widgets",
      "model_module_version": "~2.1.4",
      "model_name": "OutputModel",
      "state": {
       "_dom_classes": [],
       "_model_module": "jupyter-js-widgets",
       "_model_module_version": "~2.1.4",
       "_view_module": "jupyter-js-widgets",
       "_view_module_version": "~2.1.4",
       "layout": "IPY_MODEL_0678f89dfe274edab778787a43d5475d",
       "msg_throttle": 1
      }
     },
     "8617d414f26e4211ac76dca5bed443b4": {
      "model_module": "jupyter-js-widgets",
      "model_module_version": "~2.1.4",
      "model_name": "LayoutModel",
      "state": {
       "_model_module_version": "~2.1.4",
       "_view_module_version": "~2.1.4",
       "width": "80%"
      }
     },
     "862f1e8693894fd580b2375793eaf752": {
      "model_module": "jupyter-js-widgets",
      "model_module_version": "~2.1.4",
      "model_name": "LayoutModel",
      "state": {
       "_model_module_version": "~2.1.4",
       "_view_module_version": "~2.1.4"
      }
     },
     "8640b673c00a4acb91f647788fbd4875": {
      "model_module": "jupyter-js-widgets",
      "model_module_version": "~2.1.4",
      "model_name": "LayoutModel",
      "state": {
       "_model_module_version": "~2.1.4",
       "_view_module_version": "~2.1.4"
      }
     },
     "864a31ffa5274c4fb3e20977736c792c": {
      "model_module": "jupyter-js-widgets",
      "model_module_version": "~2.1.4",
      "model_name": "LayoutModel",
      "state": {
       "_model_module_version": "~2.1.4",
       "_view_module_version": "~2.1.4"
      }
     },
     "866462db00db47a3aa2791c0e0132284": {
      "model_module": "jupyter-js-widgets",
      "model_module_version": "~2.1.4",
      "model_name": "OutputModel",
      "state": {
       "_dom_classes": [],
       "_model_module": "jupyter-js-widgets",
       "_model_module_version": "~2.1.4",
       "_view_module": "jupyter-js-widgets",
       "_view_module_version": "~2.1.4",
       "layout": "IPY_MODEL_cea3437d89bd4c98b7ce4ef4772c44e4",
       "msg_throttle": 1
      }
     },
     "8690628d795642199573026b4d2bc51c": {
      "model_module": "jupyter-js-widgets",
      "model_module_version": "~2.1.4",
      "model_name": "SliderStyleModel",
      "state": {
       "_model_module_version": "~2.1.4",
       "_view_module_version": "~2.1.4"
      }
     },
     "869aabc5205d490dae8a8d1fbfd08a0c": {
      "model_module": "jupyter-js-widgets",
      "model_module_version": "~2.1.4",
      "model_name": "LayoutModel",
      "state": {
       "_model_module_version": "~2.1.4",
       "_view_module_version": "~2.1.4"
      }
     },
     "86aade8bc88440dfb9cf31ef55e61a39": {
      "model_module": "jupyter-js-widgets",
      "model_module_version": "~2.1.4",
      "model_name": "LabelModel",
      "state": {
       "_model_module_version": "~2.1.4",
       "_view_module_version": "~2.1.4",
       "layout": "IPY_MODEL_925eeb848764490fad6d45670f5d6072",
       "value": "Hidden layer sizes:"
      }
     },
     "8769789180bb4957b8549ee3d6cd8a1b": {
      "model_module": "jupyter-js-widgets",
      "model_module_version": "~2.1.4",
      "model_name": "LayoutModel",
      "state": {
       "_model_module_version": "~2.1.4",
       "_view_module_version": "~2.1.4"
      }
     },
     "87ce9a3e0910447cb8c2c7b37dada4f3": {
      "model_module": "jupyter-js-widgets",
      "model_module_version": "~2.1.4",
      "model_name": "ProgressModel",
      "state": {
       "_model_module_version": "~2.1.4",
       "_view_module_version": "~2.1.4",
       "bar_style": "danger",
       "description": "Training:",
       "layout": "IPY_MODEL_869aabc5205d490dae8a8d1fbfd08a0c",
       "max": 700,
       "style": "IPY_MODEL_1275b987c38b4de2b5c6bf9969e34749",
       "value": 700
      }
     },
     "885deb40df7b4a0391a0e7e19a4e5f08": {
      "model_module": "jupyter-js-widgets",
      "model_module_version": "~2.1.4",
      "model_name": "SliderStyleModel",
      "state": {
       "_model_module_version": "~2.1.4",
       "_view_module_version": "~2.1.4"
      }
     },
     "88684c80337e402d92ab39beaf59ccc4": {
      "model_module": "jupyter-js-widgets",
      "model_module_version": "~2.1.4",
      "model_name": "IntSliderModel",
      "state": {
       "_model_module_version": "~2.1.4",
       "_view_module_version": "~2.1.4",
       "continuous_update": false,
       "description": "window size:",
       "layout": "IPY_MODEL_4de57dbc1b354fb885d06c8f16f6445a",
       "max": 1000,
       "min": 100,
       "step": 100,
       "style": "IPY_MODEL_cb6283321a7c41629c446dac351ff681",
       "value": 500
      }
     },
     "886c8eb55d4b4bf5ad5e627b9bbd10df": {
      "model_module": "jupyter-js-widgets",
      "model_module_version": "~2.1.4",
      "model_name": "VBoxModel",
      "state": {
       "_dom_classes": [
        "widget-interact"
       ],
       "_model_module_version": "~2.1.4",
       "_view_module_version": "~2.1.4",
       "children": [
        "IPY_MODEL_9bd26277811d463982dcd5c6e233a613",
        "IPY_MODEL_5ba283cfffea43f4b2c20031f1865c3f"
       ],
       "layout": "IPY_MODEL_4998b00f52e74872afa9197e4a5a4101"
      }
     },
     "8898e726317742c6957bfd25ae1e1fb2": {
      "model_module": "jupyter-js-widgets",
      "model_module_version": "~2.1.4",
      "model_name": "IntSliderModel",
      "state": {
       "_model_module_version": "~2.1.4",
       "_view_module_version": "~2.1.4",
       "continuous_update": false,
       "description": "num components:",
       "layout": "IPY_MODEL_e0bc317dd5124af7bc62fd83b90d78cb",
       "max": 29,
       "min": 1,
       "style": "IPY_MODEL_ccda59ccc82d4a83b1a5b7599453424d",
       "value": 5
      }
     },
     "88afab33332645ba8dcab86f8c676f15": {
      "model_module": "jupyter-js-widgets",
      "model_module_version": "~2.1.4",
      "model_name": "IntSliderModel",
      "state": {
       "_model_module_version": "~2.1.4",
       "_view_module_version": "~2.1.4",
       "continuous_update": false,
       "description": "max iterations:",
       "layout": "IPY_MODEL_8044ca9f1e054ff9a5d396a245685ee1",
       "max": 500,
       "min": 1,
       "style": "IPY_MODEL_f16e673873e74459a10729f35efb6f4b",
       "value": 30
      }
     },
     "88e7294ead7c4ceaabfa9b5cffeb7382": {
      "model_module": "jupyter-js-widgets",
      "model_module_version": "~2.1.4",
      "model_name": "LayoutModel",
      "state": {
       "_model_module_version": "~2.1.4",
       "_view_module_version": "~2.1.4",
       "width": "80%"
      }
     },
     "88ee50710ee1424ea9df06d08bf385f5": {
      "model_module": "jupyter-js-widgets",
      "model_module_version": "~2.1.4",
      "model_name": "VBoxModel",
      "state": {
       "_dom_classes": [
        "widget-interact"
       ],
       "_model_module_version": "~2.1.4",
       "_view_module_version": "~2.1.4",
       "children": [
        "IPY_MODEL_2445c0366d634986b8d1a2494e8ba4fd",
        "IPY_MODEL_02d8fee237bc4049aff2b39e1823e86b"
       ],
       "layout": "IPY_MODEL_df3aa756867b4e1597a0d110b73ffb80"
      }
     },
     "890c202ba9444d63924462255180b9a4": {
      "model_module": "jupyter-js-widgets",
      "model_module_version": "~2.1.4",
      "model_name": "RadioButtonsModel",
      "state": {
       "_model_module_version": "~2.1.4",
       "_options_labels": [
        "Multilayer Perceptron",
        "Naive Bayes"
       ],
       "_view_module_version": "~2.1.4",
       "description": "Classifier:",
       "layout": "IPY_MODEL_e64f7e10f0e14a4c86239393a0f88015",
       "value": "Multilayer Perceptron"
      }
     },
     "8913a662695d443b9603545cb9ec12b0": {
      "model_module": "jupyter-js-widgets",
      "model_module_version": "~2.1.4",
      "model_name": "LayoutModel",
      "state": {
       "_model_module_version": "~2.1.4",
       "_view_module_version": "~2.1.4"
      }
     },
     "89690675eabd4c328d36709039c818ef": {
      "model_module": "jupyter-js-widgets",
      "model_module_version": "~2.1.4",
      "model_name": "LayoutModel",
      "state": {
       "_model_module_version": "~2.1.4",
       "_view_module_version": "~2.1.4"
      }
     },
     "8991eb0e4385491fa20066e5a999aaa5": {
      "model_module": "jupyter-js-widgets",
      "model_module_version": "~2.1.4",
      "model_name": "LayoutModel",
      "state": {
       "_model_module_version": "~2.1.4",
       "_view_module_version": "~2.1.4"
      }
     },
     "8a872b3889ac48f9973a8e8af9482d77": {
      "model_module": "jupyter-js-widgets",
      "model_module_version": "~2.1.4",
      "model_name": "LayoutModel",
      "state": {
       "_model_module_version": "~2.1.4",
       "_view_module_version": "~2.1.4"
      }
     },
     "8a9ae5e0679a4c859918bab5e0a34e08": {
      "model_module": "jupyter-js-widgets",
      "model_module_version": "~2.1.4",
      "model_name": "VBoxModel",
      "state": {
       "_dom_classes": [
        "widget-interact"
       ],
       "_model_module_version": "~2.1.4",
       "_view_module_version": "~2.1.4",
       "children": [
        "IPY_MODEL_dfb48e7c7bed459ca04151f5f77bff6b",
        "IPY_MODEL_47febc1aa7cd4aeb84c8c5e834c712d0"
       ],
       "layout": "IPY_MODEL_7c867acbb9a74a3bb5c0fdf6cf4d9e17"
      }
     },
     "8aeab896928e475a8949e6410089e936": {
      "model_module": "jupyter-js-widgets",
      "model_module_version": "~2.1.4",
      "model_name": "ButtonStyleModel",
      "state": {
       "_model_module_version": "~2.1.4",
       "_view_module_version": "~2.1.4"
      }
     },
     "8b1d27fd2e9c493cb65b1364a3106638": {
      "model_module": "jupyter-js-widgets",
      "model_module_version": "~2.1.4",
      "model_name": "ButtonStyleModel",
      "state": {
       "_model_module_version": "~2.1.4",
       "_view_module_version": "~2.1.4"
      }
     },
     "8b770ba2c4ca49dc9a687ca30bb881d4": {
      "model_module": "jupyter-js-widgets",
      "model_module_version": "~2.1.4",
      "model_name": "LayoutModel",
      "state": {
       "_model_module_version": "~2.1.4",
       "_view_module_version": "~2.1.4"
      }
     },
     "8bfa00d0ee8e41c8a284e952c9ee43a6": {
      "model_module": "jupyter-js-widgets",
      "model_module_version": "~2.1.4",
      "model_name": "IntSliderModel",
      "state": {
       "_model_module_version": "~2.1.4",
       "_view_module_version": "~2.1.4",
       "continuous_update": false,
       "description": "window reps:",
       "layout": "IPY_MODEL_35bd2ef1e8674b1ca6859ad162632efc",
       "min": 1,
       "style": "IPY_MODEL_999e26348e1a46ccad6a322483d64a47",
       "value": 10
      }
     },
     "8c24c540bcfd4ab69a33308677c193de": {
      "model_module": "jupyter-js-widgets",
      "model_module_version": "~2.1.4",
      "model_name": "LayoutModel",
      "state": {
       "_model_module_version": "~2.1.4",
       "_view_module_version": "~2.1.4"
      }
     },
     "8c820ae3d2c543de9a3d45b3ee7d433d": {
      "model_module": "jupyter-js-widgets",
      "model_module_version": "~2.1.4",
      "model_name": "LayoutModel",
      "state": {
       "_model_module_version": "~2.1.4",
       "_view_module_version": "~2.1.4"
      }
     },
     "8cf9eed636b7485485a34edd437f26d1": {
      "model_module": "jupyter-js-widgets",
      "model_module_version": "~2.1.4",
      "model_name": "LayoutModel",
      "state": {
       "_model_module_version": "~2.1.4",
       "_view_module_version": "~2.1.4"
      }
     },
     "8d3b91cbea7d401e848f0f32ba83c164": {
      "model_module": "jupyter-js-widgets",
      "model_module_version": "~2.1.4",
      "model_name": "ProgressModel",
      "state": {
       "_model_module_version": "~2.1.4",
       "_view_module_version": "~2.1.4",
       "bar_style": "info",
       "description": "Predicting:",
       "layout": "IPY_MODEL_8cf9eed636b7485485a34edd437f26d1",
       "max": 3500,
       "style": "IPY_MODEL_d3e4a836ab0c4f4bae24c972e3f28766",
       "value": 3500
      }
     },
     "8d96fb64180b489e94781431d62cf281": {
      "model_module": "jupyter-js-widgets",
      "model_module_version": "~2.1.4",
      "model_name": "LayoutModel",
      "state": {
       "_model_module_version": "~2.1.4",
       "_view_module_version": "~2.1.4"
      }
     },
     "8e28392a91bc4168ac96e870108d5ed0": {
      "model_module": "jupyter-js-widgets",
      "model_module_version": "~2.1.4",
      "model_name": "OutputModel",
      "state": {
       "_dom_classes": [],
       "_model_module": "jupyter-js-widgets",
       "_model_module_version": "~2.1.4",
       "_view_module": "jupyter-js-widgets",
       "_view_module_version": "~2.1.4",
       "layout": "IPY_MODEL_2259d70a9bbb4aff83d2122a2bc440f1",
       "msg_throttle": 1
      }
     },
     "8e4df1add6a247c8b1a5aa0aef549597": {
      "model_module": "jupyter-js-widgets",
      "model_module_version": "~2.1.4",
      "model_name": "LayoutModel",
      "state": {
       "_model_module_version": "~2.1.4",
       "_view_module_version": "~2.1.4"
      }
     },
     "8e8a5bf9ccd14e1f9d69eb2be0adfce3": {
      "model_module": "jupyter-js-widgets",
      "model_module_version": "~2.1.4",
      "model_name": "LayoutModel",
      "state": {
       "_model_module_version": "~2.1.4",
       "_view_module_version": "~2.1.4"
      }
     },
     "8e9e1ebcb99d4f6f80d1566b71ffc49b": {
      "model_module": "jupyter-js-widgets",
      "model_module_version": "~2.1.4",
      "model_name": "LayoutModel",
      "state": {
       "_model_module_version": "~2.1.4",
       "_view_module_version": "~2.1.4"
      }
     },
     "8f092ba4add249ddbffc3f541acf9481": {
      "model_module": "jupyter-js-widgets",
      "model_module_version": "~2.1.4",
      "model_name": "LayoutModel",
      "state": {
       "_model_module_version": "~2.1.4",
       "_view_module_version": "~2.1.4"
      }
     },
     "8f13701421c04712b7befe592ee6e8af": {
      "model_module": "jupyter-js-widgets",
      "model_module_version": "~2.1.4",
      "model_name": "LayoutModel",
      "state": {
       "_model_module_version": "~2.1.4",
       "_view_module_version": "~2.1.4"
      }
     },
     "8f35f9edf2594ece9a3ae56b108882f6": {
      "model_module": "jupyter-js-widgets",
      "model_module_version": "~2.1.4",
      "model_name": "LayoutModel",
      "state": {
       "_model_module_version": "~2.1.4",
       "_view_module_version": "~2.1.4"
      }
     },
     "8fedba8e2b6b41f089acddc750e2ec66": {
      "model_module": "jupyter-js-widgets",
      "model_module_version": "~2.1.4",
      "model_name": "LayoutModel",
      "state": {
       "_model_module_version": "~2.1.4",
       "_view_module_version": "~2.1.4"
      }
     },
     "8ffa0a59da2f4b2da4a54ee6b746656d": {
      "model_module": "jupyter-js-widgets",
      "model_module_version": "~2.1.4",
      "model_name": "IntSliderModel",
      "state": {
       "_model_module_version": "~2.1.4",
       "_view_module_version": "~2.1.4",
       "continuous_update": false,
       "description": "window reps:",
       "layout": "IPY_MODEL_948c5cab3072428db71b026ed861aa6b",
       "min": 1,
       "style": "IPY_MODEL_f5c20237ea214d39be6d5683a80abfd6",
       "value": 10
      }
     },
     "916dd97b534d49499b1c2d693c003cb1": {
      "model_module": "jupyter-js-widgets",
      "model_module_version": "~2.1.4",
      "model_name": "ProgressModel",
      "state": {
       "_model_module_version": "~2.1.4",
       "_view_module_version": "~2.1.4",
       "bar_style": "danger",
       "description": "Training:",
       "layout": "IPY_MODEL_c75edf5b7e204033a9e9422c24adf5ad",
       "max": 7000000,
       "style": "IPY_MODEL_250334ae895541b6888e0cc49b2e4603",
       "value": 6999999
      }
     },
     "91fcecb1c2504d949b24c991a3749ce7": {
      "model_module": "jupyter-js-widgets",
      "model_module_version": "~2.1.4",
      "model_name": "LayoutModel",
      "state": {
       "_model_module_version": "~2.1.4",
       "_view_module_version": "~2.1.4"
      }
     },
     "9203691b601b49288ee15209b37df971": {
      "model_module": "jupyter-js-widgets",
      "model_module_version": "~2.1.4",
      "model_name": "ButtonModel",
      "state": {
       "_model_module_version": "~2.1.4",
       "_view_module_version": "~2.1.4",
       "button_style": "info",
       "description": "Start prediction",
       "layout": "IPY_MODEL_ede8de041b81493598b9308a50dddf49",
       "style": "IPY_MODEL_e87c666dff93414b831d5c1c37a752a3"
      }
     },
     "9225742b5b4b4c108f0caf180c8e02cd": {
      "model_module": "jupyter-js-widgets",
      "model_module_version": "~2.1.4",
      "model_name": "SliderStyleModel",
      "state": {
       "_model_module_version": "~2.1.4",
       "_view_module_version": "~2.1.4"
      }
     },
     "92266a8e11a2481b904c8988bc9a2552": {
      "model_module": "jupyter-js-widgets",
      "model_module_version": "~2.1.4",
      "model_name": "LayoutModel",
      "state": {
       "_model_module_version": "~2.1.4",
       "_view_module_version": "~2.1.4",
       "width": "80%"
      }
     },
     "925eeb848764490fad6d45670f5d6072": {
      "model_module": "jupyter-js-widgets",
      "model_module_version": "~2.1.4",
      "model_name": "LayoutModel",
      "state": {
       "_model_module_version": "~2.1.4",
       "_view_module_version": "~2.1.4",
       "width": "100%"
      }
     },
     "92d09e040ff64e7d82e0e7e1d0b8e95e": {
      "model_module": "jupyter-js-widgets",
      "model_module_version": "~2.1.4",
      "model_name": "LayoutModel",
      "state": {
       "_model_module_version": "~2.1.4",
       "_view_module_version": "~2.1.4"
      }
     },
     "9315a9e3521b4d708183f07c5a0a6f42": {
      "model_module": "jupyter-js-widgets",
      "model_module_version": "~2.1.4",
      "model_name": "RadioButtonsModel",
      "state": {
       "_model_module_version": "~2.1.4",
       "_options_labels": [
        "Multilayer Perceptron",
        "Naive Bayes"
       ],
       "_view_module_version": "~2.1.4",
       "description": "Classifier:",
       "layout": "IPY_MODEL_62943fc0f93c4c6e941860b39c06df0a",
       "value": "Multilayer Perceptron"
      }
     },
     "932274e2cb7a4b2db474f84f7e5d9747": {
      "model_module": "jupyter-js-widgets",
      "model_module_version": "~2.1.4",
      "model_name": "ButtonStyleModel",
      "state": {
       "_model_module_version": "~2.1.4",
       "_view_module_version": "~2.1.4"
      }
     },
     "94102d27ee0e4acb8be0c520d427750e": {
      "model_module": "jupyter-js-widgets",
      "model_module_version": "~2.1.4",
      "model_name": "ProgressModel",
      "state": {
       "_model_module_version": "~2.1.4",
       "_view_module_version": "~2.1.4",
       "bar_style": "success",
       "description": "Training:",
       "layout": "IPY_MODEL_8769789180bb4957b8549ee3d6cd8a1b",
       "max": 700,
       "style": "IPY_MODEL_768715db56504b56a6f8f16c961f2cb6",
       "value": 700
      }
     },
     "941b7245482f4760afaeab538ec0a7a7": {
      "model_module": "jupyter-js-widgets",
      "model_module_version": "~2.1.4",
      "model_name": "IntSliderModel",
      "state": {
       "_model_module_version": "~2.1.4",
       "_view_module_version": "~2.1.4",
       "continuous_update": false,
       "description": "window size:",
       "layout": "IPY_MODEL_ee7a8e75829343ec9d9311f4ad2a2737",
       "max": 1000,
       "min": 100,
       "step": 100,
       "style": "IPY_MODEL_392e90da4d344cdda13a7f5fcda7bbd6",
       "value": 500
      }
     },
     "948c5cab3072428db71b026ed861aa6b": {
      "model_module": "jupyter-js-widgets",
      "model_module_version": "~2.1.4",
      "model_name": "LayoutModel",
      "state": {
       "_model_module_version": "~2.1.4",
       "_view_module_version": "~2.1.4",
       "width": "80%"
      }
     },
     "94a4eb355e6e4aa0a4ac69e449421201": {
      "model_module": "jupyter-js-widgets",
      "model_module_version": "~2.1.4",
      "model_name": "LayoutModel",
      "state": {
       "_model_module_version": "~2.1.4",
       "_view_module_version": "~2.1.4"
      }
     },
     "950705331ec94c738c150801108ba903": {
      "model_module": "jupyter-js-widgets",
      "model_module_version": "~2.1.4",
      "model_name": "RadioButtonsModel",
      "state": {
       "_model_module_version": "~2.1.4",
       "_options_labels": [
        "Multilayer Perceptron",
        "Naive Bayes"
       ],
       "_view_module_version": "~2.1.4",
       "description": "Classifier:",
       "layout": "IPY_MODEL_85759d9df95545ac91a72e3716c310c0",
       "value": "Multilayer Perceptron"
      }
     },
     "95eba4d9f170473a9f4958783bd50853": {
      "model_module": "jupyter-js-widgets",
      "model_module_version": "~2.1.4",
      "model_name": "LayoutModel",
      "state": {
       "_model_module_version": "~2.1.4",
       "_view_module_version": "~2.1.4"
      }
     },
     "96432c32e28a40a3af9e111bc082e41d": {
      "model_module": "jupyter-js-widgets",
      "model_module_version": "~2.1.4",
      "model_name": "IntSliderModel",
      "state": {
       "_model_module_version": "~2.1.4",
       "_view_module_version": "~2.1.4",
       "continuous_update": false,
       "description": "Hidden layer 0:",
       "layout": "IPY_MODEL_9abb2a43cc9048f6b606a0a9984b5bc0",
       "min": 1,
       "style": "IPY_MODEL_098199f1ad304988bba6450deb2d3ae5",
       "value": 20
      }
     },
     "97794afb7e5848b7838cb38dfe42109f": {
      "model_module": "jupyter-js-widgets",
      "model_module_version": "~2.1.4",
      "model_name": "LayoutModel",
      "state": {
       "_model_module_version": "~2.1.4",
       "_view_module_version": "~2.1.4"
      }
     },
     "9781313fd76940ae84bdc6be7144b91d": {
      "model_module": "jupyter-js-widgets",
      "model_module_version": "~2.1.4",
      "model_name": "LayoutModel",
      "state": {
       "_model_module_version": "~2.1.4",
       "_view_module_version": "~2.1.4"
      }
     },
     "978552c7c59448599a24286bb8bd31c7": {
      "model_module": "jupyter-js-widgets",
      "model_module_version": "~2.1.4",
      "model_name": "VBoxModel",
      "state": {
       "_dom_classes": [
        "widget-interact"
       ],
       "_model_module_version": "~2.1.4",
       "_view_module_version": "~2.1.4",
       "children": [
        "IPY_MODEL_59aba43923c64bad8322d0a5a8b5eaab",
        "IPY_MODEL_b121592a536d49f898d8a05ec70876fe"
       ],
       "layout": "IPY_MODEL_5ee6e94a5545425eb81d383d34d89878"
      }
     },
     "97ff7628442747ef9ebad4ea74da48f2": {
      "model_module": "jupyter-js-widgets",
      "model_module_version": "~2.1.4",
      "model_name": "ProgressModel",
      "state": {
       "_model_module_version": "~2.1.4",
       "_view_module_version": "~2.1.4",
       "bar_style": "danger",
       "description": "Training:",
       "layout": "IPY_MODEL_18d3ae69ccec4cfcbe8ba9a14a5053ab",
       "max": 700,
       "style": "IPY_MODEL_76c40af9a51c483292f133a2d3cba93c",
       "value": 700
      }
     },
     "983519bd008741d49884541bbc743d87": {
      "model_module": "jupyter-js-widgets",
      "model_module_version": "~2.1.4",
      "model_name": "LayoutModel",
      "state": {
       "_model_module_version": "~2.1.4",
       "_view_module_version": "~2.1.4",
       "width": "80%"
      }
     },
     "9899dfd5e07b4266bdd66782129eec28": {
      "model_module": "jupyter-js-widgets",
      "model_module_version": "~2.1.4",
      "model_name": "LayoutModel",
      "state": {
       "_model_module_version": "~2.1.4",
       "_view_module_version": "~2.1.4"
      }
     },
     "990595384d3047398df2c309a4bf261f": {
      "model_module": "jupyter-js-widgets",
      "model_module_version": "~2.1.4",
      "model_name": "ProgressStyleModel",
      "state": {
       "_model_module_version": "~2.1.4",
       "_view_module_version": "~2.1.4"
      }
     },
     "9933699e99a74d258fabc60c2744f699": {
      "model_module": "jupyter-js-widgets",
      "model_module_version": "~2.1.4",
      "model_name": "VBoxModel",
      "state": {
       "_model_module_version": "~2.1.4",
       "_view_module_version": "~2.1.4",
       "children": [
        "IPY_MODEL_234ae71869554ca5984416016430f5ee",
        "IPY_MODEL_12ee4e4a97584d698d853b6bfb781a82",
        "IPY_MODEL_6204876771784c1eaa04e5b57cdb9ba7"
       ],
       "layout": "IPY_MODEL_fe11a8f67f384d4caa2378b619d32964"
      }
     },
     "99597476aaa04186afa3b137199a3a87": {
      "model_module": "jupyter-js-widgets",
      "model_module_version": "~2.1.4",
      "model_name": "ButtonModel",
      "state": {
       "_model_module_version": "~2.1.4",
       "_view_module_version": "~2.1.4",
       "button_style": "danger",
       "description": "Start training",
       "layout": "IPY_MODEL_2d9009e1c4604a28950b0bec4bde760b",
       "style": "IPY_MODEL_631b06558d0d4462b50a7756bc123b86"
      }
     },
     "996ab39b59014a659fbd2dbd8c519f32": {
      "model_module": "jupyter-js-widgets",
      "model_module_version": "~2.1.4",
      "model_name": "LayoutModel",
      "state": {
       "_model_module_version": "~2.1.4",
       "_view_module_version": "~2.1.4"
      }
     },
     "999e26348e1a46ccad6a322483d64a47": {
      "model_module": "jupyter-js-widgets",
      "model_module_version": "~2.1.4",
      "model_name": "SliderStyleModel",
      "state": {
       "_model_module_version": "~2.1.4",
       "_view_module_version": "~2.1.4"
      }
     },
     "99bb673c2a324991b354d64aae25a006": {
      "model_module": "jupyter-js-widgets",
      "model_module_version": "~2.1.4",
      "model_name": "IntSliderModel",
      "state": {
       "_model_module_version": "~2.1.4",
       "_view_module_version": "~2.1.4",
       "continuous_update": false,
       "description": "num components:",
       "layout": "IPY_MODEL_7aabb632a27940e4966c62a8a89832ae",
       "max": 29,
       "min": 1,
       "style": "IPY_MODEL_be38ebf7020c4801bc124bd3b7507eb3",
       "value": 5
      }
     },
     "99dec7e9e89f4f2dad1dcca1075b49fd": {
      "model_module": "jupyter-js-widgets",
      "model_module_version": "~2.1.4",
      "model_name": "VBoxModel",
      "state": {
       "_dom_classes": [
        "widget-interact"
       ],
       "_model_module_version": "~2.1.4",
       "_view_module_version": "~2.1.4",
       "children": [
        "IPY_MODEL_99bb673c2a324991b354d64aae25a006",
        "IPY_MODEL_c09ef332e695441495180cc652ffbe70"
       ],
       "layout": "IPY_MODEL_8fedba8e2b6b41f089acddc750e2ec66"
      }
     },
     "99dfc32dbee1445a8c3b5e8e1fe85486": {
      "model_module": "jupyter-js-widgets",
      "model_module_version": "~2.1.4",
      "model_name": "LabelModel",
      "state": {
       "_model_module_version": "~2.1.4",
       "_view_module_version": "~2.1.4",
       "layout": "IPY_MODEL_e62c52200b1d4936b444f80b42deaa7f",
       "value": "Hidden layer sizes:"
      }
     },
     "9a07afe45e9c4fb4b2a9fc0228d1a76a": {
      "model_module": "jupyter-js-widgets",
      "model_module_version": "~2.1.4",
      "model_name": "IntSliderModel",
      "state": {
       "_model_module_version": "~2.1.4",
       "_view_module_version": "~2.1.4",
       "continuous_update": false,
       "description": "Hidden layer 0:",
       "layout": "IPY_MODEL_8617d414f26e4211ac76dca5bed443b4",
       "min": 1,
       "style": "IPY_MODEL_c17aec176e3a4d729aebda88910da307",
       "value": 20
      }
     },
     "9a09e6e52d4b4902922b38005631f509": {
      "model_module": "jupyter-js-widgets",
      "model_module_version": "~2.1.4",
      "model_name": "LayoutModel",
      "state": {
       "_model_module_version": "~2.1.4",
       "_view_module_version": "~2.1.4",
       "width": "80%"
      }
     },
     "9a27b63614524bbaaad819b6f59680aa": {
      "model_module": "jupyter-js-widgets",
      "model_module_version": "~2.1.4",
      "model_name": "VBoxModel",
      "state": {
       "_dom_classes": [
        "widget-interact"
       ],
       "_model_module_version": "~2.1.4",
       "_view_module_version": "~2.1.4",
       "children": [
        "IPY_MODEL_fba44813af104b57a6329dc6ce796f9f",
        "IPY_MODEL_c7f5d9644edd4ab39c1554682fddb6af"
       ],
       "layout": "IPY_MODEL_45ea21b313ec4366be59ab4e5d78682d"
      }
     },
     "9a32f1381bbb4519820c6f0f57a2b0ae": {
      "model_module": "jupyter-js-widgets",
      "model_module_version": "~2.1.4",
      "model_name": "RadioButtonsModel",
      "state": {
       "_model_module_version": "~2.1.4",
       "_options_labels": [
        "Multilayer Perceptron",
        "Naive Bayes"
       ],
       "_view_module_version": "~2.1.4",
       "description": "Classifier:",
       "layout": "IPY_MODEL_94a4eb355e6e4aa0a4ac69e449421201",
       "value": "Multilayer Perceptron"
      }
     },
     "9abb2a43cc9048f6b606a0a9984b5bc0": {
      "model_module": "jupyter-js-widgets",
      "model_module_version": "~2.1.4",
      "model_name": "LayoutModel",
      "state": {
       "_model_module_version": "~2.1.4",
       "_view_module_version": "~2.1.4",
       "width": "80%"
      }
     },
     "9b328488b2ac43ff8d1ed23aff9a1955": {
      "model_module": "jupyter-js-widgets",
      "model_module_version": "~2.1.4",
      "model_name": "IntSliderModel",
      "state": {
       "_model_module_version": "~2.1.4",
       "_view_module_version": "~2.1.4",
       "continuous_update": false,
       "description": "num hidden layers:",
       "layout": "IPY_MODEL_83efbbae64b6435a9fdf7f4babe34e10",
       "max": 10,
       "min": 1,
       "style": "IPY_MODEL_a9e79b6f88124695ad446b54514732ad",
       "value": 2
      }
     },
     "9bc2eacca40945098dd37d05adf59006": {
      "model_module": "jupyter-js-widgets",
      "model_module_version": "~2.1.4",
      "model_name": "RadioButtonsModel",
      "state": {
       "_model_module_version": "~2.1.4",
       "_options_labels": [
        "Multilayer Perceptron",
        "Naive Bayes"
       ],
       "_view_module_version": "~2.1.4",
       "description": "Classifier:",
       "layout": "IPY_MODEL_720301547dc04d1a84f80b03dbc5c98e",
       "value": "Multilayer Perceptron"
      }
     },
     "9bd26277811d463982dcd5c6e233a613": {
      "model_module": "jupyter-js-widgets",
      "model_module_version": "~2.1.4",
      "model_name": "IntSliderModel",
      "state": {
       "_model_module_version": "~2.1.4",
       "_view_module_version": "~2.1.4",
       "continuous_update": false,
       "description": "window reps:",
       "layout": "IPY_MODEL_fbafd489d616413a917d6493a0b78c6b",
       "min": 1,
       "style": "IPY_MODEL_33351d1f36a24750896a646681a9db5d",
       "value": 10
      }
     },
     "9c4e453e36a849c68f6334f2144917fb": {
      "model_module": "jupyter-js-widgets",
      "model_module_version": "~2.1.4",
      "model_name": "LayoutModel",
      "state": {
       "_model_module_version": "~2.1.4",
       "_view_module_version": "~2.1.4"
      }
     },
     "9d8d3729962b42efad82f260fa4f6bd4": {
      "model_module": "jupyter-js-widgets",
      "model_module_version": "~2.1.4",
      "model_name": "SliderStyleModel",
      "state": {
       "_model_module_version": "~2.1.4",
       "_view_module_version": "~2.1.4"
      }
     },
     "9dc75a606a924aa98616f42dbac56d58": {
      "model_module": "jupyter-js-widgets",
      "model_module_version": "~2.1.4",
      "model_name": "IntSliderModel",
      "state": {
       "_model_module_version": "~2.1.4",
       "_view_module_version": "~2.1.4",
       "continuous_update": false,
       "description": "window reps:",
       "layout": "IPY_MODEL_88e7294ead7c4ceaabfa9b5cffeb7382",
       "min": 1,
       "style": "IPY_MODEL_d110d2abb6d8435691b92c7c90a7b15c",
       "value": 10
      }
     },
     "9dfae7d7864e4733b1bbf51d3932c205": {
      "model_module": "jupyter-js-widgets",
      "model_module_version": "~2.1.4",
      "model_name": "VBoxModel",
      "state": {
       "_dom_classes": [
        "widget-interact"
       ],
       "_model_module_version": "~2.1.4",
       "_view_module_version": "~2.1.4",
       "children": [
        "IPY_MODEL_755faab2adee426ca199575b8df8aea7",
        "IPY_MODEL_d1b6252d3eb54c0fb62c65c3fc8bbada"
       ],
       "layout": "IPY_MODEL_b0223efedf0243b589f4c54a8b605861"
      }
     },
     "9ef24cbbe0a946238073e2c94dd4b89f": {
      "model_module": "jupyter-js-widgets",
      "model_module_version": "~2.1.4",
      "model_name": "LayoutModel",
      "state": {
       "_model_module_version": "~2.1.4",
       "_view_module_version": "~2.1.4"
      }
     },
     "9f117f51726a4ce78f32d2aa630760f7": {
      "model_module": "jupyter-js-widgets",
      "model_module_version": "~2.1.4",
      "model_name": "VBoxModel",
      "state": {
       "_model_module_version": "~2.1.4",
       "_view_module_version": "~2.1.4",
       "children": [
        "IPY_MODEL_1411613911294e46be3fbf7464c6407b",
        "IPY_MODEL_278c6b1e18ea456e908e932b32f18ab1",
        "IPY_MODEL_88ee50710ee1424ea9df06d08bf385f5"
       ],
       "layout": "IPY_MODEL_cdc640798c8941ac98148719d3c98c74"
      }
     },
     "9f139144c5454ba3b5b6bbb5b2cce329": {
      "model_module": "jupyter-js-widgets",
      "model_module_version": "~2.1.4",
      "model_name": "LayoutModel",
      "state": {
       "_model_module_version": "~2.1.4",
       "_view_module_version": "~2.1.4",
       "width": "80%"
      }
     },
     "9fd63bb1f6bb4f2fa2019f83aa78c048": {
      "model_module": "jupyter-js-widgets",
      "model_module_version": "~2.1.4",
      "model_name": "LayoutModel",
      "state": {
       "_model_module_version": "~2.1.4",
       "_view_module_version": "~2.1.4",
       "width": "80%"
      }
     },
     "9fd8cae159c94c849b2e1d7b5d8312fb": {
      "model_module": "jupyter-js-widgets",
      "model_module_version": "~2.1.4",
      "model_name": "ButtonStyleModel",
      "state": {
       "_model_module_version": "~2.1.4",
       "_view_module_version": "~2.1.4"
      }
     },
     "a0e86e3c70bd4f16bcbc54d5dea001fc": {
      "model_module": "jupyter-js-widgets",
      "model_module_version": "~2.1.4",
      "model_name": "OutputModel",
      "state": {
       "_dom_classes": [],
       "_model_module": "jupyter-js-widgets",
       "_model_module_version": "~2.1.4",
       "_view_module": "jupyter-js-widgets",
       "_view_module_version": "~2.1.4",
       "layout": "IPY_MODEL_f1609cd2b3bb41cb85f114443977db66",
       "msg_throttle": 1
      }
     },
     "a1244f45f76145248a84eb3273fec41e": {
      "model_module": "jupyter-js-widgets",
      "model_module_version": "~2.1.4",
      "model_name": "FloatTextModel",
      "state": {
       "_model_module_version": "~2.1.4",
       "_view_module_version": "~2.1.4",
       "description": "Sampling Percentage:",
       "layout": "IPY_MODEL_b74f576ce4f346b784a176bdca2c1160",
       "max": 1,
       "min": 0,
       "step": 0.1,
       "value": 0.0001
      }
     },
     "a184d51329cc4e14a3ff1d1e7fcc5bcb": {
      "model_module": "jupyter-js-widgets",
      "model_module_version": "~2.1.4",
      "model_name": "VBoxModel",
      "state": {
       "_dom_classes": [
        "widget-interact"
       ],
       "_model_module_version": "~2.1.4",
       "_view_module_version": "~2.1.4",
       "children": [
        "IPY_MODEL_88684c80337e402d92ab39beaf59ccc4",
        "IPY_MODEL_af0c9505cc7c4daeadce1520a15d1419"
       ],
       "layout": "IPY_MODEL_f928c556adf546b4b05018b7a441405b"
      }
     },
     "a19e8185b81a49469a443236116de20e": {
      "model_module": "jupyter-js-widgets",
      "model_module_version": "~2.1.4",
      "model_name": "LayoutModel",
      "state": {
       "_model_module_version": "~2.1.4",
       "_view_module_version": "~2.1.4"
      }
     },
     "a1f64ade4bf346daa5538ef6b4316d04": {
      "model_module": "jupyter-js-widgets",
      "model_module_version": "~2.1.4",
      "model_name": "OutputModel",
      "state": {
       "_dom_classes": [],
       "_model_module": "jupyter-js-widgets",
       "_model_module_version": "~2.1.4",
       "_view_module": "jupyter-js-widgets",
       "_view_module_version": "~2.1.4",
       "layout": "IPY_MODEL_0c0ae13106b7428db8247f4461152538",
       "msg_throttle": 1
      }
     },
     "a25aabb5924b40df9838171197d6d2b7": {
      "model_module": "jupyter-js-widgets",
      "model_module_version": "~2.1.4",
      "model_name": "LayoutModel",
      "state": {
       "_model_module_version": "~2.1.4",
       "_view_module_version": "~2.1.4"
      }
     },
     "a2838b0b85d148918172b8102a0e52e2": {
      "model_module": "jupyter-js-widgets",
      "model_module_version": "~2.1.4",
      "model_name": "IntSliderModel",
      "state": {
       "_model_module_version": "~2.1.4",
       "_view_module_version": "~2.1.4",
       "continuous_update": false,
       "description": "max iterations:",
       "layout": "IPY_MODEL_09018801e12f42bda5633849baa085f5",
       "max": 500,
       "min": 1,
       "style": "IPY_MODEL_9d8d3729962b42efad82f260fa4f6bd4",
       "value": 30
      }
     },
     "a43b8c8e3e494bc7b735447ca343b8a2": {
      "model_module": "jupyter-js-widgets",
      "model_module_version": "~2.1.4",
      "model_name": "IntSliderModel",
      "state": {
       "_model_module_version": "~2.1.4",
       "_view_module_version": "~2.1.4",
       "continuous_update": false,
       "description": "Hidden layer 1:",
       "layout": "IPY_MODEL_adff0f38aa294bc0979356595a43ed79",
       "min": 1,
       "style": "IPY_MODEL_750d84b5dff14d8cbfb4f51ec95822c9",
       "value": 20
      }
     },
     "a44a13c61a394f449df6a5a997e5b40a": {
      "model_module": "jupyter-js-widgets",
      "model_module_version": "~2.1.4",
      "model_name": "LayoutModel",
      "state": {
       "_model_module_version": "~2.1.4",
       "_view_module_version": "~2.1.4"
      }
     },
     "a4cdb00389284031957ceb145b4e02fe": {
      "model_module": "jupyter-js-widgets",
      "model_module_version": "~2.1.4",
      "model_name": "LayoutModel",
      "state": {
       "_model_module_version": "~2.1.4",
       "_view_module_version": "~2.1.4"
      }
     },
     "a4de2370bc494ffb87d51957a28d49b5": {
      "model_module": "jupyter-js-widgets",
      "model_module_version": "~2.1.4",
      "model_name": "OutputModel",
      "state": {
       "_dom_classes": [],
       "_model_module": "jupyter-js-widgets",
       "_model_module_version": "~2.1.4",
       "_view_module": "jupyter-js-widgets",
       "_view_module_version": "~2.1.4",
       "layout": "IPY_MODEL_27cd5d190ec542ad94a7970173f99460",
       "msg_throttle": 1
      }
     },
     "a4e20960346e4ee0a7354db64c42d8f7": {
      "model_module": "jupyter-js-widgets",
      "model_module_version": "~2.1.4",
      "model_name": "LayoutModel",
      "state": {
       "_model_module_version": "~2.1.4",
       "_view_module_version": "~2.1.4"
      }
     },
     "a4eacedbd6a743918e6859cc2d803e8a": {
      "model_module": "jupyter-js-widgets",
      "model_module_version": "~2.1.4",
      "model_name": "OutputModel",
      "state": {
       "_dom_classes": [],
       "_model_module": "jupyter-js-widgets",
       "_model_module_version": "~2.1.4",
       "_view_module": "jupyter-js-widgets",
       "_view_module_version": "~2.1.4",
       "layout": "IPY_MODEL_0816308372be430aaf9992b63d467714",
       "msg_throttle": 1
      }
     },
     "a543820fb15b4dfa943c311efc3ef2ae": {
      "model_module": "jupyter-js-widgets",
      "model_module_version": "~2.1.4",
      "model_name": "OutputModel",
      "state": {
       "_dom_classes": [],
       "_model_module": "jupyter-js-widgets",
       "_model_module_version": "~2.1.4",
       "_view_module": "jupyter-js-widgets",
       "_view_module_version": "~2.1.4",
       "layout": "IPY_MODEL_47da3265c2e14d16a8397f37885e6b85",
       "msg_throttle": 1
      }
     },
     "a58f7c115b884150be751ae50398fdc8": {
      "model_module": "jupyter-js-widgets",
      "model_module_version": "~2.1.4",
      "model_name": "OutputModel",
      "state": {
       "_dom_classes": [],
       "_model_module": "jupyter-js-widgets",
       "_model_module_version": "~2.1.4",
       "_view_module": "jupyter-js-widgets",
       "_view_module_version": "~2.1.4",
       "layout": "IPY_MODEL_eb74bde4896e46818c4d5dc7332c7a56",
       "msg_throttle": 1
      }
     },
     "a682bed56496450fa9636d6f0d2fbd0b": {
      "model_module": "jupyter-js-widgets",
      "model_module_version": "~2.1.4",
      "model_name": "LayoutModel",
      "state": {
       "_model_module_version": "~2.1.4",
       "_view_module_version": "~2.1.4"
      }
     },
     "a7032b2ed6444c66be9c0127801a91a1": {
      "model_module": "jupyter-js-widgets",
      "model_module_version": "~2.1.4",
      "model_name": "ProgressStyleModel",
      "state": {
       "_model_module_version": "~2.1.4",
       "_view_module_version": "~2.1.4"
      }
     },
     "a7069d3661a94b73959503354d9fc0c8": {
      "model_module": "jupyter-js-widgets",
      "model_module_version": "~2.1.4",
      "model_name": "LayoutModel",
      "state": {
       "_model_module_version": "~2.1.4",
       "_view_module_version": "~2.1.4"
      }
     },
     "a7a80bec967047158ab1fc7637c45554": {
      "model_module": "jupyter-js-widgets",
      "model_module_version": "~2.1.4",
      "model_name": "SliderStyleModel",
      "state": {
       "_model_module_version": "~2.1.4",
       "_view_module_version": "~2.1.4"
      }
     },
     "a82458e366c94a9383a8436adeee3320": {
      "model_module": "jupyter-js-widgets",
      "model_module_version": "~2.1.4",
      "model_name": "SliderStyleModel",
      "state": {
       "_model_module_version": "~2.1.4",
       "_view_module_version": "~2.1.4"
      }
     },
     "a88f934bb92e495dabe337b6d8f3ac11": {
      "model_module": "jupyter-js-widgets",
      "model_module_version": "~2.1.4",
      "model_name": "LayoutModel",
      "state": {
       "_model_module_version": "~2.1.4",
       "_view_module_version": "~2.1.4"
      }
     },
     "a8cc4869b59f4a88a633cb2b698c1fef": {
      "model_module": "jupyter-js-widgets",
      "model_module_version": "~2.1.4",
      "model_name": "LayoutModel",
      "state": {
       "_model_module_version": "~2.1.4",
       "_view_module_version": "~2.1.4"
      }
     },
     "a971290bc9f943d0b0c250b67f6d6c6c": {
      "model_module": "jupyter-js-widgets",
      "model_module_version": "~2.1.4",
      "model_name": "OutputModel",
      "state": {
       "_dom_classes": [],
       "_model_module": "jupyter-js-widgets",
       "_model_module_version": "~2.1.4",
       "_view_module": "jupyter-js-widgets",
       "_view_module_version": "~2.1.4",
       "layout": "IPY_MODEL_15f4158a76fd40b7890d7f48019abef4",
       "msg_throttle": 1
      }
     },
     "a98322fd4c584940bf524f3b2e6b66e3": {
      "model_module": "jupyter-js-widgets",
      "model_module_version": "~2.1.4",
      "model_name": "OutputModel",
      "state": {
       "_dom_classes": [],
       "_model_module": "jupyter-js-widgets",
       "_model_module_version": "~2.1.4",
       "_view_module": "jupyter-js-widgets",
       "_view_module_version": "~2.1.4",
       "layout": "IPY_MODEL_a88f934bb92e495dabe337b6d8f3ac11",
       "msg_throttle": 1
      }
     },
     "a99b1696345d4f1680b0e0c1190942c5": {
      "model_module": "jupyter-js-widgets",
      "model_module_version": "~2.1.4",
      "model_name": "OutputModel",
      "state": {
       "_dom_classes": [],
       "_model_module": "jupyter-js-widgets",
       "_model_module_version": "~2.1.4",
       "_view_module": "jupyter-js-widgets",
       "_view_module_version": "~2.1.4",
       "layout": "IPY_MODEL_2641e64e02944ac5963493efa947dd84",
       "msg_throttle": 1
      }
     },
     "a9d7c5500a434276b20d1ca6427d43cf": {
      "model_module": "jupyter-js-widgets",
      "model_module_version": "~2.1.4",
      "model_name": "IntSliderModel",
      "state": {
       "_model_module_version": "~2.1.4",
       "_view_module_version": "~2.1.4",
       "continuous_update": false,
       "description": "Hidden layer 0:",
       "layout": "IPY_MODEL_0b454c6ab5e841babc16f6cdba291b4a",
       "min": 1,
       "style": "IPY_MODEL_225522e450404d81afcbf33a4f4eb196",
       "value": 20
      }
     },
     "a9e79b6f88124695ad446b54514732ad": {
      "model_module": "jupyter-js-widgets",
      "model_module_version": "~2.1.4",
      "model_name": "SliderStyleModel",
      "state": {
       "_model_module_version": "~2.1.4",
       "_view_module_version": "~2.1.4"
      }
     },
     "aa6d306e82fd4ea7b59e646870e39c4a": {
      "model_module": "jupyter-js-widgets",
      "model_module_version": "~2.1.4",
      "model_name": "OutputModel",
      "state": {
       "_dom_classes": [],
       "_model_module": "jupyter-js-widgets",
       "_model_module_version": "~2.1.4",
       "_view_module": "jupyter-js-widgets",
       "_view_module_version": "~2.1.4",
       "layout": "IPY_MODEL_331ea34646064fcd86323a1c4d8206b1",
       "msg_throttle": 1
      }
     },
     "aaa715e56cab4e28a936da9791e2d7cc": {
      "model_module": "jupyter-js-widgets",
      "model_module_version": "~2.1.4",
      "model_name": "LayoutModel",
      "state": {
       "_model_module_version": "~2.1.4",
       "_view_module_version": "~2.1.4"
      }
     },
     "ab641422541e43519e3b2c216fd76ba8": {
      "model_module": "jupyter-js-widgets",
      "model_module_version": "~2.1.4",
      "model_name": "LayoutModel",
      "state": {
       "_model_module_version": "~2.1.4",
       "_view_module_version": "~2.1.4"
      }
     },
     "ab90856844c3477eb5fd3328e2ed4fdd": {
      "model_module": "jupyter-js-widgets",
      "model_module_version": "~2.1.4",
      "model_name": "LayoutModel",
      "state": {
       "_model_module_version": "~2.1.4",
       "_view_module_version": "~2.1.4",
       "width": "80%"
      }
     },
     "abd5a00e1f9242ff8f4b20f4427f7004": {
      "model_module": "jupyter-js-widgets",
      "model_module_version": "~2.1.4",
      "model_name": "LayoutModel",
      "state": {
       "_model_module_version": "~2.1.4",
       "_view_module_version": "~2.1.4"
      }
     },
     "ac0b759e77c745858fbbce52a0ab9571": {
      "model_module": "jupyter-js-widgets",
      "model_module_version": "~2.1.4",
      "model_name": "OutputModel",
      "state": {
       "_dom_classes": [],
       "_model_module": "jupyter-js-widgets",
       "_model_module_version": "~2.1.4",
       "_view_module": "jupyter-js-widgets",
       "_view_module_version": "~2.1.4",
       "layout": "IPY_MODEL_5396c4cfa793442dbb3364ce697f8f38",
       "msg_throttle": 1
      }
     },
     "ac1707879a6c4a17a1abf33e3b300851": {
      "model_module": "jupyter-js-widgets",
      "model_module_version": "~2.1.4",
      "model_name": "RadioButtonsModel",
      "state": {
       "_model_module_version": "~2.1.4",
       "_options_labels": [
        "Multilayer Perceptron",
        "Naive Bayes"
       ],
       "_view_module_version": "~2.1.4",
       "description": "Classifier:",
       "layout": "IPY_MODEL_665ae3034e354103b44099242c1bad10",
       "value": "Multilayer Perceptron"
      }
     },
     "ac938569ae1646b3a41e59c3902e6c28": {
      "model_module": "jupyter-js-widgets",
      "model_module_version": "~2.1.4",
      "model_name": "VBoxModel",
      "state": {
       "_model_module_version": "~2.1.4",
       "_view_module_version": "~2.1.4",
       "children": [
        "IPY_MODEL_cea881d17842482099e94990fe90b0f4",
        "IPY_MODEL_5534717ea68f4f419a259358ac8ca7e9",
        "IPY_MODEL_dffe28795d3945e9a08f3798aa70f271"
       ],
       "layout": "IPY_MODEL_cff6df495a574b908d5abc58db57970a"
      }
     },
     "acc7434a5b5445eea607ce1a03b315a1": {
      "model_module": "jupyter-js-widgets",
      "model_module_version": "~2.1.4",
      "model_name": "ButtonModel",
      "state": {
       "_model_module_version": "~2.1.4",
       "_view_module_version": "~2.1.4",
       "button_style": "info",
       "description": "Start prediction",
       "layout": "IPY_MODEL_5c29869ffdd546a1b5ccb8a6db85f114",
       "style": "IPY_MODEL_5e529515d7a2405c951474f855c0fa3a"
      }
     },
     "ad0808b87eb442d4abf208b04083ddfd": {
      "model_module": "jupyter-js-widgets",
      "model_module_version": "~2.1.4",
      "model_name": "OutputModel",
      "state": {
       "_dom_classes": [],
       "_model_module": "jupyter-js-widgets",
       "_model_module_version": "~2.1.4",
       "_view_module": "jupyter-js-widgets",
       "_view_module_version": "~2.1.4",
       "layout": "IPY_MODEL_c98e382c3c0f4ee8b096dd716e5af61d",
       "msg_throttle": 1
      }
     },
     "ad1fb05b95364f929bd179c47d062065": {
      "model_module": "jupyter-js-widgets",
      "model_module_version": "~2.1.4",
      "model_name": "SliderStyleModel",
      "state": {
       "_model_module_version": "~2.1.4",
       "_view_module_version": "~2.1.4"
      }
     },
     "adff0f38aa294bc0979356595a43ed79": {
      "model_module": "jupyter-js-widgets",
      "model_module_version": "~2.1.4",
      "model_name": "LayoutModel",
      "state": {
       "_model_module_version": "~2.1.4",
       "_view_module_version": "~2.1.4",
       "width": "80%"
      }
     },
     "ae0488f4e4bd4fb1909dfff0ba668dad": {
      "model_module": "jupyter-js-widgets",
      "model_module_version": "~2.1.4",
      "model_name": "OutputModel",
      "state": {
       "_dom_classes": [],
       "_model_module": "jupyter-js-widgets",
       "_model_module_version": "~2.1.4",
       "_view_module": "jupyter-js-widgets",
       "_view_module_version": "~2.1.4",
       "layout": "IPY_MODEL_4a4692da69304fb2b72eeee6ff22cfe9",
       "msg_throttle": 1
      }
     },
     "ae8f6102b58741d1a0b63ec14c9cfb26": {
      "model_module": "jupyter-js-widgets",
      "model_module_version": "~2.1.4",
      "model_name": "ButtonModel",
      "state": {
       "_model_module_version": "~2.1.4",
       "_view_module_version": "~2.1.4",
       "button_style": "danger",
       "description": "Start training",
       "layout": "IPY_MODEL_864a31ffa5274c4fb3e20977736c792c",
       "style": "IPY_MODEL_9fd8cae159c94c849b2e1d7b5d8312fb"
      }
     },
     "ae92918cb7524622a6f428303c763871": {
      "model_module": "jupyter-js-widgets",
      "model_module_version": "~2.1.4",
      "model_name": "VBoxModel",
      "state": {
       "_dom_classes": [
        "widget-interact"
       ],
       "_model_module_version": "~2.1.4",
       "_view_module_version": "~2.1.4",
       "children": [
        "IPY_MODEL_a9d7c5500a434276b20d1ca6427d43cf",
        "IPY_MODEL_48fcb4f5056b45afa1fdd7c13088bcb2"
       ],
       "layout": "IPY_MODEL_e51bf762ea074391a816d0159f07c809"
      }
     },
     "af0c9505cc7c4daeadce1520a15d1419": {
      "model_module": "jupyter-js-widgets",
      "model_module_version": "~2.1.4",
      "model_name": "OutputModel",
      "state": {
       "_dom_classes": [],
       "_model_module": "jupyter-js-widgets",
       "_model_module_version": "~2.1.4",
       "_view_module": "jupyter-js-widgets",
       "_view_module_version": "~2.1.4",
       "layout": "IPY_MODEL_91fcecb1c2504d949b24c991a3749ce7",
       "msg_throttle": 1
      }
     },
     "af2454e349fc4841a16e8d667a62b6a5": {
      "model_module": "jupyter-js-widgets",
      "model_module_version": "~2.1.4",
      "model_name": "LayoutModel",
      "state": {
       "_model_module_version": "~2.1.4",
       "_view_module_version": "~2.1.4"
      }
     },
     "afa58359b6de4c9dbffb985dbcb62c36": {
      "model_module": "jupyter-js-widgets",
      "model_module_version": "~2.1.4",
      "model_name": "LayoutModel",
      "state": {
       "_model_module_version": "~2.1.4",
       "_view_module_version": "~2.1.4"
      }
     },
     "afa7884e531e412cb49182671231e79e": {
      "model_module": "jupyter-js-widgets",
      "model_module_version": "~2.1.4",
      "model_name": "ProgressModel",
      "state": {
       "_model_module_version": "~2.1.4",
       "_view_module_version": "~2.1.4",
       "bar_style": "danger",
       "description": "Training:",
       "layout": "IPY_MODEL_02be0d7f58e248deb82aa4c2a7e71df7",
       "max": 7000000,
       "style": "IPY_MODEL_465c33a42ca8433599b1e1d795255736",
       "value": 6999999
      }
     },
     "afda60cda1c14347b182e16b6bf52ad0": {
      "model_module": "jupyter-js-widgets",
      "model_module_version": "~2.1.4",
      "model_name": "VBoxModel",
      "state": {
       "_dom_classes": [
        "widget-interact"
       ],
       "_model_module_version": "~2.1.4",
       "_view_module_version": "~2.1.4",
       "children": [
        "IPY_MODEL_88afab33332645ba8dcab86f8c676f15",
        "IPY_MODEL_0620e0c840d540739e8b5237446a7d23"
       ],
       "layout": "IPY_MODEL_ebc56113af9f441fab7ea6665d929044"
      }
     },
     "b0223efedf0243b589f4c54a8b605861": {
      "model_module": "jupyter-js-widgets",
      "model_module_version": "~2.1.4",
      "model_name": "LayoutModel",
      "state": {
       "_model_module_version": "~2.1.4",
       "_view_module_version": "~2.1.4"
      }
     },
     "b0342fc5fe854f019f7ae0dc63e23723": {
      "model_module": "jupyter-js-widgets",
      "model_module_version": "~2.1.4",
      "model_name": "VBoxModel",
      "state": {
       "_model_module_version": "~2.1.4",
       "_view_module_version": "~2.1.4",
       "children": [
        "IPY_MODEL_f2c4e88fb2284ee398c9b51218a0d3e1",
        "IPY_MODEL_69a5514d03114339a2529212417b841c",
        "IPY_MODEL_d99c174613374c63860ab1f94885c990"
       ],
       "layout": "IPY_MODEL_4db5a28c156145fcbbeea64da33cd270"
      }
     },
     "b083d312ee614624b534960738f52378": {
      "model_module": "jupyter-js-widgets",
      "model_module_version": "~2.1.4",
      "model_name": "LayoutModel",
      "state": {
       "_model_module_version": "~2.1.4",
       "_view_module_version": "~2.1.4",
       "width": "80%"
      }
     },
     "b121592a536d49f898d8a05ec70876fe": {
      "model_module": "jupyter-js-widgets",
      "model_module_version": "~2.1.4",
      "model_name": "OutputModel",
      "state": {
       "_dom_classes": [],
       "_model_module": "jupyter-js-widgets",
       "_model_module_version": "~2.1.4",
       "_view_module": "jupyter-js-widgets",
       "_view_module_version": "~2.1.4",
       "layout": "IPY_MODEL_de2794bed6664d48bd6f723ed5c39b7d",
       "msg_throttle": 1
      }
     },
     "b155547a9aa74798b7bcd5dbd5b39551": {
      "model_module": "jupyter-js-widgets",
      "model_module_version": "~2.1.4",
      "model_name": "LayoutModel",
      "state": {
       "_model_module_version": "~2.1.4",
       "_view_module_version": "~2.1.4"
      }
     },
     "b1592b204cab4a7090238468bbfeed43": {
      "model_module": "jupyter-js-widgets",
      "model_module_version": "~2.1.4",
      "model_name": "IntSliderModel",
      "state": {
       "_model_module_version": "~2.1.4",
       "_view_module_version": "~2.1.4",
       "continuous_update": false,
       "description": "window size:",
       "layout": "IPY_MODEL_6bbe63c0e8f94aea9fc573b50d691bd7",
       "max": 1000,
       "min": 100,
       "step": 100,
       "style": "IPY_MODEL_3477e09dd5bd4bdea046aece2e587824",
       "value": 500
      }
     },
     "b1630f7d9da1458e8154d41995920ec9": {
      "model_module": "jupyter-js-widgets",
      "model_module_version": "~2.1.4",
      "model_name": "VBoxModel",
      "state": {
       "_dom_classes": [
        "widget-interact"
       ],
       "_model_module_version": "~2.1.4",
       "_view_module_version": "~2.1.4",
       "children": [
        "IPY_MODEL_0dd2f72a6d104e85a69246dc032dc84e",
        "IPY_MODEL_d71616d1eda94714bec4ee7f076e9e7d"
       ],
       "layout": "IPY_MODEL_c4994ab406cb4c30addb98e9150b610e"
      }
     },
     "b16db7f6902648009f73a3d35757ed42": {
      "model_module": "jupyter-js-widgets",
      "model_module_version": "~2.1.4",
      "model_name": "ButtonStyleModel",
      "state": {
       "_model_module_version": "~2.1.4",
       "_view_module_version": "~2.1.4"
      }
     },
     "b188f09988b242d0be3499998c7ed2df": {
      "model_module": "jupyter-js-widgets",
      "model_module_version": "~2.1.4",
      "model_name": "LayoutModel",
      "state": {
       "_model_module_version": "~2.1.4",
       "_view_module_version": "~2.1.4"
      }
     },
     "b23ca795b3be4066993bb573672b2b7c": {
      "model_module": "jupyter-js-widgets",
      "model_module_version": "~2.1.4",
      "model_name": "LayoutModel",
      "state": {
       "_model_module_version": "~2.1.4",
       "_view_module_version": "~2.1.4"
      }
     },
     "b253816755964bd8b7ca02574c66880c": {
      "model_module": "jupyter-js-widgets",
      "model_module_version": "~2.1.4",
      "model_name": "VBoxModel",
      "state": {
       "_dom_classes": [
        "widget-interact"
       ],
       "_model_module_version": "~2.1.4",
       "_view_module_version": "~2.1.4",
       "children": [
        "IPY_MODEL_e77f69e80ca7418e90877b23799148c0",
        "IPY_MODEL_ca283e3917c446d68029f789ee8da8a3"
       ],
       "layout": "IPY_MODEL_47902090c73d4530b6f8866f23752543"
      }
     },
     "b26f8c2a61f34b05ae057530b4f0020e": {
      "model_module": "jupyter-js-widgets",
      "model_module_version": "~2.1.4",
      "model_name": "IntSliderModel",
      "state": {
       "_model_module_version": "~2.1.4",
       "_view_module_version": "~2.1.4",
       "continuous_update": false,
       "description": "num hidden layers:",
       "layout": "IPY_MODEL_1374a022df7c474c9f1ef8d1d8d4862e",
       "max": 10,
       "min": 1,
       "style": "IPY_MODEL_e0ab9af3d31b461395a149eeb9f41966",
       "value": 2
      }
     },
     "b2e1d4d5583c423fb442df2457e36daa": {
      "model_module": "jupyter-js-widgets",
      "model_module_version": "~2.1.4",
      "model_name": "LayoutModel",
      "state": {
       "_model_module_version": "~2.1.4",
       "_view_module_version": "~2.1.4"
      }
     },
     "b2e529b0e4d94357b7ae1b469788b7d1": {
      "model_module": "jupyter-js-widgets",
      "model_module_version": "~2.1.4",
      "model_name": "LayoutModel",
      "state": {
       "_model_module_version": "~2.1.4",
       "_view_module_version": "~2.1.4"
      }
     },
     "b2f9d4f657e5489195203db4925d897d": {
      "model_module": "jupyter-js-widgets",
      "model_module_version": "~2.1.4",
      "model_name": "VBoxModel",
      "state": {
       "_dom_classes": [
        "widget-interact"
       ],
       "_model_module_version": "~2.1.4",
       "_view_module_version": "~2.1.4",
       "children": [
        "IPY_MODEL_0f8bf5b690ac41c8ba46e4e2faab495d",
        "IPY_MODEL_ae0488f4e4bd4fb1909dfff0ba668dad"
       ],
       "layout": "IPY_MODEL_64d8b1cfb6b84a2aad7152895302aaef"
      }
     },
     "b31896e9986240eaa6671474344e93a0": {
      "model_module": "jupyter-js-widgets",
      "model_module_version": "~2.1.4",
      "model_name": "LayoutModel",
      "state": {
       "_model_module_version": "~2.1.4",
       "_view_module_version": "~2.1.4"
      }
     },
     "b40d61beec5e4b02bf6a27917bf1c6f0": {
      "model_module": "jupyter-js-widgets",
      "model_module_version": "~2.1.4",
      "model_name": "IntSliderModel",
      "state": {
       "_model_module_version": "~2.1.4",
       "_view_module_version": "~2.1.4",
       "continuous_update": false,
       "description": "Hidden layer 1:",
       "layout": "IPY_MODEL_ab90856844c3477eb5fd3328e2ed4fdd",
       "min": 1,
       "style": "IPY_MODEL_cdc0a23d8c3a4aaaa9e6d665f6e4ffb3",
       "value": 20
      }
     },
     "b45842d1b5c646fe868c4d3fc434f64e": {
      "model_module": "jupyter-js-widgets",
      "model_module_version": "~2.1.4",
      "model_name": "LayoutModel",
      "state": {
       "_model_module_version": "~2.1.4",
       "_view_module_version": "~2.1.4"
      }
     },
     "b56162acb0ce427ca4a66defcdc36a2c": {
      "model_module": "jupyter-js-widgets",
      "model_module_version": "~2.1.4",
      "model_name": "LayoutModel",
      "state": {
       "_model_module_version": "~2.1.4",
       "_view_module_version": "~2.1.4"
      }
     },
     "b576487889bf4694974eb6f4d9cf4226": {
      "model_module": "jupyter-js-widgets",
      "model_module_version": "~2.1.4",
      "model_name": "LayoutModel",
      "state": {
       "_model_module_version": "~2.1.4",
       "_view_module_version": "~2.1.4"
      }
     },
     "b5d4e73ff5a44106810bcb34679f2984": {
      "model_module": "jupyter-js-widgets",
      "model_module_version": "~2.1.4",
      "model_name": "LayoutModel",
      "state": {
       "_model_module_version": "~2.1.4",
       "_view_module_version": "~2.1.4"
      }
     },
     "b60cfd9dc888470691b6da11a4cb2101": {
      "model_module": "jupyter-js-widgets",
      "model_module_version": "~2.1.4",
      "model_name": "LayoutModel",
      "state": {
       "_model_module_version": "~2.1.4",
       "_view_module_version": "~2.1.4"
      }
     },
     "b69981a96e6e4d0fb6b2a0f8ab9ebc4c": {
      "model_module": "jupyter-js-widgets",
      "model_module_version": "~2.1.4",
      "model_name": "LayoutModel",
      "state": {
       "_model_module_version": "~2.1.4",
       "_view_module_version": "~2.1.4"
      }
     },
     "b69b823aedd841b6a9db951259a60d64": {
      "model_module": "jupyter-js-widgets",
      "model_module_version": "~2.1.4",
      "model_name": "ProgressStyleModel",
      "state": {
       "_model_module_version": "~2.1.4",
       "_view_module_version": "~2.1.4"
      }
     },
     "b74f576ce4f346b784a176bdca2c1160": {
      "model_module": "jupyter-js-widgets",
      "model_module_version": "~2.1.4",
      "model_name": "LayoutModel",
      "state": {
       "_model_module_version": "~2.1.4",
       "_view_module_version": "~2.1.4"
      }
     },
     "b838a3d29b664af3ba75b0f924aa3f36": {
      "model_module": "jupyter-js-widgets",
      "model_module_version": "~2.1.4",
      "model_name": "LayoutModel",
      "state": {
       "_model_module_version": "~2.1.4",
       "_view_module_version": "~2.1.4"
      }
     },
     "b87d826afc064df1aa290b631302a098": {
      "model_module": "jupyter-js-widgets",
      "model_module_version": "~2.1.4",
      "model_name": "VBoxModel",
      "state": {
       "_dom_classes": [
        "widget-interact"
       ],
       "_model_module_version": "~2.1.4",
       "_view_module_version": "~2.1.4",
       "children": [
        "IPY_MODEL_23b683e3d6024fd98977da3254b3ffb7",
        "IPY_MODEL_8126c02a21bd4e6cad60b5dfb1fe8672"
       ],
       "layout": "IPY_MODEL_8640b673c00a4acb91f647788fbd4875"
      }
     },
     "b881ffbf524342b7818c3156c78bd2b2": {
      "model_module": "jupyter-js-widgets",
      "model_module_version": "~2.1.4",
      "model_name": "FloatTextModel",
      "state": {
       "_model_module_version": "~2.1.4",
       "_view_module_version": "~2.1.4",
       "description": "Sampling Percentage:",
       "layout": "IPY_MODEL_1c0befabed1d405bbf639a19d411ef6a",
       "max": 1,
       "min": 0,
       "step": 0.1,
       "value": 0.0001
      }
     },
     "b8864752b3f94f829cd5e4e4909bc218": {
      "model_module": "jupyter-js-widgets",
      "model_module_version": "~2.1.4",
      "model_name": "LayoutModel",
      "state": {
       "_model_module_version": "~2.1.4",
       "_view_module_version": "~2.1.4"
      }
     },
     "b8cb81b7b34b46f7b9d1ebb6eaef4673": {
      "model_module": "jupyter-js-widgets",
      "model_module_version": "~2.1.4",
      "model_name": "ProgressStyleModel",
      "state": {
       "_model_module_version": "~2.1.4",
       "_view_module_version": "~2.1.4"
      }
     },
     "b9f63497558f41359b3342adfa6dfb7d": {
      "model_module": "jupyter-js-widgets",
      "model_module_version": "~2.1.4",
      "model_name": "LayoutModel",
      "state": {
       "_model_module_version": "~2.1.4",
       "_view_module_version": "~2.1.4"
      }
     },
     "baaa63fb87f54f378c4130627fd6c4a1": {
      "model_module": "jupyter-js-widgets",
      "model_module_version": "~2.1.4",
      "model_name": "LayoutModel",
      "state": {
       "_model_module_version": "~2.1.4",
       "_view_module_version": "~2.1.4"
      }
     },
     "baf9693c2513454db14b1b3151a5cc50": {
      "model_module": "jupyter-js-widgets",
      "model_module_version": "~2.1.4",
      "model_name": "LayoutModel",
      "state": {
       "_model_module_version": "~2.1.4",
       "_view_module_version": "~2.1.4"
      }
     },
     "bafa061edf8d41dd85a7ed72afc32ecb": {
      "model_module": "jupyter-js-widgets",
      "model_module_version": "~2.1.4",
      "model_name": "OutputModel",
      "state": {
       "_dom_classes": [],
       "_model_module": "jupyter-js-widgets",
       "_model_module_version": "~2.1.4",
       "_view_module": "jupyter-js-widgets",
       "_view_module_version": "~2.1.4",
       "layout": "IPY_MODEL_5337c8e94f5a4f42b294e40a95e7fafc",
       "msg_throttle": 1
      }
     },
     "bb00d58b7e8843a49a631afbf8ca7903": {
      "model_module": "jupyter-js-widgets",
      "model_module_version": "~2.1.4",
      "model_name": "SliderStyleModel",
      "state": {
       "_model_module_version": "~2.1.4",
       "_view_module_version": "~2.1.4"
      }
     },
     "bcca9716977f4ca688cb8e27a43750a6": {
      "model_module": "jupyter-js-widgets",
      "model_module_version": "~2.1.4",
      "model_name": "ButtonStyleModel",
      "state": {
       "_model_module_version": "~2.1.4",
       "_view_module_version": "~2.1.4"
      }
     },
     "bcddb3db1cd147c195f6a88fbffebf78": {
      "model_module": "jupyter-js-widgets",
      "model_module_version": "~2.1.4",
      "model_name": "VBoxModel",
      "state": {
       "_dom_classes": [
        "widget-interact"
       ],
       "_model_module_version": "~2.1.4",
       "_view_module_version": "~2.1.4",
       "children": [
        "IPY_MODEL_2ae5679d846c4e7ab81c1b7a7b1d8a0f",
        "IPY_MODEL_22b9dc8cc44a406fb227a3f1dee7aa3c"
       ],
       "layout": "IPY_MODEL_4b927ee10d044c8881681594617dc050"
      }
     },
     "bd7b8ba3698945c093fa3f176957dd73": {
      "model_module": "jupyter-js-widgets",
      "model_module_version": "~2.1.4",
      "model_name": "LayoutModel",
      "state": {
       "_model_module_version": "~2.1.4",
       "_view_module_version": "~2.1.4"
      }
     },
     "be3359e5d0f440e4b24a06225e86fd3e": {
      "model_module": "jupyter-js-widgets",
      "model_module_version": "~2.1.4",
      "model_name": "IntSliderModel",
      "state": {
       "_model_module_version": "~2.1.4",
       "_view_module_version": "~2.1.4",
       "continuous_update": false,
       "description": "window size:",
       "layout": "IPY_MODEL_1c198703aad44b0988d349b6dfc73d05",
       "max": 1000,
       "min": 100,
       "step": 100,
       "style": "IPY_MODEL_6f81fe4b152a46a58c6bfcbe51290d2a",
       "value": 500
      }
     },
     "be38ebf7020c4801bc124bd3b7507eb3": {
      "model_module": "jupyter-js-widgets",
      "model_module_version": "~2.1.4",
      "model_name": "SliderStyleModel",
      "state": {
       "_model_module_version": "~2.1.4",
       "_view_module_version": "~2.1.4"
      }
     },
     "be417e2f5b97417384f959c1c6865b3d": {
      "model_module": "jupyter-js-widgets",
      "model_module_version": "~2.1.4",
      "model_name": "LayoutModel",
      "state": {
       "_model_module_version": "~2.1.4",
       "_view_module_version": "~2.1.4"
      }
     },
     "be75e5d633054a05a989a080f159b7ed": {
      "model_module": "jupyter-js-widgets",
      "model_module_version": "~2.1.4",
      "model_name": "IntSliderModel",
      "state": {
       "_model_module_version": "~2.1.4",
       "_view_module_version": "~2.1.4",
       "continuous_update": false,
       "description": "window reps:",
       "layout": "IPY_MODEL_5a5e2e040651463a9cbdc45dc85b84d0",
       "min": 1,
       "style": "IPY_MODEL_2201acc2db294fb4a7a449c32966fc67",
       "value": 10
      }
     },
     "bebb388ffb594b6390e14069b44e7153": {
      "model_module": "jupyter-js-widgets",
      "model_module_version": "~2.1.4",
      "model_name": "LayoutModel",
      "state": {
       "_model_module_version": "~2.1.4",
       "_view_module_version": "~2.1.4"
      }
     },
     "bf35c7f2f4a54feebf9a840365abd44d": {
      "model_module": "jupyter-js-widgets",
      "model_module_version": "~2.1.4",
      "model_name": "LayoutModel",
      "state": {
       "_model_module_version": "~2.1.4",
       "_view_module_version": "~2.1.4"
      }
     },
     "c04e6c982e134a4abc24e26ede5d79e0": {
      "model_module": "jupyter-js-widgets",
      "model_module_version": "~2.1.4",
      "model_name": "LayoutModel",
      "state": {
       "_model_module_version": "~2.1.4",
       "_view_module_version": "~2.1.4"
      }
     },
     "c0545c407ea1495b8e0923445fad8fc9": {
      "model_module": "jupyter-js-widgets",
      "model_module_version": "~2.1.4",
      "model_name": "ProgressModel",
      "state": {
       "_model_module_version": "~2.1.4",
       "_view_module_version": "~2.1.4",
       "bar_style": "danger",
       "description": "Training:",
       "layout": "IPY_MODEL_ee4baa0cb7b347b499cca986044df0c2",
       "max": 350,
       "style": "IPY_MODEL_b8cb81b7b34b46f7b9d1ebb6eaef4673",
       "value": 350
      }
     },
     "c09ef332e695441495180cc652ffbe70": {
      "model_module": "jupyter-js-widgets",
      "model_module_version": "~2.1.4",
      "model_name": "OutputModel",
      "state": {
       "_dom_classes": [],
       "_model_module": "jupyter-js-widgets",
       "_model_module_version": "~2.1.4",
       "_view_module": "jupyter-js-widgets",
       "_view_module_version": "~2.1.4",
       "layout": "IPY_MODEL_5027f158772848a2bc992d71d2ce26cc",
       "msg_throttle": 1
      }
     },
     "c0e478627f98462081cc58e90fb29e06": {
      "model_module": "jupyter-js-widgets",
      "model_module_version": "~2.1.4",
      "model_name": "ButtonStyleModel",
      "state": {
       "_model_module_version": "~2.1.4",
       "_view_module_version": "~2.1.4"
      }
     },
     "c0e8bde40fce46909a41a85adfefd5cb": {
      "model_module": "jupyter-js-widgets",
      "model_module_version": "~2.1.4",
      "model_name": "LayoutModel",
      "state": {
       "_model_module_version": "~2.1.4",
       "_view_module_version": "~2.1.4"
      }
     },
     "c0e9fe50282346adb25f9b239c832d25": {
      "model_module": "jupyter-js-widgets",
      "model_module_version": "~2.1.4",
      "model_name": "LayoutModel",
      "state": {
       "_model_module_version": "~2.1.4",
       "_view_module_version": "~2.1.4"
      }
     },
     "c124d753c77c436fbcb88c392ec7efe0": {
      "model_module": "jupyter-js-widgets",
      "model_module_version": "~2.1.4",
      "model_name": "LayoutModel",
      "state": {
       "_model_module_version": "~2.1.4",
       "_view_module_version": "~2.1.4"
      }
     },
     "c17aec176e3a4d729aebda88910da307": {
      "model_module": "jupyter-js-widgets",
      "model_module_version": "~2.1.4",
      "model_name": "SliderStyleModel",
      "state": {
       "_model_module_version": "~2.1.4",
       "_view_module_version": "~2.1.4"
      }
     },
     "c1b097e463c84c08a4981e8d90c0660e": {
      "model_module": "jupyter-js-widgets",
      "model_module_version": "~2.1.4",
      "model_name": "IntSliderModel",
      "state": {
       "_model_module_version": "~2.1.4",
       "_view_module_version": "~2.1.4",
       "continuous_update": false,
       "description": "num hidden layers:",
       "layout": "IPY_MODEL_e9d31598bf9f4b689cfc1b6b48e2ef2c",
       "max": 10,
       "min": 1,
       "style": "IPY_MODEL_c757ac8d27cf465babff6ad6ca43bda5",
       "value": 2
      }
     },
     "c30a2004de90430f8a74726deed84fa7": {
      "model_module": "jupyter-js-widgets",
      "model_module_version": "~2.1.4",
      "model_name": "LayoutModel",
      "state": {
       "_model_module_version": "~2.1.4",
       "_view_module_version": "~2.1.4"
      }
     },
     "c3e1d64c6d0545fbb29833f41916d6c5": {
      "model_module": "jupyter-js-widgets",
      "model_module_version": "~2.1.4",
      "model_name": "LayoutModel",
      "state": {
       "_model_module_version": "~2.1.4",
       "_view_module_version": "~2.1.4"
      }
     },
     "c41bd2e66edf4e41937b2a31569f58de": {
      "model_module": "jupyter-js-widgets",
      "model_module_version": "~2.1.4",
      "model_name": "LayoutModel",
      "state": {
       "_model_module_version": "~2.1.4",
       "_view_module_version": "~2.1.4"
      }
     },
     "c47ec9a5ba314cd0a720f0d584fbb0e2": {
      "model_module": "jupyter-js-widgets",
      "model_module_version": "~2.1.4",
      "model_name": "LayoutModel",
      "state": {
       "_model_module_version": "~2.1.4",
       "_view_module_version": "~2.1.4",
       "width": "80%"
      }
     },
     "c4994ab406cb4c30addb98e9150b610e": {
      "model_module": "jupyter-js-widgets",
      "model_module_version": "~2.1.4",
      "model_name": "LayoutModel",
      "state": {
       "_model_module_version": "~2.1.4",
       "_view_module_version": "~2.1.4"
      }
     },
     "c54f2b4ff9344645b957f5741490ba7b": {
      "model_module": "jupyter-js-widgets",
      "model_module_version": "~2.1.4",
      "model_name": "ProgressModel",
      "state": {
       "_model_module_version": "~2.1.4",
       "_view_module_version": "~2.1.4",
       "bar_style": "info",
       "description": "Predicting:",
       "layout": "IPY_MODEL_9ef24cbbe0a946238073e2c94dd4b89f",
       "max": 3500000,
       "style": "IPY_MODEL_39f33c54e4fc4faa893a83bb6bbb4733",
       "value": 3499999
      }
     },
     "c58232a6c169466eaa795514fbf67ccf": {
      "model_module": "jupyter-js-widgets",
      "model_module_version": "~2.1.4",
      "model_name": "OutputModel",
      "state": {
       "_dom_classes": [],
       "_model_module": "jupyter-js-widgets",
       "_model_module_version": "~2.1.4",
       "_view_module": "jupyter-js-widgets",
       "_view_module_version": "~2.1.4",
       "layout": "IPY_MODEL_b45842d1b5c646fe868c4d3fc434f64e",
       "msg_throttle": 1
      }
     },
     "c5a8441b66e84f35957a67e202d4cd63": {
      "model_module": "jupyter-js-widgets",
      "model_module_version": "~2.1.4",
      "model_name": "FloatTextModel",
      "state": {
       "_model_module_version": "~2.1.4",
       "_view_module_version": "~2.1.4",
       "description": "Sampling Percentage:",
       "layout": "IPY_MODEL_5ae3d1682f3a40188745f420dc9e96d9",
       "max": 1,
       "min": 0,
       "step": 0.1,
       "value": 0.0001
      }
     },
     "c5b144debe534559936944033e37d2bf": {
      "model_module": "jupyter-js-widgets",
      "model_module_version": "~2.1.4",
      "model_name": "LayoutModel",
      "state": {
       "_model_module_version": "~2.1.4",
       "_view_module_version": "~2.1.4",
       "width": "80%"
      }
     },
     "c5c6abb91e4441e7b4cf9525852a841e": {
      "model_module": "jupyter-js-widgets",
      "model_module_version": "~2.1.4",
      "model_name": "IntSliderModel",
      "state": {
       "_model_module_version": "~2.1.4",
       "_view_module_version": "~2.1.4",
       "continuous_update": false,
       "description": "window reps:",
       "layout": "IPY_MODEL_8434cd753441409195cfc9f4d966c876",
       "min": 1,
       "style": "IPY_MODEL_3dc0d8acd0d648f9a59a2660398b4370",
       "value": 10
      }
     },
     "c5f6208707f94ef099c0dcfd030e293b": {
      "model_module": "jupyter-js-widgets",
      "model_module_version": "~2.1.4",
      "model_name": "IntSliderModel",
      "state": {
       "_model_module_version": "~2.1.4",
       "_view_module_version": "~2.1.4",
       "continuous_update": false,
       "description": "window size:",
       "layout": "IPY_MODEL_ef3956cd47ba42ec84f3cbd9ce3399a8",
       "max": 1000,
       "min": 100,
       "step": 100,
       "style": "IPY_MODEL_bb00d58b7e8843a49a631afbf8ca7903",
       "value": 500
      }
     },
     "c60db375962046aebc09dcbbfa491a60": {
      "model_module": "jupyter-js-widgets",
      "model_module_version": "~2.1.4",
      "model_name": "VBoxModel",
      "state": {
       "_dom_classes": [
        "widget-interact"
       ],
       "_model_module_version": "~2.1.4",
       "_view_module_version": "~2.1.4",
       "children": [
        "IPY_MODEL_833359c6b91845718c65368c3e931c64",
        "IPY_MODEL_8371b404acd545729a94ce084b072ce4"
       ],
       "layout": "IPY_MODEL_6c53e3a6a3034a659c829b58521bc0e9"
      }
     },
     "c613f97088554ce49a005648271bca9e": {
      "model_module": "jupyter-js-widgets",
      "model_module_version": "~2.1.4",
      "model_name": "SliderStyleModel",
      "state": {
       "_model_module_version": "~2.1.4",
       "_view_module_version": "~2.1.4"
      }
     },
     "c644c7732ff54b48b7245a247100fde4": {
      "model_module": "jupyter-js-widgets",
      "model_module_version": "~2.1.4",
      "model_name": "LayoutModel",
      "state": {
       "_model_module_version": "~2.1.4",
       "_view_module_version": "~2.1.4"
      }
     },
     "c6c6cb2a00fa4c94a22dd9aa0cb47a3b": {
      "model_module": "jupyter-js-widgets",
      "model_module_version": "~2.1.4",
      "model_name": "LayoutModel",
      "state": {
       "_model_module_version": "~2.1.4",
       "_view_module_version": "~2.1.4"
      }
     },
     "c757ac8d27cf465babff6ad6ca43bda5": {
      "model_module": "jupyter-js-widgets",
      "model_module_version": "~2.1.4",
      "model_name": "SliderStyleModel",
      "state": {
       "_model_module_version": "~2.1.4",
       "_view_module_version": "~2.1.4"
      }
     },
     "c75edf5b7e204033a9e9422c24adf5ad": {
      "model_module": "jupyter-js-widgets",
      "model_module_version": "~2.1.4",
      "model_name": "LayoutModel",
      "state": {
       "_model_module_version": "~2.1.4",
       "_view_module_version": "~2.1.4"
      }
     },
     "c7617659e9d4474c917bfcb6124d0f6f": {
      "model_module": "jupyter-js-widgets",
      "model_module_version": "~2.1.4",
      "model_name": "OutputModel",
      "state": {
       "_dom_classes": [],
       "_model_module": "jupyter-js-widgets",
       "_model_module_version": "~2.1.4",
       "_view_module": "jupyter-js-widgets",
       "_view_module_version": "~2.1.4",
       "layout": "IPY_MODEL_6a57eb9523c84ae2b75f50790cb536c5",
       "msg_throttle": 1
      }
     },
     "c78500bd43e048edb9ded0a975f5ad52": {
      "model_module": "jupyter-js-widgets",
      "model_module_version": "~2.1.4",
      "model_name": "LayoutModel",
      "state": {
       "_model_module_version": "~2.1.4",
       "_view_module_version": "~2.1.4"
      }
     },
     "c7f5d9644edd4ab39c1554682fddb6af": {
      "model_module": "jupyter-js-widgets",
      "model_module_version": "~2.1.4",
      "model_name": "OutputModel",
      "state": {
       "_dom_classes": [],
       "_model_module": "jupyter-js-widgets",
       "_model_module_version": "~2.1.4",
       "_view_module": "jupyter-js-widgets",
       "_view_module_version": "~2.1.4",
       "layout": "IPY_MODEL_479d549e34854099855299d85113e542",
       "msg_throttle": 1
      }
     },
     "c8619d9f46b04761aa20f1b051985a0e": {
      "model_module": "jupyter-js-widgets",
      "model_module_version": "~2.1.4",
      "model_name": "ButtonStyleModel",
      "state": {
       "_model_module_version": "~2.1.4",
       "_view_module_version": "~2.1.4"
      }
     },
     "c88054b076b649d9a1defc3b1842900d": {
      "model_module": "jupyter-js-widgets",
      "model_module_version": "~2.1.4",
      "model_name": "VBoxModel",
      "state": {
       "_dom_classes": [
        "widget-interact"
       ],
       "_model_module_version": "~2.1.4",
       "_view_module_version": "~2.1.4",
       "children": [
        "IPY_MODEL_7bdc65f094f54707a0edfa094e48353f",
        "IPY_MODEL_2243393b2e504b73aaf50da113bae39f"
       ],
       "layout": "IPY_MODEL_31f4816d272f4c949b19ac5ae8137bbf"
      }
     },
     "c98e382c3c0f4ee8b096dd716e5af61d": {
      "model_module": "jupyter-js-widgets",
      "model_module_version": "~2.1.4",
      "model_name": "LayoutModel",
      "state": {
       "_model_module_version": "~2.1.4",
       "_view_module_version": "~2.1.4"
      }
     },
     "c9a836656785434e8f7b9d32565bb5da": {
      "model_module": "jupyter-js-widgets",
      "model_module_version": "~2.1.4",
      "model_name": "LayoutModel",
      "state": {
       "_model_module_version": "~2.1.4",
       "_view_module_version": "~2.1.4",
       "width": "100%"
      }
     },
     "c9a840e6186144d1996b72f13e72b3c3": {
      "model_module": "jupyter-js-widgets",
      "model_module_version": "~2.1.4",
      "model_name": "VBoxModel",
      "state": {
       "_dom_classes": [
        "widget-interact"
       ],
       "_model_module_version": "~2.1.4",
       "_view_module_version": "~2.1.4",
       "children": [
        "IPY_MODEL_b881ffbf524342b7818c3156c78bd2b2",
        "IPY_MODEL_73dcfb7345cd4ae5b9f6b4e49d4b8c34"
       ],
       "layout": "IPY_MODEL_11ee17690a5b4f91869d237b4ac0448b"
      }
     },
     "ca283e3917c446d68029f789ee8da8a3": {
      "model_module": "jupyter-js-widgets",
      "model_module_version": "~2.1.4",
      "model_name": "OutputModel",
      "state": {
       "_dom_classes": [],
       "_model_module": "jupyter-js-widgets",
       "_model_module_version": "~2.1.4",
       "_view_module": "jupyter-js-widgets",
       "_view_module_version": "~2.1.4",
       "layout": "IPY_MODEL_6f5adf3a8dfc493a9b239feb0bc14523",
       "msg_throttle": 1
      }
     },
     "ca4336f44a16429cabdd8b82c132b7c3": {
      "model_module": "jupyter-js-widgets",
      "model_module_version": "~2.1.4",
      "model_name": "VBoxModel",
      "state": {
       "_dom_classes": [
        "widget-interact"
       ],
       "_model_module_version": "~2.1.4",
       "_view_module_version": "~2.1.4",
       "children": [
        "IPY_MODEL_54a5e6b58c37423892f132ab851a2c0b",
        "IPY_MODEL_09187267beff41a7a02f52178b47bbbb"
       ],
       "layout": "IPY_MODEL_f809bbd98fa644d691c90eed6d55dee3"
      }
     },
     "cb6283321a7c41629c446dac351ff681": {
      "model_module": "jupyter-js-widgets",
      "model_module_version": "~2.1.4",
      "model_name": "SliderStyleModel",
      "state": {
       "_model_module_version": "~2.1.4",
       "_view_module_version": "~2.1.4"
      }
     },
     "cb63da618aed46149e54ca62ce761400": {
      "model_module": "jupyter-js-widgets",
      "model_module_version": "~2.1.4",
      "model_name": "OutputModel",
      "state": {
       "_dom_classes": [],
       "_model_module": "jupyter-js-widgets",
       "_model_module_version": "~2.1.4",
       "_view_module": "jupyter-js-widgets",
       "_view_module_version": "~2.1.4",
       "layout": "IPY_MODEL_845bf4323eb8483d9e9463f674c96f7e",
       "msg_throttle": 1
      }
     },
     "cb6fc107dfaf4f8398d747d6ab8e5025": {
      "model_module": "jupyter-js-widgets",
      "model_module_version": "~2.1.4",
      "model_name": "LayoutModel",
      "state": {
       "_model_module_version": "~2.1.4",
       "_view_module_version": "~2.1.4",
       "width": "80%"
      }
     },
     "cb8d4c6e487142e0b8f40312c923864f": {
      "model_module": "jupyter-js-widgets",
      "model_module_version": "~2.1.4",
      "model_name": "OutputModel",
      "state": {
       "_dom_classes": [],
       "_model_module": "jupyter-js-widgets",
       "_model_module_version": "~2.1.4",
       "_view_module": "jupyter-js-widgets",
       "_view_module_version": "~2.1.4",
       "layout": "IPY_MODEL_6a43b37072544487bde73338ee732b01",
       "msg_throttle": 1
      }
     },
     "cc8dcf2556e54e269c682dfa83386099": {
      "model_module": "jupyter-js-widgets",
      "model_module_version": "~2.1.4",
      "model_name": "LayoutModel",
      "state": {
       "_model_module_version": "~2.1.4",
       "_view_module_version": "~2.1.4"
      }
     },
     "ccb9deead6ea40619c55c633594232bf": {
      "model_module": "jupyter-js-widgets",
      "model_module_version": "~2.1.4",
      "model_name": "ButtonStyleModel",
      "state": {
       "_model_module_version": "~2.1.4",
       "_view_module_version": "~2.1.4"
      }
     },
     "ccda59ccc82d4a83b1a5b7599453424d": {
      "model_module": "jupyter-js-widgets",
      "model_module_version": "~2.1.4",
      "model_name": "SliderStyleModel",
      "state": {
       "_model_module_version": "~2.1.4",
       "_view_module_version": "~2.1.4"
      }
     },
     "cd00f6417b7a43f8a3062eef66e23a1b": {
      "model_module": "jupyter-js-widgets",
      "model_module_version": "~2.1.4",
      "model_name": "LayoutModel",
      "state": {
       "_model_module_version": "~2.1.4",
       "_view_module_version": "~2.1.4"
      }
     },
     "cd2be64e085f437996333b57c0aa603c": {
      "model_module": "jupyter-js-widgets",
      "model_module_version": "~2.1.4",
      "model_name": "OutputModel",
      "state": {
       "_dom_classes": [],
       "_model_module": "jupyter-js-widgets",
       "_model_module_version": "~2.1.4",
       "_view_module": "jupyter-js-widgets",
       "_view_module_version": "~2.1.4",
       "layout": "IPY_MODEL_4f3e6f1dbb2d4388a0b96494c610c18f",
       "msg_throttle": 1
      }
     },
     "cdc0a23d8c3a4aaaa9e6d665f6e4ffb3": {
      "model_module": "jupyter-js-widgets",
      "model_module_version": "~2.1.4",
      "model_name": "SliderStyleModel",
      "state": {
       "_model_module_version": "~2.1.4",
       "_view_module_version": "~2.1.4"
      }
     },
     "cdc640798c8941ac98148719d3c98c74": {
      "model_module": "jupyter-js-widgets",
      "model_module_version": "~2.1.4",
      "model_name": "LayoutModel",
      "state": {
       "_model_module_version": "~2.1.4",
       "_view_module_version": "~2.1.4",
       "border": "solid",
       "padding": "10px"
      }
     },
     "ce041cba3e224ee48c315c4e66b5dbf1": {
      "model_module": "jupyter-js-widgets",
      "model_module_version": "~2.1.4",
      "model_name": "FloatTextModel",
      "state": {
       "_model_module_version": "~2.1.4",
       "_view_module_version": "~2.1.4",
       "description": "Sampling Percentage:",
       "layout": "IPY_MODEL_67c8b6f8f971498191776dabd068fc67",
       "max": 1,
       "min": 0,
       "step": 0.1,
       "value": 1
      }
     },
     "ce1ec049888948888bfb22568b33cb09": {
      "model_module": "jupyter-js-widgets",
      "model_module_version": "~2.1.4",
      "model_name": "LayoutModel",
      "state": {
       "_model_module_version": "~2.1.4",
       "_view_module_version": "~2.1.4"
      }
     },
     "ce6a35bfd92b4534995cafc2100634f6": {
      "model_module": "jupyter-js-widgets",
      "model_module_version": "~2.1.4",
      "model_name": "LayoutModel",
      "state": {
       "_model_module_version": "~2.1.4",
       "_view_module_version": "~2.1.4"
      }
     },
     "ce9b47a1f4744d77ac7d9a90d639bd4c": {
      "model_module": "jupyter-js-widgets",
      "model_module_version": "~2.1.4",
      "model_name": "ProgressStyleModel",
      "state": {
       "_model_module_version": "~2.1.4",
       "_view_module_version": "~2.1.4"
      }
     },
     "cea3437d89bd4c98b7ce4ef4772c44e4": {
      "model_module": "jupyter-js-widgets",
      "model_module_version": "~2.1.4",
      "model_name": "LayoutModel",
      "state": {
       "_model_module_version": "~2.1.4",
       "_view_module_version": "~2.1.4"
      }
     },
     "cea881d17842482099e94990fe90b0f4": {
      "model_module": "jupyter-js-widgets",
      "model_module_version": "~2.1.4",
      "model_name": "LabelModel",
      "state": {
       "_model_module_version": "~2.1.4",
       "_view_module_version": "~2.1.4",
       "layout": "IPY_MODEL_505b5a6e32fe40a380fdc71d01877a32",
       "value": "Hidden layer sizes:"
      }
     },
     "ceec93e0138841c08bf447b850234935": {
      "model_module": "jupyter-js-widgets",
      "model_module_version": "~2.1.4",
      "model_name": "IntSliderModel",
      "state": {
       "_model_module_version": "~2.1.4",
       "_view_module_version": "~2.1.4",
       "continuous_update": false,
       "description": "window reps:",
       "layout": "IPY_MODEL_dbf98da3781c457ca779d07d57036987",
       "min": 1,
       "style": "IPY_MODEL_1a30d48ed4b14ec4a46f2c216378dad4",
       "value": 10
      }
     },
     "cf04a7885e6241f5a80c89476d7d01ec": {
      "model_module": "jupyter-js-widgets",
      "model_module_version": "~2.1.4",
      "model_name": "FloatTextModel",
      "state": {
       "_model_module_version": "~2.1.4",
       "_view_module_version": "~2.1.4",
       "description": "Sampling Percentage:",
       "layout": "IPY_MODEL_2d4ffbc8366544edb120b13d18a55815",
       "max": 1,
       "min": 0,
       "step": 0.1,
       "value": 0.0001
      }
     },
     "cff6df495a574b908d5abc58db57970a": {
      "model_module": "jupyter-js-widgets",
      "model_module_version": "~2.1.4",
      "model_name": "LayoutModel",
      "state": {
       "_model_module_version": "~2.1.4",
       "_view_module_version": "~2.1.4",
       "border": "solid",
       "padding": "10px"
      }
     },
     "d0572221137d4b789afe406526d4854a": {
      "model_module": "jupyter-js-widgets",
      "model_module_version": "~2.1.4",
      "model_name": "IntSliderModel",
      "state": {
       "_model_module_version": "~2.1.4",
       "_view_module_version": "~2.1.4",
       "continuous_update": false,
       "description": "window reps:",
       "layout": "IPY_MODEL_383b9ac2d4cb4a3ba450eb825f51a917",
       "min": 1,
       "style": "IPY_MODEL_5e22b1e734b84ea2bed7783907f9e378",
       "value": 10
      }
     },
     "d07b2ec9e3e344c5a0613e959f3fec2b": {
      "model_module": "jupyter-js-widgets",
      "model_module_version": "~2.1.4",
      "model_name": "LayoutModel",
      "state": {
       "_model_module_version": "~2.1.4",
       "_view_module_version": "~2.1.4"
      }
     },
     "d0b42358e77b4724907939aff569a7bc": {
      "model_module": "jupyter-js-widgets",
      "model_module_version": "~2.1.4",
      "model_name": "LayoutModel",
      "state": {
       "_model_module_version": "~2.1.4",
       "_view_module_version": "~2.1.4",
       "width": "80%"
      }
     },
     "d110d2abb6d8435691b92c7c90a7b15c": {
      "model_module": "jupyter-js-widgets",
      "model_module_version": "~2.1.4",
      "model_name": "SliderStyleModel",
      "state": {
       "_model_module_version": "~2.1.4",
       "_view_module_version": "~2.1.4"
      }
     },
     "d1b6252d3eb54c0fb62c65c3fc8bbada": {
      "model_module": "jupyter-js-widgets",
      "model_module_version": "~2.1.4",
      "model_name": "OutputModel",
      "state": {
       "_dom_classes": [],
       "_model_module": "jupyter-js-widgets",
       "_model_module_version": "~2.1.4",
       "_view_module": "jupyter-js-widgets",
       "_view_module_version": "~2.1.4",
       "layout": "IPY_MODEL_e70179737f1c493f916be2765bb94571",
       "msg_throttle": 1
      }
     },
     "d1cec1104cfe4e59a205bcab5bb333a6": {
      "model_module": "jupyter-js-widgets",
      "model_module_version": "~2.1.4",
      "model_name": "LayoutModel",
      "state": {
       "_model_module_version": "~2.1.4",
       "_view_module_version": "~2.1.4",
       "width": "100%"
      }
     },
     "d1d6731ec245485683633cd9a92b2e94": {
      "model_module": "jupyter-js-widgets",
      "model_module_version": "~2.1.4",
      "model_name": "LayoutModel",
      "state": {
       "_model_module_version": "~2.1.4",
       "_view_module_version": "~2.1.4",
       "width": "80%"
      }
     },
     "d343e4dbd5a94cd1ba1e3f0f7e2231f9": {
      "model_module": "jupyter-js-widgets",
      "model_module_version": "~2.1.4",
      "model_name": "SliderStyleModel",
      "state": {
       "_model_module_version": "~2.1.4",
       "_view_module_version": "~2.1.4"
      }
     },
     "d3942b1d37784347965a395bce41768c": {
      "model_module": "jupyter-js-widgets",
      "model_module_version": "~2.1.4",
      "model_name": "IntSliderModel",
      "state": {
       "_model_module_version": "~2.1.4",
       "_view_module_version": "~2.1.4",
       "continuous_update": false,
       "description": "Hidden layer 0:",
       "layout": "IPY_MODEL_1c69a82af24c41ee902d2723f9a14e62",
       "min": 1,
       "style": "IPY_MODEL_a7a80bec967047158ab1fc7637c45554",
       "value": 20
      }
     },
     "d3d673b0bf374b8eb605de0f56148fd8": {
      "model_module": "jupyter-js-widgets",
      "model_module_version": "~2.1.4",
      "model_name": "VBoxModel",
      "state": {
       "_dom_classes": [
        "widget-interact"
       ],
       "_model_module_version": "~2.1.4",
       "_view_module_version": "~2.1.4",
       "children": [
        "IPY_MODEL_8ffa0a59da2f4b2da4a54ee6b746656d",
        "IPY_MODEL_44204fcda99143b4b209e2c4efc3f1aa"
       ],
       "layout": "IPY_MODEL_01974e1a1fa2470784dc9882305080eb"
      }
     },
     "d3e4a836ab0c4f4bae24c972e3f28766": {
      "model_module": "jupyter-js-widgets",
      "model_module_version": "~2.1.4",
      "model_name": "ProgressStyleModel",
      "state": {
       "_model_module_version": "~2.1.4",
       "_view_module_version": "~2.1.4"
      }
     },
     "d5d84b5f5c6242ee82c7279155960774": {
      "model_module": "jupyter-js-widgets",
      "model_module_version": "~2.1.4",
      "model_name": "VBoxModel",
      "state": {
       "_dom_classes": [
        "widget-interact"
       ],
       "_model_module_version": "~2.1.4",
       "_view_module_version": "~2.1.4",
       "children": [
        "IPY_MODEL_3a78560eb489450cbbbda1ff7bdd3caa",
        "IPY_MODEL_31f962d9eee94c10a4ef2926a7271513"
       ],
       "layout": "IPY_MODEL_95eba4d9f170473a9f4958783bd50853"
      }
     },
     "d5e2a77380bb476d8bb8c7ac5adc937c": {
      "model_module": "jupyter-js-widgets",
      "model_module_version": "~2.1.4",
      "model_name": "OutputModel",
      "state": {
       "_dom_classes": [],
       "_model_module": "jupyter-js-widgets",
       "_model_module_version": "~2.1.4",
       "_view_module": "jupyter-js-widgets",
       "_view_module_version": "~2.1.4",
       "layout": "IPY_MODEL_dc9f4932b1294b368c5de43e83008314",
       "msg_throttle": 1
      }
     },
     "d5e3c4b660304bc7ae4f75d4519ee0c9": {
      "model_module": "jupyter-js-widgets",
      "model_module_version": "~2.1.4",
      "model_name": "OutputModel",
      "state": {
       "_dom_classes": [],
       "_model_module": "jupyter-js-widgets",
       "_model_module_version": "~2.1.4",
       "_view_module": "jupyter-js-widgets",
       "_view_module_version": "~2.1.4",
       "layout": "IPY_MODEL_086b89fa05644d6693f6f9d5696d6e59",
       "msg_throttle": 1
      }
     },
     "d5e7f9147748420cbeb54fe25cc0c281": {
      "model_module": "jupyter-js-widgets",
      "model_module_version": "~2.1.4",
      "model_name": "SliderStyleModel",
      "state": {
       "_model_module_version": "~2.1.4",
       "_view_module_version": "~2.1.4"
      }
     },
     "d603ade2f4c542bfb3c621bc34daf5f3": {
      "model_module": "jupyter-js-widgets",
      "model_module_version": "~2.1.4",
      "model_name": "OutputModel",
      "state": {
       "_dom_classes": [],
       "_model_module": "jupyter-js-widgets",
       "_model_module_version": "~2.1.4",
       "_view_module": "jupyter-js-widgets",
       "_view_module_version": "~2.1.4",
       "layout": "IPY_MODEL_bf35c7f2f4a54feebf9a840365abd44d",
       "msg_throttle": 1
      }
     },
     "d635a609f4ba4636baa5a5b1144a9c5a": {
      "model_module": "jupyter-js-widgets",
      "model_module_version": "~2.1.4",
      "model_name": "VBoxModel",
      "state": {
       "_dom_classes": [
        "widget-interact"
       ],
       "_model_module_version": "~2.1.4",
       "_view_module_version": "~2.1.4",
       "children": [
        "IPY_MODEL_ce041cba3e224ee48c315c4e66b5dbf1",
        "IPY_MODEL_ef99d0250fb44b9cb557a0544bb77b14"
       ],
       "layout": "IPY_MODEL_14311ee7609245b4a7a6b4bf22a2bef1"
      }
     },
     "d69b44af99354b23bdbc81ab8a69c6e3": {
      "model_module": "jupyter-js-widgets",
      "model_module_version": "~2.1.4",
      "model_name": "IntSliderModel",
      "state": {
       "_model_module_version": "~2.1.4",
       "_view_module_version": "~2.1.4",
       "continuous_update": false,
       "description": "window size:",
       "layout": "IPY_MODEL_33d6d265f5764a29b48c28656193d9dd",
       "max": 1000,
       "min": 100,
       "step": 100,
       "style": "IPY_MODEL_885deb40df7b4a0391a0e7e19a4e5f08",
       "value": 500
      }
     },
     "d6d4c6135f014543adb376f9cf4b28b6": {
      "model_module": "jupyter-js-widgets",
      "model_module_version": "~2.1.4",
      "model_name": "SliderStyleModel",
      "state": {
       "_model_module_version": "~2.1.4",
       "_view_module_version": "~2.1.4"
      }
     },
     "d71616d1eda94714bec4ee7f076e9e7d": {
      "model_module": "jupyter-js-widgets",
      "model_module_version": "~2.1.4",
      "model_name": "OutputModel",
      "state": {
       "_dom_classes": [],
       "_model_module": "jupyter-js-widgets",
       "_model_module_version": "~2.1.4",
       "_view_module": "jupyter-js-widgets",
       "_view_module_version": "~2.1.4",
       "layout": "IPY_MODEL_31f92d5f5cb84db8b6d5e0bd12cfc7d1",
       "msg_throttle": 1
      }
     },
     "d72b27a8ce1b468e86e1dfda8b8c4bf1": {
      "model_module": "jupyter-js-widgets",
      "model_module_version": "~2.1.4",
      "model_name": "ButtonStyleModel",
      "state": {
       "_model_module_version": "~2.1.4",
       "_view_module_version": "~2.1.4"
      }
     },
     "d78042865bf34dd9858760b2d4f0ee7d": {
      "model_module": "jupyter-js-widgets",
      "model_module_version": "~2.1.4",
      "model_name": "LayoutModel",
      "state": {
       "_model_module_version": "~2.1.4",
       "_view_module_version": "~2.1.4"
      }
     },
     "d8a96af35e914239acd0f88e93d371b6": {
      "model_module": "jupyter-js-widgets",
      "model_module_version": "~2.1.4",
      "model_name": "RadioButtonsModel",
      "state": {
       "_model_module_version": "~2.1.4",
       "_options_labels": [
        "Multilayer Perceptron",
        "Naive Bayes"
       ],
       "_view_module_version": "~2.1.4",
       "description": "Classifier:",
       "layout": "IPY_MODEL_8e9e1ebcb99d4f6f80d1566b71ffc49b",
       "value": "Multilayer Perceptron"
      }
     },
     "d99c174613374c63860ab1f94885c990": {
      "model_module": "jupyter-js-widgets",
      "model_module_version": "~2.1.4",
      "model_name": "VBoxModel",
      "state": {
       "_dom_classes": [
        "widget-interact"
       ],
       "_model_module_version": "~2.1.4",
       "_view_module_version": "~2.1.4",
       "children": [
        "IPY_MODEL_b40d61beec5e4b02bf6a27917bf1c6f0",
        "IPY_MODEL_cb63da618aed46149e54ca62ce761400"
       ],
       "layout": "IPY_MODEL_c30a2004de90430f8a74726deed84fa7"
      }
     },
     "da3956bc15054d75a394342f0a00a79d": {
      "model_module": "jupyter-js-widgets",
      "model_module_version": "~2.1.4",
      "model_name": "IntSliderModel",
      "state": {
       "_model_module_version": "~2.1.4",
       "_view_module_version": "~2.1.4",
       "continuous_update": false,
       "description": "Hidden layer 1:",
       "layout": "IPY_MODEL_6b649f0b36504fe081500ae133ae5648",
       "min": 1,
       "style": "IPY_MODEL_3fe51e2036cc43e9a59f530518489bb0",
       "value": 20
      }
     },
     "da6abe57e9ea4ce5820c618c8ececfec": {
      "model_module": "jupyter-js-widgets",
      "model_module_version": "~2.1.4",
      "model_name": "OutputModel",
      "state": {
       "_dom_classes": [],
       "_model_module": "jupyter-js-widgets",
       "_model_module_version": "~2.1.4",
       "_view_module": "jupyter-js-widgets",
       "_view_module_version": "~2.1.4",
       "layout": "IPY_MODEL_b23ca795b3be4066993bb573672b2b7c",
       "msg_throttle": 1
      }
     },
     "db70744b02e046d685671b758cb88d79": {
      "model_module": "jupyter-js-widgets",
      "model_module_version": "~2.1.4",
      "model_name": "ProgressStyleModel",
      "state": {
       "_model_module_version": "~2.1.4",
       "_view_module_version": "~2.1.4"
      }
     },
     "db81ca66bdd74d8688226a26334b394c": {
      "model_module": "jupyter-js-widgets",
      "model_module_version": "~2.1.4",
      "model_name": "ProgressModel",
      "state": {
       "_model_module_version": "~2.1.4",
       "_view_module_version": "~2.1.4",
       "bar_style": "info",
       "description": "Predicting:",
       "layout": "IPY_MODEL_4ee4a8222dac4c0a9569bf043d0ff2f1",
       "max": 3500000,
       "style": "IPY_MODEL_db70744b02e046d685671b758cb88d79",
       "value": 3499999
      }
     },
     "dbf98da3781c457ca779d07d57036987": {
      "model_module": "jupyter-js-widgets",
      "model_module_version": "~2.1.4",
      "model_name": "LayoutModel",
      "state": {
       "_model_module_version": "~2.1.4",
       "_view_module_version": "~2.1.4",
       "width": "80%"
      }
     },
     "dc962b4de868417dadcde42163aaa66c": {
      "model_module": "jupyter-js-widgets",
      "model_module_version": "~2.1.4",
      "model_name": "OutputModel",
      "state": {
       "_dom_classes": [],
       "_model_module": "jupyter-js-widgets",
       "_model_module_version": "~2.1.4",
       "_view_module": "jupyter-js-widgets",
       "_view_module_version": "~2.1.4",
       "layout": "IPY_MODEL_af2454e349fc4841a16e8d667a62b6a5",
       "msg_throttle": 1
      }
     },
     "dc9f4932b1294b368c5de43e83008314": {
      "model_module": "jupyter-js-widgets",
      "model_module_version": "~2.1.4",
      "model_name": "LayoutModel",
      "state": {
       "_model_module_version": "~2.1.4",
       "_view_module_version": "~2.1.4"
      }
     },
     "dcd068fcba414532b437ae9697842479": {
      "model_module": "jupyter-js-widgets",
      "model_module_version": "~2.1.4",
      "model_name": "LayoutModel",
      "state": {
       "_model_module_version": "~2.1.4",
       "_view_module_version": "~2.1.4"
      }
     },
     "dd8c516a503a40bcaf8990af6b7a03a7": {
      "model_module": "jupyter-js-widgets",
      "model_module_version": "~2.1.4",
      "model_name": "ProgressStyleModel",
      "state": {
       "_model_module_version": "~2.1.4",
       "_view_module_version": "~2.1.4"
      }
     },
     "de2794bed6664d48bd6f723ed5c39b7d": {
      "model_module": "jupyter-js-widgets",
      "model_module_version": "~2.1.4",
      "model_name": "LayoutModel",
      "state": {
       "_model_module_version": "~2.1.4",
       "_view_module_version": "~2.1.4"
      }
     },
     "de499e33b0954370af95dc2526cc6fdc": {
      "model_module": "jupyter-js-widgets",
      "model_module_version": "~2.1.4",
      "model_name": "LayoutModel",
      "state": {
       "_model_module_version": "~2.1.4",
       "_view_module_version": "~2.1.4"
      }
     },
     "de6ee627c2e94aad9c8d326f8150d529": {
      "model_module": "jupyter-js-widgets",
      "model_module_version": "~2.1.4",
      "model_name": "OutputModel",
      "state": {
       "_dom_classes": [],
       "_model_module": "jupyter-js-widgets",
       "_model_module_version": "~2.1.4",
       "_view_module": "jupyter-js-widgets",
       "_view_module_version": "~2.1.4",
       "layout": "IPY_MODEL_69ecbf5fe29e4168bb79e880670375fa",
       "msg_throttle": 1
      }
     },
     "de8d337184184f4fa5258b8800007408": {
      "model_module": "jupyter-js-widgets",
      "model_module_version": "~2.1.4",
      "model_name": "ButtonModel",
      "state": {
       "_model_module_version": "~2.1.4",
       "_view_module_version": "~2.1.4",
       "button_style": "info",
       "description": "Start prediction",
       "layout": "IPY_MODEL_2396c9a8d356477a85910ae4ac0f7709",
       "style": "IPY_MODEL_e24af2ed99424179ba1ee913fed55438"
      }
     },
     "ded93d92b7ce485a8c5c479d4cfa7cf7": {
      "model_module": "jupyter-js-widgets",
      "model_module_version": "~2.1.4",
      "model_name": "OutputModel",
      "state": {
       "_dom_classes": [],
       "_model_module": "jupyter-js-widgets",
       "_model_module_version": "~2.1.4",
       "_view_module": "jupyter-js-widgets",
       "_view_module_version": "~2.1.4",
       "layout": "IPY_MODEL_74554f94e16e46be8dfee7870f542fe7",
       "msg_throttle": 1
      }
     },
     "df3aa756867b4e1597a0d110b73ffb80": {
      "model_module": "jupyter-js-widgets",
      "model_module_version": "~2.1.4",
      "model_name": "LayoutModel",
      "state": {
       "_model_module_version": "~2.1.4",
       "_view_module_version": "~2.1.4"
      }
     },
     "dfb48e7c7bed459ca04151f5f77bff6b": {
      "model_module": "jupyter-js-widgets",
      "model_module_version": "~2.1.4",
      "model_name": "IntSliderModel",
      "state": {
       "_model_module_version": "~2.1.4",
       "_view_module_version": "~2.1.4",
       "continuous_update": false,
       "description": "window size:",
       "layout": "IPY_MODEL_21274aa5f40248d48ccae4a98848ddd9",
       "max": 1000,
       "min": 100,
       "step": 100,
       "style": "IPY_MODEL_a82458e366c94a9383a8436adeee3320",
       "value": 500
      }
     },
     "dffe28795d3945e9a08f3798aa70f271": {
      "model_module": "jupyter-js-widgets",
      "model_module_version": "~2.1.4",
      "model_name": "VBoxModel",
      "state": {
       "_dom_classes": [
        "widget-interact"
       ],
       "_model_module_version": "~2.1.4",
       "_view_module_version": "~2.1.4",
       "children": [
        "IPY_MODEL_a43b8c8e3e494bc7b735447ca343b8a2",
        "IPY_MODEL_c58232a6c169466eaa795514fbf67ccf"
       ],
       "layout": "IPY_MODEL_dcd068fcba414532b437ae9697842479"
      }
     },
     "e0ab9af3d31b461395a149eeb9f41966": {
      "model_module": "jupyter-js-widgets",
      "model_module_version": "~2.1.4",
      "model_name": "SliderStyleModel",
      "state": {
       "_model_module_version": "~2.1.4",
       "_view_module_version": "~2.1.4"
      }
     },
     "e0bc317dd5124af7bc62fd83b90d78cb": {
      "model_module": "jupyter-js-widgets",
      "model_module_version": "~2.1.4",
      "model_name": "LayoutModel",
      "state": {
       "_model_module_version": "~2.1.4",
       "_view_module_version": "~2.1.4",
       "width": "80%"
      }
     },
     "e0e5e41d13f740d9808bdaa5410d319d": {
      "model_module": "jupyter-js-widgets",
      "model_module_version": "~2.1.4",
      "model_name": "LayoutModel",
      "state": {
       "_model_module_version": "~2.1.4",
       "_view_module_version": "~2.1.4"
      }
     },
     "e13d5a77475d46d2a490a1fcedff99de": {
      "model_module": "jupyter-js-widgets",
      "model_module_version": "~2.1.4",
      "model_name": "LayoutModel",
      "state": {
       "_model_module_version": "~2.1.4",
       "_view_module_version": "~2.1.4"
      }
     },
     "e15de92741e740668b0c2aabb81b070f": {
      "model_module": "jupyter-js-widgets",
      "model_module_version": "~2.1.4",
      "model_name": "ProgressModel",
      "state": {
       "_model_module_version": "~2.1.4",
       "_view_module_version": "~2.1.4",
       "bar_style": "danger",
       "description": "Training:",
       "layout": "IPY_MODEL_c6c6cb2a00fa4c94a22dd9aa0cb47a3b",
       "max": 7000,
       "style": "IPY_MODEL_1a09480a881b469b8791887af5307705",
       "value": 7000
      }
     },
     "e18e27c430b24b3996892b216c907d07": {
      "model_module": "jupyter-js-widgets",
      "model_module_version": "~2.1.4",
      "model_name": "LayoutModel",
      "state": {
       "_model_module_version": "~2.1.4",
       "_view_module_version": "~2.1.4"
      }
     },
     "e19f1b0f15144eba9b3f86637cfb5640": {
      "model_module": "jupyter-js-widgets",
      "model_module_version": "~2.1.4",
      "model_name": "VBoxModel",
      "state": {
       "_dom_classes": [
        "widget-interact"
       ],
       "_model_module_version": "~2.1.4",
       "_view_module_version": "~2.1.4",
       "children": [
        "IPY_MODEL_5bbfafdf60ab43babecb3ea1c5bf236f",
        "IPY_MODEL_a4eacedbd6a743918e6859cc2d803e8a"
       ],
       "layout": "IPY_MODEL_1bc4f166f0074e7e832797acf5a3cc82"
      }
     },
     "e1bef885dda44a1394f3ddba1e847753": {
      "model_module": "jupyter-js-widgets",
      "model_module_version": "~2.1.4",
      "model_name": "LayoutModel",
      "state": {
       "_model_module_version": "~2.1.4",
       "_view_module_version": "~2.1.4"
      }
     },
     "e24af2ed99424179ba1ee913fed55438": {
      "model_module": "jupyter-js-widgets",
      "model_module_version": "~2.1.4",
      "model_name": "ButtonStyleModel",
      "state": {
       "_model_module_version": "~2.1.4",
       "_view_module_version": "~2.1.4"
      }
     },
     "e4ad6bb145154c1eb710dbb3782ae37a": {
      "model_module": "jupyter-js-widgets",
      "model_module_version": "~2.1.4",
      "model_name": "SliderStyleModel",
      "state": {
       "_model_module_version": "~2.1.4",
       "_view_module_version": "~2.1.4"
      }
     },
     "e51bf762ea074391a816d0159f07c809": {
      "model_module": "jupyter-js-widgets",
      "model_module_version": "~2.1.4",
      "model_name": "LayoutModel",
      "state": {
       "_model_module_version": "~2.1.4",
       "_view_module_version": "~2.1.4"
      }
     },
     "e5da08955f16477eb91b7d4c3d791249": {
      "model_module": "jupyter-js-widgets",
      "model_module_version": "~2.1.4",
      "model_name": "LayoutModel",
      "state": {
       "_model_module_version": "~2.1.4",
       "_view_module_version": "~2.1.4",
       "width": "80%"
      }
     },
     "e5e7a7fa3da7445a90959f79b52136b7": {
      "model_module": "jupyter-js-widgets",
      "model_module_version": "~2.1.4",
      "model_name": "SliderStyleModel",
      "state": {
       "_model_module_version": "~2.1.4",
       "_view_module_version": "~2.1.4"
      }
     },
     "e62c52200b1d4936b444f80b42deaa7f": {
      "model_module": "jupyter-js-widgets",
      "model_module_version": "~2.1.4",
      "model_name": "LayoutModel",
      "state": {
       "_model_module_version": "~2.1.4",
       "_view_module_version": "~2.1.4",
       "width": "100%"
      }
     },
     "e640e9ce790c41339a94a3b6390ca9ff": {
      "model_module": "jupyter-js-widgets",
      "model_module_version": "~2.1.4",
      "model_name": "IntSliderModel",
      "state": {
       "_model_module_version": "~2.1.4",
       "_view_module_version": "~2.1.4",
       "continuous_update": false,
       "description": "max iterations:",
       "layout": "IPY_MODEL_983519bd008741d49884541bbc743d87",
       "max": 500,
       "min": 1,
       "style": "IPY_MODEL_088b92ee1f674264af970c783bb9fae1",
       "value": 30
      }
     },
     "e64f7e10f0e14a4c86239393a0f88015": {
      "model_module": "jupyter-js-widgets",
      "model_module_version": "~2.1.4",
      "model_name": "LayoutModel",
      "state": {
       "_model_module_version": "~2.1.4",
       "_view_module_version": "~2.1.4"
      }
     },
     "e66d5fbb881d4498b435a86e403b04a8": {
      "model_module": "jupyter-js-widgets",
      "model_module_version": "~2.1.4",
      "model_name": "IntSliderModel",
      "state": {
       "_model_module_version": "~2.1.4",
       "_view_module_version": "~2.1.4",
       "continuous_update": false,
       "description": "Hidden layer 0:",
       "layout": "IPY_MODEL_05b137fb3fc74a62b142b8a1ef268890",
       "min": 1,
       "style": "IPY_MODEL_d5e7f9147748420cbeb54fe25cc0c281",
       "value": 20
      }
     },
     "e6cf34fbeb194894aa3974c2f4646aa3": {
      "model_module": "jupyter-js-widgets",
      "model_module_version": "~2.1.4",
      "model_name": "VBoxModel",
      "state": {
       "_dom_classes": [
        "widget-interact"
       ],
       "_model_module_version": "~2.1.4",
       "_view_module_version": "~2.1.4",
       "children": [
        "IPY_MODEL_21ba6a7a78f94730a6d38dba4c6506d8",
        "IPY_MODEL_391c070bcd1e4d7a81500f9bc424aa7c"
       ],
       "layout": "IPY_MODEL_e1bef885dda44a1394f3ddba1e847753"
      }
     },
     "e70179737f1c493f916be2765bb94571": {
      "model_module": "jupyter-js-widgets",
      "model_module_version": "~2.1.4",
      "model_name": "LayoutModel",
      "state": {
       "_model_module_version": "~2.1.4",
       "_view_module_version": "~2.1.4"
      }
     },
     "e77f69e80ca7418e90877b23799148c0": {
      "model_module": "jupyter-js-widgets",
      "model_module_version": "~2.1.4",
      "model_name": "RadioButtonsModel",
      "state": {
       "_model_module_version": "~2.1.4",
       "_options_labels": [
        "Multilayer Perceptron",
        "Naive Bayes"
       ],
       "_view_module_version": "~2.1.4",
       "description": "Classifier:",
       "layout": "IPY_MODEL_67248c96f0f646e987f82f15839327a9",
       "value": "Multilayer Perceptron"
      }
     },
     "e815b24fb1d24904aaf42aa153133235": {
      "model_module": "jupyter-js-widgets",
      "model_module_version": "~2.1.4",
      "model_name": "LayoutModel",
      "state": {
       "_model_module_version": "~2.1.4",
       "_view_module_version": "~2.1.4",
       "width": "80%"
      }
     },
     "e8613f0f61a94cc49b0ea0eacbee4149": {
      "model_module": "jupyter-js-widgets",
      "model_module_version": "~2.1.4",
      "model_name": "LayoutModel",
      "state": {
       "_model_module_version": "~2.1.4",
       "_view_module_version": "~2.1.4"
      }
     },
     "e87c666dff93414b831d5c1c37a752a3": {
      "model_module": "jupyter-js-widgets",
      "model_module_version": "~2.1.4",
      "model_name": "ButtonStyleModel",
      "state": {
       "_model_module_version": "~2.1.4",
       "_view_module_version": "~2.1.4"
      }
     },
     "e8c75cd03bf342108deee0be9ffe47c4": {
      "model_module": "jupyter-js-widgets",
      "model_module_version": "~2.1.4",
      "model_name": "ButtonModel",
      "state": {
       "_model_module_version": "~2.1.4",
       "_view_module_version": "~2.1.4",
       "button_style": "danger",
       "description": "Start training",
       "layout": "IPY_MODEL_f332e10d71f34d0bb82d15599498b94a",
       "style": "IPY_MODEL_932274e2cb7a4b2db474f84f7e5d9747"
      }
     },
     "e9605b65ff7a4f3681cf654111a45250": {
      "model_module": "jupyter-js-widgets",
      "model_module_version": "~2.1.4",
      "model_name": "VBoxModel",
      "state": {
       "_dom_classes": [
        "widget-interact"
       ],
       "_model_module_version": "~2.1.4",
       "_view_module_version": "~2.1.4",
       "children": [
        "IPY_MODEL_79bf2852e63249b2b8b5fa994da17cbd",
        "IPY_MODEL_ac0b759e77c745858fbbce52a0ab9571"
       ],
       "layout": "IPY_MODEL_be417e2f5b97417384f959c1c6865b3d"
      }
     },
     "e98187c569764bad9d7a99465e4e6832": {
      "model_module": "jupyter-js-widgets",
      "model_module_version": "~2.1.4",
      "model_name": "ProgressModel",
      "state": {
       "_model_module_version": "~2.1.4",
       "_view_module_version": "~2.1.4",
       "bar_style": "danger",
       "description": "Training:",
       "layout": "IPY_MODEL_5cf269455b6f4d5e9e321b0e0861c745",
       "max": 700,
       "style": "IPY_MODEL_990595384d3047398df2c309a4bf261f",
       "value": 700
      }
     },
     "e9d31598bf9f4b689cfc1b6b48e2ef2c": {
      "model_module": "jupyter-js-widgets",
      "model_module_version": "~2.1.4",
      "model_name": "LayoutModel",
      "state": {
       "_model_module_version": "~2.1.4",
       "_view_module_version": "~2.1.4",
       "width": "80%"
      }
     },
     "ea79b260b47f4252809b4b673b2fe42f": {
      "model_module": "jupyter-js-widgets",
      "model_module_version": "~2.1.4",
      "model_name": "ButtonStyleModel",
      "state": {
       "_model_module_version": "~2.1.4",
       "_view_module_version": "~2.1.4"
      }
     },
     "eb57e120254d41278bfc33be6cae91a4": {
      "model_module": "jupyter-js-widgets",
      "model_module_version": "~2.1.4",
      "model_name": "LayoutModel",
      "state": {
       "_model_module_version": "~2.1.4",
       "_view_module_version": "~2.1.4",
       "border": "solid",
       "padding": "10px"
      }
     },
     "eb74bde4896e46818c4d5dc7332c7a56": {
      "model_module": "jupyter-js-widgets",
      "model_module_version": "~2.1.4",
      "model_name": "LayoutModel",
      "state": {
       "_model_module_version": "~2.1.4",
       "_view_module_version": "~2.1.4"
      }
     },
     "ebb0e2d018bc47fda520aabf06acd1b2": {
      "model_module": "jupyter-js-widgets",
      "model_module_version": "~2.1.4",
      "model_name": "IntSliderModel",
      "state": {
       "_model_module_version": "~2.1.4",
       "_view_module_version": "~2.1.4",
       "continuous_update": false,
       "description": "Hidden layer 1:",
       "layout": "IPY_MODEL_71f384f6e5d34827810a94d2cd2ed816",
       "min": 1,
       "style": "IPY_MODEL_71edff28b76b4c3f8fae2afb9c2e005a",
       "value": 20
      }
     },
     "ebc56113af9f441fab7ea6665d929044": {
      "model_module": "jupyter-js-widgets",
      "model_module_version": "~2.1.4",
      "model_name": "LayoutModel",
      "state": {
       "_model_module_version": "~2.1.4",
       "_view_module_version": "~2.1.4"
      }
     },
     "ec4d48a3261d469ab2ac1414b4dc6af3": {
      "model_module": "jupyter-js-widgets",
      "model_module_version": "~2.1.4",
      "model_name": "LayoutModel",
      "state": {
       "_model_module_version": "~2.1.4",
       "_view_module_version": "~2.1.4"
      }
     },
     "ecd01a31e7624e3f896b4fb51120136e": {
      "model_module": "jupyter-js-widgets",
      "model_module_version": "~2.1.4",
      "model_name": "SliderStyleModel",
      "state": {
       "_model_module_version": "~2.1.4",
       "_view_module_version": "~2.1.4"
      }
     },
     "ecf6b25cbdf7417a90f75cfd8fa65508": {
      "model_module": "jupyter-js-widgets",
      "model_module_version": "~2.1.4",
      "model_name": "IntSliderModel",
      "state": {
       "_model_module_version": "~2.1.4",
       "_view_module_version": "~2.1.4",
       "continuous_update": false,
       "description": "window reps:",
       "layout": "IPY_MODEL_f21b402631d1409db8fdb513027c7a82",
       "min": 1,
       "style": "IPY_MODEL_17c6e676c7ff4db5904c96c4b80fc295",
       "value": 10
      }
     },
     "ed2d96f231fd4251b935317df9391530": {
      "model_module": "jupyter-js-widgets",
      "model_module_version": "~2.1.4",
      "model_name": "LayoutModel",
      "state": {
       "_model_module_version": "~2.1.4",
       "_view_module_version": "~2.1.4"
      }
     },
     "ede8de041b81493598b9308a50dddf49": {
      "model_module": "jupyter-js-widgets",
      "model_module_version": "~2.1.4",
      "model_name": "LayoutModel",
      "state": {
       "_model_module_version": "~2.1.4",
       "_view_module_version": "~2.1.4"
      }
     },
     "ede96090d2a84cf5b163e1ceba61695f": {
      "model_module": "jupyter-js-widgets",
      "model_module_version": "~2.1.4",
      "model_name": "LayoutModel",
      "state": {
       "_model_module_version": "~2.1.4",
       "_view_module_version": "~2.1.4"
      }
     },
     "ee4baa0cb7b347b499cca986044df0c2": {
      "model_module": "jupyter-js-widgets",
      "model_module_version": "~2.1.4",
      "model_name": "LayoutModel",
      "state": {
       "_model_module_version": "~2.1.4",
       "_view_module_version": "~2.1.4"
      }
     },
     "ee7a8e75829343ec9d9311f4ad2a2737": {
      "model_module": "jupyter-js-widgets",
      "model_module_version": "~2.1.4",
      "model_name": "LayoutModel",
      "state": {
       "_model_module_version": "~2.1.4",
       "_view_module_version": "~2.1.4",
       "width": "80%"
      }
     },
     "ef3956cd47ba42ec84f3cbd9ce3399a8": {
      "model_module": "jupyter-js-widgets",
      "model_module_version": "~2.1.4",
      "model_name": "LayoutModel",
      "state": {
       "_model_module_version": "~2.1.4",
       "_view_module_version": "~2.1.4",
       "width": "80%"
      }
     },
     "ef4df7d24bea4ef99d3ef412df1bedd2": {
      "model_module": "jupyter-js-widgets",
      "model_module_version": "~2.1.4",
      "model_name": "LayoutModel",
      "state": {
       "_model_module_version": "~2.1.4",
       "_view_module_version": "~2.1.4",
       "width": "80%"
      }
     },
     "ef6c5622f50c4fdb94643523f209724d": {
      "model_module": "jupyter-js-widgets",
      "model_module_version": "~2.1.4",
      "model_name": "ButtonModel",
      "state": {
       "_model_module_version": "~2.1.4",
       "_view_module_version": "~2.1.4",
       "button_style": "info",
       "description": "Start prediction",
       "layout": "IPY_MODEL_f74f7d10c060445fbf038d58e810b91c",
       "style": "IPY_MODEL_ea79b260b47f4252809b4b673b2fe42f"
      }
     },
     "ef82a7dcce5540e5b6aaed39257ac39e": {
      "model_module": "jupyter-js-widgets",
      "model_module_version": "~2.1.4",
      "model_name": "LayoutModel",
      "state": {
       "_model_module_version": "~2.1.4",
       "_view_module_version": "~2.1.4"
      }
     },
     "ef9227527be64be1888fefb6636e584f": {
      "model_module": "jupyter-js-widgets",
      "model_module_version": "~2.1.4",
      "model_name": "VBoxModel",
      "state": {
       "_dom_classes": [
        "widget-interact"
       ],
       "_model_module_version": "~2.1.4",
       "_view_module_version": "~2.1.4",
       "children": [
        "IPY_MODEL_950705331ec94c738c150801108ba903",
        "IPY_MODEL_7a83d5bc57a34d40b8d70f9ebe45089d"
       ],
       "layout": "IPY_MODEL_b838a3d29b664af3ba75b0f924aa3f36"
      }
     },
     "ef99d0250fb44b9cb557a0544bb77b14": {
      "model_module": "jupyter-js-widgets",
      "model_module_version": "~2.1.4",
      "model_name": "OutputModel",
      "state": {
       "_dom_classes": [],
       "_model_module": "jupyter-js-widgets",
       "_model_module_version": "~2.1.4",
       "_view_module": "jupyter-js-widgets",
       "_view_module_version": "~2.1.4",
       "layout": "IPY_MODEL_f01d862a4e134bb2afda7ec028598c5a",
       "msg_throttle": 1
      }
     },
     "efb9cc2222fa49efb0c3d539e61b145b": {
      "model_module": "jupyter-js-widgets",
      "model_module_version": "~2.1.4",
      "model_name": "OutputModel",
      "state": {
       "_dom_classes": [],
       "_model_module": "jupyter-js-widgets",
       "_model_module_version": "~2.1.4",
       "_view_module": "jupyter-js-widgets",
       "_view_module_version": "~2.1.4",
       "layout": "IPY_MODEL_7e4e9da4cdd5446f863aeeb53be74b2c",
       "msg_throttle": 1
      }
     },
     "f01d862a4e134bb2afda7ec028598c5a": {
      "model_module": "jupyter-js-widgets",
      "model_module_version": "~2.1.4",
      "model_name": "LayoutModel",
      "state": {
       "_model_module_version": "~2.1.4",
       "_view_module_version": "~2.1.4"
      }
     },
     "f096fe880a5047989832e2e30d6d0ba6": {
      "model_module": "jupyter-js-widgets",
      "model_module_version": "~2.1.4",
      "model_name": "SliderStyleModel",
      "state": {
       "_model_module_version": "~2.1.4",
       "_view_module_version": "~2.1.4"
      }
     },
     "f14d0a23210342c384815a626bd6af05": {
      "model_module": "jupyter-js-widgets",
      "model_module_version": "~2.1.4",
      "model_name": "IntSliderModel",
      "state": {
       "_model_module_version": "~2.1.4",
       "_view_module_version": "~2.1.4",
       "continuous_update": false,
       "description": "Hidden layer 0:",
       "layout": "IPY_MODEL_d1d6731ec245485683633cd9a92b2e94",
       "min": 1,
       "style": "IPY_MODEL_58d1ae4ba7f143289e2afa26382a1b62",
       "value": 20
      }
     },
     "f1609cd2b3bb41cb85f114443977db66": {
      "model_module": "jupyter-js-widgets",
      "model_module_version": "~2.1.4",
      "model_name": "LayoutModel",
      "state": {
       "_model_module_version": "~2.1.4",
       "_view_module_version": "~2.1.4"
      }
     },
     "f16e673873e74459a10729f35efb6f4b": {
      "model_module": "jupyter-js-widgets",
      "model_module_version": "~2.1.4",
      "model_name": "SliderStyleModel",
      "state": {
       "_model_module_version": "~2.1.4",
       "_view_module_version": "~2.1.4"
      }
     },
     "f1ee2deb37924209aa392b468221d586": {
      "model_module": "jupyter-js-widgets",
      "model_module_version": "~2.1.4",
      "model_name": "VBoxModel",
      "state": {
       "_dom_classes": [
        "widget-interact"
       ],
       "_model_module_version": "~2.1.4",
       "_view_module_version": "~2.1.4",
       "children": [
        "IPY_MODEL_03d90aa4d785494e93492578883247c9",
        "IPY_MODEL_57c59a505c7d488e8199fbc6901f2118"
       ],
       "layout": "IPY_MODEL_5bbed61f54ed40a191c0aaf740e779c7"
      }
     },
     "f21b402631d1409db8fdb513027c7a82": {
      "model_module": "jupyter-js-widgets",
      "model_module_version": "~2.1.4",
      "model_name": "LayoutModel",
      "state": {
       "_model_module_version": "~2.1.4",
       "_view_module_version": "~2.1.4",
       "width": "80%"
      }
     },
     "f26878f28e794fba8ad18aca334ec727": {
      "model_module": "jupyter-js-widgets",
      "model_module_version": "~2.1.4",
      "model_name": "SliderStyleModel",
      "state": {
       "_model_module_version": "~2.1.4",
       "_view_module_version": "~2.1.4"
      }
     },
     "f2c4e88fb2284ee398c9b51218a0d3e1": {
      "model_module": "jupyter-js-widgets",
      "model_module_version": "~2.1.4",
      "model_name": "LabelModel",
      "state": {
       "_model_module_version": "~2.1.4",
       "_view_module_version": "~2.1.4",
       "layout": "IPY_MODEL_d1cec1104cfe4e59a205bcab5bb333a6",
       "value": "Hidden layer sizes:"
      }
     },
     "f2e4ceea468b45c4855b2ad45918a74d": {
      "model_module": "jupyter-js-widgets",
      "model_module_version": "~2.1.4",
      "model_name": "ButtonModel",
      "state": {
       "_model_module_version": "~2.1.4",
       "_view_module_version": "~2.1.4",
       "button_style": "danger",
       "description": "Start training",
       "layout": "IPY_MODEL_513d88b151c8497f85cbab0a9e6eafe4",
       "style": "IPY_MODEL_3a90bcebcdbd485e9babb043ec752802"
      }
     },
     "f332e10d71f34d0bb82d15599498b94a": {
      "model_module": "jupyter-js-widgets",
      "model_module_version": "~2.1.4",
      "model_name": "LayoutModel",
      "state": {
       "_model_module_version": "~2.1.4",
       "_view_module_version": "~2.1.4"
      }
     },
     "f423c24e7e554530abc8ca8469b3299e": {
      "model_module": "jupyter-js-widgets",
      "model_module_version": "~2.1.4",
      "model_name": "SliderStyleModel",
      "state": {
       "_model_module_version": "~2.1.4",
       "_view_module_version": "~2.1.4"
      }
     },
     "f5151a5d739c48a0a57fe9ae0222f28c": {
      "model_module": "jupyter-js-widgets",
      "model_module_version": "~2.1.4",
      "model_name": "LayoutModel",
      "state": {
       "_model_module_version": "~2.1.4",
       "_view_module_version": "~2.1.4"
      }
     },
     "f53596a07a33419bbfcc6db35b3ed359": {
      "model_module": "jupyter-js-widgets",
      "model_module_version": "~2.1.4",
      "model_name": "ButtonModel",
      "state": {
       "_model_module_version": "~2.1.4",
       "_view_module_version": "~2.1.4",
       "button_style": "info",
       "description": "Start prediction",
       "layout": "IPY_MODEL_bebb388ffb594b6390e14069b44e7153",
       "style": "IPY_MODEL_4e7887c0e9ee4e35b2222c75f3478169"
      }
     },
     "f56d867682184b159b4ffa8956327233": {
      "model_module": "jupyter-js-widgets",
      "model_module_version": "~2.1.4",
      "model_name": "SliderStyleModel",
      "state": {
       "_model_module_version": "~2.1.4",
       "_view_module_version": "~2.1.4"
      }
     },
     "f5c20237ea214d39be6d5683a80abfd6": {
      "model_module": "jupyter-js-widgets",
      "model_module_version": "~2.1.4",
      "model_name": "SliderStyleModel",
      "state": {
       "_model_module_version": "~2.1.4",
       "_view_module_version": "~2.1.4"
      }
     },
     "f5e6d6a0c3b14ab683af0c7fb128743e": {
      "model_module": "jupyter-js-widgets",
      "model_module_version": "~2.1.4",
      "model_name": "ButtonStyleModel",
      "state": {
       "_model_module_version": "~2.1.4",
       "_view_module_version": "~2.1.4"
      }
     },
     "f67727f5475a4aedb36912a8117d0f66": {
      "model_module": "jupyter-js-widgets",
      "model_module_version": "~2.1.4",
      "model_name": "VBoxModel",
      "state": {
       "_dom_classes": [
        "widget-interact"
       ],
       "_model_module_version": "~2.1.4",
       "_view_module_version": "~2.1.4",
       "children": [
        "IPY_MODEL_c1b097e463c84c08a4981e8d90c0660e",
        "IPY_MODEL_a99b1696345d4f1680b0e0c1190942c5"
       ],
       "layout": "IPY_MODEL_a25aabb5924b40df9838171197d6d2b7"
      }
     },
     "f72b5a047441449e85eb81148dddd55a": {
      "model_module": "jupyter-js-widgets",
      "model_module_version": "~2.1.4",
      "model_name": "VBoxModel",
      "state": {
       "_dom_classes": [
        "widget-interact"
       ],
       "_model_module_version": "~2.1.4",
       "_view_module_version": "~2.1.4",
       "children": [
        "IPY_MODEL_03f55d7d58c7452799979c5dc59c9e02",
        "IPY_MODEL_a0e86e3c70bd4f16bcbc54d5dea001fc"
       ],
       "layout": "IPY_MODEL_9c4e453e36a849c68f6334f2144917fb"
      }
     },
     "f74f7d10c060445fbf038d58e810b91c": {
      "model_module": "jupyter-js-widgets",
      "model_module_version": "~2.1.4",
      "model_name": "LayoutModel",
      "state": {
       "_model_module_version": "~2.1.4",
       "_view_module_version": "~2.1.4"
      }
     },
     "f776d47148f3429184ef3e6866afe4ee": {
      "model_module": "jupyter-js-widgets",
      "model_module_version": "~2.1.4",
      "model_name": "LayoutModel",
      "state": {
       "_model_module_version": "~2.1.4",
       "_view_module_version": "~2.1.4"
      }
     },
     "f78a394750f24f0c8c27cfab8b9135ec": {
      "model_module": "jupyter-js-widgets",
      "model_module_version": "~2.1.4",
      "model_name": "LayoutModel",
      "state": {
       "_model_module_version": "~2.1.4",
       "_view_module_version": "~2.1.4"
      }
     },
     "f809bbd98fa644d691c90eed6d55dee3": {
      "model_module": "jupyter-js-widgets",
      "model_module_version": "~2.1.4",
      "model_name": "LayoutModel",
      "state": {
       "_model_module_version": "~2.1.4",
       "_view_module_version": "~2.1.4"
      }
     },
     "f854be2b8a864a33a320b03da5a3d3a1": {
      "model_module": "jupyter-js-widgets",
      "model_module_version": "~2.1.4",
      "model_name": "VBoxModel",
      "state": {
       "_model_module_version": "~2.1.4",
       "_view_module_version": "~2.1.4",
       "children": [
        "IPY_MODEL_99dfc32dbee1445a8c3b5e8e1fe85486",
        "IPY_MODEL_ae92918cb7524622a6f428303c763871",
        "IPY_MODEL_9a27b63614524bbaaad819b6f59680aa"
       ],
       "layout": "IPY_MODEL_3118e3e9ff584f32852ceb00cb13e628"
      }
     },
     "f862ca91814545bda82d625a1f183408": {
      "model_module": "jupyter-js-widgets",
      "model_module_version": "~2.1.4",
      "model_name": "OutputModel",
      "state": {
       "_dom_classes": [],
       "_model_module": "jupyter-js-widgets",
       "_model_module_version": "~2.1.4",
       "_view_module": "jupyter-js-widgets",
       "_view_module_version": "~2.1.4",
       "layout": "IPY_MODEL_9781313fd76940ae84bdc6be7144b91d",
       "msg_throttle": 1
      }
     },
     "f8cf4f0348404080a847ea68452c5703": {
      "model_module": "jupyter-js-widgets",
      "model_module_version": "~2.1.4",
      "model_name": "OutputModel",
      "state": {
       "_dom_classes": [],
       "_model_module": "jupyter-js-widgets",
       "_model_module_version": "~2.1.4",
       "_view_module": "jupyter-js-widgets",
       "_view_module_version": "~2.1.4",
       "layout": "IPY_MODEL_77f36c8ce5504daeaada415f24a11104",
       "msg_throttle": 1
      }
     },
     "f92232c32c3d40b2b2ec8f8b463072c6": {
      "model_module": "jupyter-js-widgets",
      "model_module_version": "~2.1.4",
      "model_name": "LayoutModel",
      "state": {
       "_model_module_version": "~2.1.4",
       "_view_module_version": "~2.1.4"
      }
     },
     "f928c556adf546b4b05018b7a441405b": {
      "model_module": "jupyter-js-widgets",
      "model_module_version": "~2.1.4",
      "model_name": "LayoutModel",
      "state": {
       "_model_module_version": "~2.1.4",
       "_view_module_version": "~2.1.4"
      }
     },
     "f9b3667b73194f6db826fac61de064ab": {
      "model_module": "jupyter-js-widgets",
      "model_module_version": "~2.1.4",
      "model_name": "LayoutModel",
      "state": {
       "_model_module_version": "~2.1.4",
       "_view_module_version": "~2.1.4"
      }
     },
     "fa125ada76e1439dba2c3dba7f74277d": {
      "model_module": "jupyter-js-widgets",
      "model_module_version": "~2.1.4",
      "model_name": "LayoutModel",
      "state": {
       "_model_module_version": "~2.1.4",
       "_view_module_version": "~2.1.4"
      }
     },
     "fb8602e3900843a8ba2ad1a5a44c8eea": {
      "model_module": "jupyter-js-widgets",
      "model_module_version": "~2.1.4",
      "model_name": "LayoutModel",
      "state": {
       "_model_module_version": "~2.1.4",
       "_view_module_version": "~2.1.4"
      }
     },
     "fba44813af104b57a6329dc6ce796f9f": {
      "model_module": "jupyter-js-widgets",
      "model_module_version": "~2.1.4",
      "model_name": "IntSliderModel",
      "state": {
       "_model_module_version": "~2.1.4",
       "_view_module_version": "~2.1.4",
       "continuous_update": false,
       "description": "Hidden layer 1:",
       "layout": "IPY_MODEL_e815b24fb1d24904aaf42aa153133235",
       "min": 1,
       "style": "IPY_MODEL_49b8d1ae768548d3842a22987e9d1014",
       "value": 20
      }
     },
     "fbafd489d616413a917d6493a0b78c6b": {
      "model_module": "jupyter-js-widgets",
      "model_module_version": "~2.1.4",
      "model_name": "LayoutModel",
      "state": {
       "_model_module_version": "~2.1.4",
       "_view_module_version": "~2.1.4",
       "width": "80%"
      }
     },
     "fcc2b7dc147d4f4ba5e34ab2de3b5fc5": {
      "model_module": "jupyter-js-widgets",
      "model_module_version": "~2.1.4",
      "model_name": "ProgressModel",
      "state": {
       "_model_module_version": "~2.1.4",
       "_view_module_version": "~2.1.4",
       "description": "Training:",
       "layout": "IPY_MODEL_5c298f3ce95c485fa5b874cb83d2a080",
       "max": 700,
       "style": "IPY_MODEL_1525a22ab7fe448f900fbc3fde9d51e1",
       "value": 700
      }
     },
     "fd153026888746af9f1ae2830cefedef": {
      "model_module": "jupyter-js-widgets",
      "model_module_version": "~2.1.4",
      "model_name": "VBoxModel",
      "state": {
       "_dom_classes": [
        "widget-interact"
       ],
       "_model_module_version": "~2.1.4",
       "_view_module_version": "~2.1.4",
       "children": [
        "IPY_MODEL_68409df052a845769b70c51d2f1afd8a",
        "IPY_MODEL_d603ade2f4c542bfb3c621bc34daf5f3"
       ],
       "layout": "IPY_MODEL_13b864ee9a974a5dbb5c6edcaf665226"
      }
     },
     "fd72ec2ebd554e6781d9f680ead030f4": {
      "model_module": "jupyter-js-widgets",
      "model_module_version": "~2.1.4",
      "model_name": "LayoutModel",
      "state": {
       "_model_module_version": "~2.1.4",
       "_view_module_version": "~2.1.4"
      }
     },
     "fe11a8f67f384d4caa2378b619d32964": {
      "model_module": "jupyter-js-widgets",
      "model_module_version": "~2.1.4",
      "model_name": "LayoutModel",
      "state": {
       "_model_module_version": "~2.1.4",
       "_view_module_version": "~2.1.4",
       "border": "solid",
       "padding": "10px"
      }
     },
     "fe3489c2d00849f18a05554d11d7495e": {
      "model_module": "jupyter-js-widgets",
      "model_module_version": "~2.1.4",
      "model_name": "OutputModel",
      "state": {
       "_dom_classes": [],
       "_model_module": "jupyter-js-widgets",
       "_model_module_version": "~2.1.4",
       "_view_module": "jupyter-js-widgets",
       "_view_module_version": "~2.1.4",
       "layout": "IPY_MODEL_5263009231fd493fb048f1448fdc7275",
       "msg_throttle": 1
      }
     },
     "fea595c78dc14bc596d20b3c82f530b5": {
      "model_module": "jupyter-js-widgets",
      "model_module_version": "~2.1.4",
      "model_name": "LayoutModel",
      "state": {
       "_model_module_version": "~2.1.4",
       "_view_module_version": "~2.1.4"
      }
     },
     "ff9811215257499ab0b5b1452efff65b": {
      "model_module": "jupyter-js-widgets",
      "model_module_version": "~2.1.4",
      "model_name": "VBoxModel",
      "state": {
       "_dom_classes": [
        "widget-interact"
       ],
       "_model_module_version": "~2.1.4",
       "_view_module_version": "~2.1.4",
       "children": [
        "IPY_MODEL_0ae6ba007b68452aa8698f4a00ac7ef9",
        "IPY_MODEL_09fc4849b99540229da6d718e99c7923"
       ],
       "layout": "IPY_MODEL_4249537207a74cc1b064c0270223e163"
      }
     },
     "ffba0f2cbc4144d0a05132c4c2ae7646": {
      "model_module": "jupyter-js-widgets",
      "model_module_version": "~2.1.4",
      "model_name": "LayoutModel",
      "state": {
       "_model_module_version": "~2.1.4",
       "_view_module_version": "~2.1.4"
      }
     },
     "ffceb9a6a1bc46cb8e5d13eb65279804": {
      "model_module": "jupyter-js-widgets",
      "model_module_version": "~2.1.4",
      "model_name": "VBoxModel",
      "state": {
       "_dom_classes": [
        "widget-interact"
       ],
       "_model_module_version": "~2.1.4",
       "_view_module_version": "~2.1.4",
       "children": [
        "IPY_MODEL_07a67f13803044919fc28129c09bd96c",
        "IPY_MODEL_dc962b4de868417dadcde42163aaa66c"
       ],
       "layout": "IPY_MODEL_f92232c32c3d40b2b2ec8f8b463072c6"
      }
     }
    },
    "version_major": 1,
    "version_minor": 0
   }
  }
 },
 "nbformat": 4,
 "nbformat_minor": 2
}
