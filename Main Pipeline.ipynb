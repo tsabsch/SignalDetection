{
 "cells": [
  {
   "cell_type": "markdown",
   "metadata": {},
   "source": [
    "# Project Pipeline\n",
    "Execute the cells step by step to obtain a prediction and score for your configuration.\n",
    "In order to make the widgets work you might need to execute \n",
    "```\n",
    "jupyter nbextension enable --py --sys-prefix widgetsnbextension\n",
    "```\n",
    "on your system.\n",
    "\n",
    "## 1. Imports"
   ]
  },
  {
   "cell_type": "code",
   "execution_count": 10,
   "metadata": {
    "collapsed": true
   },
   "outputs": [],
   "source": [
    "import importlib\n",
    "import data_utils\n",
    "import widget_ui as ui\n",
    "\n",
    "# Load potential changes in the modules during development\n",
    "data_utils = importlib.reload(data_utils)\n",
    "ui = importlib.reload(ui)"
   ]
  },
  {
   "cell_type": "markdown",
   "metadata": {},
   "source": [
    "## 2. Load Data Sets\n",
    "Load training and test data. Furthermore, create a sample set for quickly calculating transformations such as PCA."
   ]
  },
  {
   "cell_type": "code",
   "execution_count": 11,
   "metadata": {
    "collapsed": true
   },
   "outputs": [],
   "source": [
    "data = data_utils.load_from('data/all_train.csv', 'data/all_test.csv')\n",
    "sample_data = data_utils.load_sample_data('data/all_sample.csv')"
   ]
  },
  {
   "cell_type": "markdown",
   "metadata": {},
   "source": [
    "## 3. Preprocessing"
   ]
  },
  {
   "cell_type": "code",
   "execution_count": 12,
   "metadata": {
    "collapsed": true
   },
   "outputs": [],
   "source": [
    "preprocessors = {}"
   ]
  },
  {
   "cell_type": "markdown",
   "metadata": {},
   "source": [
    "### 3.1 Remove Correlations\n",
    "Choose between two methods to remove correlations: Pearson correlation coefficient or PCA.\n",
    "\n",
    "__Pearson correlation coefficient:__ Find correlated pairs of features and remove one feature of these two, respectively. All pairs with a Pearson correlation coefficient above the selected threshold are considered correlated.\n",
    "\n",
    "__PCA:__ Apply a principal component analysis. The number of principal components can be choosen."
   ]
  },
  {
   "cell_type": "code",
   "execution_count": 13,
   "metadata": {},
   "outputs": [
    {
     "data": {
      "application/vnd.jupyter.widget-view+json": {
       "model_id": "ca24d3cebb474026b089601daf0a6cea"
      }
     },
     "metadata": {},
     "output_type": "display_data"
    },
    {
     "data": {
      "application/vnd.jupyter.widget-view+json": {
       "model_id": "8f10a9ccb31743308e4b1ffcd7544920"
      }
     },
     "metadata": {},
     "output_type": "display_data"
    },
    {
     "data": {
      "application/vnd.jupyter.widget-view+json": {
       "model_id": "6037203ff3324443917900ddd6b7c2ba"
      }
     },
     "metadata": {},
     "output_type": "display_data"
    }
   ],
   "source": [
    "ui.preprocessors_ui(preprocessors, sample_data)"
   ]
  },
  {
   "cell_type": "markdown",
   "metadata": {},
   "source": [
    "## 4. Configure Classifiers\n",
    "- TODO: Describe online and offline variants"
   ]
  },
  {
   "cell_type": "code",
   "execution_count": 14,
   "metadata": {
    "collapsed": true
   },
   "outputs": [],
   "source": [
    "classifiers = {}"
   ]
  },
  {
   "cell_type": "markdown",
   "metadata": {},
   "source": [
    "### 4.1 Multilayer Perceptron\n",
    "Based on the [Scikit-learn MLP module](http://scikit-learn.org/stable/modules/generated/sklearn.neural_network.MLPClassifier.html)."
   ]
  },
  {
   "cell_type": "code",
   "execution_count": 15,
   "metadata": {},
   "outputs": [
    {
     "data": {
      "application/vnd.jupyter.widget-view+json": {
       "model_id": "86a45ffeae2b4cb897fb3c2e50a54ad2"
      }
     },
     "metadata": {},
     "output_type": "display_data"
    },
    {
     "data": {
      "application/vnd.jupyter.widget-view+json": {
       "model_id": "4edccabba07b48be925e98179df78676"
      }
     },
     "metadata": {},
     "output_type": "display_data"
    }
   ],
   "source": [
    "ui.mlp_ui(classifiers)"
   ]
  },
  {
   "cell_type": "markdown",
   "metadata": {},
   "source": [
    "### 4.2 Naive Bayes\n",
    "Based on the [Scikit-learn Naive Bayes module](http://scikit-learn.org/stable/modules/generated/sklearn.naive_bayes.GaussianNB.html)."
   ]
  },
  {
   "cell_type": "code",
   "execution_count": 16,
   "metadata": {
    "collapsed": true
   },
   "outputs": [],
   "source": [
    "ui.nb_ui(classifiers)"
   ]
  },
  {
   "cell_type": "markdown",
   "metadata": {},
   "source": [
    "## 5. Training"
   ]
  },
  {
   "cell_type": "code",
   "execution_count": 17,
   "metadata": {},
   "outputs": [
    {
     "data": {
      "application/vnd.jupyter.widget-view+json": {
       "model_id": "86d3e449935947eba594756b3dffdab7"
      }
     },
     "metadata": {},
     "output_type": "display_data"
    },
    {
     "data": {
      "application/vnd.jupyter.widget-view+json": {
       "model_id": "2a2a6f94e60a4577ae4a36027e2515d8"
      }
     },
     "metadata": {},
     "output_type": "display_data"
    },
    {
     "data": {
      "application/vnd.jupyter.widget-view+json": {
       "model_id": "1192dce7672f449ea5c0fc8be48b8819"
      }
     },
     "metadata": {},
     "output_type": "display_data"
    },
    {
     "data": {
      "application/vnd.jupyter.widget-view+json": {
       "model_id": "7e3109ba595640858b25fc63b1686b52"
      }
     },
     "metadata": {},
     "output_type": "display_data"
    }
   ],
   "source": [
    "ui.training_ui(data, sample_data, preprocessors, classifiers)"
   ]
  },
  {
   "cell_type": "markdown",
   "metadata": {},
   "source": [
    "## 6. Prediction"
   ]
  },
  {
   "cell_type": "code",
   "execution_count": 18,
   "metadata": {},
   "outputs": [
    {
     "data": {
      "application/vnd.jupyter.widget-view+json": {
       "model_id": "7f44862b118344fb9f7b3db8924714b2"
      }
     },
     "metadata": {},
     "output_type": "display_data"
    },
    {
     "data": {
      "application/vnd.jupyter.widget-view+json": {
       "model_id": "5c228593604e41ca889fdd074f6b41e3"
      }
     },
     "metadata": {},
     "output_type": "display_data"
    },
    {
     "data": {
      "application/vnd.jupyter.widget-view+json": {
       "model_id": "3acc3950ee2d454fb2cf19cf244a966b"
      }
     },
     "metadata": {},
     "output_type": "display_data"
    },
    {
     "data": {
      "application/vnd.jupyter.widget-view+json": {
       "model_id": "f2b53cf1b7934b14b79f30cc3be76e66"
      }
     },
     "metadata": {},
     "output_type": "display_data"
    },
    {
     "data": {
      "application/vnd.jupyter.widget-view+json": {
       "model_id": "a190774e17594827b3227335c6f8fb91"
      }
     },
     "metadata": {},
     "output_type": "display_data"
    }
   ],
   "source": [
    "ui.prediction_ui(data, sample_data, preprocessors, classifiers)"
   ]
  },
  {
   "cell_type": "markdown",
   "metadata": {
    "collapsed": true
   },
   "source": [
    "## 7. Results\n",
    "- TODO: Interpretation - why did what work well?\n",
    "- TODO: Comparison of different algorithms\n",
    "\n",
    "<style type=\"text/css\">\n",
    ".tg  {border-collapse:collapse;border-spacing:0;border-color:#aabcfe;}\n",
    ".tg td{font-family:Arial, sans-serif;font-size:14px;padding:10px 5px;border-style:solid;border-width:1px;overflow:hidden;word-break:normal;border-color:#aabcfe;color:#669;background-color:#e8edff;}\n",
    ".tg th{font-family:Arial, sans-serif;font-size:14px;font-weight:normal;padding:10px 5px;border-style:solid;border-width:1px;overflow:hidden;word-break:normal;border-color:#aabcfe;color:#039;background-color:#b9c9fe;}\n",
    ".tg .tg-1d7g{font-weight:bold;font-size:16px;vertical-align:top}\n",
    ".tg .tg-qv16{font-weight:bold;font-size:16px;text-align:center;vertical-align:top}\n",
    ".tg .tg-qgsu{font-size:15px;vertical-align:top}\n",
    ".tg .tg-yw4l{vertical-align:top}\n",
    ".tg .tg-6k2t{background-color:#D2E4FC;vertical-align:top}\n",
    ".tg .tg-2nw2{background-color:#D2E4FC;font-size:15px;vertical-align:top}\n",
    "</style>\n",
    "<table class=\"tg\">\n",
    "  <tr>\n",
    "    <th class=\"tg-yw4l\"></th>\n",
    "    <th class=\"tg-yw4l\"></th>\n",
    "    <th class=\"tg-1d7g\">Naive Bayes<br></th>\n",
    "    <th class=\"tg-qv16\" colspan=\"4\">Multilayer Perceptron<br></th>\n",
    "  </tr>\n",
    "  <tr>\n",
    "    <td class=\"tg-yw4l\"></td>\n",
    "    <td class=\"tg-6k2t\"></td>\n",
    "    <td class=\"tg-qgsu\"></td>\n",
    "    <td class=\"tg-2nw2\">20, 20<br></td>\n",
    "    <td class=\"tg-qgsu\">40, 20<br></td>\n",
    "    <td class=\"tg-2nw2\">20, 20, 20, 20<br></td>\n",
    "    <td class=\"tg-qgsu\">20^10<br></td>\n",
    "  </tr>\n",
    "  <tr>\n",
    "    <td class=\"tg-1d7g\">None<br></td>\n",
    "    <td class=\"tg-2nw2\"></td>\n",
    "    <td class=\"tg-yw4l\">0.7956</td>\n",
    "    <td class=\"tg-6k2t\">0.8447</td>\n",
    "    <td class=\"tg-yw4l\">0.8427</td>\n",
    "    <td class=\"tg-6k2t\">0.84</td>\n",
    "    <td class=\"tg-yw4l\">0.846</td>\n",
    "  </tr>\n",
    "  <tr>\n",
    "    <td class=\"tg-1d7g\" rowspan=\"3\">PCA</td>\n",
    "    <td class=\"tg-2nw2\">3</td>\n",
    "    <td class=\"tg-yw4l\">0.8002</td>\n",
    "    <td class=\"tg-6k2t\">0.7979</td>\n",
    "    <td class=\"tg-yw4l\">0.7955</td>\n",
    "    <td class=\"tg-6k2t\">0.8</td>\n",
    "    <td class=\"tg-yw4l\">0.8003</td>\n",
    "  </tr>\n",
    "  <tr>\n",
    "    <td class=\"tg-2nw2\">6</td>\n",
    "    <td class=\"tg-yw4l\">0.7986</td>\n",
    "    <td class=\"tg-6k2t\">0.8064</td>\n",
    "    <td class=\"tg-yw4l\">0.8025</td>\n",
    "    <td class=\"tg-6k2t\">0.82</td>\n",
    "    <td class=\"tg-yw4l\">0.812</td>\n",
    "  </tr>\n",
    "  <tr>\n",
    "    <td class=\"tg-2nw2\">15</td>\n",
    "    <td class=\"tg-yw4l\">0.8047</td>\n",
    "    <td class=\"tg-6k2t\">0.8319</td>\n",
    "    <td class=\"tg-yw4l\">0.8305</td>\n",
    "    <td class=\"tg-6k2t\">0.83</td>\n",
    "    <td class=\"tg-yw4l\">0.8257</td>\n",
    "  </tr>\n",
    "  <tr>\n",
    "    <td class=\"tg-1d7g\" rowspan=\"3\">Pearson</td>\n",
    "    <td class=\"tg-2nw2\">0.6 (4 features removed)<br></td>\n",
    "    <td class=\"tg-yw4l\">0.7622</td>\n",
    "    <td class=\"tg-6k2t\">0.8044</td>\n",
    "    <td class=\"tg-yw4l\">0.825</td>\n",
    "    <td class=\"tg-6k2t\">0.8</td>\n",
    "    <td class=\"tg-yw4l\">0.8073</td>\n",
    "  </tr>\n",
    "  <tr>\n",
    "    <td class=\"tg-2nw2\">0.4 (9 features removed)<br></td>\n",
    "    <td class=\"tg-yw4l\">0.7514</td>\n",
    "    <td class=\"tg-6k2t\">0.7971</td>\n",
    "    <td class=\"tg-yw4l\">0.7806</td>\n",
    "    <td class=\"tg-6k2t\">0.7976</td>\n",
    "    <td class=\"tg-yw4l\">0.8082</td>\n",
    "  </tr>\n",
    "  <tr>\n",
    "    <td class=\"tg-2nw2\">0.2 (16 features removed)<br></td>\n",
    "    <td class=\"tg-yw4l\">0.5273</td>\n",
    "    <td class=\"tg-6k2t\">0.5456</td>\n",
    "    <td class=\"tg-yw4l\">0.5255</td>\n",
    "    <td class=\"tg-6k2t\">0.5603</td>\n",
    "    <td class=\"tg-yw4l\">0.5693</td>\n",
    "  </tr>\n",
    "</table>"
   ]
  },
  {
   "cell_type": "markdown",
   "metadata": {},
   "source": [
    "## 8. Outlook\n",
    "- TODO: Potential improvements on the concept"
   ]
  },
  {
   "cell_type": "code",
   "execution_count": null,
   "metadata": {
    "collapsed": true
   },
   "outputs": [],
   "source": []
  }
 ],
 "metadata": {
  "kernelspec": {
   "display_name": "Python 3",
   "language": "python",
   "name": "python3"
  },
  "language_info": {
   "codemirror_mode": {
    "name": "ipython",
    "version": 3
   },
   "file_extension": ".py",
   "mimetype": "text/x-python",
   "name": "python",
   "nbconvert_exporter": "python",
   "pygments_lexer": "ipython3",
   "version": "3.5.2"
  },
  "widgets": {
   "state": {
    "035a5e9da7c24526b90505acae1f8a14": {
     "views": [
      {
       "cell_index": 9
      }
     ]
    },
    "04ed6691efa74d29bf2aa2edd7bdc4a7": {
     "views": [
      {
       "cell_index": 17
      }
     ]
    },
    "09c4090e69ad4f8ab368298c4419cbc9": {
     "views": [
      {
       "cell_index": 14
      }
     ]
    },
    "0b21543f101e456db86402ee8ef62613": {
     "views": [
      {
       "cell_index": 20
      }
     ]
    },
    "0bc997df7aba43e2ad8168eaa77f7b32": {
     "views": [
      {
       "cell_index": 20
      }
     ]
    },
    "0e3c25ba1ab44487b565b89555818767": {
     "views": [
      {
       "cell_index": 14
      }
     ]
    },
    "13cfa0ba2fde406d9b0fbbe6b00f55ce": {
     "views": [
      {
       "cell_index": 17
      }
     ]
    },
    "158751390b364e849433602a5e8c42ad": {
     "views": [
      {
       "cell_index": 20
      }
     ]
    },
    "15ba08e3dabc4047acd18676fd3ca439": {
     "views": [
      {
       "cell_index": 13
      }
     ]
    },
    "168fdc4561a942b89f79258d68991a4b": {
     "views": [
      {
       "cell_index": 18
      }
     ]
    },
    "1d47d3796f5b40baa9118f7537691954": {
     "views": [
      {
       "cell_index": 18
      }
     ]
    },
    "22a41ce78a0a4e868e184132bfc8eba9": {
     "views": [
      {
       "cell_index": 19
      }
     ]
    },
    "233bdfb1a40d461da96fcaf8cebdd350": {
     "views": [
      {
       "cell_index": 20
      }
     ]
    },
    "2392d8a3120041549a279753a517b710": {
     "views": [
      {
       "cell_index": 20
      }
     ]
    },
    "2c59c701751e408b9f711a1ee443345e": {
     "views": [
      {
       "cell_index": 19
      }
     ]
    },
    "2e86d8d3cc104c1fa0fcf51bed9c5d22": {
     "views": [
      {
       "cell_index": 14
      }
     ]
    },
    "2e87bb1700254723a50fd7e811f870d4": {
     "views": [
      {
       "cell_index": 20
      }
     ]
    },
    "32b124e3a08e471fa7955a5812358d6c": {
     "views": [
      {
       "cell_index": 18
      }
     ]
    },
    "37373096485649018309cb778ad70760": {
     "views": [
      {
       "cell_index": 18
      }
     ]
    },
    "3a5482fc39ca40949e6e728b2298162f": {
     "views": [
      {
       "cell_index": 14
      }
     ]
    },
    "3da65d4e726c4a78bde2f58a683c486c": {
     "views": [
      {
       "cell_index": 18
      }
     ]
    },
    "4be900ec6e434cc9a5d21e0f6a1f55f4": {
     "views": [
      {
       "cell_index": 20
      }
     ]
    },
    "4eb1d22ae88f46cfb5a5e502760c2004": {
     "views": [
      {
       "cell_index": 14
      }
     ]
    },
    "516ed16f24ae4464b68ce48addb0a6dc": {
     "views": [
      {
       "cell_index": 18
      }
     ]
    },
    "52049dc229db47eea2f782270d0d33ff": {
     "views": [
      {
       "cell_index": 20
      }
     ]
    },
    "54e2547a8297488dadc7ba50c4ad73ac": {
     "views": [
      {
       "cell_index": 18
      }
     ]
    },
    "5502af809ba84f1ea4dcfe9fcd115516": {
     "views": [
      {
       "cell_index": 20
      }
     ]
    },
    "56e591fa0a674d3d81888cedc55f4ac9": {
     "views": [
      {
       "cell_index": 9
      }
     ]
    },
    "5d80a0e90c1646b086b1e543b43fda4b": {
     "views": [
      {
       "cell_index": 9
      }
     ]
    },
    "5e1c26f4cf9e4fef94ccbb724ad5c230": {
     "views": [
      {
       "cell_index": 9
      }
     ]
    },
    "61e79983a13c47b6affd55961e6e2ec2": {
     "views": [
      {
       "cell_index": 18
      }
     ]
    },
    "629bfe9cbb084a7181185c3751bd7872": {
     "views": [
      {
       "cell_index": 20
      }
     ]
    },
    "67d358e983ce4f0bad85aed29006ad24": {
     "views": [
      {
       "cell_index": 5
      }
     ]
    },
    "6a22257e877a42bfb32e2b4b44346992": {
     "views": [
      {
       "cell_index": 20
      }
     ]
    },
    "6b7eee4cf476418d91c21e974f6ed49d": {
     "views": [
      {
       "cell_index": 18
      }
     ]
    },
    "6c7cdb9356f34d12b4e3e1d0b0b513d1": {
     "views": [
      {
       "cell_index": 19
      }
     ]
    },
    "6d9cf10d32264ffea75dba586fa7d4de": {
     "views": [
      {
       "cell_index": 18
      }
     ]
    },
    "6f22d3176458420eae7c8b7dbdf2b788": {
     "views": [
      {
       "cell_index": 9
      }
     ]
    },
    "738d5ec65ce944ae8dd95dccf464a6cb": {
     "views": [
      {
       "cell_index": 18
      }
     ]
    },
    "7398413b715241edb63da8152ee1f846": {
     "views": [
      {
       "cell_index": 19
      }
     ]
    },
    "759a5355cd95413aa42da4896ffe82b2": {
     "views": [
      {
       "cell_index": 17
      }
     ]
    },
    "75da0f919f014b3b8cfda850928f6b89": {
     "views": [
      {
       "cell_index": 13
      }
     ]
    },
    "77b5bb2b86774cfc9efea806182b81ff": {
     "views": [
      {
       "cell_index": 20
      }
     ]
    },
    "7ac3c0bb2d2441ad9e2572625e38c48f": {
     "views": [
      {
       "cell_index": 13
      }
     ]
    },
    "850d298633654ec184419551514b7aab": {
     "views": [
      {
       "cell_index": 20
      }
     ]
    },
    "862219d5fc3848d2acd74f37e922b2ce": {
     "views": [
      {
       "cell_index": 20
      }
     ]
    },
    "87578c1133814321a77dd28d76c6f684": {
     "views": [
      {
       "cell_index": 18
      }
     ]
    },
    "8e639cd4ac57469e8158277286a430db": {
     "views": [
      {
       "cell_index": 18
      }
     ]
    },
    "8f2b41237da047afb7329ceea2d9ee7f": {
     "views": [
      {
       "cell_index": 20
      }
     ]
    },
    "91c2a0377fc849fa93f912c5f840cd69": {
     "views": [
      {
       "cell_index": 20
      }
     ]
    },
    "96040a0fad114e369f69b259d2cfc5f7": {
     "views": [
      {
       "cell_index": 20
      }
     ]
    },
    "9694f273cb8c477e9a0624882023448e": {
     "views": [
      {
       "cell_index": 20
      }
     ]
    },
    "98e93b42f7c44b9b8602ef7490c95a9c": {
     "views": [
      {
       "cell_index": 18
      }
     ]
    },
    "9978c4a856ae4b17b6341406436367bf": {
     "views": [
      {
       "cell_index": 19
      }
     ]
    },
    "a5cd79ff89994601a8d6daac4c52d164": {
     "views": [
      {
       "cell_index": 9
      }
     ]
    },
    "ac090175b73045fcaa61536885cb1abb": {
     "views": [
      {
       "cell_index": 18
      }
     ]
    },
    "ac09111048a84ce4903d4cdc14adec89": {
     "views": [
      {
       "cell_index": 9
      }
     ]
    },
    "ad41490f94e84b2daf23f475862b3854": {
     "views": [
      {
       "cell_index": 14
      }
     ]
    },
    "ad806e55fb444a3fba13c30fa4de9b4e": {
     "views": [
      {
       "cell_index": 18
      }
     ]
    },
    "afd4132858a34e4e859be408337917bd": {
     "views": [
      {
       "cell_index": 9
      }
     ]
    },
    "afe1ed068db44362b76cdfab35f4ed32": {
     "views": [
      {
       "cell_index": 9
      }
     ]
    },
    "b4092e5a44c1401e986414246d91a6ac": {
     "views": [
      {
       "cell_index": 20
      }
     ]
    },
    "b609c252729146bd9016a74530531091": {
     "views": [
      {
       "cell_index": 18
      }
     ]
    },
    "c037ad5856fa43cabb78330f01c0821a": {
     "views": [
      {
       "cell_index": 14
      }
     ]
    },
    "c3cafa84072f4e6daa164a6f9b503431": {
     "views": [
      {
       "cell_index": 20
      }
     ]
    },
    "c3faee5b67d748a8be530f2d21720182": {
     "views": [
      {
       "cell_index": 17
      }
     ]
    },
    "c5be26a627ce4d20b01c8b6c3a21ceda": {
     "views": [
      {
       "cell_index": 9
      }
     ]
    },
    "c8d9d46246394c1e8f11fd9078a6b044": {
     "views": [
      {
       "cell_index": 18
      }
     ]
    },
    "c91c58e296594242abb84e53f1ccc2d4": {
     "views": [
      {
       "cell_index": 9
      }
     ]
    },
    "ca3743c9885441238aba769fef535030": {
     "views": [
      {
       "cell_index": 20
      }
     ]
    },
    "cf45c8a04b2846099fd3bddb97b80b33": {
     "views": [
      {
       "cell_index": 18
      }
     ]
    },
    "d2bf71c7749643148a64493a39debef4": {
     "views": [
      {
       "cell_index": 18
      }
     ]
    },
    "d4e9c33d73894d8eb2bcd079988229ff": {
     "views": [
      {
       "cell_index": 18
      }
     ]
    },
    "d60c620947414bb88778fb5f118201f7": {
     "views": [
      {
       "cell_index": 20
      }
     ]
    },
    "dbf0d9e834214b11a63485f735590b64": {
     "views": [
      {
       "cell_index": 14
      }
     ]
    },
    "dc72064e7921492591b5ec2eacde4067": {
     "views": [
      {
       "cell_index": 20
      }
     ]
    },
    "e163fb3a885f456e851aa68b003f9f3e": {
     "views": [
      {
       "cell_index": 14
      }
     ]
    },
    "ea23a8d3fe5547238c507674afa16865": {
     "views": [
      {
       "cell_index": 20
      }
     ]
    },
    "ecfcc5a4b61745d29ad5507420cbbfb4": {
     "views": [
      {
       "cell_index": 9
      }
     ]
    },
    "ef82c6872fae409196fd525c6b1a3c8a": {
     "views": [
      {
       "cell_index": 14
      }
     ]
    },
    "efc7b6b6ed514b0fbdd040d6dcc767d2": {
     "views": [
      {
       "cell_index": 20
      }
     ]
    },
    "f03ac7a3e48a45fb841672c58955a056": {
     "views": [
      {
       "cell_index": 18
      }
     ]
    },
    "f76fb7e683644107b580f6a3de9b5644": {
     "views": [
      {
       "cell_index": 9
      }
     ]
    }
   },
   "version": "1.2.0"
  }
 },
 "nbformat": 4,
 "nbformat_minor": 2
}
