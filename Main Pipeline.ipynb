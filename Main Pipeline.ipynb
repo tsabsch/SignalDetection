{
 "cells": [
  {
   "cell_type": "markdown",
   "metadata": {},
   "source": [
    "# Project Pipeline\n",
    "Execute the cells step by step to obtain a prediction and score for your configuration.\n",
    "In order to make the widgets work you might need to execute \n",
    "```\n",
    "jupyter nbextension enable --py --sys-prefix widgetsnbextension\n",
    "```\n",
    "on your system.\n",
    "\n",
    "## 1. Imports"
   ]
  },
  {
   "cell_type": "code",
   "execution_count": 81,
   "metadata": {},
   "outputs": [],
   "source": [
    "import importlib\n",
    "import data_utils\n",
    "import widget_ui as ui\n",
    "\n",
    "# Load potential changes in the modules during development\n",
    "data_utils = importlib.reload(data_utils)\n",
    "ui = importlib.reload(ui)"
   ]
  },
  {
   "cell_type": "markdown",
   "metadata": {},
   "source": [
    "## 2. Load Data Sets\n",
    "Load training and test data. Furthermore, create a sample set for quickly calculating transformations such as PCA."
   ]
  },
  {
   "cell_type": "code",
   "execution_count": 82,
   "metadata": {
    "collapsed": true
   },
   "outputs": [],
   "source": [
    "data = data_utils.load_from('data/all_train.csv', 'data/all_test.csv')\n",
    "sample_data = data_utils.load_sample_data('data/all_sample.csv')"
   ]
  },
  {
   "cell_type": "markdown",
   "metadata": {},
   "source": [
    "## 3. Preprocessing"
   ]
  },
  {
   "cell_type": "code",
   "execution_count": 83,
   "metadata": {
    "collapsed": true
   },
   "outputs": [],
   "source": [
    "preprocessors = {}"
   ]
  },
  {
   "cell_type": "markdown",
   "metadata": {},
   "source": [
    "### 3.1 Remove Correlations\n",
    "Choose between two methods to remove correlations: Pearson correlation coefficient or PCA.\n",
    "\n",
    "__Pearson correlation coefficient:__ Find correlated pairs of features and remove one feature of these two, respectively. All pairs with a Pearson correlation coefficient above the selected threshold are considered correlated.\n",
    "\n",
    "__PCA:__ Apply a principal component analysis. The number of principal components can be choosen."
   ]
  },
  {
   "cell_type": "code",
   "execution_count": 84,
   "metadata": {},
   "outputs": [
    {
     "data": {
      "application/vnd.jupyter.widget-view+json": {
       "model_id": "92d0c8f13f9244f28e2f316aeae093bc"
      }
     },
     "metadata": {},
     "output_type": "display_data"
    },
    {
     "data": {
      "application/vnd.jupyter.widget-view+json": {
       "model_id": "535e533aad6c400da02fe2f445b97845"
      }
     },
     "metadata": {},
     "output_type": "display_data"
    },
    {
     "data": {
      "application/vnd.jupyter.widget-view+json": {
       "model_id": "85e3cebda58047ccbb0590f10e15f887"
      }
     },
     "metadata": {},
     "output_type": "display_data"
    }
   ],
   "source": [
    "ui.preprocessors_ui(preprocessors, sample_data)"
   ]
  },
  {
   "cell_type": "markdown",
   "metadata": {},
   "source": [
    "## 4. Configure Classifiers"
   ]
  },
  {
   "cell_type": "code",
   "execution_count": 85,
   "metadata": {
    "collapsed": true
   },
   "outputs": [],
   "source": [
    "classifiers = {}"
   ]
  },
  {
   "cell_type": "markdown",
   "metadata": {},
   "source": [
    "### 4.1 Multilayer Perceptron"
   ]
  },
  {
   "cell_type": "code",
   "execution_count": 86,
   "metadata": {},
   "outputs": [
    {
     "data": {
      "application/vnd.jupyter.widget-view+json": {
       "model_id": "e240cbc1ab5a420e97dee08299b1798a"
      }
     },
     "metadata": {},
     "output_type": "display_data"
    },
    {
     "data": {
      "application/vnd.jupyter.widget-view+json": {
       "model_id": "e8a65ee30ebb41928fe0b63e7dbbe1c0"
      }
     },
     "metadata": {},
     "output_type": "display_data"
    }
   ],
   "source": [
    "ui.mlp_ui(classifiers)"
   ]
  },
  {
   "cell_type": "markdown",
   "metadata": {},
   "source": [
    "### 4.2 Naive Bayes"
   ]
  },
  {
   "cell_type": "code",
   "execution_count": 87,
   "metadata": {
    "collapsed": true
   },
   "outputs": [],
   "source": [
    "ui.nb_ui(classifiers)"
   ]
  },
  {
   "cell_type": "markdown",
   "metadata": {},
   "source": [
    "## 5. Training"
   ]
  },
  {
   "cell_type": "code",
   "execution_count": 88,
   "metadata": {},
   "outputs": [
    {
     "data": {
      "application/vnd.jupyter.widget-view+json": {
       "model_id": "6733138f951c4f3e89fed8585de91051"
      }
     },
     "metadata": {},
     "output_type": "display_data"
    },
    {
     "data": {
      "application/vnd.jupyter.widget-view+json": {
       "model_id": "9a2c8c859d4a4e2c9b21f52840aeaf57"
      }
     },
     "metadata": {},
     "output_type": "display_data"
    },
    {
     "data": {
      "application/vnd.jupyter.widget-view+json": {
       "model_id": "8d4935e9a9934a78b260fbd57ce72b5b"
      }
     },
     "metadata": {},
     "output_type": "display_data"
    },
    {
     "data": {
      "application/vnd.jupyter.widget-view+json": {
       "model_id": "09f917198c8047478de537430e7d0b6a"
      }
     },
     "metadata": {},
     "output_type": "display_data"
    }
   ],
   "source": [
    "ui.training_ui(data, sample_data, preprocessors, classifiers)"
   ]
  },
  {
   "cell_type": "markdown",
   "metadata": {},
   "source": [
    "## 6. Prediction"
   ]
  },
  {
   "cell_type": "code",
   "execution_count": 89,
   "metadata": {},
   "outputs": [
    {
     "data": {
      "application/vnd.jupyter.widget-view+json": {
       "model_id": "238c61bf13034b909f01d934a328a951"
      }
     },
     "metadata": {},
     "output_type": "display_data"
    },
    {
     "data": {
      "application/vnd.jupyter.widget-view+json": {
       "model_id": "d280012455094d0bb855a2c80e6de11b"
      }
     },
     "metadata": {},
     "output_type": "display_data"
    },
    {
     "data": {
      "application/vnd.jupyter.widget-view+json": {
       "model_id": "f947072386cb46b4bdca5412e5f3733f"
      }
     },
     "metadata": {},
     "output_type": "display_data"
    },
    {
     "data": {
      "application/vnd.jupyter.widget-view+json": {
       "model_id": "7dc3a745e3a74f71b760df0b7030410a"
      }
     },
     "metadata": {},
     "output_type": "display_data"
    },
    {
     "data": {
      "application/vnd.jupyter.widget-view+json": {
       "model_id": "c0e8997f7b0a438ebd68dc9aed8bdd7f"
      }
     },
     "metadata": {},
     "output_type": "display_data"
    }
   ],
   "source": [
    "ui.prediction_ui(data, sample_data, preprocessors, classifiers)"
   ]
  },
  {
   "cell_type": "code",
   "execution_count": null,
   "metadata": {
    "collapsed": true
   },
   "outputs": [],
   "source": []
  }
 ],
 "metadata": {
  "kernelspec": {
   "display_name": "Python 3",
   "language": "python",
   "name": "python3"
  },
  "language_info": {
   "codemirror_mode": {
    "name": "ipython",
    "version": 3
   },
   "file_extension": ".py",
   "mimetype": "text/x-python",
   "name": "python",
   "nbconvert_exporter": "python",
   "pygments_lexer": "ipython3",
   "version": "3.5.2"
  },
  "widgets": {
   "state": {
    "035a5e9da7c24526b90505acae1f8a14": {
     "views": [
      {
       "cell_index": 9
      }
     ]
    },
    "04ed6691efa74d29bf2aa2edd7bdc4a7": {
     "views": [
      {
       "cell_index": 17
      }
     ]
    },
    "09c4090e69ad4f8ab368298c4419cbc9": {
     "views": [
      {
       "cell_index": 14
      }
     ]
    },
    "0b21543f101e456db86402ee8ef62613": {
     "views": [
      {
       "cell_index": 20
      }
     ]
    },
    "0bc997df7aba43e2ad8168eaa77f7b32": {
     "views": [
      {
       "cell_index": 20
      }
     ]
    },
    "0e3c25ba1ab44487b565b89555818767": {
     "views": [
      {
       "cell_index": 14
      }
     ]
    },
    "13cfa0ba2fde406d9b0fbbe6b00f55ce": {
     "views": [
      {
       "cell_index": 17
      }
     ]
    },
    "158751390b364e849433602a5e8c42ad": {
     "views": [
      {
       "cell_index": 20
      }
     ]
    },
    "15ba08e3dabc4047acd18676fd3ca439": {
     "views": [
      {
       "cell_index": 13
      }
     ]
    },
    "168fdc4561a942b89f79258d68991a4b": {
     "views": [
      {
       "cell_index": 18
      }
     ]
    },
    "1d47d3796f5b40baa9118f7537691954": {
     "views": [
      {
       "cell_index": 18
      }
     ]
    },
    "22a41ce78a0a4e868e184132bfc8eba9": {
     "views": [
      {
       "cell_index": 19
      }
     ]
    },
    "233bdfb1a40d461da96fcaf8cebdd350": {
     "views": [
      {
       "cell_index": 20
      }
     ]
    },
    "2392d8a3120041549a279753a517b710": {
     "views": [
      {
       "cell_index": 20
      }
     ]
    },
    "2c59c701751e408b9f711a1ee443345e": {
     "views": [
      {
       "cell_index": 19
      }
     ]
    },
    "2e86d8d3cc104c1fa0fcf51bed9c5d22": {
     "views": [
      {
       "cell_index": 14
      }
     ]
    },
    "2e87bb1700254723a50fd7e811f870d4": {
     "views": [
      {
       "cell_index": 20
      }
     ]
    },
    "32b124e3a08e471fa7955a5812358d6c": {
     "views": [
      {
       "cell_index": 18
      }
     ]
    },
    "37373096485649018309cb778ad70760": {
     "views": [
      {
       "cell_index": 18
      }
     ]
    },
    "3a5482fc39ca40949e6e728b2298162f": {
     "views": [
      {
       "cell_index": 14
      }
     ]
    },
    "3da65d4e726c4a78bde2f58a683c486c": {
     "views": [
      {
       "cell_index": 18
      }
     ]
    },
    "4be900ec6e434cc9a5d21e0f6a1f55f4": {
     "views": [
      {
       "cell_index": 20
      }
     ]
    },
    "4eb1d22ae88f46cfb5a5e502760c2004": {
     "views": [
      {
       "cell_index": 14
      }
     ]
    },
    "516ed16f24ae4464b68ce48addb0a6dc": {
     "views": [
      {
       "cell_index": 18
      }
     ]
    },
    "52049dc229db47eea2f782270d0d33ff": {
     "views": [
      {
       "cell_index": 20
      }
     ]
    },
    "54e2547a8297488dadc7ba50c4ad73ac": {
     "views": [
      {
       "cell_index": 18
      }
     ]
    },
    "5502af809ba84f1ea4dcfe9fcd115516": {
     "views": [
      {
       "cell_index": 20
      }
     ]
    },
    "56e591fa0a674d3d81888cedc55f4ac9": {
     "views": [
      {
       "cell_index": 9
      }
     ]
    },
    "5d80a0e90c1646b086b1e543b43fda4b": {
     "views": [
      {
       "cell_index": 9
      }
     ]
    },
    "5e1c26f4cf9e4fef94ccbb724ad5c230": {
     "views": [
      {
       "cell_index": 9
      }
     ]
    },
    "61e79983a13c47b6affd55961e6e2ec2": {
     "views": [
      {
       "cell_index": 18
      }
     ]
    },
    "629bfe9cbb084a7181185c3751bd7872": {
     "views": [
      {
       "cell_index": 20
      }
     ]
    },
    "67d358e983ce4f0bad85aed29006ad24": {
     "views": [
      {
       "cell_index": 5
      }
     ]
    },
    "6a22257e877a42bfb32e2b4b44346992": {
     "views": [
      {
       "cell_index": 20
      }
     ]
    },
    "6b7eee4cf476418d91c21e974f6ed49d": {
     "views": [
      {
       "cell_index": 18
      }
     ]
    },
    "6c7cdb9356f34d12b4e3e1d0b0b513d1": {
     "views": [
      {
       "cell_index": 19
      }
     ]
    },
    "6d9cf10d32264ffea75dba586fa7d4de": {
     "views": [
      {
       "cell_index": 18
      }
     ]
    },
    "6f22d3176458420eae7c8b7dbdf2b788": {
     "views": [
      {
       "cell_index": 9
      }
     ]
    },
    "738d5ec65ce944ae8dd95dccf464a6cb": {
     "views": [
      {
       "cell_index": 18
      }
     ]
    },
    "7398413b715241edb63da8152ee1f846": {
     "views": [
      {
       "cell_index": 19
      }
     ]
    },
    "759a5355cd95413aa42da4896ffe82b2": {
     "views": [
      {
       "cell_index": 17
      }
     ]
    },
    "75da0f919f014b3b8cfda850928f6b89": {
     "views": [
      {
       "cell_index": 13
      }
     ]
    },
    "77b5bb2b86774cfc9efea806182b81ff": {
     "views": [
      {
       "cell_index": 20
      }
     ]
    },
    "7ac3c0bb2d2441ad9e2572625e38c48f": {
     "views": [
      {
       "cell_index": 13
      }
     ]
    },
    "850d298633654ec184419551514b7aab": {
     "views": [
      {
       "cell_index": 20
      }
     ]
    },
    "862219d5fc3848d2acd74f37e922b2ce": {
     "views": [
      {
       "cell_index": 20
      }
     ]
    },
    "87578c1133814321a77dd28d76c6f684": {
     "views": [
      {
       "cell_index": 18
      }
     ]
    },
    "8e639cd4ac57469e8158277286a430db": {
     "views": [
      {
       "cell_index": 18
      }
     ]
    },
    "8f2b41237da047afb7329ceea2d9ee7f": {
     "views": [
      {
       "cell_index": 20
      }
     ]
    },
    "91c2a0377fc849fa93f912c5f840cd69": {
     "views": [
      {
       "cell_index": 20
      }
     ]
    },
    "96040a0fad114e369f69b259d2cfc5f7": {
     "views": [
      {
       "cell_index": 20
      }
     ]
    },
    "9694f273cb8c477e9a0624882023448e": {
     "views": [
      {
       "cell_index": 20
      }
     ]
    },
    "98e93b42f7c44b9b8602ef7490c95a9c": {
     "views": [
      {
       "cell_index": 18
      }
     ]
    },
    "9978c4a856ae4b17b6341406436367bf": {
     "views": [
      {
       "cell_index": 19
      }
     ]
    },
    "a5cd79ff89994601a8d6daac4c52d164": {
     "views": [
      {
       "cell_index": 9
      }
     ]
    },
    "ac090175b73045fcaa61536885cb1abb": {
     "views": [
      {
       "cell_index": 18
      }
     ]
    },
    "ac09111048a84ce4903d4cdc14adec89": {
     "views": [
      {
       "cell_index": 9
      }
     ]
    },
    "ad41490f94e84b2daf23f475862b3854": {
     "views": [
      {
       "cell_index": 14
      }
     ]
    },
    "ad806e55fb444a3fba13c30fa4de9b4e": {
     "views": [
      {
       "cell_index": 18
      }
     ]
    },
    "afd4132858a34e4e859be408337917bd": {
     "views": [
      {
       "cell_index": 9
      }
     ]
    },
    "afe1ed068db44362b76cdfab35f4ed32": {
     "views": [
      {
       "cell_index": 9
      }
     ]
    },
    "b4092e5a44c1401e986414246d91a6ac": {
     "views": [
      {
       "cell_index": 20
      }
     ]
    },
    "b609c252729146bd9016a74530531091": {
     "views": [
      {
       "cell_index": 18
      }
     ]
    },
    "c037ad5856fa43cabb78330f01c0821a": {
     "views": [
      {
       "cell_index": 14
      }
     ]
    },
    "c3cafa84072f4e6daa164a6f9b503431": {
     "views": [
      {
       "cell_index": 20
      }
     ]
    },
    "c3faee5b67d748a8be530f2d21720182": {
     "views": [
      {
       "cell_index": 17
      }
     ]
    },
    "c5be26a627ce4d20b01c8b6c3a21ceda": {
     "views": [
      {
       "cell_index": 9
      }
     ]
    },
    "c8d9d46246394c1e8f11fd9078a6b044": {
     "views": [
      {
       "cell_index": 18
      }
     ]
    },
    "c91c58e296594242abb84e53f1ccc2d4": {
     "views": [
      {
       "cell_index": 9
      }
     ]
    },
    "ca3743c9885441238aba769fef535030": {
     "views": [
      {
       "cell_index": 20
      }
     ]
    },
    "cf45c8a04b2846099fd3bddb97b80b33": {
     "views": [
      {
       "cell_index": 18
      }
     ]
    },
    "d2bf71c7749643148a64493a39debef4": {
     "views": [
      {
       "cell_index": 18
      }
     ]
    },
    "d4e9c33d73894d8eb2bcd079988229ff": {
     "views": [
      {
       "cell_index": 18
      }
     ]
    },
    "d60c620947414bb88778fb5f118201f7": {
     "views": [
      {
       "cell_index": 20
      }
     ]
    },
    "dbf0d9e834214b11a63485f735590b64": {
     "views": [
      {
       "cell_index": 14
      }
     ]
    },
    "dc72064e7921492591b5ec2eacde4067": {
     "views": [
      {
       "cell_index": 20
      }
     ]
    },
    "e163fb3a885f456e851aa68b003f9f3e": {
     "views": [
      {
       "cell_index": 14
      }
     ]
    },
    "ea23a8d3fe5547238c507674afa16865": {
     "views": [
      {
       "cell_index": 20
      }
     ]
    },
    "ecfcc5a4b61745d29ad5507420cbbfb4": {
     "views": [
      {
       "cell_index": 9
      }
     ]
    },
    "ef82c6872fae409196fd525c6b1a3c8a": {
     "views": [
      {
       "cell_index": 14
      }
     ]
    },
    "efc7b6b6ed514b0fbdd040d6dcc767d2": {
     "views": [
      {
       "cell_index": 20
      }
     ]
    },
    "f03ac7a3e48a45fb841672c58955a056": {
     "views": [
      {
       "cell_index": 18
      }
     ]
    },
    "f76fb7e683644107b580f6a3de9b5644": {
     "views": [
      {
       "cell_index": 9
      }
     ]
    }
   },
   "version": "1.2.0"
  }
 },
 "nbformat": 4,
 "nbformat_minor": 2
}
